{
 "cells": [
  {
   "cell_type": "code",
   "execution_count": 1,
   "metadata": {
    "id": "HcsQRQs-TMRb"
   },
   "outputs": [],
   "source": [
    "import numpy as np\n",
    "import requests\n",
    "import pandas as pd\n",
    "from datetime import datetime\n",
    "import os"
   ]
  },
  {
   "cell_type": "code",
   "execution_count": null,
   "metadata": {
    "id": "RoXQ_adrK8pN"
   },
   "outputs": [],
   "source": [
    "ingested_data = []\n",
    "\n",
    "for id in range(1, 30):\n",
    "    response = requests.get(f\"https://tienda.mercadona.es/api/categories/{id}/?lang=ca\")\n",
    "\n",
    "    if response.status_code == 200:\n",
    "        data = response.json()\n",
    "        category = data['name']\n",
    "\n",
    "        for subcategory in data['categories']:\n",
    "            subcategory_name = subcategory['name']\n",
    "\n",
    "        for product in subcategory['products']:\n",
    "            thumbnail = product['thumbnail']\n",
    "            display_name = product['display_name']\n",
    "            iva = product['price_instructions']['iva']\n",
    "            bulk_price = product['price_instructions']['bulk_price']\n",
    "            unit_price = product['price_instructions']['unit_price']\n",
    "            total_units = product['price_instructions']['total_units']\n",
    "            reference_format = product['price_instructions']['reference_format']\n",
    "\n",
    "            ingested_data.append({\n",
    "                'category': category,\n",
    "                'subcategory': subcategory_name,\n",
    "                'name': display_name,\n",
    "                'iva': iva,\n",
    "                'bulk_price': bulk_price,\n",
    "                'unit_price': unit_price,\n",
    "                'units': total_units,\n",
    "                'format': reference_format,\n",
    "                'image': thumbnail,\n",
    "            })\n",
    "    else:\n",
    "        print(\"Error:\", response.status_code)"
   ]
  },
  {
   "cell_type": "code",
   "execution_count": null,
   "metadata": {
    "id": "_Pc_ElKTnqN1"
   },
   "outputs": [],
   "source": [
    "dtype_dict = {\n",
    "  'category': str,\n",
    "  'subcategory': str,\n",
    "  'name': str,\n",
    "  'iva': str,\n",
    "  'bulk_price': float,\n",
    "  'unit_price': float,\n",
    "  'units': float,\n",
    "  'format': str,\n",
    "  'image': str,\n",
    "}\n",
    "\n",
    "df = pd.DataFrame(ingested_data)\n",
    "df = df.astype(dtype_dict)"
   ]
  },
  {
   "cell_type": "code",
   "execution_count": null,
   "metadata": {
    "colab": {
     "base_uri": "https://localhost:8080/"
    },
    "id": "Nz7G9cppyMh4",
    "outputId": "699fd24f-7d84-4966-83df-a66475568cd7"
   },
   "outputs": [],
   "source": [
    "df.dtypes"
   ]
  },
  {
   "cell_type": "code",
   "execution_count": null,
   "metadata": {},
   "outputs": [],
   "source": [
    "df"
   ]
  },
  {
   "cell_type": "markdown",
   "metadata": {},
   "source": [
    "#### Explorció bàsica de les dades generades"
   ]
  },
  {
   "cell_type": "code",
   "execution_count": null,
   "metadata": {},
   "outputs": [],
   "source": [
    "# Veiem com hi ha noms molt llargs, per tant els reduirem.\n",
    "max(df['name'], key=len)"
   ]
  },
  {
   "cell_type": "code",
   "execution_count": null,
   "metadata": {},
   "outputs": [],
   "source": [
    "# Les categories que hem ingestat:\n",
    "df.category.unique()"
   ]
  },
  {
   "cell_type": "code",
   "execution_count": null,
   "metadata": {},
   "outputs": [],
   "source": [
    "df.category.unique().size"
   ]
  },
  {
   "cell_type": "code",
   "execution_count": null,
   "metadata": {},
   "outputs": [],
   "source": [
    "# Les unitats possibles (les reduirem a kg i ud nomès).\n",
    "\n",
    "# Kg -> generarem un pes aleatori per determinar-ne el preu.\n",
    "# La resta es suposarà preu unitari i es generaràn unitats aleatories per generar el tiquet.\n",
    "\n",
    "df.format.unique()"
   ]
  },
  {
   "cell_type": "markdown",
   "metadata": {
    "id": "oFtI-j5wrN_5"
   },
   "source": [
    "#### Tractament de dades"
   ]
  },
  {
   "cell_type": "code",
   "execution_count": null,
   "metadata": {
    "colab": {
     "base_uri": "https://localhost:8080/",
     "height": 206
    },
    "id": "0smN73A5nAW4",
    "outputId": "76dce92f-54e9-4ec5-881a-af917bb6b4d0"
   },
   "outputs": [],
   "source": [
    "# Fem un nom curt per no ocupar gran part del tiquet:\n",
    "def short_name(cell_value, n=20):\n",
    "    words = len(cell_value.split())\n",
    "    chars = len(cell_value)\n",
    "\n",
    "    if words <= 1 or chars <= n:\n",
    "        return cell_value\n",
    "\n",
    "    words = cell_value[0:n].split(' ')[0:-1] # La última fora perque pot quedar la paraula tallada\n",
    "    return ' '.join([word for word in words if len(word) > 2])\n",
    "\n",
    "df['name'] = df['name'].apply(short_name)\n",
    "df.head()"
   ]
  },
  {
   "cell_type": "code",
   "execution_count": null,
   "metadata": {},
   "outputs": [],
   "source": [
    "max(df['name'], key=len)"
   ]
  },
  {
   "cell_type": "code",
   "execution_count": null,
   "metadata": {
    "colab": {
     "base_uri": "https://localhost:8080/",
     "height": 206
    },
    "id": "T-ViXgTLrSop",
    "outputId": "ef454699-f942-4321-fbfb-fd77b9641bf0"
   },
   "outputs": [],
   "source": [
    "# Calcular preus totals:\n",
    "\n",
    "def calculate_price(row):\n",
    "    if row['format'] == 'kg':\n",
    "        # Verificar que category sea solo una palabra y que units sea NaN\n",
    "        if ((row['category'] in ['Fruita i verdura', 'Verdura']) and (len(row['name'].split()) <= 2)):\n",
    "            return pd.Series({'price': row['bulk_price'], 'format': 'kg'})\n",
    "        else:\n",
    "            return pd.Series({'price': row['unit_price'], 'format': 'ud'})\n",
    "\n",
    "    elif row['format'] == 'ud':\n",
    "        if not pd.isna(row['units']):\n",
    "            return pd.Series({'price': row['unit_price'] * row['units'], 'format': 'ud'})\n",
    "        else:\n",
    "            return pd.Series({'price': row['unit_price'], 'format': 'ud'})\n",
    "\n",
    "    else:\n",
    "        return pd.Series({'price': row['unit_price'], 'format': 'ud'})\n",
    "\n",
    "# Aplicar la función calculate_price a cada fila del DataFrame\n",
    "df[['price', 'format']] = df.apply(calculate_price, axis=1)\n",
    "\n",
    "df.head()"
   ]
  },
  {
   "cell_type": "code",
   "execution_count": null,
   "metadata": {},
   "outputs": [],
   "source": [
    "df.format.unique()"
   ]
  },
  {
   "cell_type": "code",
   "execution_count": null,
   "metadata": {},
   "outputs": [],
   "source": [
    "# Revisem quants registres per dia ens han quedat: \n",
    "df.size"
   ]
  },
  {
   "cell_type": "code",
   "execution_count": null,
   "metadata": {},
   "outputs": [],
   "source": [
    "# Fem que sí el preu del prodcute és superior a 100 sigui un valor random entre 80 i 100:\n",
    "df['price'] = df.apply(lambda row: np.random.uniform(80, 100) if row['price'] > 100 else row['price'], axis=1)\n",
    "\n",
    "# Ens assegurem de que no en quedi cap.\n",
    "len(df.loc[df['price']>100])"
   ]
  },
  {
   "cell_type": "markdown",
   "metadata": {},
   "source": [
    "#### Afegim la data del dia de injesta"
   ]
  },
  {
   "cell_type": "code",
   "execution_count": null,
   "metadata": {},
   "outputs": [],
   "source": [
    "df['date'] = datetime.today().date().strftime('%d/%m/%Y')"
   ]
  },
  {
   "cell_type": "markdown",
   "metadata": {},
   "source": [
    "#### Exportem el dataframe"
   ]
  },
  {
   "cell_type": "code",
   "execution_count": null,
   "metadata": {},
   "outputs": [],
   "source": [
    "df.head(20)"
   ]
  },
  {
   "cell_type": "code",
   "execution_count": null,
   "metadata": {},
   "outputs": [],
   "source": [
    "# Declarem el fitxer on guardarem les dades:\n",
    "ruta_df = './productes_mercadona.csv'\n",
    "\n",
    "# Comprobar si el fitxer ja existeix\n",
    "if os.path.exists(ruta_df):\n",
    "    # Si ja existeix, en llegim les dades:\n",
    "    df_actual = pd.read_csv(ruta_df)\n",
    "    \n",
    "    # Concatenar els nous valors\n",
    "    df_nou = pd.concat([df_actual, df], ignore_index=True)\n",
    "\n",
    "else:\n",
    "    # Si no existeix, agafem directament el que tenim inicialment\n",
    "    df_nou = df\n",
    "\n",
    "# Exportar el df\n",
    "df_nou.to_csv(ruta_df, index=False)"
   ]
  },
  {
   "cell_type": "code",
   "execution_count": null,
   "metadata": {},
   "outputs": [],
   "source": [
    "df['category'].value_counts()"
   ]
  }
 ],
 "metadata": {
  "colab": {
   "provenance": []
  },
  "kernelspec": {
   "display_name": "Python 3 (ipykernel)",
   "language": "python",
   "name": "python3"
  },
  "language_info": {
   "codemirror_mode": {
    "name": "ipython",
    "version": 3
   },
   "file_extension": ".py",
   "mimetype": "text/x-python",
   "name": "python",
   "nbconvert_exporter": "python",
   "pygments_lexer": "ipython3",
   "version": "3.10.13"
  }
 },
 "nbformat": 4,
 "nbformat_minor": 1
}
