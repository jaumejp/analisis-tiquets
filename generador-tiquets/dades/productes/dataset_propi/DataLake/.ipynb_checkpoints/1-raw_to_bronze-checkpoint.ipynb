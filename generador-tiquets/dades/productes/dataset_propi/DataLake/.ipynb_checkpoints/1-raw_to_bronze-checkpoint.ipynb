{
 "cells": [
  {
   "cell_type": "markdown",
   "id": "c579b3c1",
   "metadata": {},
   "source": [
    "# Transform Raw to Bronze\n",
    "\n",
    "- Aquest Notebook guarda la informació per passar de la capa raw a bronze i temporal.\n",
    "- convertir json a csv.\n",
    "- guarda el fitxer amb data del dia d'avui.\n",
    "- Aquest script s'executaría directament després de fer la ingesta de web a raw. "
   ]
  },
  {
   "cell_type": "code",
   "execution_count": 1,
   "id": "2b2bff0a",
   "metadata": {},
   "outputs": [],
   "source": [
    "from datetime import datetime\n",
    "import os\n",
    "import json\n",
    "import pandas as pd\n",
    "import re\n",
    "from tqdm.notebook import tqdm"
   ]
  },
  {
   "cell_type": "code",
   "execution_count": 2,
   "id": "8b4838cc",
   "metadata": {},
   "outputs": [
    {
     "data": {
      "text/plain": [
       "'/home/jaume/tiquets/generador-tiquets/dades/productes/dataset_propi/DataLake/0-Raw'"
      ]
     },
     "execution_count": 2,
     "metadata": {},
     "output_type": "execute_result"
    }
   ],
   "source": [
    "directori_execucio = os.getcwd()\n",
    "\n",
    "# Ruta de la carpeta amb les dates\n",
    "ruta_carpeta_dates = os.path.join(directori_execucio, '0-Raw')\n",
    "\n",
    "ruta_carpeta_dates"
   ]
  },
  {
   "cell_type": "code",
   "execution_count": 3,
   "id": "5de93143",
   "metadata": {},
   "outputs": [
    {
     "data": {
      "text/plain": [
       "True"
      ]
     },
     "execution_count": 3,
     "metadata": {},
     "output_type": "execute_result"
    }
   ],
   "source": [
    "def is_date(data, format):\n",
    "    try:\n",
    "        datetime.strptime(data, format)\n",
    "        return True\n",
    "    except ValueError:\n",
    "        return False\n",
    "\n",
    "is_date(\"16-04-2024\", \"%d-%m-%Y\")"
   ]
  },
  {
   "cell_type": "code",
   "execution_count": 4,
   "id": "000e35ee",
   "metadata": {},
   "outputs": [
    {
     "data": {
      "text/plain": [
       "['09-05-2024', '19-04-2024', '16-04-2024', '20-04-2024', '17-04-2024']"
      ]
     },
     "execution_count": 4,
     "metadata": {},
     "output_type": "execute_result"
    }
   ],
   "source": [
    "dies_ingestats = [item for item in os.listdir(ruta_carpeta_dates) if os.path.isdir(os.path.join(ruta_carpeta_dates, item)) and is_date(item, \"%d-%m-%Y\")]\n",
    "dies_ingestats"
   ]
  },
  {
   "cell_type": "markdown",
   "id": "3fd2af49",
   "metadata": {},
   "source": [
    "- Dins de cada carpeta amb la data de la ingesta, anar a la carpeta categories i llegir totes les que tenim."
   ]
  },
  {
   "cell_type": "code",
   "execution_count": 5,
   "id": "46a28fcb",
   "metadata": {},
   "outputs": [],
   "source": [
    "def is_category(string):\n",
    "    patron = r'^\\d+#\\s*\\w+(\\s+\\w+)*$'\n",
    "    return re.match(patron, string) is not None\n",
    "\n",
    "def is_category_file(string):\n",
    "    patron = r'^\\d+#\\s*\\w+(\\s+\\w+)*\\.json$'\n",
    "    return re.match(patron, string) is not None"
   ]
  },
  {
   "cell_type": "code",
   "execution_count": 6,
   "id": "666e0066",
   "metadata": {},
   "outputs": [
    {
     "data": {
      "text/plain": [
       "[]"
      ]
     },
     "execution_count": 6,
     "metadata": {},
     "output_type": "execute_result"
    }
   ],
   "source": [
    "# Llegim els que ja tenim ingestats:\n",
    "ruta_carpeta_bronze = os.path.join(directori_execucio, '1-Bronze')\n",
    "\n",
    "dies_tractats = [item for item in os.listdir(ruta_carpeta_bronze) if os.path.isfile(os.path.join(ruta_carpeta_bronze, item))]\n",
    "\n",
    "dies_tractats"
   ]
  },
  {
   "cell_type": "code",
   "execution_count": 7,
   "id": "52805420",
   "metadata": {},
   "outputs": [
    {
     "data": {
      "application/vnd.jupyter.widget-view+json": {
       "model_id": "",
       "version_major": 2,
       "version_minor": 0
      },
      "text/plain": [
       "Procesando categories del dia:   0%|          | 0/26 [00:00<?, ?it/s]"
      ]
     },
     "metadata": {},
     "output_type": "display_data"
    },
    {
     "data": {
      "application/vnd.jupyter.widget-view+json": {
       "model_id": "",
       "version_major": 2,
       "version_minor": 0
      },
      "text/plain": [
       "Procesando categories del dia:   0%|          | 0/26 [00:00<?, ?it/s]"
      ]
     },
     "metadata": {},
     "output_type": "display_data"
    },
    {
     "data": {
      "application/vnd.jupyter.widget-view+json": {
       "model_id": "",
       "version_major": 2,
       "version_minor": 0
      },
      "text/plain": [
       "Procesando categories del dia:   0%|          | 0/26 [00:00<?, ?it/s]"
      ]
     },
     "metadata": {},
     "output_type": "display_data"
    },
    {
     "data": {
      "application/vnd.jupyter.widget-view+json": {
       "model_id": "",
       "version_major": 2,
       "version_minor": 0
      },
      "text/plain": [
       "Procesando categories del dia:   0%|          | 0/26 [00:00<?, ?it/s]"
      ]
     },
     "metadata": {},
     "output_type": "display_data"
    },
    {
     "data": {
      "application/vnd.jupyter.widget-view+json": {
       "model_id": "",
       "version_major": 2,
       "version_minor": 0
      },
      "text/plain": [
       "Procesando categories del dia:   0%|          | 0/26 [00:00<?, ?it/s]"
      ]
     },
     "metadata": {},
     "output_type": "display_data"
    }
   ],
   "source": [
    "# ETL: extract, transform, load\n",
    "# Llegim les dades (extract)\n",
    "for dia in dies_ingestats:\n",
    "\n",
    "    if dia in dies_tractats: continue\n",
    "\n",
    "    ruta_carpeta_categories = os.path.join(directori_execucio, '0-Raw', dia, 'categories')\n",
    "\n",
    "    categories = [item for item in os.listdir(ruta_carpeta_categories) if os.path.isdir(os.path.join(ruta_carpeta_categories, item))]\n",
    "\n",
    "    # Per cada categoria, entrem al subdirectori: subcategories i llegim tots els fitxers,\n",
    "    # Per cada fitxer, creem un pandas amb tota la info, li afegim la categoria del pare.\n",
    "\n",
    "    df_productes = pd.DataFrame()\n",
    "    for categoria in tqdm(categories, desc='Procesando categories del dia'):\n",
    "        ruta_carpeta_categoria = os.path.join(ruta_carpeta_categories, categoria, 'subcategories')\n",
    "        \n",
    "        category_files = [item for item in os.listdir(ruta_carpeta_categoria) if os.path.isfile(os.path.join(ruta_carpeta_categoria, item))]\n",
    "\n",
    "        # Llegim cada fitxer:\n",
    "        for category_file in category_files:\n",
    "            ruta_carpeta_categoria_json = os.path.join(ruta_carpeta_categoria, category_file)\n",
    "\n",
    "            # Llegir cada fitxer .json i passar-lo a dataframe\n",
    "            with open(ruta_carpeta_categoria_json, \"r\", encoding=\"utf-8\") as f:\n",
    "                data = json.load(f)\n",
    "\n",
    "            # Convertir el JSON a un DataFrame de Pandas granulat\n",
    "            # Iterem per totes les sub categories que tingui aquesta sub categoria\n",
    "            # Per cada una, iterem per cada producte i creem un nou dataframe amb els productes i la informació dels pares\n",
    "            # Anem concatenant tots els productes\n",
    "            # guardem el csv de tots els productes amb el nom de la data de la carpeta pare.\n",
    "\n",
    "            # Per cada producte tenim 3 ids (categoria, subcategoria i sub-sub-categoria).\n",
    "            # Només en guardem el nom i id i serà (categoria_1, categoria_1_name, categoria_2, categoria_2_name, categoria_3, categoria_3_name)\n",
    "            categoria_1 = categoria.split('#')[0]\n",
    "            categoria_1_name = categoria.split('#')[1]\n",
    "            categoria_2 = category_file.split('#')[0]\n",
    "            categoria_2_name = category_file.split('#')[1].rsplit(\".json\", 1)[0]\n",
    "\n",
    "            for category in data['categories']:\n",
    "                categoria_3 = category['id']\n",
    "                categoria_3_name = category['name']\n",
    "                \n",
    "                df = pd.DataFrame(category['products'])\n",
    "                df['categoria_1'] = categoria_1\n",
    "                df['categoria_1_name'] = categoria_1_name\n",
    "                df['categoria_2'] = categoria_2\n",
    "                df['categoria_2_name'] = categoria_2_name\n",
    "                df['categoria_3'] = categoria_3\n",
    "                df['categoria_3_name'] = categoria_3_name\n",
    "                df['ingested_day'] = dia\n",
    "\n",
    "                # Reinicia el índice\n",
    "                df.reset_index(drop=True, inplace=True)\n",
    "\n",
    "                # Concatena el DataFrame al DataFrame principal\n",
    "                df_productes = pd.concat([df_productes, df], ignore_index=True)\n",
    "\n",
    "    # Transformació de dades (Transform)\n",
    "    df_productes = pd.concat([df_productes, df_productes['badges'].apply(pd.Series)], axis=1)\n",
    "    df_productes = pd.concat([df_productes, df_productes['price_instructions'].apply(pd.Series)], axis=1)\n",
    "    df_productes.drop(columns=['badges'], inplace=True)\n",
    "    df_productes.drop(columns=['price_instructions'], inplace=True)\n",
    "\n",
    "\n",
    "    # Guardar dades (Load)\n",
    "    ruta_capa_bronze = os.path.join(directori_execucio, '1-Bronze')\n",
    "    path_csv = os.path.join(ruta_capa_bronze, f'{dia}.csv')\n",
    "    df_productes.to_csv(path_csv, index=False)"
   ]
  },
  {
   "cell_type": "code",
   "execution_count": 8,
   "id": "52b19717",
   "metadata": {},
   "outputs": [],
   "source": [
    "df = pd.read_csv(path_csv)"
   ]
  },
  {
   "cell_type": "code",
   "execution_count": 9,
   "id": "57303a30",
   "metadata": {},
   "outputs": [
    {
     "data": {
      "text/html": [
       "<div>\n",
       "<style scoped>\n",
       "    .dataframe tbody tr th:only-of-type {\n",
       "        vertical-align: middle;\n",
       "    }\n",
       "\n",
       "    .dataframe tbody tr th {\n",
       "        vertical-align: top;\n",
       "    }\n",
       "\n",
       "    .dataframe thead th {\n",
       "        text-align: right;\n",
       "    }\n",
       "</style>\n",
       "<table border=\"1\" class=\"dataframe\">\n",
       "  <thead>\n",
       "    <tr style=\"text-align: right;\">\n",
       "      <th></th>\n",
       "      <th>id</th>\n",
       "      <th>limit</th>\n",
       "      <th>packaging</th>\n",
       "      <th>thumbnail</th>\n",
       "      <th>display_name</th>\n",
       "      <th>bunch_selector</th>\n",
       "      <th>categoria_1</th>\n",
       "      <th>categoria_1_name</th>\n",
       "      <th>categoria_2</th>\n",
       "      <th>categoria_2_name</th>\n",
       "      <th>...</th>\n",
       "      <th>size_format</th>\n",
       "      <th>total_units</th>\n",
       "      <th>unit_selector</th>\n",
       "      <th>bunch_selector.1</th>\n",
       "      <th>drained_weight</th>\n",
       "      <th>price_decreased</th>\n",
       "      <th>reference_price</th>\n",
       "      <th>min_bunch_amount</th>\n",
       "      <th>reference_format</th>\n",
       "      <th>increment_bunch_amount</th>\n",
       "    </tr>\n",
       "  </thead>\n",
       "  <tbody>\n",
       "    <tr>\n",
       "      <th>0</th>\n",
       "      <td>3318.0</td>\n",
       "      <td>1000</td>\n",
       "      <td>Safata</td>\n",
       "      <td>https://prod-mercadona.imgix.net/20190521/18/3...</td>\n",
       "      <td>Raïm negre sense llavors</td>\n",
       "      <td>False</td>\n",
       "      <td>1</td>\n",
       "      <td>Fruita i verdura</td>\n",
       "      <td>27</td>\n",
       "      <td>Fruita</td>\n",
       "      <td>...</td>\n",
       "      <td>kg</td>\n",
       "      <td>NaN</td>\n",
       "      <td>True</td>\n",
       "      <td>False</td>\n",
       "      <td>NaN</td>\n",
       "      <td>False</td>\n",
       "      <td>4.79</td>\n",
       "      <td>1.0</td>\n",
       "      <td>kg</td>\n",
       "      <td>1.0</td>\n",
       "    </tr>\n",
       "    <tr>\n",
       "      <th>1</th>\n",
       "      <td>3320.0</td>\n",
       "      <td>1000</td>\n",
       "      <td>Granel</td>\n",
       "      <td>https://prod-mercadona.imgix.net/20190521/20/3...</td>\n",
       "      <td>Raïm negre amb llavors</td>\n",
       "      <td>True</td>\n",
       "      <td>1</td>\n",
       "      <td>Fruita i verdura</td>\n",
       "      <td>27</td>\n",
       "      <td>Fruita</td>\n",
       "      <td>...</td>\n",
       "      <td>kg</td>\n",
       "      <td>NaN</td>\n",
       "      <td>False</td>\n",
       "      <td>True</td>\n",
       "      <td>NaN</td>\n",
       "      <td>False</td>\n",
       "      <td>3.49</td>\n",
       "      <td>0.5</td>\n",
       "      <td>kg</td>\n",
       "      <td>0.5</td>\n",
       "    </tr>\n",
       "    <tr>\n",
       "      <th>2</th>\n",
       "      <td>3752.0</td>\n",
       "      <td>1000</td>\n",
       "      <td>Terrina</td>\n",
       "      <td>https://prod-mercadona.imgix.net/20190521/52/3...</td>\n",
       "      <td>Salsa de mango</td>\n",
       "      <td>False</td>\n",
       "      <td>1</td>\n",
       "      <td>Fruita i verdura</td>\n",
       "      <td>27</td>\n",
       "      <td>Fruita</td>\n",
       "      <td>...</td>\n",
       "      <td>kg</td>\n",
       "      <td>NaN</td>\n",
       "      <td>True</td>\n",
       "      <td>False</td>\n",
       "      <td>NaN</td>\n",
       "      <td>False</td>\n",
       "      <td>7.95</td>\n",
       "      <td>1.0</td>\n",
       "      <td>kg</td>\n",
       "      <td>1.0</td>\n",
       "    </tr>\n",
       "    <tr>\n",
       "      <th>3</th>\n",
       "      <td>5508.0</td>\n",
       "      <td>1000</td>\n",
       "      <td>Safata</td>\n",
       "      <td>https://prod-mercadona.imgix.net/20190521/08/5...</td>\n",
       "      <td>Gerds</td>\n",
       "      <td>False</td>\n",
       "      <td>1</td>\n",
       "      <td>Fruita i verdura</td>\n",
       "      <td>27</td>\n",
       "      <td>Fruita</td>\n",
       "      <td>...</td>\n",
       "      <td>kg</td>\n",
       "      <td>NaN</td>\n",
       "      <td>True</td>\n",
       "      <td>False</td>\n",
       "      <td>NaN</td>\n",
       "      <td>False</td>\n",
       "      <td>13.47</td>\n",
       "      <td>1.0</td>\n",
       "      <td>kg</td>\n",
       "      <td>1.0</td>\n",
       "    </tr>\n",
       "    <tr>\n",
       "      <th>4</th>\n",
       "      <td>3832.0</td>\n",
       "      <td>1000</td>\n",
       "      <td>Safata</td>\n",
       "      <td>https://prod-mercadona.imgix.net/20190521/32/3...</td>\n",
       "      <td>Kiwi verd</td>\n",
       "      <td>False</td>\n",
       "      <td>1</td>\n",
       "      <td>Fruita i verdura</td>\n",
       "      <td>27</td>\n",
       "      <td>Fruita</td>\n",
       "      <td>...</td>\n",
       "      <td>kg</td>\n",
       "      <td>NaN</td>\n",
       "      <td>True</td>\n",
       "      <td>False</td>\n",
       "      <td>NaN</td>\n",
       "      <td>False</td>\n",
       "      <td>2.69</td>\n",
       "      <td>1.0</td>\n",
       "      <td>kg</td>\n",
       "      <td>1.0</td>\n",
       "    </tr>\n",
       "  </tbody>\n",
       "</table>\n",
       "<p>5 rows × 34 columns</p>\n",
       "</div>"
      ],
      "text/plain": [
       "       id  limit packaging                                          thumbnail  \\\n",
       "0  3318.0   1000    Safata  https://prod-mercadona.imgix.net/20190521/18/3...   \n",
       "1  3320.0   1000    Granel  https://prod-mercadona.imgix.net/20190521/20/3...   \n",
       "2  3752.0   1000   Terrina  https://prod-mercadona.imgix.net/20190521/52/3...   \n",
       "3  5508.0   1000    Safata  https://prod-mercadona.imgix.net/20190521/08/5...   \n",
       "4  3832.0   1000    Safata  https://prod-mercadona.imgix.net/20190521/32/3...   \n",
       "\n",
       "               display_name  bunch_selector  categoria_1  categoria_1_name  \\\n",
       "0  Raïm negre sense llavors           False            1  Fruita i verdura   \n",
       "1    Raïm negre amb llavors            True            1  Fruita i verdura   \n",
       "2            Salsa de mango           False            1  Fruita i verdura   \n",
       "3                     Gerds           False            1  Fruita i verdura   \n",
       "4                 Kiwi verd           False            1  Fruita i verdura   \n",
       "\n",
       "   categoria_2 categoria_2_name  ...  size_format total_units unit_selector  \\\n",
       "0           27           Fruita  ...           kg         NaN          True   \n",
       "1           27           Fruita  ...           kg         NaN         False   \n",
       "2           27           Fruita  ...           kg         NaN          True   \n",
       "3           27           Fruita  ...           kg         NaN          True   \n",
       "4           27           Fruita  ...           kg         NaN          True   \n",
       "\n",
       "   bunch_selector.1  drained_weight  price_decreased  reference_price  \\\n",
       "0             False             NaN            False             4.79   \n",
       "1              True             NaN            False             3.49   \n",
       "2             False             NaN            False             7.95   \n",
       "3             False             NaN            False            13.47   \n",
       "4             False             NaN            False             2.69   \n",
       "\n",
       "   min_bunch_amount  reference_format increment_bunch_amount  \n",
       "0               1.0                kg                    1.0  \n",
       "1               0.5                kg                    0.5  \n",
       "2               1.0                kg                    1.0  \n",
       "3               1.0                kg                    1.0  \n",
       "4               1.0                kg                    1.0  \n",
       "\n",
       "[5 rows x 34 columns]"
      ]
     },
     "execution_count": 9,
     "metadata": {},
     "output_type": "execute_result"
    }
   ],
   "source": [
    "df.head()"
   ]
  }
 ],
 "metadata": {
  "kernelspec": {
   "display_name": "Python 3 (ipykernel)",
   "language": "python",
   "name": "python3"
  },
  "language_info": {
   "codemirror_mode": {
    "name": "ipython",
    "version": 3
   },
   "file_extension": ".py",
   "mimetype": "text/x-python",
   "name": "python",
   "nbconvert_exporter": "python",
   "pygments_lexer": "ipython3",
   "version": "3.10.13"
  }
 },
 "nbformat": 4,
 "nbformat_minor": 5
}
