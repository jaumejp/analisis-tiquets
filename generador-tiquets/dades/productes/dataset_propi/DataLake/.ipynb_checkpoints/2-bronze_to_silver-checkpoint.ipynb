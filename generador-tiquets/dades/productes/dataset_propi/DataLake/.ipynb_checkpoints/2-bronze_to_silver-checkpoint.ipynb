{
 "cells": [
  {
   "cell_type": "markdown",
   "id": "4d7a7dc7",
   "metadata": {},
   "source": [
    "# Bronze to silver:\n",
    "- Anem a la carpeta bronze.\n",
    "- Agafem els fitxers que hi hagi.\n",
    "- Concatenar-los per crear silver.\n",
    "- Mirar la última data del fitxer que tenim.\n",
    "- Els fitxers amb data més gran s'han de concatenar.\n",
    "- Borrar columnes inesessàries."
   ]
  },
  {
   "cell_type": "code",
   "execution_count": 1,
   "id": "d47bc213",
   "metadata": {},
   "outputs": [],
   "source": [
    "import os\n",
    "import pandas as pd\n",
    "from datetime import datetime"
   ]
  },
  {
   "cell_type": "code",
   "execution_count": 2,
   "id": "51d4de75",
   "metadata": {},
   "outputs": [],
   "source": [
    "directori_execucio = os.getcwd()"
   ]
  },
  {
   "cell_type": "code",
   "execution_count": 3,
   "id": "82a2d9bf",
   "metadata": {},
   "outputs": [
    {
     "data": {
      "text/plain": [
       "['16-04-2024.csv',\n",
       " '19-04-2024.csv',\n",
       " '09-05-2024.csv',\n",
       " '20-04-2024.csv',\n",
       " '17-04-2024.csv']"
      ]
     },
     "execution_count": 3,
     "metadata": {},
     "output_type": "execute_result"
    }
   ],
   "source": [
    "# Info que està a bronze\n",
    "ruta_carpeta_bronze = os.path.join(directori_execucio, '1-Bronze')\n",
    "\n",
    "dies_ingestats = [item for item in os.listdir(ruta_carpeta_bronze) if os.path.isfile(os.path.join(ruta_carpeta_bronze, item))]\n",
    "dies_ingestats"
   ]
  },
  {
   "cell_type": "code",
   "execution_count": 4,
   "id": "dc79fbcd",
   "metadata": {},
   "outputs": [],
   "source": [
    "ruta_capa_silver = os.path.join(directori_execucio, '2-Silver')\n",
    "products = [item for item in os.listdir(ruta_capa_silver) if os.path.isfile(os.path.join(ruta_capa_silver, item))]\n",
    "\n",
    "if len(products) > 1:\n",
    "    # Error\n",
    "    pass\n",
    "elif len(products) == 0:\n",
    "    # Primer cop, agafar tots els de bronze, juntar-los i posar-los a la capa silver.\n",
    "    df = pd.DataFrame()\n",
    "    ruta_csv = os.path.join(ruta_capa_silver, f\"products_from_{datetime.today().strftime('%d-%m-%Y')}.csv\")\n",
    "    for data in dies_ingestats:\n",
    "        fitxer_bronze = os.path.join(ruta_carpeta_bronze, data)\n",
    "        df_bronze = pd.read_csv(fitxer_bronze)\n",
    "        df = pd.concat([df, df_bronze], ignore_index=True)\n",
    "    df.to_csv(ruta_csv, index=False)\n",
    "else:\n",
    "    # Ja tenim dades i hem de concatenar, el que hi ha a bronze + silver sempre que\n",
    "    # No el que llegim de bronze no estigui ja a silver.\n",
    "\n",
    "    ruta_csv = os.path.join(ruta_capa_silver, products[0])\n",
    "    df = pd.read_csv(ruta_csv)\n",
    "\n",
    "    # Posar els dies que no tenim:\n",
    "    df['ingested_day_pandas'] = pd.to_datetime(df['ingested_day'], format=\"%d-%m-%Y\")\n",
    "\n",
    "    idx_ultim_dia = df[df['ingested_day_pandas'] == df['ingested_day_pandas'].max()].index[-1]\n",
    "    ultim_dia_ingestat = df.iloc[idx_ultim_dia]['ingested_day']\n",
    "\n",
    "    # Si es una data que no tenim (data del array 'dies_ingestats' més petita que 'ultim_dia_ingestat')\n",
    "    # La concatenem al fitxer que té tots els productes\n",
    "    for data in dies_ingestats:\n",
    "        data_1_str = data.rstrip('.csv')\n",
    "        data_2_str = ultim_dia_ingestat\n",
    "        data_1 = datetime.strptime(data_1_str, '%d-%m-%Y')\n",
    "        data_2 = datetime.strptime(data_2_str, '%d-%m-%Y')\n",
    "\n",
    "        if data_1 <= data_2: continue\n",
    "\n",
    "        # S'ha de concatenar el fitxer que hi havia a silver (df) amb el fitxer que toca del loop\n",
    "\n",
    "        # Llegir el fitxer que hi ha a silver\n",
    "        # Llegir el fitxer que hi ha a bronze\n",
    "        fitxer_bronze = os.path.join(ruta_carpeta_bronze, data)\n",
    "        df_bronze = pd.read_csv(fitxer_bronze)\n",
    "\n",
    "        # Ajuntar el de bronze a silver\n",
    "        # Fer-ho per totes les dates\n",
    "        df = pd.concat([df, df_bronze], ignore_index=True)\n",
    "\n",
    "        # Gardar el fitxer a silver\n",
    "        # Mirar si es pot guardar directament amb el metode append\n",
    "        df.to_csv(ruta_csv, index=False)\n"
   ]
  }
 ],
 "metadata": {
  "kernelspec": {
   "display_name": "Python 3 (ipykernel)",
   "language": "python",
   "name": "python3"
  },
  "language_info": {
   "codemirror_mode": {
    "name": "ipython",
    "version": 3
   },
   "file_extension": ".py",
   "mimetype": "text/x-python",
   "name": "python",
   "nbconvert_exporter": "python",
   "pygments_lexer": "ipython3",
   "version": "3.10.13"
  }
 },
 "nbformat": 4,
 "nbformat_minor": 5
}
