{
 "cells": [
  {
   "cell_type": "markdown",
   "id": "700c1422",
   "metadata": {
    "id": "700c1422"
   },
   "source": [
    "# Generador de tiquets amb Python\n",
    "- En aquest Notebook s'explica com es generen els tiquets de manera aleatòria a través de la prèvia ingesta de dades feta de la web del Mercadona."
   ]
  },
  {
   "cell_type": "code",
   "execution_count": 1,
   "id": "e3a84bda",
   "metadata": {
    "executionInfo": {
     "elapsed": 288,
     "status": "ok",
     "timestamp": 1713517093465,
     "user": {
      "displayName": "Jaume Juan i Pérez",
      "userId": "13047725848368858602"
     },
     "user_tz": -120
    },
    "id": "e3a84bda"
   },
   "outputs": [],
   "source": [
    "import pandas as pd\n",
    "import numpy as np\n",
    "import matplotlib.pyplot as plt"
   ]
  },
  {
   "cell_type": "markdown",
   "id": "9648d381",
   "metadata": {
    "id": "9648d381"
   },
   "source": [
    "#### Importem el csv de la ingesta de mercadona:"
   ]
  },
  {
   "cell_type": "code",
   "execution_count": 2,
   "id": "a7fb6b91",
   "metadata": {},
   "outputs": [],
   "source": [
    "dtype_dict = {\n",
    "  'category': str,\n",
    "  'subcategory': str,\n",
    "  'name': str,\n",
    "  'iva': str,\n",
    "  'bulk_price': float,\n",
    "  'unit_price': float,\n",
    "  'units': float,\n",
    "  'format': str,\n",
    "  'image': str,\n",
    "}"
   ]
  },
  {
   "cell_type": "code",
   "execution_count": 3,
   "id": "2897efa6",
   "metadata": {
    "colab": {
     "base_uri": "https://localhost:8080/",
     "height": 112
    },
    "executionInfo": {
     "elapsed": 519,
     "status": "ok",
     "timestamp": 1713517094415,
     "user": {
      "displayName": "Jaume Juan i Pérez",
      "userId": "13047725848368858602"
     },
     "user_tz": -120
    },
    "id": "2897efa6",
    "outputId": "cbb2913c-7c39-4bf4-f697-c243b1659af6"
   },
   "outputs": [
    {
     "data": {
      "text/html": [
       "<div>\n",
       "<style scoped>\n",
       "    .dataframe tbody tr th:only-of-type {\n",
       "        vertical-align: middle;\n",
       "    }\n",
       "\n",
       "    .dataframe tbody tr th {\n",
       "        vertical-align: top;\n",
       "    }\n",
       "\n",
       "    .dataframe thead th {\n",
       "        text-align: right;\n",
       "    }\n",
       "</style>\n",
       "<table border=\"1\" class=\"dataframe\">\n",
       "  <thead>\n",
       "    <tr style=\"text-align: right;\">\n",
       "      <th></th>\n",
       "      <th>name</th>\n",
       "      <th>category</th>\n",
       "      <th>subcategory</th>\n",
       "      <th>price</th>\n",
       "      <th>iva</th>\n",
       "      <th>format</th>\n",
       "      <th>ingested_day</th>\n",
       "    </tr>\n",
       "  </thead>\n",
       "  <tbody>\n",
       "    <tr>\n",
       "      <th>0</th>\n",
       "      <td>RAÏM NEGRE SENSE</td>\n",
       "      <td>Fruita i verdura</td>\n",
       "      <td>Fruita</td>\n",
       "      <td>2.63</td>\n",
       "      <td>4</td>\n",
       "      <td>ud</td>\n",
       "      <td>16-04-2024</td>\n",
       "    </tr>\n",
       "    <tr>\n",
       "      <th>1</th>\n",
       "      <td>RAÏM NEGRE AMB</td>\n",
       "      <td>Fruita i verdura</td>\n",
       "      <td>Fruita</td>\n",
       "      <td>345.51</td>\n",
       "      <td>4</td>\n",
       "      <td>ud</td>\n",
       "      <td>16-04-2024</td>\n",
       "    </tr>\n",
       "  </tbody>\n",
       "</table>\n",
       "</div>"
      ],
      "text/plain": [
       "               name          category subcategory   price iva format  \\\n",
       "0  RAÏM NEGRE SENSE  Fruita i verdura      Fruita    2.63   4     ud   \n",
       "1    RAÏM NEGRE AMB  Fruita i verdura      Fruita  345.51   4     ud   \n",
       "\n",
       "  ingested_day  \n",
       "0   16-04-2024  \n",
       "1   16-04-2024  "
      ]
     },
     "execution_count": 3,
     "metadata": {},
     "output_type": "execute_result"
    }
   ],
   "source": [
    "dataset = './dades/productes/dataset_propi/DataLake/3-Gold/productes_mercadona.csv'\n",
    "df = pd.read_csv(dataset, sep=\",\", dtype=dtype_dict)\n",
    "df.head(2)"
   ]
  },
  {
   "cell_type": "markdown",
   "id": "a5cf1825",
   "metadata": {
    "id": "a5cf1825"
   },
   "source": [
    "#### Examinem les dades"
   ]
  },
  {
   "cell_type": "code",
   "execution_count": 4,
   "id": "63240c99",
   "metadata": {},
   "outputs": [
    {
     "data": {
      "text/plain": [
       "name             object\n",
       "category         object\n",
       "subcategory      object\n",
       "price           float64\n",
       "iva              object\n",
       "format           object\n",
       "ingested_day     object\n",
       "dtype: object"
      ]
     },
     "execution_count": 4,
     "metadata": {},
     "output_type": "execute_result"
    }
   ],
   "source": [
    "df.dtypes"
   ]
  },
  {
   "cell_type": "code",
   "execution_count": 5,
   "id": "705d7823",
   "metadata": {
    "colab": {
     "base_uri": "https://localhost:8080/"
    },
    "executionInfo": {
     "elapsed": 15,
     "status": "ok",
     "timestamp": 1713517094415,
     "user": {
      "displayName": "Jaume Juan i Pérez",
      "userId": "13047725848368858602"
     },
     "user_tz": -120
    },
    "id": "705d7823",
    "outputId": "1b4a10aa-956e-41d6-ef5c-0735831102a8"
   },
   "outputs": [
    {
     "data": {
      "text/plain": [
       "1820070"
      ]
     },
     "execution_count": 5,
     "metadata": {},
     "output_type": "execute_result"
    }
   ],
   "source": [
    "df.size"
   ]
  },
  {
   "cell_type": "code",
   "execution_count": 6,
   "id": "688c54c4",
   "metadata": {
    "colab": {
     "base_uri": "https://localhost:8080/"
    },
    "executionInfo": {
     "elapsed": 13,
     "status": "ok",
     "timestamp": 1713517094416,
     "user": {
      "displayName": "Jaume Juan i Pérez",
      "userId": "13047725848368858602"
     },
     "user_tz": -120
    },
    "id": "688c54c4",
    "outputId": "72e94191-1ae8-493e-d4db-79ced01135e6"
   },
   "outputs": [
    {
     "data": {
      "text/plain": [
       "name             object\n",
       "category         object\n",
       "subcategory      object\n",
       "price           float64\n",
       "iva              object\n",
       "format           object\n",
       "ingested_day     object\n",
       "dtype: object"
      ]
     },
     "execution_count": 6,
     "metadata": {},
     "output_type": "execute_result"
    }
   ],
   "source": [
    "df.dtypes"
   ]
  },
  {
   "cell_type": "code",
   "execution_count": 7,
   "id": "9810be94",
   "metadata": {},
   "outputs": [
    {
     "data": {
      "text/plain": [
       "0         False\n",
       "1         False\n",
       "2         False\n",
       "3         False\n",
       "4         False\n",
       "          ...  \n",
       "260005     True\n",
       "260006     True\n",
       "260007     True\n",
       "260008     True\n",
       "260009     True\n",
       "Length: 260010, dtype: bool"
      ]
     },
     "execution_count": 7,
     "metadata": {},
     "output_type": "execute_result"
    }
   ],
   "source": [
    "df.duplicated()"
   ]
  },
  {
   "cell_type": "code",
   "execution_count": 8,
   "id": "b62c0d6e",
   "metadata": {},
   "outputs": [
    {
     "data": {
      "text/plain": [
       "26"
      ]
     },
     "execution_count": 8,
     "metadata": {},
     "output_type": "execute_result"
    }
   ],
   "source": [
    "len(df.category.unique())"
   ]
  },
  {
   "cell_type": "markdown",
   "id": "WaPfWLXZaTP9",
   "metadata": {
    "id": "WaPfWLXZaTP9"
   },
   "source": [
    "#### Necessitem que l'iva sigui un string\n",
    "- Perquè en el moment de fer els càlculs de cada preu, es fa servir l'objecte:\n",
    "```python\n",
    "ivas = {\n",
    "    '0' : {'d': 0.000, 'i': 1.000},\n",
    "    '4' : {'d': 0.040, 'i': 1.040},\n",
    "    '10': {'d': 0.100, 'i': 1.100},\n",
    "    '21': {'d': 0.210, 'i': 1.210},\n",
    "}\n",
    "```\n",
    "- on:\n",
    "    - Les claus: `0, 4, 10, 21` són els possibles ivas que podem tenir al dataset.\n",
    "    - Els valors de cada clau són un diccionari per afegir o treure l'iva a un producte.\n",
    "        - d: decrementar.\n",
    "            - Si tenim un preu de 100€ iva inclòs, a un iva del 21%. Si dividim 100 * 0.21 = 21€ que d'aquests 100€ pertanyen a l'iva.\n",
    "            - Si volem saber el preu sense iva d'aquests 100€, hem de dividir per 1.21.\n",
    "        - i: incrementar.\n",
    "            - Si tenim un preu sense iva de 100€ i volem sumar-li l'iva, hem de multiplicar 100 * 1.21 = 121€\n",
    "- Llavors, tinguent aquest objecte, quan calculem els preus amb iva del tiquet o els ivas total que han d'aparèixer al tiquet, accedirem a aquest objecte `ivas` per la clau que pertoqui."
   ]
  },
  {
   "cell_type": "code",
   "execution_count": 9,
   "id": "2baab6ff",
   "metadata": {
    "colab": {
     "base_uri": "https://localhost:8080/"
    },
    "executionInfo": {
     "elapsed": 11,
     "status": "ok",
     "timestamp": 1713517094416,
     "user": {
      "displayName": "Jaume Juan i Pérez",
      "userId": "13047725848368858602"
     },
     "user_tz": -120
    },
    "id": "2baab6ff",
    "outputId": "4a30b49d-a46a-456e-cf08-df0643d6f4b8"
   },
   "outputs": [
    {
     "data": {
      "text/plain": [
       "name             object\n",
       "category         object\n",
       "subcategory      object\n",
       "price           float64\n",
       "iva              object\n",
       "format           object\n",
       "ingested_day     object\n",
       "dtype: object"
      ]
     },
     "execution_count": 9,
     "metadata": {},
     "output_type": "execute_result"
    }
   ],
   "source": [
    "df['iva'] = df['iva'].astype(str)\n",
    "df.dtypes"
   ]
  },
  {
   "cell_type": "markdown",
   "id": "JWHohu90dY70",
   "metadata": {
    "id": "JWHohu90dY70"
   },
   "source": [
    "### Creem un tiquet on els seus productes tinguin coherència amb la realitat\n",
    "#### Categoríes\n",
    "- Aquesta 'coherència' és una especulació nostre.\n",
    "- Creiem que al supermercat es compren més unes certes categoríes que d'altres.\n",
    "- Per tant a els tiquets, s'hi ha de veure reflexat aquest biaxi.\n",
    "- Per altre banda, tenim més productes de algunes categories que d'algunes altres, per tant al fer un `random sample` dels productes, el biaix aniría cap a aquestes categoríes que tenen més productes, ja que es més probable que surtin perquè tenen més registres.\n",
    "- Per tant, preferim ajustar nosaltres la proporció de productes que han de sortir de cada categoría.  \n",
    "\n",
    "#### Dates\n",
    "- Es generaran productes d'una mateixa data, perque al mateix tiquet hi hagin preus del mateix dia.\n",
    "- Així el tiquet tindrà més coherència."
   ]
  },
  {
   "cell_type": "code",
   "execution_count": 10,
   "id": "629bc951",
   "metadata": {
    "colab": {
     "base_uri": "https://localhost:8080/"
    },
    "executionInfo": {
     "elapsed": 10,
     "status": "ok",
     "timestamp": 1713517094416,
     "user": {
      "displayName": "Jaume Juan i Pérez",
      "userId": "13047725848368858602"
     },
     "user_tz": -120
    },
    "id": "629bc951",
    "outputId": "8b496bc3-690c-4a06-fe91-de56b245a29f"
   },
   "outputs": [
    {
     "data": {
      "text/plain": [
       "category\n",
       "Cura facial i corporal        50940\n",
       "Neteja i llar                 44520\n",
       "Forn i pastisseria            19035\n",
       "Celler                        18135\n",
       "Congelats                     15840\n",
       "Xarcuteria i formatges        15345\n",
       "Carn                          10845\n",
       "Postres i iogurts              9270\n",
       "Cura dels cabells              8675\n",
       "Maquillatge                    8475\n",
       "Conserves, brous i cremes      7380\n",
       "Marisc i peix                  7020\n",
       "Aigua i refrescos              6780\n",
       "Sucre, caramels i xocolata     5525\n",
       "Nadó                           4300\n",
       "Cacau, cafè i infusions        4150\n",
       "Oli, espècies i salses         4020\n",
       "Fruita i verdura               3015\n",
       "Aperitius                      2835\n",
       "Ous, llet i mantega            2640\n",
       "Pizzes i plats preparats       2580\n",
       "Cereals i galetes              2340\n",
       "Arròs, llegums i pasta         1905\n",
       "Mascotes                       1830\n",
       "Sucs                           1580\n",
       "Fitoteràpia i parafarmàcia     1030\n",
       "Name: count, dtype: int64"
      ]
     },
     "execution_count": 10,
     "metadata": {},
     "output_type": "execute_result"
    }
   ],
   "source": [
    "df['category'].value_counts()"
   ]
  },
  {
   "cell_type": "markdown",
   "id": "fLS2A4m9e6nj",
   "metadata": {
    "id": "fLS2A4m9e6nj"
   },
   "source": [
    "#### Assignem els pesos a cada categoria\n",
    "- 8 categories tenen un percentatge més alt. (10%)\n",
    "  - Els productes d'aquestes categoríes, representaran un 80% dels productes que apareixin als tiquets.\n",
    "- 4 categories tenen un percentatge intermij (1.5%)\n",
    "  - Els productes d'aquestes categories, representaran un 6% del total de productes de tots els datasets.\n",
    "- 14 categories tenen un percentatge baix (1%)\n",
    "  - Els productes d'aquestes categoríes representaran un 14% de tots esl productes que es posaràn als tiquets."
   ]
  },
  {
   "cell_type": "code",
   "execution_count": 11,
   "id": "6jHKX_-X5Uue",
   "metadata": {
    "executionInfo": {
     "elapsed": 9,
     "status": "ok",
     "timestamp": 1713517094416,
     "user": {
      "displayName": "Jaume Juan i Pérez",
      "userId": "13047725848368858602"
     },
     "user_tz": -120
    },
    "id": "6jHKX_-X5Uue"
   },
   "outputs": [],
   "source": [
    "escala_ponderacio = {\n",
    "    'Cura facial i corporal': 0.01,\n",
    "    'Neteja i llar': 0.01,\n",
    "    'Forn i pastisseria': 0.01,\n",
    "    'Celler': 0.01,\n",
    "    'Congelats': 0.225,\n",
    "    'Xarcuteria i formatges': 0.07,\n",
    "    'Carn': 0.06,\n",
    "    'Postres i iogurts': 0.06,\n",
    "    'Cura dels cabells': 0.01,\n",
    "    'Maquillatge': 0.01,\n",
    "    'Conserves, brous i cremes': 0.015,\n",
    "    'Marisc i peix': 0.01,\n",
    "    'Aigua i refrescos': 0.06,\n",
    "    'Sucre, caramels i xocolata': 0.015,\n",
    "    'Nadó': 0.01,\n",
    "    'Cacau, cafè i infusions': 0.01,\n",
    "    'Oli, espècies i salses': 0.06,\n",
    "    'Fruita i verdura': 0.225,\n",
    "    'Aperitius': 0.01,\n",
    "    'Ous, llet i mantega': 0.06,\n",
    "    'Pizzes i plats preparats': 0.01,\n",
    "    'Cereals i galetes': 0.01,\n",
    "    'Arròs, llegums i pasta': 0.06,\n",
    "    'Mascotes': 0.015,\n",
    "    'Sucs': 0.015,\n",
    "    'Fitoteràpia i parafarmàcia': 0.01\n",
    "}"
   ]
  },
  {
   "cell_type": "code",
   "execution_count": 12,
   "id": "cRj1xpyl6m5E",
   "metadata": {
    "colab": {
     "base_uri": "https://localhost:8080/"
    },
    "executionInfo": {
     "elapsed": 9,
     "status": "ok",
     "timestamp": 1713517094416,
     "user": {
      "displayName": "Jaume Juan i Pérez",
      "userId": "13047725848368858602"
     },
     "user_tz": -120
    },
    "id": "cRj1xpyl6m5E",
    "outputId": "c50ea5c7-cf25-4c47-8d5c-8992f25e9366"
   },
   "outputs": [
    {
     "data": {
      "text/plain": [
       "(['Carn',\n",
       "  'Postres i iogurts',\n",
       "  'Aigua i refrescos',\n",
       "  'Oli, espècies i salses',\n",
       "  'Ous, llet i mantega',\n",
       "  'Arròs, llegums i pasta'],\n",
       " 0.36)"
      ]
     },
     "execution_count": 12,
     "metadata": {},
     "output_type": "execute_result"
    }
   ],
   "source": [
    "# categories més importants\n",
    "categories_top = { key: value for key, value in escala_ponderacio.items() if value == 0.06 }\n",
    "list(categories_top.keys()), sum(categories_top.values())"
   ]
  },
  {
   "cell_type": "code",
   "execution_count": 13,
   "id": "JoNzRUP7-p3U",
   "metadata": {
    "colab": {
     "base_uri": "https://localhost:8080/"
    },
    "executionInfo": {
     "elapsed": 8,
     "status": "ok",
     "timestamp": 1713517094416,
     "user": {
      "displayName": "Jaume Juan i Pérez",
      "userId": "13047725848368858602"
     },
     "user_tz": -120
    },
    "id": "JoNzRUP7-p3U",
    "outputId": "e402f44b-aefc-463b-86d2-0cfdabe10782"
   },
   "outputs": [
    {
     "data": {
      "text/plain": [
       "(['Conserves, brous i cremes',\n",
       "  'Sucre, caramels i xocolata',\n",
       "  'Mascotes',\n",
       "  'Sucs'],\n",
       " 0.06)"
      ]
     },
     "execution_count": 13,
     "metadata": {},
     "output_type": "execute_result"
    }
   ],
   "source": [
    "# categoria intermitja\n",
    "categories_middle = { key: value for key, value in escala_ponderacio.items() if value == 0.015 }\n",
    "list(categories_middle.keys()), sum(categories_middle.values())"
   ]
  },
  {
   "cell_type": "code",
   "execution_count": 14,
   "id": "061b216a",
   "metadata": {},
   "outputs": [
    {
     "data": {
      "text/plain": [
       "(['Congelats', 'Fruita i verdura'], 0.45)"
      ]
     },
     "execution_count": 14,
     "metadata": {},
     "output_type": "execute_result"
    }
   ],
   "source": [
    "# categoria kg\n",
    "categories_middle_2 = { key: value for key, value in escala_ponderacio.items() if value == 0.225 }\n",
    "list(categories_middle_2.keys()), sum(categories_middle_2.values())"
   ]
  },
  {
   "cell_type": "code",
   "execution_count": 15,
   "id": "4KxtP48D-ITa",
   "metadata": {
    "colab": {
     "base_uri": "https://localhost:8080/"
    },
    "executionInfo": {
     "elapsed": 7,
     "status": "ok",
     "timestamp": 1713517094416,
     "user": {
      "displayName": "Jaume Juan i Pérez",
      "userId": "13047725848368858602"
     },
     "user_tz": -120
    },
    "id": "4KxtP48D-ITa",
    "outputId": "f441151a-48ed-4b7f-d6ca-57c504d6abda"
   },
   "outputs": [
    {
     "data": {
      "text/plain": [
       "(['Cura facial i corporal',\n",
       "  'Neteja i llar',\n",
       "  'Forn i pastisseria',\n",
       "  'Celler',\n",
       "  'Cura dels cabells',\n",
       "  'Maquillatge',\n",
       "  'Marisc i peix',\n",
       "  'Nadó',\n",
       "  'Cacau, cafè i infusions',\n",
       "  'Aperitius',\n",
       "  'Pizzes i plats preparats',\n",
       "  'Cereals i galetes',\n",
       "  'Fitoteràpia i parafarmàcia'],\n",
       " 0.12999999999999998)"
      ]
     },
     "execution_count": 15,
     "metadata": {},
     "output_type": "execute_result"
    }
   ],
   "source": [
    "# categories menys importants\n",
    "categories_bottom = { key: value for key, value in escala_ponderacio.items() if value == 0.01 }\n",
    "list(categories_bottom.keys()), sum(categories_bottom.values())"
   ]
  },
  {
   "cell_type": "code",
   "execution_count": 16,
   "id": "p1tRaBxR-YPs",
   "metadata": {
    "colab": {
     "base_uri": "https://localhost:8080/"
    },
    "executionInfo": {
     "elapsed": 6,
     "status": "ok",
     "timestamp": 1713517094416,
     "user": {
      "displayName": "Jaume Juan i Pérez",
      "userId": "13047725848368858602"
     },
     "user_tz": -120
    },
    "id": "p1tRaBxR-YPs",
    "outputId": "05fa297a-a7c8-4652-ca0c-fa1999227386"
   },
   "outputs": [
    {
     "data": {
      "text/plain": [
       "1.0"
      ]
     },
     "execution_count": 16,
     "metadata": {},
     "output_type": "execute_result"
    }
   ],
   "source": [
    "# La probabilitat de totes les categories ha de ser 1\n",
    "sum(categories_top.values()) + sum(categories_bottom.values()) + sum(categories_middle.values()) + sum(categories_middle_2.values())"
   ]
  },
  {
   "cell_type": "code",
   "execution_count": 17,
   "id": "df893221",
   "metadata": {
    "colab": {
     "base_uri": "https://localhost:8080/",
     "height": 206
    },
    "executionInfo": {
     "elapsed": 413,
     "status": "ok",
     "timestamp": 1713517094824,
     "user": {
      "displayName": "Jaume Juan i Pérez",
      "userId": "13047725848368858602"
     },
     "user_tz": -120
    },
    "id": "df893221",
    "outputId": "7d0a7579-a32d-4d9d-fc76-04a08c20e485"
   },
   "outputs": [
    {
     "data": {
      "text/html": [
       "<div>\n",
       "<style scoped>\n",
       "    .dataframe tbody tr th:only-of-type {\n",
       "        vertical-align: middle;\n",
       "    }\n",
       "\n",
       "    .dataframe tbody tr th {\n",
       "        vertical-align: top;\n",
       "    }\n",
       "\n",
       "    .dataframe thead th {\n",
       "        text-align: right;\n",
       "    }\n",
       "</style>\n",
       "<table border=\"1\" class=\"dataframe\">\n",
       "  <thead>\n",
       "    <tr style=\"text-align: right;\">\n",
       "      <th></th>\n",
       "      <th>name</th>\n",
       "      <th>category</th>\n",
       "      <th>subcategory</th>\n",
       "      <th>price</th>\n",
       "      <th>iva</th>\n",
       "      <th>format</th>\n",
       "      <th>ingested_day</th>\n",
       "      <th>category_weight</th>\n",
       "    </tr>\n",
       "  </thead>\n",
       "  <tbody>\n",
       "    <tr>\n",
       "      <th>0</th>\n",
       "      <td>RAÏM NEGRE SENSE</td>\n",
       "      <td>Fruita i verdura</td>\n",
       "      <td>Fruita</td>\n",
       "      <td>2.63</td>\n",
       "      <td>4</td>\n",
       "      <td>ud</td>\n",
       "      <td>16-04-2024</td>\n",
       "      <td>0.225</td>\n",
       "    </tr>\n",
       "    <tr>\n",
       "      <th>1</th>\n",
       "      <td>RAÏM NEGRE AMB</td>\n",
       "      <td>Fruita i verdura</td>\n",
       "      <td>Fruita</td>\n",
       "      <td>345.51</td>\n",
       "      <td>4</td>\n",
       "      <td>ud</td>\n",
       "      <td>16-04-2024</td>\n",
       "      <td>0.225</td>\n",
       "    </tr>\n",
       "    <tr>\n",
       "      <th>2</th>\n",
       "      <td>SALSA DE MANGO</td>\n",
       "      <td>Fruita i verdura</td>\n",
       "      <td>Fruita</td>\n",
       "      <td>1.59</td>\n",
       "      <td>4</td>\n",
       "      <td>ud</td>\n",
       "      <td>16-04-2024</td>\n",
       "      <td>0.225</td>\n",
       "    </tr>\n",
       "    <tr>\n",
       "      <th>3</th>\n",
       "      <td>GERDS</td>\n",
       "      <td>Fruita i verdura</td>\n",
       "      <td>Fruita</td>\n",
       "      <td>2.29</td>\n",
       "      <td>4</td>\n",
       "      <td>ud</td>\n",
       "      <td>16-04-2024</td>\n",
       "      <td>0.225</td>\n",
       "    </tr>\n",
       "    <tr>\n",
       "      <th>4</th>\n",
       "      <td>KIWI VERD</td>\n",
       "      <td>Fruita i verdura</td>\n",
       "      <td>Fruita</td>\n",
       "      <td>2.69</td>\n",
       "      <td>4</td>\n",
       "      <td>ud</td>\n",
       "      <td>16-04-2024</td>\n",
       "      <td>0.225</td>\n",
       "    </tr>\n",
       "  </tbody>\n",
       "</table>\n",
       "</div>"
      ],
      "text/plain": [
       "               name          category subcategory   price iva format  \\\n",
       "0  RAÏM NEGRE SENSE  Fruita i verdura      Fruita    2.63   4     ud   \n",
       "1    RAÏM NEGRE AMB  Fruita i verdura      Fruita  345.51   4     ud   \n",
       "2    SALSA DE MANGO  Fruita i verdura      Fruita    1.59   4     ud   \n",
       "3             GERDS  Fruita i verdura      Fruita    2.29   4     ud   \n",
       "4         KIWI VERD  Fruita i verdura      Fruita    2.69   4     ud   \n",
       "\n",
       "  ingested_day  category_weight  \n",
       "0   16-04-2024            0.225  \n",
       "1   16-04-2024            0.225  \n",
       "2   16-04-2024            0.225  \n",
       "3   16-04-2024            0.225  \n",
       "4   16-04-2024            0.225  "
      ]
     },
     "execution_count": 17,
     "metadata": {},
     "output_type": "execute_result"
    }
   ],
   "source": [
    "# Assignem el pes a cada producte en funció de la categoría que estigui\n",
    "df['category_weight'] = df.category.apply(lambda x: escala_ponderacio[x])\n",
    "df.head()"
   ]
  },
  {
   "cell_type": "code",
   "execution_count": 18,
   "id": "c609316a",
   "metadata": {},
   "outputs": [
    {
     "data": {
      "text/plain": [
       "array(['16-04-2024', '19-04-2024', '09-05-2024', '20-04-2024',\n",
       "       '17-04-2024'], dtype=object)"
      ]
     },
     "execution_count": 18,
     "metadata": {},
     "output_type": "execute_result"
    }
   ],
   "source": [
    "# Dies possibles\n",
    "df.ingested_day.unique()"
   ]
  },
  {
   "cell_type": "markdown",
   "id": "plOwvBIsf3qa",
   "metadata": {
    "id": "plOwvBIsf3qa"
   },
   "source": [
    "#### Determinem el preu final de cada producte\n",
    "- A la ETL de ingesta de productes ja s'han eliminat tots els altres possibles formats.\n",
    "- Ara només tenim `ud` i `kg`.\n",
    "- Podem observar que hi ha més productes amb el format unitari que en format kilogram.\n",
    "- Això també ens podría generar un biaix a la hora de generar tiquets, ja que apareixeràn més productes unitaris.\n",
    "- Creiem que no serà un problema perquè ens arribaran menys productes de fruita i verdura, però igualment els estem afegint a les mostres.  "
   ]
  },
  {
   "cell_type": "code",
   "execution_count": 19,
   "id": "a3bea358",
   "metadata": {
    "colab": {
     "base_uri": "https://localhost:8080/"
    },
    "executionInfo": {
     "elapsed": 23,
     "status": "ok",
     "timestamp": 1713517094824,
     "user": {
      "displayName": "Jaume Juan i Pérez",
      "userId": "13047725848368858602"
     },
     "user_tz": -120
    },
    "id": "a3bea358",
    "outputId": "3bf6beb3-e8d5-4804-f770-22c9e5866560"
   },
   "outputs": [
    {
     "data": {
      "text/plain": [
       "format\n",
       "ud    255465\n",
       "kg      4545\n",
       "Name: count, dtype: int64"
      ]
     },
     "execution_count": 19,
     "metadata": {},
     "output_type": "execute_result"
    }
   ],
   "source": [
    "df['format'].value_counts()"
   ]
  },
  {
   "cell_type": "code",
   "execution_count": 20,
   "id": "3fc1b020",
   "metadata": {
    "colab": {
     "base_uri": "https://localhost:8080/",
     "height": 896
    },
    "executionInfo": {
     "elapsed": 18,
     "status": "ok",
     "timestamp": 1713517094824,
     "user": {
      "displayName": "Jaume Juan i Pérez",
      "userId": "13047725848368858602"
     },
     "user_tz": -120
    },
    "id": "3fc1b020",
    "outputId": "62d5d6f9-dcfe-4861-e81c-a71de325255d"
   },
   "outputs": [
    {
     "data": {
      "text/html": [
       "<div>\n",
       "<style scoped>\n",
       "    .dataframe tbody tr th:only-of-type {\n",
       "        vertical-align: middle;\n",
       "    }\n",
       "\n",
       "    .dataframe tbody tr th {\n",
       "        vertical-align: top;\n",
       "    }\n",
       "\n",
       "    .dataframe thead th {\n",
       "        text-align: right;\n",
       "    }\n",
       "</style>\n",
       "<table border=\"1\" class=\"dataframe\">\n",
       "  <thead>\n",
       "    <tr style=\"text-align: right;\">\n",
       "      <th>format</th>\n",
       "      <th>kg</th>\n",
       "      <th>ud</th>\n",
       "    </tr>\n",
       "    <tr>\n",
       "      <th>category</th>\n",
       "      <th></th>\n",
       "      <th></th>\n",
       "    </tr>\n",
       "  </thead>\n",
       "  <tbody>\n",
       "    <tr>\n",
       "      <th>Aigua i refrescos</th>\n",
       "      <td>0</td>\n",
       "      <td>6780</td>\n",
       "    </tr>\n",
       "    <tr>\n",
       "      <th>Aperitius</th>\n",
       "      <td>0</td>\n",
       "      <td>2835</td>\n",
       "    </tr>\n",
       "    <tr>\n",
       "      <th>Arròs, llegums i pasta</th>\n",
       "      <td>0</td>\n",
       "      <td>1905</td>\n",
       "    </tr>\n",
       "    <tr>\n",
       "      <th>Cacau, cafè i infusions</th>\n",
       "      <td>0</td>\n",
       "      <td>4150</td>\n",
       "    </tr>\n",
       "    <tr>\n",
       "      <th>Carn</th>\n",
       "      <td>0</td>\n",
       "      <td>10845</td>\n",
       "    </tr>\n",
       "    <tr>\n",
       "      <th>Celler</th>\n",
       "      <td>0</td>\n",
       "      <td>18135</td>\n",
       "    </tr>\n",
       "    <tr>\n",
       "      <th>Cereals i galetes</th>\n",
       "      <td>0</td>\n",
       "      <td>2340</td>\n",
       "    </tr>\n",
       "    <tr>\n",
       "      <th>Congelats</th>\n",
       "      <td>3105</td>\n",
       "      <td>12735</td>\n",
       "    </tr>\n",
       "    <tr>\n",
       "      <th>Conserves, brous i cremes</th>\n",
       "      <td>0</td>\n",
       "      <td>7380</td>\n",
       "    </tr>\n",
       "    <tr>\n",
       "      <th>Cura dels cabells</th>\n",
       "      <td>0</td>\n",
       "      <td>8675</td>\n",
       "    </tr>\n",
       "    <tr>\n",
       "      <th>Cura facial i corporal</th>\n",
       "      <td>0</td>\n",
       "      <td>50940</td>\n",
       "    </tr>\n",
       "    <tr>\n",
       "      <th>Fitoteràpia i parafarmàcia</th>\n",
       "      <td>0</td>\n",
       "      <td>1030</td>\n",
       "    </tr>\n",
       "    <tr>\n",
       "      <th>Forn i pastisseria</th>\n",
       "      <td>0</td>\n",
       "      <td>19035</td>\n",
       "    </tr>\n",
       "    <tr>\n",
       "      <th>Fruita i verdura</th>\n",
       "      <td>1440</td>\n",
       "      <td>1575</td>\n",
       "    </tr>\n",
       "    <tr>\n",
       "      <th>Maquillatge</th>\n",
       "      <td>0</td>\n",
       "      <td>8475</td>\n",
       "    </tr>\n",
       "    <tr>\n",
       "      <th>Marisc i peix</th>\n",
       "      <td>0</td>\n",
       "      <td>7020</td>\n",
       "    </tr>\n",
       "    <tr>\n",
       "      <th>Mascotes</th>\n",
       "      <td>0</td>\n",
       "      <td>1830</td>\n",
       "    </tr>\n",
       "    <tr>\n",
       "      <th>Nadó</th>\n",
       "      <td>0</td>\n",
       "      <td>4300</td>\n",
       "    </tr>\n",
       "    <tr>\n",
       "      <th>Neteja i llar</th>\n",
       "      <td>0</td>\n",
       "      <td>44520</td>\n",
       "    </tr>\n",
       "    <tr>\n",
       "      <th>Oli, espècies i salses</th>\n",
       "      <td>0</td>\n",
       "      <td>4020</td>\n",
       "    </tr>\n",
       "    <tr>\n",
       "      <th>Ous, llet i mantega</th>\n",
       "      <td>0</td>\n",
       "      <td>2640</td>\n",
       "    </tr>\n",
       "    <tr>\n",
       "      <th>Pizzes i plats preparats</th>\n",
       "      <td>0</td>\n",
       "      <td>2580</td>\n",
       "    </tr>\n",
       "    <tr>\n",
       "      <th>Postres i iogurts</th>\n",
       "      <td>0</td>\n",
       "      <td>9270</td>\n",
       "    </tr>\n",
       "    <tr>\n",
       "      <th>Sucre, caramels i xocolata</th>\n",
       "      <td>0</td>\n",
       "      <td>5525</td>\n",
       "    </tr>\n",
       "    <tr>\n",
       "      <th>Sucs</th>\n",
       "      <td>0</td>\n",
       "      <td>1580</td>\n",
       "    </tr>\n",
       "    <tr>\n",
       "      <th>Xarcuteria i formatges</th>\n",
       "      <td>0</td>\n",
       "      <td>15345</td>\n",
       "    </tr>\n",
       "  </tbody>\n",
       "</table>\n",
       "</div>"
      ],
      "text/plain": [
       "format                        kg     ud\n",
       "category                               \n",
       "Aigua i refrescos              0   6780\n",
       "Aperitius                      0   2835\n",
       "Arròs, llegums i pasta         0   1905\n",
       "Cacau, cafè i infusions        0   4150\n",
       "Carn                           0  10845\n",
       "Celler                         0  18135\n",
       "Cereals i galetes              0   2340\n",
       "Congelats                   3105  12735\n",
       "Conserves, brous i cremes      0   7380\n",
       "Cura dels cabells              0   8675\n",
       "Cura facial i corporal         0  50940\n",
       "Fitoteràpia i parafarmàcia     0   1030\n",
       "Forn i pastisseria             0  19035\n",
       "Fruita i verdura            1440   1575\n",
       "Maquillatge                    0   8475\n",
       "Marisc i peix                  0   7020\n",
       "Mascotes                       0   1830\n",
       "Nadó                           0   4300\n",
       "Neteja i llar                  0  44520\n",
       "Oli, espècies i salses         0   4020\n",
       "Ous, llet i mantega            0   2640\n",
       "Pizzes i plats preparats       0   2580\n",
       "Postres i iogurts              0   9270\n",
       "Sucre, caramels i xocolata     0   5525\n",
       "Sucs                           0   1580\n",
       "Xarcuteria i formatges         0  15345"
      ]
     },
     "execution_count": 20,
     "metadata": {},
     "output_type": "execute_result"
    }
   ],
   "source": [
    "pd.crosstab(df['category'], df['format'])"
   ]
  },
  {
   "cell_type": "markdown",
   "id": "994ef052",
   "metadata": {},
   "source": [
    "#### Tractament de dades\n",
    "- Renombrar columna `price` a `p_u_sense iva`, ja que es el que representa (preu unitari sense iva) del producte."
   ]
  },
  {
   "cell_type": "code",
   "execution_count": 21,
   "id": "aa045f68",
   "metadata": {},
   "outputs": [
    {
     "data": {
      "text/html": [
       "<div>\n",
       "<style scoped>\n",
       "    .dataframe tbody tr th:only-of-type {\n",
       "        vertical-align: middle;\n",
       "    }\n",
       "\n",
       "    .dataframe tbody tr th {\n",
       "        vertical-align: top;\n",
       "    }\n",
       "\n",
       "    .dataframe thead th {\n",
       "        text-align: right;\n",
       "    }\n",
       "</style>\n",
       "<table border=\"1\" class=\"dataframe\">\n",
       "  <thead>\n",
       "    <tr style=\"text-align: right;\">\n",
       "      <th></th>\n",
       "      <th>name</th>\n",
       "      <th>category</th>\n",
       "      <th>subcategory</th>\n",
       "      <th>p_u_sense_iva</th>\n",
       "      <th>iva</th>\n",
       "      <th>format</th>\n",
       "      <th>ingested_day</th>\n",
       "      <th>category_weight</th>\n",
       "    </tr>\n",
       "  </thead>\n",
       "  <tbody>\n",
       "    <tr>\n",
       "      <th>0</th>\n",
       "      <td>RAÏM NEGRE SENSE</td>\n",
       "      <td>Fruita i verdura</td>\n",
       "      <td>Fruita</td>\n",
       "      <td>2.63</td>\n",
       "      <td>4</td>\n",
       "      <td>ud</td>\n",
       "      <td>16-04-2024</td>\n",
       "      <td>0.225</td>\n",
       "    </tr>\n",
       "    <tr>\n",
       "      <th>1</th>\n",
       "      <td>RAÏM NEGRE AMB</td>\n",
       "      <td>Fruita i verdura</td>\n",
       "      <td>Fruita</td>\n",
       "      <td>345.51</td>\n",
       "      <td>4</td>\n",
       "      <td>ud</td>\n",
       "      <td>16-04-2024</td>\n",
       "      <td>0.225</td>\n",
       "    </tr>\n",
       "  </tbody>\n",
       "</table>\n",
       "</div>"
      ],
      "text/plain": [
       "               name          category subcategory  p_u_sense_iva iva format  \\\n",
       "0  RAÏM NEGRE SENSE  Fruita i verdura      Fruita           2.63   4     ud   \n",
       "1    RAÏM NEGRE AMB  Fruita i verdura      Fruita         345.51   4     ud   \n",
       "\n",
       "  ingested_day  category_weight  \n",
       "0   16-04-2024            0.225  \n",
       "1   16-04-2024            0.225  "
      ]
     },
     "execution_count": 21,
     "metadata": {},
     "output_type": "execute_result"
    }
   ],
   "source": [
    "df = df.rename(columns={'price': 'p_u_sense_iva'})\n",
    "df.head(2)"
   ]
  },
  {
   "cell_type": "markdown",
   "id": "cb36f150",
   "metadata": {
    "colab": {
     "base_uri": "https://localhost:8080/"
    },
    "executionInfo": {
     "elapsed": 18,
     "status": "ok",
     "timestamp": 1713517094825,
     "user": {
      "displayName": "Jaume Juan i Pérez",
      "userId": "13047725848368858602"
     },
     "user_tz": -120
    },
    "id": "a6ba374a",
    "outputId": "6d8c1106-8c29-41bf-bf45-6e89634d4f11"
   },
   "source": [
    "#### Separem els productes amb blocs del mateix dia\n",
    "- Quan fem el tiquet, agafarem productes només del mateix dia"
   ]
  },
  {
   "cell_type": "code",
   "execution_count": 22,
   "id": "ef523632",
   "metadata": {},
   "outputs": [
    {
     "data": {
      "text/plain": [
       "array(['16-04-2024', '19-04-2024', '09-05-2024', '20-04-2024',\n",
       "       '17-04-2024'], dtype=object)"
      ]
     },
     "execution_count": 22,
     "metadata": {},
     "output_type": "execute_result"
    }
   ],
   "source": [
    "df.ingested_day.unique()"
   ]
  },
  {
   "cell_type": "code",
   "execution_count": 23,
   "id": "a6812a13",
   "metadata": {},
   "outputs": [
    {
     "data": {
      "text/plain": [
       "array(['16-04-2024'], dtype=object)"
      ]
     },
     "execution_count": 23,
     "metadata": {},
     "output_type": "execute_result"
    }
   ],
   "source": [
    "df_date = df.loc[df['ingested_day'] == '16-04-2024']\n",
    "\n",
    "df_date.ingested_day.unique()"
   ]
  },
  {
   "cell_type": "code",
   "execution_count": 24,
   "id": "68171db6",
   "metadata": {},
   "outputs": [],
   "source": [
    "dfs = [df.loc[df['ingested_day'] == date] for date in df.ingested_day.unique()]"
   ]
  },
  {
   "cell_type": "code",
   "execution_count": 25,
   "id": "b58de1b6",
   "metadata": {},
   "outputs": [
    {
     "data": {
      "text/html": [
       "<div>\n",
       "<style scoped>\n",
       "    .dataframe tbody tr th:only-of-type {\n",
       "        vertical-align: middle;\n",
       "    }\n",
       "\n",
       "    .dataframe tbody tr th {\n",
       "        vertical-align: top;\n",
       "    }\n",
       "\n",
       "    .dataframe thead th {\n",
       "        text-align: right;\n",
       "    }\n",
       "</style>\n",
       "<table border=\"1\" class=\"dataframe\">\n",
       "  <thead>\n",
       "    <tr style=\"text-align: right;\">\n",
       "      <th></th>\n",
       "      <th>name</th>\n",
       "      <th>category</th>\n",
       "      <th>subcategory</th>\n",
       "      <th>p_u_sense_iva</th>\n",
       "      <th>iva</th>\n",
       "      <th>format</th>\n",
       "      <th>ingested_day</th>\n",
       "      <th>category_weight</th>\n",
       "    </tr>\n",
       "  </thead>\n",
       "  <tbody>\n",
       "    <tr>\n",
       "      <th>104004</th>\n",
       "      <td>RAÏM NEGRE SENSE</td>\n",
       "      <td>Fruita i verdura</td>\n",
       "      <td>Fruita</td>\n",
       "      <td>2.63</td>\n",
       "      <td>4</td>\n",
       "      <td>ud</td>\n",
       "      <td>09-05-2024</td>\n",
       "      <td>0.225</td>\n",
       "    </tr>\n",
       "    <tr>\n",
       "      <th>104005</th>\n",
       "      <td>RAÏM NEGRE AMB</td>\n",
       "      <td>Fruita i verdura</td>\n",
       "      <td>Fruita</td>\n",
       "      <td>345.51</td>\n",
       "      <td>4</td>\n",
       "      <td>ud</td>\n",
       "      <td>09-05-2024</td>\n",
       "      <td>0.225</td>\n",
       "    </tr>\n",
       "    <tr>\n",
       "      <th>104006</th>\n",
       "      <td>SALSA DE MANGO</td>\n",
       "      <td>Fruita i verdura</td>\n",
       "      <td>Fruita</td>\n",
       "      <td>1.59</td>\n",
       "      <td>4</td>\n",
       "      <td>ud</td>\n",
       "      <td>09-05-2024</td>\n",
       "      <td>0.225</td>\n",
       "    </tr>\n",
       "    <tr>\n",
       "      <th>104007</th>\n",
       "      <td>GERDS</td>\n",
       "      <td>Fruita i verdura</td>\n",
       "      <td>Fruita</td>\n",
       "      <td>2.29</td>\n",
       "      <td>4</td>\n",
       "      <td>ud</td>\n",
       "      <td>09-05-2024</td>\n",
       "      <td>0.225</td>\n",
       "    </tr>\n",
       "    <tr>\n",
       "      <th>104008</th>\n",
       "      <td>KIWI VERD</td>\n",
       "      <td>Fruita i verdura</td>\n",
       "      <td>Fruita</td>\n",
       "      <td>2.69</td>\n",
       "      <td>4</td>\n",
       "      <td>ud</td>\n",
       "      <td>09-05-2024</td>\n",
       "      <td>0.225</td>\n",
       "    </tr>\n",
       "  </tbody>\n",
       "</table>\n",
       "</div>"
      ],
      "text/plain": [
       "                    name          category subcategory  p_u_sense_iva iva  \\\n",
       "104004  RAÏM NEGRE SENSE  Fruita i verdura      Fruita           2.63   4   \n",
       "104005    RAÏM NEGRE AMB  Fruita i verdura      Fruita         345.51   4   \n",
       "104006    SALSA DE MANGO  Fruita i verdura      Fruita           1.59   4   \n",
       "104007             GERDS  Fruita i verdura      Fruita           2.29   4   \n",
       "104008         KIWI VERD  Fruita i verdura      Fruita           2.69   4   \n",
       "\n",
       "       format ingested_day  category_weight  \n",
       "104004     ud   09-05-2024            0.225  \n",
       "104005     ud   09-05-2024            0.225  \n",
       "104006     ud   09-05-2024            0.225  \n",
       "104007     ud   09-05-2024            0.225  \n",
       "104008     ud   09-05-2024            0.225  "
      ]
     },
     "execution_count": 25,
     "metadata": {},
     "output_type": "execute_result"
    }
   ],
   "source": [
    "dfs[2].head()"
   ]
  },
  {
   "cell_type": "code",
   "execution_count": 26,
   "id": "feb66f0d",
   "metadata": {},
   "outputs": [
    {
     "data": {
      "text/plain": [
       "5"
      ]
     },
     "execution_count": 26,
     "metadata": {},
     "output_type": "execute_result"
    }
   ],
   "source": [
    "len(dfs)"
   ]
  },
  {
   "cell_type": "code",
   "execution_count": 27,
   "id": "8d8bb395",
   "metadata": {},
   "outputs": [],
   "source": [
    "import random"
   ]
  },
  {
   "cell_type": "code",
   "execution_count": 28,
   "id": "a7948588",
   "metadata": {},
   "outputs": [
    {
     "data": {
      "text/plain": [
       "0"
      ]
     },
     "execution_count": 28,
     "metadata": {},
     "output_type": "execute_result"
    }
   ],
   "source": [
    "random.randint(0, len(dfs)-1)"
   ]
  },
  {
   "cell_type": "code",
   "execution_count": 29,
   "id": "00c26985",
   "metadata": {},
   "outputs": [
    {
     "data": {
      "text/html": [
       "<div>\n",
       "<style scoped>\n",
       "    .dataframe tbody tr th:only-of-type {\n",
       "        vertical-align: middle;\n",
       "    }\n",
       "\n",
       "    .dataframe tbody tr th {\n",
       "        vertical-align: top;\n",
       "    }\n",
       "\n",
       "    .dataframe thead th {\n",
       "        text-align: right;\n",
       "    }\n",
       "</style>\n",
       "<table border=\"1\" class=\"dataframe\">\n",
       "  <thead>\n",
       "    <tr style=\"text-align: right;\">\n",
       "      <th></th>\n",
       "      <th>name</th>\n",
       "      <th>category</th>\n",
       "      <th>subcategory</th>\n",
       "      <th>p_u_sense_iva</th>\n",
       "      <th>iva</th>\n",
       "      <th>format</th>\n",
       "      <th>ingested_day</th>\n",
       "      <th>category_weight</th>\n",
       "    </tr>\n",
       "  </thead>\n",
       "  <tbody>\n",
       "    <tr>\n",
       "      <th>0</th>\n",
       "      <td>RAÏM NEGRE SENSE</td>\n",
       "      <td>Fruita i verdura</td>\n",
       "      <td>Fruita</td>\n",
       "      <td>2.63</td>\n",
       "      <td>4</td>\n",
       "      <td>ud</td>\n",
       "      <td>16-04-2024</td>\n",
       "      <td>0.225</td>\n",
       "    </tr>\n",
       "    <tr>\n",
       "      <th>1</th>\n",
       "      <td>RAÏM NEGRE AMB</td>\n",
       "      <td>Fruita i verdura</td>\n",
       "      <td>Fruita</td>\n",
       "      <td>345.51</td>\n",
       "      <td>4</td>\n",
       "      <td>ud</td>\n",
       "      <td>16-04-2024</td>\n",
       "      <td>0.225</td>\n",
       "    </tr>\n",
       "    <tr>\n",
       "      <th>2</th>\n",
       "      <td>SALSA DE MANGO</td>\n",
       "      <td>Fruita i verdura</td>\n",
       "      <td>Fruita</td>\n",
       "      <td>1.59</td>\n",
       "      <td>4</td>\n",
       "      <td>ud</td>\n",
       "      <td>16-04-2024</td>\n",
       "      <td>0.225</td>\n",
       "    </tr>\n",
       "    <tr>\n",
       "      <th>3</th>\n",
       "      <td>GERDS</td>\n",
       "      <td>Fruita i verdura</td>\n",
       "      <td>Fruita</td>\n",
       "      <td>2.29</td>\n",
       "      <td>4</td>\n",
       "      <td>ud</td>\n",
       "      <td>16-04-2024</td>\n",
       "      <td>0.225</td>\n",
       "    </tr>\n",
       "    <tr>\n",
       "      <th>4</th>\n",
       "      <td>KIWI VERD</td>\n",
       "      <td>Fruita i verdura</td>\n",
       "      <td>Fruita</td>\n",
       "      <td>2.69</td>\n",
       "      <td>4</td>\n",
       "      <td>ud</td>\n",
       "      <td>16-04-2024</td>\n",
       "      <td>0.225</td>\n",
       "    </tr>\n",
       "  </tbody>\n",
       "</table>\n",
       "</div>"
      ],
      "text/plain": [
       "               name          category subcategory  p_u_sense_iva iva format  \\\n",
       "0  RAÏM NEGRE SENSE  Fruita i verdura      Fruita           2.63   4     ud   \n",
       "1    RAÏM NEGRE AMB  Fruita i verdura      Fruita         345.51   4     ud   \n",
       "2    SALSA DE MANGO  Fruita i verdura      Fruita           1.59   4     ud   \n",
       "3             GERDS  Fruita i verdura      Fruita           2.29   4     ud   \n",
       "4         KIWI VERD  Fruita i verdura      Fruita           2.69   4     ud   \n",
       "\n",
       "  ingested_day  category_weight  \n",
       "0   16-04-2024            0.225  \n",
       "1   16-04-2024            0.225  \n",
       "2   16-04-2024            0.225  \n",
       "3   16-04-2024            0.225  \n",
       "4   16-04-2024            0.225  "
      ]
     },
     "execution_count": 29,
     "metadata": {},
     "output_type": "execute_result"
    }
   ],
   "source": [
    "random_date_df = dfs[random.randint(0, len(dfs)-1)]\n",
    "random_date_df.head()"
   ]
  },
  {
   "cell_type": "markdown",
   "id": "8c21bd33",
   "metadata": {
    "id": "8c21bd33"
   },
   "source": [
    "#### Generar tiquets de mostra\n",
    "- Fem un tiquet amb n productes aleatoris, en aquest cas se'n generen 15.\n",
    "- Es generen amb les proporcions que hem determinat anteriorment.\n",
    "- Es generaran d'un dia aleatori."
   ]
  },
  {
   "cell_type": "code",
   "execution_count": 30,
   "id": "44508a66",
   "metadata": {
    "colab": {
     "base_uri": "https://localhost:8080/",
     "height": 520
    },
    "executionInfo": {
     "elapsed": 14,
     "status": "ok",
     "timestamp": 1713517094825,
     "user": {
      "displayName": "Jaume Juan i Pérez",
      "userId": "13047725848368858602"
     },
     "user_tz": -120
    },
    "id": "44508a66",
    "outputId": "81dc70bb-91ea-421c-dd84-88f7cd2c323f"
   },
   "outputs": [
    {
     "data": {
      "text/html": [
       "<div>\n",
       "<style scoped>\n",
       "    .dataframe tbody tr th:only-of-type {\n",
       "        vertical-align: middle;\n",
       "    }\n",
       "\n",
       "    .dataframe tbody tr th {\n",
       "        vertical-align: top;\n",
       "    }\n",
       "\n",
       "    .dataframe thead th {\n",
       "        text-align: right;\n",
       "    }\n",
       "</style>\n",
       "<table border=\"1\" class=\"dataframe\">\n",
       "  <thead>\n",
       "    <tr style=\"text-align: right;\">\n",
       "      <th></th>\n",
       "      <th>name</th>\n",
       "      <th>category</th>\n",
       "      <th>subcategory</th>\n",
       "      <th>p_u_sense_iva</th>\n",
       "      <th>iva</th>\n",
       "      <th>format</th>\n",
       "      <th>ingested_day</th>\n",
       "      <th>category_weight</th>\n",
       "    </tr>\n",
       "  </thead>\n",
       "  <tbody>\n",
       "    <tr>\n",
       "      <th>30882</th>\n",
       "      <td>NYOQUIS</td>\n",
       "      <td>Congelats</td>\n",
       "      <td>Arròs i pasta</td>\n",
       "      <td>2.38</td>\n",
       "      <td>10</td>\n",
       "      <td>ud</td>\n",
       "      <td>16-04-2024</td>\n",
       "      <td>0.225</td>\n",
       "    </tr>\n",
       "    <tr>\n",
       "      <th>29705</th>\n",
       "      <td>PIZZES TOMÀQUET</td>\n",
       "      <td>Congelats</td>\n",
       "      <td>Pizzes</td>\n",
       "      <td>1.80</td>\n",
       "      <td>10</td>\n",
       "      <td>ud</td>\n",
       "      <td>16-04-2024</td>\n",
       "      <td>0.225</td>\n",
       "    </tr>\n",
       "    <tr>\n",
       "      <th>29883</th>\n",
       "      <td>GELAT AMETLLAT</td>\n",
       "      <td>Congelats</td>\n",
       "      <td>Gelats</td>\n",
       "      <td>2.10</td>\n",
       "      <td>10</td>\n",
       "      <td>ud</td>\n",
       "      <td>16-04-2024</td>\n",
       "      <td>0.225</td>\n",
       "    </tr>\n",
       "    <tr>\n",
       "      <th>39775</th>\n",
       "      <td>LOT DONA JOVAN</td>\n",
       "      <td>Cura facial i corporal</td>\n",
       "      <td>Perfum i colònia</td>\n",
       "      <td>10.50</td>\n",
       "      <td>21</td>\n",
       "      <td>ud</td>\n",
       "      <td>16-04-2024</td>\n",
       "      <td>0.010</td>\n",
       "    </tr>\n",
       "    <tr>\n",
       "      <th>31322</th>\n",
       "      <td>GRANISSAT</td>\n",
       "      <td>Congelats</td>\n",
       "      <td>Gelats</td>\n",
       "      <td>2.05</td>\n",
       "      <td>10</td>\n",
       "      <td>ud</td>\n",
       "      <td>16-04-2024</td>\n",
       "      <td>0.225</td>\n",
       "    </tr>\n",
       "    <tr>\n",
       "      <th>31442</th>\n",
       "      <td>CALAMARSÓ</td>\n",
       "      <td>Congelats</td>\n",
       "      <td>Peix</td>\n",
       "      <td>3.75</td>\n",
       "      <td>10</td>\n",
       "      <td>ud</td>\n",
       "      <td>16-04-2024</td>\n",
       "      <td>0.225</td>\n",
       "    </tr>\n",
       "    <tr>\n",
       "      <th>31467</th>\n",
       "      <td>PIZZA IBÈRICA</td>\n",
       "      <td>Congelats</td>\n",
       "      <td>Pizzes</td>\n",
       "      <td>2.00</td>\n",
       "      <td>10</td>\n",
       "      <td>ud</td>\n",
       "      <td>16-04-2024</td>\n",
       "      <td>0.225</td>\n",
       "    </tr>\n",
       "    <tr>\n",
       "      <th>11115</th>\n",
       "      <td>FORMATGE</td>\n",
       "      <td>Xarcuteria i formatges</td>\n",
       "      <td>Formatge d'untar i fresc</td>\n",
       "      <td>1.70</td>\n",
       "      <td>4</td>\n",
       "      <td>ud</td>\n",
       "      <td>16-04-2024</td>\n",
       "      <td>0.070</td>\n",
       "    </tr>\n",
       "    <tr>\n",
       "      <th>8619</th>\n",
       "      <td>REDUCCIÓ</td>\n",
       "      <td>Oli, espècies i salses</td>\n",
       "      <td>Oli, vinagre i sal</td>\n",
       "      <td>2.00</td>\n",
       "      <td>10</td>\n",
       "      <td>ud</td>\n",
       "      <td>16-04-2024</td>\n",
       "      <td>0.060</td>\n",
       "    </tr>\n",
       "    <tr>\n",
       "      <th>28781</th>\n",
       "      <td>CARCASSA</td>\n",
       "      <td>Carn</td>\n",
       "      <td>Aus i pollastre</td>\n",
       "      <td>1.88</td>\n",
       "      <td>10</td>\n",
       "      <td>ud</td>\n",
       "      <td>16-04-2024</td>\n",
       "      <td>0.060</td>\n",
       "    </tr>\n",
       "    <tr>\n",
       "      <th>45895</th>\n",
       "      <td>GEL PROTECCIÓ</td>\n",
       "      <td>Cura facial i corporal</td>\n",
       "      <td>Protector solar i crema postsolar</td>\n",
       "      <td>6.00</td>\n",
       "      <td>21</td>\n",
       "      <td>ud</td>\n",
       "      <td>16-04-2024</td>\n",
       "      <td>0.010</td>\n",
       "    </tr>\n",
       "    <tr>\n",
       "      <th>82</th>\n",
       "      <td>AMANIDA DE PATATA</td>\n",
       "      <td>Fruita i verdura</td>\n",
       "      <td>Enciam i amanida preparada</td>\n",
       "      <td>2.75</td>\n",
       "      <td>10</td>\n",
       "      <td>ud</td>\n",
       "      <td>16-04-2024</td>\n",
       "      <td>0.225</td>\n",
       "    </tr>\n",
       "    <tr>\n",
       "      <th>2768</th>\n",
       "      <td>ARRÒS AMB LLET</td>\n",
       "      <td>Postres i iogurts</td>\n",
       "      <td>Gelatina i altres postres</td>\n",
       "      <td>1.20</td>\n",
       "      <td>10</td>\n",
       "      <td>ud</td>\n",
       "      <td>16-04-2024</td>\n",
       "      <td>0.060</td>\n",
       "    </tr>\n",
       "    <tr>\n",
       "      <th>32581</th>\n",
       "      <td>MONGETA TENDRA</td>\n",
       "      <td>Congelats</td>\n",
       "      <td>Verdura</td>\n",
       "      <td>1.05</td>\n",
       "      <td>4</td>\n",
       "      <td>kg</td>\n",
       "      <td>16-04-2024</td>\n",
       "      <td>0.225</td>\n",
       "    </tr>\n",
       "    <tr>\n",
       "      <th>29525</th>\n",
       "      <td>TUBETS HACENDADO</td>\n",
       "      <td>Congelats</td>\n",
       "      <td>Gelats</td>\n",
       "      <td>1.53</td>\n",
       "      <td>10</td>\n",
       "      <td>ud</td>\n",
       "      <td>16-04-2024</td>\n",
       "      <td>0.225</td>\n",
       "    </tr>\n",
       "  </tbody>\n",
       "</table>\n",
       "</div>"
      ],
      "text/plain": [
       "                    name                category  \\\n",
       "30882            NYOQUIS               Congelats   \n",
       "29705    PIZZES TOMÀQUET               Congelats   \n",
       "29883     GELAT AMETLLAT               Congelats   \n",
       "39775     LOT DONA JOVAN  Cura facial i corporal   \n",
       "31322          GRANISSAT               Congelats   \n",
       "31442          CALAMARSÓ               Congelats   \n",
       "31467      PIZZA IBÈRICA               Congelats   \n",
       "11115           FORMATGE  Xarcuteria i formatges   \n",
       "8619            REDUCCIÓ  Oli, espècies i salses   \n",
       "28781           CARCASSA                    Carn   \n",
       "45895      GEL PROTECCIÓ  Cura facial i corporal   \n",
       "82     AMANIDA DE PATATA        Fruita i verdura   \n",
       "2768      ARRÒS AMB LLET       Postres i iogurts   \n",
       "32581     MONGETA TENDRA               Congelats   \n",
       "29525   TUBETS HACENDADO               Congelats   \n",
       "\n",
       "                             subcategory  p_u_sense_iva iva format  \\\n",
       "30882                      Arròs i pasta           2.38  10     ud   \n",
       "29705                             Pizzes           1.80  10     ud   \n",
       "29883                             Gelats           2.10  10     ud   \n",
       "39775                   Perfum i colònia          10.50  21     ud   \n",
       "31322                             Gelats           2.05  10     ud   \n",
       "31442                               Peix           3.75  10     ud   \n",
       "31467                             Pizzes           2.00  10     ud   \n",
       "11115           Formatge d'untar i fresc           1.70   4     ud   \n",
       "8619                  Oli, vinagre i sal           2.00  10     ud   \n",
       "28781                    Aus i pollastre           1.88  10     ud   \n",
       "45895  Protector solar i crema postsolar           6.00  21     ud   \n",
       "82            Enciam i amanida preparada           2.75  10     ud   \n",
       "2768           Gelatina i altres postres           1.20  10     ud   \n",
       "32581                            Verdura           1.05   4     kg   \n",
       "29525                             Gelats           1.53  10     ud   \n",
       "\n",
       "      ingested_day  category_weight  \n",
       "30882   16-04-2024            0.225  \n",
       "29705   16-04-2024            0.225  \n",
       "29883   16-04-2024            0.225  \n",
       "39775   16-04-2024            0.010  \n",
       "31322   16-04-2024            0.225  \n",
       "31442   16-04-2024            0.225  \n",
       "31467   16-04-2024            0.225  \n",
       "11115   16-04-2024            0.070  \n",
       "8619    16-04-2024            0.060  \n",
       "28781   16-04-2024            0.060  \n",
       "45895   16-04-2024            0.010  \n",
       "82      16-04-2024            0.225  \n",
       "2768    16-04-2024            0.060  \n",
       "32581   16-04-2024            0.225  \n",
       "29525   16-04-2024            0.225  "
      ]
     },
     "execution_count": 30,
     "metadata": {},
     "output_type": "execute_result"
    }
   ],
   "source": [
    "np.random.seed(88)\n",
    "def shop(n_products):\n",
    "    # Fem el tiquet del primer dia que tinguem: (dfs[0])\n",
    "    return dfs[0].sample(n=n_products, weights='category_weight')\n",
    "\n",
    "tiquet = shop(15)\n",
    "tiquet"
   ]
  },
  {
   "cell_type": "markdown",
   "id": "c40fb483",
   "metadata": {
    "id": "c40fb483"
   },
   "source": [
    "#### Generem les quantitats de compra de cada producte\n",
    "- Creació del atribut quantitat:\n",
    "    - Si és producte unitari, agafem una quantitat aleatoria de 1 a 5, assignant un 70% de probabilitats de ser 1 i un 30% de probabilitats de ser 2-5.\n",
    "        - Això ho fem perquè creiem que normalment sempre es compra 1 unitat de cada producte i menys sovint, més unitats.\n",
    "\n",
    "```python\n",
    "np.random.choice([1, np.random.randint(2, 6)], p=[0.7, 0.3])\n",
    "```\n",
    "\n",
    "- Es crea un array amb els números [1,x] on $x={2,3,4,5}$ i s'escull un dels dos nombres amb la probabilitat especificada anteriorment.\n",
    "\n",
    "    - Si el format és d'un producte amb pes, agafem un numero aleatori entre 0.1 (significant 100g &rarr; 0.1kg) i 1.5 (significant 1500g &rarr; 1.5kg) i com que el preu és `€/kg`, ja tindríem el preu final.\n",
    "\n",
    "```python\n",
    "round(np.random.uniform(0.1, 1.5), 3)\n",
    "```"
   ]
  },
  {
   "cell_type": "code",
   "execution_count": 31,
   "id": "f498ee42",
   "metadata": {
    "colab": {
     "base_uri": "https://localhost:8080/",
     "height": 520
    },
    "executionInfo": {
     "elapsed": 14,
     "status": "ok",
     "timestamp": 1713517094825,
     "user": {
      "displayName": "Jaume Juan i Pérez",
      "userId": "13047725848368858602"
     },
     "user_tz": -120
    },
    "id": "f498ee42",
    "outputId": "9ecccc9b-ede5-4c38-a454-2a7547cbe3bb"
   },
   "outputs": [
    {
     "data": {
      "text/html": [
       "<div>\n",
       "<style scoped>\n",
       "    .dataframe tbody tr th:only-of-type {\n",
       "        vertical-align: middle;\n",
       "    }\n",
       "\n",
       "    .dataframe tbody tr th {\n",
       "        vertical-align: top;\n",
       "    }\n",
       "\n",
       "    .dataframe thead th {\n",
       "        text-align: right;\n",
       "    }\n",
       "</style>\n",
       "<table border=\"1\" class=\"dataframe\">\n",
       "  <thead>\n",
       "    <tr style=\"text-align: right;\">\n",
       "      <th></th>\n",
       "      <th>name</th>\n",
       "      <th>category</th>\n",
       "      <th>subcategory</th>\n",
       "      <th>p_u_sense_iva</th>\n",
       "      <th>iva</th>\n",
       "      <th>format</th>\n",
       "      <th>ingested_day</th>\n",
       "      <th>category_weight</th>\n",
       "      <th>qty</th>\n",
       "    </tr>\n",
       "  </thead>\n",
       "  <tbody>\n",
       "    <tr>\n",
       "      <th>30882</th>\n",
       "      <td>NYOQUIS</td>\n",
       "      <td>Congelats</td>\n",
       "      <td>Arròs i pasta</td>\n",
       "      <td>2.38</td>\n",
       "      <td>10</td>\n",
       "      <td>ud</td>\n",
       "      <td>16-04-2024</td>\n",
       "      <td>0.225</td>\n",
       "      <td>3.000</td>\n",
       "    </tr>\n",
       "    <tr>\n",
       "      <th>29705</th>\n",
       "      <td>PIZZES TOMÀQUET</td>\n",
       "      <td>Congelats</td>\n",
       "      <td>Pizzes</td>\n",
       "      <td>1.80</td>\n",
       "      <td>10</td>\n",
       "      <td>ud</td>\n",
       "      <td>16-04-2024</td>\n",
       "      <td>0.225</td>\n",
       "      <td>1.000</td>\n",
       "    </tr>\n",
       "    <tr>\n",
       "      <th>29883</th>\n",
       "      <td>GELAT AMETLLAT</td>\n",
       "      <td>Congelats</td>\n",
       "      <td>Gelats</td>\n",
       "      <td>2.10</td>\n",
       "      <td>10</td>\n",
       "      <td>ud</td>\n",
       "      <td>16-04-2024</td>\n",
       "      <td>0.225</td>\n",
       "      <td>2.000</td>\n",
       "    </tr>\n",
       "    <tr>\n",
       "      <th>39775</th>\n",
       "      <td>LOT DONA JOVAN</td>\n",
       "      <td>Cura facial i corporal</td>\n",
       "      <td>Perfum i colònia</td>\n",
       "      <td>10.50</td>\n",
       "      <td>21</td>\n",
       "      <td>ud</td>\n",
       "      <td>16-04-2024</td>\n",
       "      <td>0.010</td>\n",
       "      <td>3.000</td>\n",
       "    </tr>\n",
       "    <tr>\n",
       "      <th>31322</th>\n",
       "      <td>GRANISSAT</td>\n",
       "      <td>Congelats</td>\n",
       "      <td>Gelats</td>\n",
       "      <td>2.05</td>\n",
       "      <td>10</td>\n",
       "      <td>ud</td>\n",
       "      <td>16-04-2024</td>\n",
       "      <td>0.225</td>\n",
       "      <td>1.000</td>\n",
       "    </tr>\n",
       "    <tr>\n",
       "      <th>31442</th>\n",
       "      <td>CALAMARSÓ</td>\n",
       "      <td>Congelats</td>\n",
       "      <td>Peix</td>\n",
       "      <td>3.75</td>\n",
       "      <td>10</td>\n",
       "      <td>ud</td>\n",
       "      <td>16-04-2024</td>\n",
       "      <td>0.225</td>\n",
       "      <td>1.000</td>\n",
       "    </tr>\n",
       "    <tr>\n",
       "      <th>31467</th>\n",
       "      <td>PIZZA IBÈRICA</td>\n",
       "      <td>Congelats</td>\n",
       "      <td>Pizzes</td>\n",
       "      <td>2.00</td>\n",
       "      <td>10</td>\n",
       "      <td>ud</td>\n",
       "      <td>16-04-2024</td>\n",
       "      <td>0.225</td>\n",
       "      <td>1.000</td>\n",
       "    </tr>\n",
       "    <tr>\n",
       "      <th>11115</th>\n",
       "      <td>FORMATGE</td>\n",
       "      <td>Xarcuteria i formatges</td>\n",
       "      <td>Formatge d'untar i fresc</td>\n",
       "      <td>1.70</td>\n",
       "      <td>4</td>\n",
       "      <td>ud</td>\n",
       "      <td>16-04-2024</td>\n",
       "      <td>0.070</td>\n",
       "      <td>1.000</td>\n",
       "    </tr>\n",
       "    <tr>\n",
       "      <th>8619</th>\n",
       "      <td>REDUCCIÓ</td>\n",
       "      <td>Oli, espècies i salses</td>\n",
       "      <td>Oli, vinagre i sal</td>\n",
       "      <td>2.00</td>\n",
       "      <td>10</td>\n",
       "      <td>ud</td>\n",
       "      <td>16-04-2024</td>\n",
       "      <td>0.060</td>\n",
       "      <td>1.000</td>\n",
       "    </tr>\n",
       "    <tr>\n",
       "      <th>28781</th>\n",
       "      <td>CARCASSA</td>\n",
       "      <td>Carn</td>\n",
       "      <td>Aus i pollastre</td>\n",
       "      <td>1.88</td>\n",
       "      <td>10</td>\n",
       "      <td>ud</td>\n",
       "      <td>16-04-2024</td>\n",
       "      <td>0.060</td>\n",
       "      <td>1.000</td>\n",
       "    </tr>\n",
       "    <tr>\n",
       "      <th>45895</th>\n",
       "      <td>GEL PROTECCIÓ</td>\n",
       "      <td>Cura facial i corporal</td>\n",
       "      <td>Protector solar i crema postsolar</td>\n",
       "      <td>6.00</td>\n",
       "      <td>21</td>\n",
       "      <td>ud</td>\n",
       "      <td>16-04-2024</td>\n",
       "      <td>0.010</td>\n",
       "      <td>5.000</td>\n",
       "    </tr>\n",
       "    <tr>\n",
       "      <th>82</th>\n",
       "      <td>AMANIDA DE PATATA</td>\n",
       "      <td>Fruita i verdura</td>\n",
       "      <td>Enciam i amanida preparada</td>\n",
       "      <td>2.75</td>\n",
       "      <td>10</td>\n",
       "      <td>ud</td>\n",
       "      <td>16-04-2024</td>\n",
       "      <td>0.225</td>\n",
       "      <td>1.000</td>\n",
       "    </tr>\n",
       "    <tr>\n",
       "      <th>2768</th>\n",
       "      <td>ARRÒS AMB LLET</td>\n",
       "      <td>Postres i iogurts</td>\n",
       "      <td>Gelatina i altres postres</td>\n",
       "      <td>1.20</td>\n",
       "      <td>10</td>\n",
       "      <td>ud</td>\n",
       "      <td>16-04-2024</td>\n",
       "      <td>0.060</td>\n",
       "      <td>1.000</td>\n",
       "    </tr>\n",
       "    <tr>\n",
       "      <th>32581</th>\n",
       "      <td>MONGETA TENDRA</td>\n",
       "      <td>Congelats</td>\n",
       "      <td>Verdura</td>\n",
       "      <td>1.05</td>\n",
       "      <td>4</td>\n",
       "      <td>kg</td>\n",
       "      <td>16-04-2024</td>\n",
       "      <td>0.225</td>\n",
       "      <td>0.707</td>\n",
       "    </tr>\n",
       "    <tr>\n",
       "      <th>29525</th>\n",
       "      <td>TUBETS HACENDADO</td>\n",
       "      <td>Congelats</td>\n",
       "      <td>Gelats</td>\n",
       "      <td>1.53</td>\n",
       "      <td>10</td>\n",
       "      <td>ud</td>\n",
       "      <td>16-04-2024</td>\n",
       "      <td>0.225</td>\n",
       "      <td>1.000</td>\n",
       "    </tr>\n",
       "  </tbody>\n",
       "</table>\n",
       "</div>"
      ],
      "text/plain": [
       "                    name                category  \\\n",
       "30882            NYOQUIS               Congelats   \n",
       "29705    PIZZES TOMÀQUET               Congelats   \n",
       "29883     GELAT AMETLLAT               Congelats   \n",
       "39775     LOT DONA JOVAN  Cura facial i corporal   \n",
       "31322          GRANISSAT               Congelats   \n",
       "31442          CALAMARSÓ               Congelats   \n",
       "31467      PIZZA IBÈRICA               Congelats   \n",
       "11115           FORMATGE  Xarcuteria i formatges   \n",
       "8619            REDUCCIÓ  Oli, espècies i salses   \n",
       "28781           CARCASSA                    Carn   \n",
       "45895      GEL PROTECCIÓ  Cura facial i corporal   \n",
       "82     AMANIDA DE PATATA        Fruita i verdura   \n",
       "2768      ARRÒS AMB LLET       Postres i iogurts   \n",
       "32581     MONGETA TENDRA               Congelats   \n",
       "29525   TUBETS HACENDADO               Congelats   \n",
       "\n",
       "                             subcategory  p_u_sense_iva iva format  \\\n",
       "30882                      Arròs i pasta           2.38  10     ud   \n",
       "29705                             Pizzes           1.80  10     ud   \n",
       "29883                             Gelats           2.10  10     ud   \n",
       "39775                   Perfum i colònia          10.50  21     ud   \n",
       "31322                             Gelats           2.05  10     ud   \n",
       "31442                               Peix           3.75  10     ud   \n",
       "31467                             Pizzes           2.00  10     ud   \n",
       "11115           Formatge d'untar i fresc           1.70   4     ud   \n",
       "8619                  Oli, vinagre i sal           2.00  10     ud   \n",
       "28781                    Aus i pollastre           1.88  10     ud   \n",
       "45895  Protector solar i crema postsolar           6.00  21     ud   \n",
       "82            Enciam i amanida preparada           2.75  10     ud   \n",
       "2768           Gelatina i altres postres           1.20  10     ud   \n",
       "32581                            Verdura           1.05   4     kg   \n",
       "29525                             Gelats           1.53  10     ud   \n",
       "\n",
       "      ingested_day  category_weight    qty  \n",
       "30882   16-04-2024            0.225  3.000  \n",
       "29705   16-04-2024            0.225  1.000  \n",
       "29883   16-04-2024            0.225  2.000  \n",
       "39775   16-04-2024            0.010  3.000  \n",
       "31322   16-04-2024            0.225  1.000  \n",
       "31442   16-04-2024            0.225  1.000  \n",
       "31467   16-04-2024            0.225  1.000  \n",
       "11115   16-04-2024            0.070  1.000  \n",
       "8619    16-04-2024            0.060  1.000  \n",
       "28781   16-04-2024            0.060  1.000  \n",
       "45895   16-04-2024            0.010  5.000  \n",
       "82      16-04-2024            0.225  1.000  \n",
       "2768    16-04-2024            0.060  1.000  \n",
       "32581   16-04-2024            0.225  0.707  \n",
       "29525   16-04-2024            0.225  1.000  "
      ]
     },
     "execution_count": 31,
     "metadata": {},
     "output_type": "execute_result"
    }
   ],
   "source": [
    "np.random.seed(2334)\n",
    "\n",
    "tiquet['qty'] = tiquet.apply(lambda x: round(np.random.uniform(0.1, 1.5), 3) if x.format == 'kg' else np.random.choice([1, np.random.randint(2, 6)], p=[0.7, 0.3]), axis=1)\n",
    "tiquet"
   ]
  },
  {
   "cell_type": "markdown",
   "id": "03170427",
   "metadata": {
    "id": "03170427"
   },
   "source": [
    "#### Afegir el preu sense iva\n",
    "- Un cop tenim la quantitat que `s'ha comprat` de cada producte, calculem el preu sense iva multiplicant el preu unitari sense iva per la quantitat.\n",
    "- Serveix per `ud` i `kg`."
   ]
  },
  {
   "cell_type": "code",
   "execution_count": 32,
   "id": "5f6871a2",
   "metadata": {
    "colab": {
     "base_uri": "https://localhost:8080/",
     "height": 520
    },
    "executionInfo": {
     "elapsed": 13,
     "status": "ok",
     "timestamp": 1713517094825,
     "user": {
      "displayName": "Jaume Juan i Pérez",
      "userId": "13047725848368858602"
     },
     "user_tz": -120
    },
    "id": "5f6871a2",
    "outputId": "fe8e65a3-94ed-4e4c-b1f6-29d787e8c9c8"
   },
   "outputs": [
    {
     "data": {
      "text/html": [
       "<div>\n",
       "<style scoped>\n",
       "    .dataframe tbody tr th:only-of-type {\n",
       "        vertical-align: middle;\n",
       "    }\n",
       "\n",
       "    .dataframe tbody tr th {\n",
       "        vertical-align: top;\n",
       "    }\n",
       "\n",
       "    .dataframe thead th {\n",
       "        text-align: right;\n",
       "    }\n",
       "</style>\n",
       "<table border=\"1\" class=\"dataframe\">\n",
       "  <thead>\n",
       "    <tr style=\"text-align: right;\">\n",
       "      <th></th>\n",
       "      <th>name</th>\n",
       "      <th>category</th>\n",
       "      <th>subcategory</th>\n",
       "      <th>p_u_sense_iva</th>\n",
       "      <th>iva</th>\n",
       "      <th>format</th>\n",
       "      <th>ingested_day</th>\n",
       "      <th>category_weight</th>\n",
       "      <th>qty</th>\n",
       "      <th>preu_sense_iva</th>\n",
       "    </tr>\n",
       "  </thead>\n",
       "  <tbody>\n",
       "    <tr>\n",
       "      <th>30882</th>\n",
       "      <td>NYOQUIS</td>\n",
       "      <td>Congelats</td>\n",
       "      <td>Arròs i pasta</td>\n",
       "      <td>2.38</td>\n",
       "      <td>10</td>\n",
       "      <td>ud</td>\n",
       "      <td>16-04-2024</td>\n",
       "      <td>0.225</td>\n",
       "      <td>3.000</td>\n",
       "      <td>7.14</td>\n",
       "    </tr>\n",
       "    <tr>\n",
       "      <th>29705</th>\n",
       "      <td>PIZZES TOMÀQUET</td>\n",
       "      <td>Congelats</td>\n",
       "      <td>Pizzes</td>\n",
       "      <td>1.80</td>\n",
       "      <td>10</td>\n",
       "      <td>ud</td>\n",
       "      <td>16-04-2024</td>\n",
       "      <td>0.225</td>\n",
       "      <td>1.000</td>\n",
       "      <td>1.80</td>\n",
       "    </tr>\n",
       "    <tr>\n",
       "      <th>29883</th>\n",
       "      <td>GELAT AMETLLAT</td>\n",
       "      <td>Congelats</td>\n",
       "      <td>Gelats</td>\n",
       "      <td>2.10</td>\n",
       "      <td>10</td>\n",
       "      <td>ud</td>\n",
       "      <td>16-04-2024</td>\n",
       "      <td>0.225</td>\n",
       "      <td>2.000</td>\n",
       "      <td>4.20</td>\n",
       "    </tr>\n",
       "    <tr>\n",
       "      <th>39775</th>\n",
       "      <td>LOT DONA JOVAN</td>\n",
       "      <td>Cura facial i corporal</td>\n",
       "      <td>Perfum i colònia</td>\n",
       "      <td>10.50</td>\n",
       "      <td>21</td>\n",
       "      <td>ud</td>\n",
       "      <td>16-04-2024</td>\n",
       "      <td>0.010</td>\n",
       "      <td>3.000</td>\n",
       "      <td>31.50</td>\n",
       "    </tr>\n",
       "    <tr>\n",
       "      <th>31322</th>\n",
       "      <td>GRANISSAT</td>\n",
       "      <td>Congelats</td>\n",
       "      <td>Gelats</td>\n",
       "      <td>2.05</td>\n",
       "      <td>10</td>\n",
       "      <td>ud</td>\n",
       "      <td>16-04-2024</td>\n",
       "      <td>0.225</td>\n",
       "      <td>1.000</td>\n",
       "      <td>2.05</td>\n",
       "    </tr>\n",
       "    <tr>\n",
       "      <th>31442</th>\n",
       "      <td>CALAMARSÓ</td>\n",
       "      <td>Congelats</td>\n",
       "      <td>Peix</td>\n",
       "      <td>3.75</td>\n",
       "      <td>10</td>\n",
       "      <td>ud</td>\n",
       "      <td>16-04-2024</td>\n",
       "      <td>0.225</td>\n",
       "      <td>1.000</td>\n",
       "      <td>3.75</td>\n",
       "    </tr>\n",
       "    <tr>\n",
       "      <th>31467</th>\n",
       "      <td>PIZZA IBÈRICA</td>\n",
       "      <td>Congelats</td>\n",
       "      <td>Pizzes</td>\n",
       "      <td>2.00</td>\n",
       "      <td>10</td>\n",
       "      <td>ud</td>\n",
       "      <td>16-04-2024</td>\n",
       "      <td>0.225</td>\n",
       "      <td>1.000</td>\n",
       "      <td>2.00</td>\n",
       "    </tr>\n",
       "    <tr>\n",
       "      <th>11115</th>\n",
       "      <td>FORMATGE</td>\n",
       "      <td>Xarcuteria i formatges</td>\n",
       "      <td>Formatge d'untar i fresc</td>\n",
       "      <td>1.70</td>\n",
       "      <td>4</td>\n",
       "      <td>ud</td>\n",
       "      <td>16-04-2024</td>\n",
       "      <td>0.070</td>\n",
       "      <td>1.000</td>\n",
       "      <td>1.70</td>\n",
       "    </tr>\n",
       "    <tr>\n",
       "      <th>8619</th>\n",
       "      <td>REDUCCIÓ</td>\n",
       "      <td>Oli, espècies i salses</td>\n",
       "      <td>Oli, vinagre i sal</td>\n",
       "      <td>2.00</td>\n",
       "      <td>10</td>\n",
       "      <td>ud</td>\n",
       "      <td>16-04-2024</td>\n",
       "      <td>0.060</td>\n",
       "      <td>1.000</td>\n",
       "      <td>2.00</td>\n",
       "    </tr>\n",
       "    <tr>\n",
       "      <th>28781</th>\n",
       "      <td>CARCASSA</td>\n",
       "      <td>Carn</td>\n",
       "      <td>Aus i pollastre</td>\n",
       "      <td>1.88</td>\n",
       "      <td>10</td>\n",
       "      <td>ud</td>\n",
       "      <td>16-04-2024</td>\n",
       "      <td>0.060</td>\n",
       "      <td>1.000</td>\n",
       "      <td>1.88</td>\n",
       "    </tr>\n",
       "    <tr>\n",
       "      <th>45895</th>\n",
       "      <td>GEL PROTECCIÓ</td>\n",
       "      <td>Cura facial i corporal</td>\n",
       "      <td>Protector solar i crema postsolar</td>\n",
       "      <td>6.00</td>\n",
       "      <td>21</td>\n",
       "      <td>ud</td>\n",
       "      <td>16-04-2024</td>\n",
       "      <td>0.010</td>\n",
       "      <td>5.000</td>\n",
       "      <td>30.00</td>\n",
       "    </tr>\n",
       "    <tr>\n",
       "      <th>82</th>\n",
       "      <td>AMANIDA DE PATATA</td>\n",
       "      <td>Fruita i verdura</td>\n",
       "      <td>Enciam i amanida preparada</td>\n",
       "      <td>2.75</td>\n",
       "      <td>10</td>\n",
       "      <td>ud</td>\n",
       "      <td>16-04-2024</td>\n",
       "      <td>0.225</td>\n",
       "      <td>1.000</td>\n",
       "      <td>2.75</td>\n",
       "    </tr>\n",
       "    <tr>\n",
       "      <th>2768</th>\n",
       "      <td>ARRÒS AMB LLET</td>\n",
       "      <td>Postres i iogurts</td>\n",
       "      <td>Gelatina i altres postres</td>\n",
       "      <td>1.20</td>\n",
       "      <td>10</td>\n",
       "      <td>ud</td>\n",
       "      <td>16-04-2024</td>\n",
       "      <td>0.060</td>\n",
       "      <td>1.000</td>\n",
       "      <td>1.20</td>\n",
       "    </tr>\n",
       "    <tr>\n",
       "      <th>32581</th>\n",
       "      <td>MONGETA TENDRA</td>\n",
       "      <td>Congelats</td>\n",
       "      <td>Verdura</td>\n",
       "      <td>1.05</td>\n",
       "      <td>4</td>\n",
       "      <td>kg</td>\n",
       "      <td>16-04-2024</td>\n",
       "      <td>0.225</td>\n",
       "      <td>0.707</td>\n",
       "      <td>0.74</td>\n",
       "    </tr>\n",
       "    <tr>\n",
       "      <th>29525</th>\n",
       "      <td>TUBETS HACENDADO</td>\n",
       "      <td>Congelats</td>\n",
       "      <td>Gelats</td>\n",
       "      <td>1.53</td>\n",
       "      <td>10</td>\n",
       "      <td>ud</td>\n",
       "      <td>16-04-2024</td>\n",
       "      <td>0.225</td>\n",
       "      <td>1.000</td>\n",
       "      <td>1.53</td>\n",
       "    </tr>\n",
       "  </tbody>\n",
       "</table>\n",
       "</div>"
      ],
      "text/plain": [
       "                    name                category  \\\n",
       "30882            NYOQUIS               Congelats   \n",
       "29705    PIZZES TOMÀQUET               Congelats   \n",
       "29883     GELAT AMETLLAT               Congelats   \n",
       "39775     LOT DONA JOVAN  Cura facial i corporal   \n",
       "31322          GRANISSAT               Congelats   \n",
       "31442          CALAMARSÓ               Congelats   \n",
       "31467      PIZZA IBÈRICA               Congelats   \n",
       "11115           FORMATGE  Xarcuteria i formatges   \n",
       "8619            REDUCCIÓ  Oli, espècies i salses   \n",
       "28781           CARCASSA                    Carn   \n",
       "45895      GEL PROTECCIÓ  Cura facial i corporal   \n",
       "82     AMANIDA DE PATATA        Fruita i verdura   \n",
       "2768      ARRÒS AMB LLET       Postres i iogurts   \n",
       "32581     MONGETA TENDRA               Congelats   \n",
       "29525   TUBETS HACENDADO               Congelats   \n",
       "\n",
       "                             subcategory  p_u_sense_iva iva format  \\\n",
       "30882                      Arròs i pasta           2.38  10     ud   \n",
       "29705                             Pizzes           1.80  10     ud   \n",
       "29883                             Gelats           2.10  10     ud   \n",
       "39775                   Perfum i colònia          10.50  21     ud   \n",
       "31322                             Gelats           2.05  10     ud   \n",
       "31442                               Peix           3.75  10     ud   \n",
       "31467                             Pizzes           2.00  10     ud   \n",
       "11115           Formatge d'untar i fresc           1.70   4     ud   \n",
       "8619                  Oli, vinagre i sal           2.00  10     ud   \n",
       "28781                    Aus i pollastre           1.88  10     ud   \n",
       "45895  Protector solar i crema postsolar           6.00  21     ud   \n",
       "82            Enciam i amanida preparada           2.75  10     ud   \n",
       "2768           Gelatina i altres postres           1.20  10     ud   \n",
       "32581                            Verdura           1.05   4     kg   \n",
       "29525                             Gelats           1.53  10     ud   \n",
       "\n",
       "      ingested_day  category_weight    qty  preu_sense_iva  \n",
       "30882   16-04-2024            0.225  3.000            7.14  \n",
       "29705   16-04-2024            0.225  1.000            1.80  \n",
       "29883   16-04-2024            0.225  2.000            4.20  \n",
       "39775   16-04-2024            0.010  3.000           31.50  \n",
       "31322   16-04-2024            0.225  1.000            2.05  \n",
       "31442   16-04-2024            0.225  1.000            3.75  \n",
       "31467   16-04-2024            0.225  1.000            2.00  \n",
       "11115   16-04-2024            0.070  1.000            1.70  \n",
       "8619    16-04-2024            0.060  1.000            2.00  \n",
       "28781   16-04-2024            0.060  1.000            1.88  \n",
       "45895   16-04-2024            0.010  5.000           30.00  \n",
       "82      16-04-2024            0.225  1.000            2.75  \n",
       "2768    16-04-2024            0.060  1.000            1.20  \n",
       "32581   16-04-2024            0.225  0.707            0.74  \n",
       "29525   16-04-2024            0.225  1.000            1.53  "
      ]
     },
     "execution_count": 32,
     "metadata": {},
     "output_type": "execute_result"
    }
   ],
   "source": [
    "tiquet['preu_sense_iva'] = (tiquet['p_u_sense_iva'] * tiquet['qty']).round(2)\n",
    "tiquet"
   ]
  },
  {
   "cell_type": "markdown",
   "id": "9251dadd",
   "metadata": {
    "id": "9251dadd"
   },
   "source": [
    "#### Afegir preu amb iva (unitar i total)\n",
    "- Per calcular el preu final de cada producte amb iva s'ha de multiplicar el preu sense iva per l'atribut `'i'` de l'objecte de `ivas` anomenat anteriorment.\n",
    "    - Si tenim 5€ sense iva i un iva del 10% &rarr; 5 * 1.1 = 5.5€ amb iva.\n",
    "\n",
    "#### Creem l'objecte `ìvas`\n",
    "- Amb tots els ivas del conjunt de dades, ja que pot variar (noves lleis, canvis, etc).\n",
    "- Fem que cada valor que farem servir per fer els càlculs tingui 3 decimals perquè al tiquet hi ha una presició de 2 decimals i així no perdem informació al fer els arrodoniments."
   ]
  },
  {
   "cell_type": "code",
   "execution_count": 33,
   "id": "5hScL-Jhmstg",
   "metadata": {
    "colab": {
     "base_uri": "https://localhost:8080/"
    },
    "executionInfo": {
     "elapsed": 12,
     "status": "ok",
     "timestamp": 1713517094825,
     "user": {
      "displayName": "Jaume Juan i Pérez",
      "userId": "13047725848368858602"
     },
     "user_tz": -120
    },
    "id": "5hScL-Jhmstg",
    "outputId": "0937cf0e-c0d5-40f8-8d15-3ea48bf0194b"
   },
   "outputs": [
    {
     "data": {
      "text/plain": [
       "array(['4', '10', '21'], dtype=object)"
      ]
     },
     "execution_count": 33,
     "metadata": {},
     "output_type": "execute_result"
    }
   ],
   "source": [
    "df.iva.unique()"
   ]
  },
  {
   "cell_type": "code",
   "execution_count": 34,
   "id": "FS7ret5CnF1u",
   "metadata": {
    "colab": {
     "base_uri": "https://localhost:8080/"
    },
    "executionInfo": {
     "elapsed": 11,
     "status": "ok",
     "timestamp": 1713517094825,
     "user": {
      "displayName": "Jaume Juan i Pérez",
      "userId": "13047725848368858602"
     },
     "user_tz": -120
    },
    "id": "FS7ret5CnF1u",
    "outputId": "3b772099-b525-4d96-86b7-325575bc24e9"
   },
   "outputs": [
    {
     "data": {
      "text/plain": [
       "{'4': {'d': 0.04, 'i': 1.04},\n",
       " '10': {'d': 0.1, 'i': 1.1},\n",
       " '21': {'d': 0.21, 'i': 1.21}}"
      ]
     },
     "execution_count": 34,
     "metadata": {},
     "output_type": "execute_result"
    }
   ],
   "source": [
    "ivas = { iva: { 'd': int(iva) / 100, 'i': (int(iva) +100) / 100 } for iva in df.iva.unique() }\n",
    "ivas"
   ]
  },
  {
   "cell_type": "code",
   "execution_count": 35,
   "id": "ef844845",
   "metadata": {
    "colab": {
     "base_uri": "https://localhost:8080/",
     "height": 520
    },
    "executionInfo": {
     "elapsed": 10,
     "status": "ok",
     "timestamp": 1713517094825,
     "user": {
      "displayName": "Jaume Juan i Pérez",
      "userId": "13047725848368858602"
     },
     "user_tz": -120
    },
    "id": "ef844845",
    "outputId": "dc0911b5-ce9b-420f-c923-62f8d79c84f6"
   },
   "outputs": [
    {
     "data": {
      "text/html": [
       "<div>\n",
       "<style scoped>\n",
       "    .dataframe tbody tr th:only-of-type {\n",
       "        vertical-align: middle;\n",
       "    }\n",
       "\n",
       "    .dataframe tbody tr th {\n",
       "        vertical-align: top;\n",
       "    }\n",
       "\n",
       "    .dataframe thead th {\n",
       "        text-align: right;\n",
       "    }\n",
       "</style>\n",
       "<table border=\"1\" class=\"dataframe\">\n",
       "  <thead>\n",
       "    <tr style=\"text-align: right;\">\n",
       "      <th></th>\n",
       "      <th>name</th>\n",
       "      <th>category</th>\n",
       "      <th>subcategory</th>\n",
       "      <th>p_u_sense_iva</th>\n",
       "      <th>iva</th>\n",
       "      <th>format</th>\n",
       "      <th>ingested_day</th>\n",
       "      <th>category_weight</th>\n",
       "      <th>qty</th>\n",
       "      <th>preu_sense_iva</th>\n",
       "      <th>preu_amb_iva</th>\n",
       "    </tr>\n",
       "  </thead>\n",
       "  <tbody>\n",
       "    <tr>\n",
       "      <th>30882</th>\n",
       "      <td>NYOQUIS</td>\n",
       "      <td>Congelats</td>\n",
       "      <td>Arròs i pasta</td>\n",
       "      <td>2.38</td>\n",
       "      <td>10</td>\n",
       "      <td>ud</td>\n",
       "      <td>16-04-2024</td>\n",
       "      <td>0.225</td>\n",
       "      <td>3.000</td>\n",
       "      <td>7.14</td>\n",
       "      <td>7.8540</td>\n",
       "    </tr>\n",
       "    <tr>\n",
       "      <th>29705</th>\n",
       "      <td>PIZZES TOMÀQUET</td>\n",
       "      <td>Congelats</td>\n",
       "      <td>Pizzes</td>\n",
       "      <td>1.80</td>\n",
       "      <td>10</td>\n",
       "      <td>ud</td>\n",
       "      <td>16-04-2024</td>\n",
       "      <td>0.225</td>\n",
       "      <td>1.000</td>\n",
       "      <td>1.80</td>\n",
       "      <td>1.9800</td>\n",
       "    </tr>\n",
       "    <tr>\n",
       "      <th>29883</th>\n",
       "      <td>GELAT AMETLLAT</td>\n",
       "      <td>Congelats</td>\n",
       "      <td>Gelats</td>\n",
       "      <td>2.10</td>\n",
       "      <td>10</td>\n",
       "      <td>ud</td>\n",
       "      <td>16-04-2024</td>\n",
       "      <td>0.225</td>\n",
       "      <td>2.000</td>\n",
       "      <td>4.20</td>\n",
       "      <td>4.6200</td>\n",
       "    </tr>\n",
       "    <tr>\n",
       "      <th>39775</th>\n",
       "      <td>LOT DONA JOVAN</td>\n",
       "      <td>Cura facial i corporal</td>\n",
       "      <td>Perfum i colònia</td>\n",
       "      <td>10.50</td>\n",
       "      <td>21</td>\n",
       "      <td>ud</td>\n",
       "      <td>16-04-2024</td>\n",
       "      <td>0.010</td>\n",
       "      <td>3.000</td>\n",
       "      <td>31.50</td>\n",
       "      <td>38.1150</td>\n",
       "    </tr>\n",
       "    <tr>\n",
       "      <th>31322</th>\n",
       "      <td>GRANISSAT</td>\n",
       "      <td>Congelats</td>\n",
       "      <td>Gelats</td>\n",
       "      <td>2.05</td>\n",
       "      <td>10</td>\n",
       "      <td>ud</td>\n",
       "      <td>16-04-2024</td>\n",
       "      <td>0.225</td>\n",
       "      <td>1.000</td>\n",
       "      <td>2.05</td>\n",
       "      <td>2.2550</td>\n",
       "    </tr>\n",
       "    <tr>\n",
       "      <th>31442</th>\n",
       "      <td>CALAMARSÓ</td>\n",
       "      <td>Congelats</td>\n",
       "      <td>Peix</td>\n",
       "      <td>3.75</td>\n",
       "      <td>10</td>\n",
       "      <td>ud</td>\n",
       "      <td>16-04-2024</td>\n",
       "      <td>0.225</td>\n",
       "      <td>1.000</td>\n",
       "      <td>3.75</td>\n",
       "      <td>4.1250</td>\n",
       "    </tr>\n",
       "    <tr>\n",
       "      <th>31467</th>\n",
       "      <td>PIZZA IBÈRICA</td>\n",
       "      <td>Congelats</td>\n",
       "      <td>Pizzes</td>\n",
       "      <td>2.00</td>\n",
       "      <td>10</td>\n",
       "      <td>ud</td>\n",
       "      <td>16-04-2024</td>\n",
       "      <td>0.225</td>\n",
       "      <td>1.000</td>\n",
       "      <td>2.00</td>\n",
       "      <td>2.2000</td>\n",
       "    </tr>\n",
       "    <tr>\n",
       "      <th>11115</th>\n",
       "      <td>FORMATGE</td>\n",
       "      <td>Xarcuteria i formatges</td>\n",
       "      <td>Formatge d'untar i fresc</td>\n",
       "      <td>1.70</td>\n",
       "      <td>4</td>\n",
       "      <td>ud</td>\n",
       "      <td>16-04-2024</td>\n",
       "      <td>0.070</td>\n",
       "      <td>1.000</td>\n",
       "      <td>1.70</td>\n",
       "      <td>1.7680</td>\n",
       "    </tr>\n",
       "    <tr>\n",
       "      <th>8619</th>\n",
       "      <td>REDUCCIÓ</td>\n",
       "      <td>Oli, espècies i salses</td>\n",
       "      <td>Oli, vinagre i sal</td>\n",
       "      <td>2.00</td>\n",
       "      <td>10</td>\n",
       "      <td>ud</td>\n",
       "      <td>16-04-2024</td>\n",
       "      <td>0.060</td>\n",
       "      <td>1.000</td>\n",
       "      <td>2.00</td>\n",
       "      <td>2.2000</td>\n",
       "    </tr>\n",
       "    <tr>\n",
       "      <th>28781</th>\n",
       "      <td>CARCASSA</td>\n",
       "      <td>Carn</td>\n",
       "      <td>Aus i pollastre</td>\n",
       "      <td>1.88</td>\n",
       "      <td>10</td>\n",
       "      <td>ud</td>\n",
       "      <td>16-04-2024</td>\n",
       "      <td>0.060</td>\n",
       "      <td>1.000</td>\n",
       "      <td>1.88</td>\n",
       "      <td>2.0680</td>\n",
       "    </tr>\n",
       "    <tr>\n",
       "      <th>45895</th>\n",
       "      <td>GEL PROTECCIÓ</td>\n",
       "      <td>Cura facial i corporal</td>\n",
       "      <td>Protector solar i crema postsolar</td>\n",
       "      <td>6.00</td>\n",
       "      <td>21</td>\n",
       "      <td>ud</td>\n",
       "      <td>16-04-2024</td>\n",
       "      <td>0.010</td>\n",
       "      <td>5.000</td>\n",
       "      <td>30.00</td>\n",
       "      <td>36.3000</td>\n",
       "    </tr>\n",
       "    <tr>\n",
       "      <th>82</th>\n",
       "      <td>AMANIDA DE PATATA</td>\n",
       "      <td>Fruita i verdura</td>\n",
       "      <td>Enciam i amanida preparada</td>\n",
       "      <td>2.75</td>\n",
       "      <td>10</td>\n",
       "      <td>ud</td>\n",
       "      <td>16-04-2024</td>\n",
       "      <td>0.225</td>\n",
       "      <td>1.000</td>\n",
       "      <td>2.75</td>\n",
       "      <td>3.0250</td>\n",
       "    </tr>\n",
       "    <tr>\n",
       "      <th>2768</th>\n",
       "      <td>ARRÒS AMB LLET</td>\n",
       "      <td>Postres i iogurts</td>\n",
       "      <td>Gelatina i altres postres</td>\n",
       "      <td>1.20</td>\n",
       "      <td>10</td>\n",
       "      <td>ud</td>\n",
       "      <td>16-04-2024</td>\n",
       "      <td>0.060</td>\n",
       "      <td>1.000</td>\n",
       "      <td>1.20</td>\n",
       "      <td>1.3200</td>\n",
       "    </tr>\n",
       "    <tr>\n",
       "      <th>32581</th>\n",
       "      <td>MONGETA TENDRA</td>\n",
       "      <td>Congelats</td>\n",
       "      <td>Verdura</td>\n",
       "      <td>1.05</td>\n",
       "      <td>4</td>\n",
       "      <td>kg</td>\n",
       "      <td>16-04-2024</td>\n",
       "      <td>0.225</td>\n",
       "      <td>0.707</td>\n",
       "      <td>0.74</td>\n",
       "      <td>0.7696</td>\n",
       "    </tr>\n",
       "    <tr>\n",
       "      <th>29525</th>\n",
       "      <td>TUBETS HACENDADO</td>\n",
       "      <td>Congelats</td>\n",
       "      <td>Gelats</td>\n",
       "      <td>1.53</td>\n",
       "      <td>10</td>\n",
       "      <td>ud</td>\n",
       "      <td>16-04-2024</td>\n",
       "      <td>0.225</td>\n",
       "      <td>1.000</td>\n",
       "      <td>1.53</td>\n",
       "      <td>1.6830</td>\n",
       "    </tr>\n",
       "  </tbody>\n",
       "</table>\n",
       "</div>"
      ],
      "text/plain": [
       "                    name                category  \\\n",
       "30882            NYOQUIS               Congelats   \n",
       "29705    PIZZES TOMÀQUET               Congelats   \n",
       "29883     GELAT AMETLLAT               Congelats   \n",
       "39775     LOT DONA JOVAN  Cura facial i corporal   \n",
       "31322          GRANISSAT               Congelats   \n",
       "31442          CALAMARSÓ               Congelats   \n",
       "31467      PIZZA IBÈRICA               Congelats   \n",
       "11115           FORMATGE  Xarcuteria i formatges   \n",
       "8619            REDUCCIÓ  Oli, espècies i salses   \n",
       "28781           CARCASSA                    Carn   \n",
       "45895      GEL PROTECCIÓ  Cura facial i corporal   \n",
       "82     AMANIDA DE PATATA        Fruita i verdura   \n",
       "2768      ARRÒS AMB LLET       Postres i iogurts   \n",
       "32581     MONGETA TENDRA               Congelats   \n",
       "29525   TUBETS HACENDADO               Congelats   \n",
       "\n",
       "                             subcategory  p_u_sense_iva iva format  \\\n",
       "30882                      Arròs i pasta           2.38  10     ud   \n",
       "29705                             Pizzes           1.80  10     ud   \n",
       "29883                             Gelats           2.10  10     ud   \n",
       "39775                   Perfum i colònia          10.50  21     ud   \n",
       "31322                             Gelats           2.05  10     ud   \n",
       "31442                               Peix           3.75  10     ud   \n",
       "31467                             Pizzes           2.00  10     ud   \n",
       "11115           Formatge d'untar i fresc           1.70   4     ud   \n",
       "8619                  Oli, vinagre i sal           2.00  10     ud   \n",
       "28781                    Aus i pollastre           1.88  10     ud   \n",
       "45895  Protector solar i crema postsolar           6.00  21     ud   \n",
       "82            Enciam i amanida preparada           2.75  10     ud   \n",
       "2768           Gelatina i altres postres           1.20  10     ud   \n",
       "32581                            Verdura           1.05   4     kg   \n",
       "29525                             Gelats           1.53  10     ud   \n",
       "\n",
       "      ingested_day  category_weight    qty  preu_sense_iva  preu_amb_iva  \n",
       "30882   16-04-2024            0.225  3.000            7.14        7.8540  \n",
       "29705   16-04-2024            0.225  1.000            1.80        1.9800  \n",
       "29883   16-04-2024            0.225  2.000            4.20        4.6200  \n",
       "39775   16-04-2024            0.010  3.000           31.50       38.1150  \n",
       "31322   16-04-2024            0.225  1.000            2.05        2.2550  \n",
       "31442   16-04-2024            0.225  1.000            3.75        4.1250  \n",
       "31467   16-04-2024            0.225  1.000            2.00        2.2000  \n",
       "11115   16-04-2024            0.070  1.000            1.70        1.7680  \n",
       "8619    16-04-2024            0.060  1.000            2.00        2.2000  \n",
       "28781   16-04-2024            0.060  1.000            1.88        2.0680  \n",
       "45895   16-04-2024            0.010  5.000           30.00       36.3000  \n",
       "82      16-04-2024            0.225  1.000            2.75        3.0250  \n",
       "2768    16-04-2024            0.060  1.000            1.20        1.3200  \n",
       "32581   16-04-2024            0.225  0.707            0.74        0.7696  \n",
       "29525   16-04-2024            0.225  1.000            1.53        1.6830  "
      ]
     },
     "execution_count": 35,
     "metadata": {},
     "output_type": "execute_result"
    }
   ],
   "source": [
    "tiquet['preu_amb_iva'] = tiquet.apply(lambda x: ivas[x.iva]['i'] *x.preu_sense_iva, axis=1)\n",
    "tiquet"
   ]
  },
  {
   "cell_type": "markdown",
   "id": "d95225b4",
   "metadata": {
    "id": "d95225b4"
   },
   "source": [
    "#### Calculem el preu unitari amb iva"
   ]
  },
  {
   "cell_type": "code",
   "execution_count": 36,
   "id": "48b724ce",
   "metadata": {
    "colab": {
     "base_uri": "https://localhost:8080/",
     "height": 520
    },
    "executionInfo": {
     "elapsed": 401,
     "status": "ok",
     "timestamp": 1713517095217,
     "user": {
      "displayName": "Jaume Juan i Pérez",
      "userId": "13047725848368858602"
     },
     "user_tz": -120
    },
    "id": "48b724ce",
    "outputId": "6324b482-1cff-4c40-e58d-82c0b32965b2"
   },
   "outputs": [
    {
     "data": {
      "text/html": [
       "<div>\n",
       "<style scoped>\n",
       "    .dataframe tbody tr th:only-of-type {\n",
       "        vertical-align: middle;\n",
       "    }\n",
       "\n",
       "    .dataframe tbody tr th {\n",
       "        vertical-align: top;\n",
       "    }\n",
       "\n",
       "    .dataframe thead th {\n",
       "        text-align: right;\n",
       "    }\n",
       "</style>\n",
       "<table border=\"1\" class=\"dataframe\">\n",
       "  <thead>\n",
       "    <tr style=\"text-align: right;\">\n",
       "      <th></th>\n",
       "      <th>name</th>\n",
       "      <th>category</th>\n",
       "      <th>subcategory</th>\n",
       "      <th>p_u_sense_iva</th>\n",
       "      <th>iva</th>\n",
       "      <th>format</th>\n",
       "      <th>ingested_day</th>\n",
       "      <th>category_weight</th>\n",
       "      <th>qty</th>\n",
       "      <th>preu_sense_iva</th>\n",
       "      <th>preu_amb_iva</th>\n",
       "      <th>p_u_amb_iva</th>\n",
       "    </tr>\n",
       "  </thead>\n",
       "  <tbody>\n",
       "    <tr>\n",
       "      <th>30882</th>\n",
       "      <td>NYOQUIS</td>\n",
       "      <td>Congelats</td>\n",
       "      <td>Arròs i pasta</td>\n",
       "      <td>2.38</td>\n",
       "      <td>10</td>\n",
       "      <td>ud</td>\n",
       "      <td>16-04-2024</td>\n",
       "      <td>0.225</td>\n",
       "      <td>3.000</td>\n",
       "      <td>7.14</td>\n",
       "      <td>7.8540</td>\n",
       "      <td>2.618</td>\n",
       "    </tr>\n",
       "    <tr>\n",
       "      <th>29705</th>\n",
       "      <td>PIZZES TOMÀQUET</td>\n",
       "      <td>Congelats</td>\n",
       "      <td>Pizzes</td>\n",
       "      <td>1.80</td>\n",
       "      <td>10</td>\n",
       "      <td>ud</td>\n",
       "      <td>16-04-2024</td>\n",
       "      <td>0.225</td>\n",
       "      <td>1.000</td>\n",
       "      <td>1.80</td>\n",
       "      <td>1.9800</td>\n",
       "      <td>1.980</td>\n",
       "    </tr>\n",
       "    <tr>\n",
       "      <th>29883</th>\n",
       "      <td>GELAT AMETLLAT</td>\n",
       "      <td>Congelats</td>\n",
       "      <td>Gelats</td>\n",
       "      <td>2.10</td>\n",
       "      <td>10</td>\n",
       "      <td>ud</td>\n",
       "      <td>16-04-2024</td>\n",
       "      <td>0.225</td>\n",
       "      <td>2.000</td>\n",
       "      <td>4.20</td>\n",
       "      <td>4.6200</td>\n",
       "      <td>2.310</td>\n",
       "    </tr>\n",
       "    <tr>\n",
       "      <th>39775</th>\n",
       "      <td>LOT DONA JOVAN</td>\n",
       "      <td>Cura facial i corporal</td>\n",
       "      <td>Perfum i colònia</td>\n",
       "      <td>10.50</td>\n",
       "      <td>21</td>\n",
       "      <td>ud</td>\n",
       "      <td>16-04-2024</td>\n",
       "      <td>0.010</td>\n",
       "      <td>3.000</td>\n",
       "      <td>31.50</td>\n",
       "      <td>38.1150</td>\n",
       "      <td>12.705</td>\n",
       "    </tr>\n",
       "    <tr>\n",
       "      <th>31322</th>\n",
       "      <td>GRANISSAT</td>\n",
       "      <td>Congelats</td>\n",
       "      <td>Gelats</td>\n",
       "      <td>2.05</td>\n",
       "      <td>10</td>\n",
       "      <td>ud</td>\n",
       "      <td>16-04-2024</td>\n",
       "      <td>0.225</td>\n",
       "      <td>1.000</td>\n",
       "      <td>2.05</td>\n",
       "      <td>2.2550</td>\n",
       "      <td>2.255</td>\n",
       "    </tr>\n",
       "    <tr>\n",
       "      <th>31442</th>\n",
       "      <td>CALAMARSÓ</td>\n",
       "      <td>Congelats</td>\n",
       "      <td>Peix</td>\n",
       "      <td>3.75</td>\n",
       "      <td>10</td>\n",
       "      <td>ud</td>\n",
       "      <td>16-04-2024</td>\n",
       "      <td>0.225</td>\n",
       "      <td>1.000</td>\n",
       "      <td>3.75</td>\n",
       "      <td>4.1250</td>\n",
       "      <td>4.125</td>\n",
       "    </tr>\n",
       "    <tr>\n",
       "      <th>31467</th>\n",
       "      <td>PIZZA IBÈRICA</td>\n",
       "      <td>Congelats</td>\n",
       "      <td>Pizzes</td>\n",
       "      <td>2.00</td>\n",
       "      <td>10</td>\n",
       "      <td>ud</td>\n",
       "      <td>16-04-2024</td>\n",
       "      <td>0.225</td>\n",
       "      <td>1.000</td>\n",
       "      <td>2.00</td>\n",
       "      <td>2.2000</td>\n",
       "      <td>2.200</td>\n",
       "    </tr>\n",
       "    <tr>\n",
       "      <th>11115</th>\n",
       "      <td>FORMATGE</td>\n",
       "      <td>Xarcuteria i formatges</td>\n",
       "      <td>Formatge d'untar i fresc</td>\n",
       "      <td>1.70</td>\n",
       "      <td>4</td>\n",
       "      <td>ud</td>\n",
       "      <td>16-04-2024</td>\n",
       "      <td>0.070</td>\n",
       "      <td>1.000</td>\n",
       "      <td>1.70</td>\n",
       "      <td>1.7680</td>\n",
       "      <td>1.768</td>\n",
       "    </tr>\n",
       "    <tr>\n",
       "      <th>8619</th>\n",
       "      <td>REDUCCIÓ</td>\n",
       "      <td>Oli, espècies i salses</td>\n",
       "      <td>Oli, vinagre i sal</td>\n",
       "      <td>2.00</td>\n",
       "      <td>10</td>\n",
       "      <td>ud</td>\n",
       "      <td>16-04-2024</td>\n",
       "      <td>0.060</td>\n",
       "      <td>1.000</td>\n",
       "      <td>2.00</td>\n",
       "      <td>2.2000</td>\n",
       "      <td>2.200</td>\n",
       "    </tr>\n",
       "    <tr>\n",
       "      <th>28781</th>\n",
       "      <td>CARCASSA</td>\n",
       "      <td>Carn</td>\n",
       "      <td>Aus i pollastre</td>\n",
       "      <td>1.88</td>\n",
       "      <td>10</td>\n",
       "      <td>ud</td>\n",
       "      <td>16-04-2024</td>\n",
       "      <td>0.060</td>\n",
       "      <td>1.000</td>\n",
       "      <td>1.88</td>\n",
       "      <td>2.0680</td>\n",
       "      <td>2.068</td>\n",
       "    </tr>\n",
       "    <tr>\n",
       "      <th>45895</th>\n",
       "      <td>GEL PROTECCIÓ</td>\n",
       "      <td>Cura facial i corporal</td>\n",
       "      <td>Protector solar i crema postsolar</td>\n",
       "      <td>6.00</td>\n",
       "      <td>21</td>\n",
       "      <td>ud</td>\n",
       "      <td>16-04-2024</td>\n",
       "      <td>0.010</td>\n",
       "      <td>5.000</td>\n",
       "      <td>30.00</td>\n",
       "      <td>36.3000</td>\n",
       "      <td>7.260</td>\n",
       "    </tr>\n",
       "    <tr>\n",
       "      <th>82</th>\n",
       "      <td>AMANIDA DE PATATA</td>\n",
       "      <td>Fruita i verdura</td>\n",
       "      <td>Enciam i amanida preparada</td>\n",
       "      <td>2.75</td>\n",
       "      <td>10</td>\n",
       "      <td>ud</td>\n",
       "      <td>16-04-2024</td>\n",
       "      <td>0.225</td>\n",
       "      <td>1.000</td>\n",
       "      <td>2.75</td>\n",
       "      <td>3.0250</td>\n",
       "      <td>3.025</td>\n",
       "    </tr>\n",
       "    <tr>\n",
       "      <th>2768</th>\n",
       "      <td>ARRÒS AMB LLET</td>\n",
       "      <td>Postres i iogurts</td>\n",
       "      <td>Gelatina i altres postres</td>\n",
       "      <td>1.20</td>\n",
       "      <td>10</td>\n",
       "      <td>ud</td>\n",
       "      <td>16-04-2024</td>\n",
       "      <td>0.060</td>\n",
       "      <td>1.000</td>\n",
       "      <td>1.20</td>\n",
       "      <td>1.3200</td>\n",
       "      <td>1.320</td>\n",
       "    </tr>\n",
       "    <tr>\n",
       "      <th>32581</th>\n",
       "      <td>MONGETA TENDRA</td>\n",
       "      <td>Congelats</td>\n",
       "      <td>Verdura</td>\n",
       "      <td>1.05</td>\n",
       "      <td>4</td>\n",
       "      <td>kg</td>\n",
       "      <td>16-04-2024</td>\n",
       "      <td>0.225</td>\n",
       "      <td>0.707</td>\n",
       "      <td>0.74</td>\n",
       "      <td>0.7696</td>\n",
       "      <td>1.092</td>\n",
       "    </tr>\n",
       "    <tr>\n",
       "      <th>29525</th>\n",
       "      <td>TUBETS HACENDADO</td>\n",
       "      <td>Congelats</td>\n",
       "      <td>Gelats</td>\n",
       "      <td>1.53</td>\n",
       "      <td>10</td>\n",
       "      <td>ud</td>\n",
       "      <td>16-04-2024</td>\n",
       "      <td>0.225</td>\n",
       "      <td>1.000</td>\n",
       "      <td>1.53</td>\n",
       "      <td>1.6830</td>\n",
       "      <td>1.683</td>\n",
       "    </tr>\n",
       "  </tbody>\n",
       "</table>\n",
       "</div>"
      ],
      "text/plain": [
       "                    name                category  \\\n",
       "30882            NYOQUIS               Congelats   \n",
       "29705    PIZZES TOMÀQUET               Congelats   \n",
       "29883     GELAT AMETLLAT               Congelats   \n",
       "39775     LOT DONA JOVAN  Cura facial i corporal   \n",
       "31322          GRANISSAT               Congelats   \n",
       "31442          CALAMARSÓ               Congelats   \n",
       "31467      PIZZA IBÈRICA               Congelats   \n",
       "11115           FORMATGE  Xarcuteria i formatges   \n",
       "8619            REDUCCIÓ  Oli, espècies i salses   \n",
       "28781           CARCASSA                    Carn   \n",
       "45895      GEL PROTECCIÓ  Cura facial i corporal   \n",
       "82     AMANIDA DE PATATA        Fruita i verdura   \n",
       "2768      ARRÒS AMB LLET       Postres i iogurts   \n",
       "32581     MONGETA TENDRA               Congelats   \n",
       "29525   TUBETS HACENDADO               Congelats   \n",
       "\n",
       "                             subcategory  p_u_sense_iva iva format  \\\n",
       "30882                      Arròs i pasta           2.38  10     ud   \n",
       "29705                             Pizzes           1.80  10     ud   \n",
       "29883                             Gelats           2.10  10     ud   \n",
       "39775                   Perfum i colònia          10.50  21     ud   \n",
       "31322                             Gelats           2.05  10     ud   \n",
       "31442                               Peix           3.75  10     ud   \n",
       "31467                             Pizzes           2.00  10     ud   \n",
       "11115           Formatge d'untar i fresc           1.70   4     ud   \n",
       "8619                  Oli, vinagre i sal           2.00  10     ud   \n",
       "28781                    Aus i pollastre           1.88  10     ud   \n",
       "45895  Protector solar i crema postsolar           6.00  21     ud   \n",
       "82            Enciam i amanida preparada           2.75  10     ud   \n",
       "2768           Gelatina i altres postres           1.20  10     ud   \n",
       "32581                            Verdura           1.05   4     kg   \n",
       "29525                             Gelats           1.53  10     ud   \n",
       "\n",
       "      ingested_day  category_weight    qty  preu_sense_iva  preu_amb_iva  \\\n",
       "30882   16-04-2024            0.225  3.000            7.14        7.8540   \n",
       "29705   16-04-2024            0.225  1.000            1.80        1.9800   \n",
       "29883   16-04-2024            0.225  2.000            4.20        4.6200   \n",
       "39775   16-04-2024            0.010  3.000           31.50       38.1150   \n",
       "31322   16-04-2024            0.225  1.000            2.05        2.2550   \n",
       "31442   16-04-2024            0.225  1.000            3.75        4.1250   \n",
       "31467   16-04-2024            0.225  1.000            2.00        2.2000   \n",
       "11115   16-04-2024            0.070  1.000            1.70        1.7680   \n",
       "8619    16-04-2024            0.060  1.000            2.00        2.2000   \n",
       "28781   16-04-2024            0.060  1.000            1.88        2.0680   \n",
       "45895   16-04-2024            0.010  5.000           30.00       36.3000   \n",
       "82      16-04-2024            0.225  1.000            2.75        3.0250   \n",
       "2768    16-04-2024            0.060  1.000            1.20        1.3200   \n",
       "32581   16-04-2024            0.225  0.707            0.74        0.7696   \n",
       "29525   16-04-2024            0.225  1.000            1.53        1.6830   \n",
       "\n",
       "       p_u_amb_iva  \n",
       "30882        2.618  \n",
       "29705        1.980  \n",
       "29883        2.310  \n",
       "39775       12.705  \n",
       "31322        2.255  \n",
       "31442        4.125  \n",
       "31467        2.200  \n",
       "11115        1.768  \n",
       "8619         2.200  \n",
       "28781        2.068  \n",
       "45895        7.260  \n",
       "82           3.025  \n",
       "2768         1.320  \n",
       "32581        1.092  \n",
       "29525        1.683  "
      ]
     },
     "execution_count": 36,
     "metadata": {},
     "output_type": "execute_result"
    }
   ],
   "source": [
    "tiquet['p_u_amb_iva'] = tiquet.apply(lambda x: x.p_u_sense_iva *ivas[x.iva]['i'], axis=1)\n",
    "tiquet"
   ]
  },
  {
   "cell_type": "markdown",
   "id": "1357173a",
   "metadata": {
    "id": "1357173a"
   },
   "source": [
    "#### Calculem els ivas desglosats que han de sortit al tiquet\n",
    "1. Preu total amb iva (cada producte ja té sumat l'iva individualment).\n",
    "2. Preu total sense iva.\n",
    "3. Desglosament per ivas.\n",
    "4. Total de iva que paguem de cada tram."
   ]
  },
  {
   "cell_type": "markdown",
   "id": "400f4276",
   "metadata": {
    "id": "400f4276"
   },
   "source": [
    "#### 1. Total del tiquet amb iva"
   ]
  },
  {
   "cell_type": "code",
   "execution_count": 37,
   "id": "b27b15bc",
   "metadata": {
    "colab": {
     "base_uri": "https://localhost:8080/"
    },
    "executionInfo": {
     "elapsed": 36,
     "status": "ok",
     "timestamp": 1713517095217,
     "user": {
      "displayName": "Jaume Juan i Pérez",
      "userId": "13047725848368858602"
     },
     "user_tz": -120
    },
    "id": "b27b15bc",
    "outputId": "8c0def19-9d14-497c-a4e7-91e7b5750c1f"
   },
   "outputs": [
    {
     "data": {
      "text/plain": [
       "110.2826"
      ]
     },
     "execution_count": 37,
     "metadata": {},
     "output_type": "execute_result"
    }
   ],
   "source": [
    "tiquet['preu_amb_iva'].sum()"
   ]
  },
  {
   "cell_type": "markdown",
   "id": "4d9ff0ab",
   "metadata": {
    "id": "4d9ff0ab"
   },
   "source": [
    "#### 2. Total del tiquet sense iva"
   ]
  },
  {
   "cell_type": "code",
   "execution_count": 38,
   "id": "26e06c10",
   "metadata": {
    "colab": {
     "base_uri": "https://localhost:8080/"
    },
    "executionInfo": {
     "elapsed": 35,
     "status": "ok",
     "timestamp": 1713517095217,
     "user": {
      "displayName": "Jaume Juan i Pérez",
      "userId": "13047725848368858602"
     },
     "user_tz": -120
    },
    "id": "26e06c10",
    "outputId": "e6c3f5dc-8dbc-4dc8-e040-56c4e0dd5d80"
   },
   "outputs": [
    {
     "data": {
      "text/plain": [
       "94.24000000000001"
      ]
     },
     "execution_count": 38,
     "metadata": {},
     "output_type": "execute_result"
    }
   ],
   "source": [
    "tiquet['preu_sense_iva'].sum()"
   ]
  },
  {
   "cell_type": "markdown",
   "id": "b052da0c",
   "metadata": {
    "id": "b052da0c"
   },
   "source": [
    "#### 3. Ivas que estàn al tiquet"
   ]
  },
  {
   "cell_type": "code",
   "execution_count": 39,
   "id": "ad9498ac",
   "metadata": {
    "colab": {
     "base_uri": "https://localhost:8080/"
    },
    "executionInfo": {
     "elapsed": 35,
     "status": "ok",
     "timestamp": 1713517095218,
     "user": {
      "displayName": "Jaume Juan i Pérez",
      "userId": "13047725848368858602"
     },
     "user_tz": -120
    },
    "id": "ad9498ac",
    "outputId": "aa201aa7-61bf-41ab-e407-9dfd8b33006e"
   },
   "outputs": [
    {
     "data": {
      "text/plain": [
       "array(['10', '21', '4'], dtype=object)"
      ]
     },
     "execution_count": 39,
     "metadata": {},
     "output_type": "execute_result"
    }
   ],
   "source": [
    "tiquet.iva.unique()"
   ]
  },
  {
   "cell_type": "markdown",
   "id": "94345b58",
   "metadata": {
    "id": "94345b58"
   },
   "source": [
    "#### 4. Productes amb un iva determinat\n",
    "- Exemple amb el 4%"
   ]
  },
  {
   "cell_type": "code",
   "execution_count": 40,
   "id": "16dc228d",
   "metadata": {
    "colab": {
     "base_uri": "https://localhost:8080/",
     "height": 143
    },
    "executionInfo": {
     "elapsed": 33,
     "status": "ok",
     "timestamp": 1713517095218,
     "user": {
      "displayName": "Jaume Juan i Pérez",
      "userId": "13047725848368858602"
     },
     "user_tz": -120
    },
    "id": "16dc228d",
    "outputId": "c00a04c3-f162-4341-a539-a0960deadaef"
   },
   "outputs": [
    {
     "data": {
      "text/html": [
       "<div>\n",
       "<style scoped>\n",
       "    .dataframe tbody tr th:only-of-type {\n",
       "        vertical-align: middle;\n",
       "    }\n",
       "\n",
       "    .dataframe tbody tr th {\n",
       "        vertical-align: top;\n",
       "    }\n",
       "\n",
       "    .dataframe thead th {\n",
       "        text-align: right;\n",
       "    }\n",
       "</style>\n",
       "<table border=\"1\" class=\"dataframe\">\n",
       "  <thead>\n",
       "    <tr style=\"text-align: right;\">\n",
       "      <th></th>\n",
       "      <th>name</th>\n",
       "      <th>category</th>\n",
       "      <th>subcategory</th>\n",
       "      <th>p_u_sense_iva</th>\n",
       "      <th>iva</th>\n",
       "      <th>format</th>\n",
       "      <th>ingested_day</th>\n",
       "      <th>category_weight</th>\n",
       "      <th>qty</th>\n",
       "      <th>preu_sense_iva</th>\n",
       "      <th>preu_amb_iva</th>\n",
       "      <th>p_u_amb_iva</th>\n",
       "    </tr>\n",
       "  </thead>\n",
       "  <tbody>\n",
       "    <tr>\n",
       "      <th>11115</th>\n",
       "      <td>FORMATGE</td>\n",
       "      <td>Xarcuteria i formatges</td>\n",
       "      <td>Formatge d'untar i fresc</td>\n",
       "      <td>1.70</td>\n",
       "      <td>4</td>\n",
       "      <td>ud</td>\n",
       "      <td>16-04-2024</td>\n",
       "      <td>0.070</td>\n",
       "      <td>1.000</td>\n",
       "      <td>1.70</td>\n",
       "      <td>1.7680</td>\n",
       "      <td>1.768</td>\n",
       "    </tr>\n",
       "    <tr>\n",
       "      <th>32581</th>\n",
       "      <td>MONGETA TENDRA</td>\n",
       "      <td>Congelats</td>\n",
       "      <td>Verdura</td>\n",
       "      <td>1.05</td>\n",
       "      <td>4</td>\n",
       "      <td>kg</td>\n",
       "      <td>16-04-2024</td>\n",
       "      <td>0.225</td>\n",
       "      <td>0.707</td>\n",
       "      <td>0.74</td>\n",
       "      <td>0.7696</td>\n",
       "      <td>1.092</td>\n",
       "    </tr>\n",
       "  </tbody>\n",
       "</table>\n",
       "</div>"
      ],
      "text/plain": [
       "                 name                category               subcategory  \\\n",
       "11115        FORMATGE  Xarcuteria i formatges  Formatge d'untar i fresc   \n",
       "32581  MONGETA TENDRA               Congelats                   Verdura   \n",
       "\n",
       "       p_u_sense_iva iva format ingested_day  category_weight    qty  \\\n",
       "11115           1.70   4     ud   16-04-2024            0.070  1.000   \n",
       "32581           1.05   4     kg   16-04-2024            0.225  0.707   \n",
       "\n",
       "       preu_sense_iva  preu_amb_iva  p_u_amb_iva  \n",
       "11115            1.70        1.7680        1.768  \n",
       "32581            0.74        0.7696        1.092  "
      ]
     },
     "execution_count": 40,
     "metadata": {},
     "output_type": "execute_result"
    }
   ],
   "source": [
    "# Filtrar els ivas que se'ls hi ha d'aplicar un 4%\n",
    "tiquet[tiquet['iva'] == '4']"
   ]
  },
  {
   "cell_type": "code",
   "execution_count": 41,
   "id": "2569e1a5",
   "metadata": {
    "colab": {
     "base_uri": "https://localhost:8080/"
    },
    "executionInfo": {
     "elapsed": 32,
     "status": "ok",
     "timestamp": 1713517095218,
     "user": {
      "displayName": "Jaume Juan i Pérez",
      "userId": "13047725848368858602"
     },
     "user_tz": -120
    },
    "id": "2569e1a5",
    "outputId": "ee677ea2-1d4a-4f97-edc9-e43e1fc89e8c"
   },
   "outputs": [
    {
     "data": {
      "text/plain": [
       "11115    1.70\n",
       "32581    0.74\n",
       "Name: preu_sense_iva, dtype: float64"
      ]
     },
     "execution_count": 41,
     "metadata": {},
     "output_type": "execute_result"
    }
   ],
   "source": [
    "# Agafem el preu sense iva d'aquests productes\n",
    "tiquet[tiquet['iva'] == '4']['preu_sense_iva']"
   ]
  },
  {
   "cell_type": "code",
   "execution_count": 42,
   "id": "e973e307",
   "metadata": {
    "colab": {
     "base_uri": "https://localhost:8080/"
    },
    "executionInfo": {
     "elapsed": 30,
     "status": "ok",
     "timestamp": 1713517095218,
     "user": {
      "displayName": "Jaume Juan i Pérez",
      "userId": "13047725848368858602"
     },
     "user_tz": -120
    },
    "id": "e973e307",
    "outputId": "2dfd0b09-bc4e-44f3-c065-70a7c72229b3"
   },
   "outputs": [
    {
     "data": {
      "text/plain": [
       "11115    0.0680\n",
       "32581    0.0296\n",
       "Name: preu_sense_iva, dtype: float64"
      ]
     },
     "execution_count": 42,
     "metadata": {},
     "output_type": "execute_result"
    }
   ],
   "source": [
    "# Cada producte el multipliquem pel valor 'd' del iva del 4%.\n",
    "# Si multipliquem 'd' és l'iva que hem de sumar per cada producte.\n",
    "tiquet[tiquet['iva'] == '4']['preu_sense_iva'] *ivas['4']['d']"
   ]
  },
  {
   "cell_type": "code",
   "execution_count": 43,
   "id": "3807fa4e",
   "metadata": {
    "colab": {
     "base_uri": "https://localhost:8080/"
    },
    "executionInfo": {
     "elapsed": 29,
     "status": "ok",
     "timestamp": 1713517095219,
     "user": {
      "displayName": "Jaume Juan i Pérez",
      "userId": "13047725848368858602"
     },
     "user_tz": -120
    },
    "id": "3807fa4e",
    "outputId": "78b800f0-7f7c-49b3-a47e-a4e979a7a839"
   },
   "outputs": [
    {
     "data": {
      "text/plain": [
       "0.0976"
      ]
     },
     "execution_count": 43,
     "metadata": {},
     "output_type": "execute_result"
    }
   ],
   "source": [
    "# Total de iva que haurem de pagar de més per el 4%.\n",
    "(tiquet[tiquet['iva'] == '4']['preu_sense_iva'] *ivas['4']['d']).sum()"
   ]
  },
  {
   "cell_type": "code",
   "execution_count": 44,
   "id": "7e16c0e8",
   "metadata": {
    "colab": {
     "base_uri": "https://localhost:8080/"
    },
    "executionInfo": {
     "elapsed": 26,
     "status": "ok",
     "timestamp": 1713517095219,
     "user": {
      "displayName": "Jaume Juan i Pérez",
      "userId": "13047725848368858602"
     },
     "user_tz": -120
    },
    "id": "7e16c0e8",
    "outputId": "9f2d6e7d-8466-4a91-e88f-acba0d51f7f8"
   },
   "outputs": [
    {
     "data": {
      "text/plain": [
       "[{'valor': '10%', 'base_imposable': '3,03', 'quota': '0,30'},\n",
       " {'valor': '21%', 'base_imposable': '12,91', 'quota': '2,71'},\n",
       " {'valor': '4%', 'base_imposable': '0,10', 'quota': '0,00'}]"
      ]
     },
     "execution_count": 44,
     "metadata": {},
     "output_type": "execute_result"
    }
   ],
   "source": [
    "ivas_list = []\n",
    "def get_total(iva):\n",
    "    return (tiquet[tiquet['iva'] == iva]['preu_sense_iva'] *ivas[iva]['d']).sum()\n",
    "\n",
    "for iva in tiquet.iva.unique():\n",
    "    total = get_total(iva)\n",
    "    ivas_list.append({\n",
    "        \"valor\": f'{iva}%',\n",
    "        \"base_imposable\": format(total, ',.2f').replace(\".\", \",\"),\n",
    "        \"quota\": format(total *ivas[iva]['d'], ',.2f').replace(\".\", \",\")\n",
    "    })\n",
    "\n",
    "ivas_list"
   ]
  },
  {
   "cell_type": "code",
   "execution_count": 45,
   "id": "7348b8c3",
   "metadata": {
    "colab": {
     "base_uri": "https://localhost:8080/"
    },
    "executionInfo": {
     "elapsed": 25,
     "status": "ok",
     "timestamp": 1713517095219,
     "user": {
      "displayName": "Jaume Juan i Pérez",
      "userId": "13047725848368858602"
     },
     "user_tz": -120
    },
    "id": "7348b8c3",
    "outputId": "2e8b563b-04bf-4ee6-ef84-59118aa58b57"
   },
   "outputs": [
    {
     "data": {
      "text/plain": [
       "3.01"
      ]
     },
     "execution_count": 45,
     "metadata": {},
     "output_type": "execute_result"
    }
   ],
   "source": [
    "# L'iva total es la suma de les quotes:\n",
    "iva_total = sum([float(item['quota'].replace(',', '.')) for item in ivas_list])\n",
    "iva_total"
   ]
  },
  {
   "cell_type": "code",
   "execution_count": 46,
   "id": "dfc826b3",
   "metadata": {},
   "outputs": [
    {
     "data": {
      "text/plain": [
       "16.04"
      ]
     },
     "execution_count": 46,
     "metadata": {},
     "output_type": "execute_result"
    }
   ],
   "source": [
    "# Suma de les bases imposables (iva que hem pagat en el tiquet)\n",
    "no_iva = sum(float(item['base_imposable'].replace(',', '.')) for item in ivas_list)\n",
    "no_iva"
   ]
  },
  {
   "cell_type": "markdown",
   "id": "ab8694bd",
   "metadata": {
    "id": "ab8694bd"
   },
   "source": [
    "#### Array de productes formatejat per entrar a la template"
   ]
  },
  {
   "cell_type": "code",
   "execution_count": 47,
   "id": "MWZOaQLlJim8",
   "metadata": {
    "colab": {
     "base_uri": "https://localhost:8080/"
    },
    "executionInfo": {
     "elapsed": 24,
     "status": "ok",
     "timestamp": 1713517095219,
     "user": {
      "displayName": "Jaume Juan i Pérez",
      "userId": "13047725848368858602"
     },
     "user_tz": -120
    },
    "id": "MWZOaQLlJim8",
    "outputId": "3895c0fd-3e78-4193-a6c9-9599ced79703"
   },
   "outputs": [
    {
     "data": {
      "text/plain": [
       "110.2826"
      ]
     },
     "execution_count": 47,
     "metadata": {},
     "output_type": "execute_result"
    }
   ],
   "source": [
    "tiquet['preu_amb_iva'].sum()"
   ]
  },
  {
   "cell_type": "code",
   "execution_count": 48,
   "id": "ae6877da",
   "metadata": {
    "colab": {
     "base_uri": "https://localhost:8080/",
     "height": 35
    },
    "executionInfo": {
     "elapsed": 23,
     "status": "ok",
     "timestamp": 1713517095219,
     "user": {
      "displayName": "Jaume Juan i Pérez",
      "userId": "13047725848368858602"
     },
     "user_tz": -120
    },
    "id": "ae6877da",
    "outputId": "f5314e19-1153-4a80-ad7d-f087a3815bd1"
   },
   "outputs": [
    {
     "data": {
      "text/plain": [
       "'110,28'"
      ]
     },
     "execution_count": 48,
     "metadata": {},
     "output_type": "execute_result"
    }
   ],
   "source": [
    "# Abans de formatejar, li calculem el total\n",
    "total_amb_iva = format(tiquet['preu_amb_iva'].sum(), ',.2f').replace(\".\", \",\")\n",
    "total_amb_iva"
   ]
  },
  {
   "cell_type": "code",
   "execution_count": 49,
   "id": "ce2183ab",
   "metadata": {
    "colab": {
     "base_uri": "https://localhost:8080/",
     "height": 520
    },
    "executionInfo": {
     "elapsed": 22,
     "status": "ok",
     "timestamp": 1713517095219,
     "user": {
      "displayName": "Jaume Juan i Pérez",
      "userId": "13047725848368858602"
     },
     "user_tz": -120
    },
    "id": "ce2183ab",
    "outputId": "cc5c2a67-72be-4922-f8cc-514a7845f9c4"
   },
   "outputs": [
    {
     "data": {
      "text/html": [
       "<div>\n",
       "<style scoped>\n",
       "    .dataframe tbody tr th:only-of-type {\n",
       "        vertical-align: middle;\n",
       "    }\n",
       "\n",
       "    .dataframe tbody tr th {\n",
       "        vertical-align: top;\n",
       "    }\n",
       "\n",
       "    .dataframe thead th {\n",
       "        text-align: right;\n",
       "    }\n",
       "</style>\n",
       "<table border=\"1\" class=\"dataframe\">\n",
       "  <thead>\n",
       "    <tr style=\"text-align: right;\">\n",
       "      <th></th>\n",
       "      <th>name</th>\n",
       "      <th>category</th>\n",
       "      <th>subcategory</th>\n",
       "      <th>p_u_sense_iva</th>\n",
       "      <th>iva</th>\n",
       "      <th>format</th>\n",
       "      <th>ingested_day</th>\n",
       "      <th>category_weight</th>\n",
       "      <th>qty</th>\n",
       "      <th>preu_sense_iva</th>\n",
       "      <th>preu_amb_iva</th>\n",
       "      <th>p_u_amb_iva</th>\n",
       "    </tr>\n",
       "  </thead>\n",
       "  <tbody>\n",
       "    <tr>\n",
       "      <th>30882</th>\n",
       "      <td>NYOQUIS</td>\n",
       "      <td>Congelats</td>\n",
       "      <td>Arròs i pasta</td>\n",
       "      <td>2.38</td>\n",
       "      <td>10</td>\n",
       "      <td>ud</td>\n",
       "      <td>16-04-2024</td>\n",
       "      <td>0.225</td>\n",
       "      <td>3.000</td>\n",
       "      <td>7.14</td>\n",
       "      <td>7,85</td>\n",
       "      <td>2.618</td>\n",
       "    </tr>\n",
       "    <tr>\n",
       "      <th>29705</th>\n",
       "      <td>PIZZES TOMÀQUET</td>\n",
       "      <td>Congelats</td>\n",
       "      <td>Pizzes</td>\n",
       "      <td>1.80</td>\n",
       "      <td>10</td>\n",
       "      <td>ud</td>\n",
       "      <td>16-04-2024</td>\n",
       "      <td>0.225</td>\n",
       "      <td>1.000</td>\n",
       "      <td>1.80</td>\n",
       "      <td>1,98</td>\n",
       "      <td>1.980</td>\n",
       "    </tr>\n",
       "    <tr>\n",
       "      <th>29883</th>\n",
       "      <td>GELAT AMETLLAT</td>\n",
       "      <td>Congelats</td>\n",
       "      <td>Gelats</td>\n",
       "      <td>2.10</td>\n",
       "      <td>10</td>\n",
       "      <td>ud</td>\n",
       "      <td>16-04-2024</td>\n",
       "      <td>0.225</td>\n",
       "      <td>2.000</td>\n",
       "      <td>4.20</td>\n",
       "      <td>4,62</td>\n",
       "      <td>2.310</td>\n",
       "    </tr>\n",
       "    <tr>\n",
       "      <th>39775</th>\n",
       "      <td>LOT DONA JOVAN</td>\n",
       "      <td>Cura facial i corporal</td>\n",
       "      <td>Perfum i colònia</td>\n",
       "      <td>10.50</td>\n",
       "      <td>21</td>\n",
       "      <td>ud</td>\n",
       "      <td>16-04-2024</td>\n",
       "      <td>0.010</td>\n",
       "      <td>3.000</td>\n",
       "      <td>31.50</td>\n",
       "      <td>38,12</td>\n",
       "      <td>12.705</td>\n",
       "    </tr>\n",
       "    <tr>\n",
       "      <th>31322</th>\n",
       "      <td>GRANISSAT</td>\n",
       "      <td>Congelats</td>\n",
       "      <td>Gelats</td>\n",
       "      <td>2.05</td>\n",
       "      <td>10</td>\n",
       "      <td>ud</td>\n",
       "      <td>16-04-2024</td>\n",
       "      <td>0.225</td>\n",
       "      <td>1.000</td>\n",
       "      <td>2.05</td>\n",
       "      <td>2,25</td>\n",
       "      <td>2.255</td>\n",
       "    </tr>\n",
       "    <tr>\n",
       "      <th>31442</th>\n",
       "      <td>CALAMARSÓ</td>\n",
       "      <td>Congelats</td>\n",
       "      <td>Peix</td>\n",
       "      <td>3.75</td>\n",
       "      <td>10</td>\n",
       "      <td>ud</td>\n",
       "      <td>16-04-2024</td>\n",
       "      <td>0.225</td>\n",
       "      <td>1.000</td>\n",
       "      <td>3.75</td>\n",
       "      <td>4,12</td>\n",
       "      <td>4.125</td>\n",
       "    </tr>\n",
       "    <tr>\n",
       "      <th>31467</th>\n",
       "      <td>PIZZA IBÈRICA</td>\n",
       "      <td>Congelats</td>\n",
       "      <td>Pizzes</td>\n",
       "      <td>2.00</td>\n",
       "      <td>10</td>\n",
       "      <td>ud</td>\n",
       "      <td>16-04-2024</td>\n",
       "      <td>0.225</td>\n",
       "      <td>1.000</td>\n",
       "      <td>2.00</td>\n",
       "      <td>2,20</td>\n",
       "      <td>2.200</td>\n",
       "    </tr>\n",
       "    <tr>\n",
       "      <th>11115</th>\n",
       "      <td>FORMATGE</td>\n",
       "      <td>Xarcuteria i formatges</td>\n",
       "      <td>Formatge d'untar i fresc</td>\n",
       "      <td>1.70</td>\n",
       "      <td>4</td>\n",
       "      <td>ud</td>\n",
       "      <td>16-04-2024</td>\n",
       "      <td>0.070</td>\n",
       "      <td>1.000</td>\n",
       "      <td>1.70</td>\n",
       "      <td>1,77</td>\n",
       "      <td>1.768</td>\n",
       "    </tr>\n",
       "    <tr>\n",
       "      <th>8619</th>\n",
       "      <td>REDUCCIÓ</td>\n",
       "      <td>Oli, espècies i salses</td>\n",
       "      <td>Oli, vinagre i sal</td>\n",
       "      <td>2.00</td>\n",
       "      <td>10</td>\n",
       "      <td>ud</td>\n",
       "      <td>16-04-2024</td>\n",
       "      <td>0.060</td>\n",
       "      <td>1.000</td>\n",
       "      <td>2.00</td>\n",
       "      <td>2,20</td>\n",
       "      <td>2.200</td>\n",
       "    </tr>\n",
       "    <tr>\n",
       "      <th>28781</th>\n",
       "      <td>CARCASSA</td>\n",
       "      <td>Carn</td>\n",
       "      <td>Aus i pollastre</td>\n",
       "      <td>1.88</td>\n",
       "      <td>10</td>\n",
       "      <td>ud</td>\n",
       "      <td>16-04-2024</td>\n",
       "      <td>0.060</td>\n",
       "      <td>1.000</td>\n",
       "      <td>1.88</td>\n",
       "      <td>2,07</td>\n",
       "      <td>2.068</td>\n",
       "    </tr>\n",
       "    <tr>\n",
       "      <th>45895</th>\n",
       "      <td>GEL PROTECCIÓ</td>\n",
       "      <td>Cura facial i corporal</td>\n",
       "      <td>Protector solar i crema postsolar</td>\n",
       "      <td>6.00</td>\n",
       "      <td>21</td>\n",
       "      <td>ud</td>\n",
       "      <td>16-04-2024</td>\n",
       "      <td>0.010</td>\n",
       "      <td>5.000</td>\n",
       "      <td>30.00</td>\n",
       "      <td>36,30</td>\n",
       "      <td>7.260</td>\n",
       "    </tr>\n",
       "    <tr>\n",
       "      <th>82</th>\n",
       "      <td>AMANIDA DE PATATA</td>\n",
       "      <td>Fruita i verdura</td>\n",
       "      <td>Enciam i amanida preparada</td>\n",
       "      <td>2.75</td>\n",
       "      <td>10</td>\n",
       "      <td>ud</td>\n",
       "      <td>16-04-2024</td>\n",
       "      <td>0.225</td>\n",
       "      <td>1.000</td>\n",
       "      <td>2.75</td>\n",
       "      <td>3,03</td>\n",
       "      <td>3.025</td>\n",
       "    </tr>\n",
       "    <tr>\n",
       "      <th>2768</th>\n",
       "      <td>ARRÒS AMB LLET</td>\n",
       "      <td>Postres i iogurts</td>\n",
       "      <td>Gelatina i altres postres</td>\n",
       "      <td>1.20</td>\n",
       "      <td>10</td>\n",
       "      <td>ud</td>\n",
       "      <td>16-04-2024</td>\n",
       "      <td>0.060</td>\n",
       "      <td>1.000</td>\n",
       "      <td>1.20</td>\n",
       "      <td>1,32</td>\n",
       "      <td>1.320</td>\n",
       "    </tr>\n",
       "    <tr>\n",
       "      <th>32581</th>\n",
       "      <td>MONGETA TENDRA</td>\n",
       "      <td>Congelats</td>\n",
       "      <td>Verdura</td>\n",
       "      <td>1.05</td>\n",
       "      <td>4</td>\n",
       "      <td>kg</td>\n",
       "      <td>16-04-2024</td>\n",
       "      <td>0.225</td>\n",
       "      <td>0.707</td>\n",
       "      <td>0.74</td>\n",
       "      <td>0,77</td>\n",
       "      <td>1.092</td>\n",
       "    </tr>\n",
       "    <tr>\n",
       "      <th>29525</th>\n",
       "      <td>TUBETS HACENDADO</td>\n",
       "      <td>Congelats</td>\n",
       "      <td>Gelats</td>\n",
       "      <td>1.53</td>\n",
       "      <td>10</td>\n",
       "      <td>ud</td>\n",
       "      <td>16-04-2024</td>\n",
       "      <td>0.225</td>\n",
       "      <td>1.000</td>\n",
       "      <td>1.53</td>\n",
       "      <td>1,68</td>\n",
       "      <td>1.683</td>\n",
       "    </tr>\n",
       "  </tbody>\n",
       "</table>\n",
       "</div>"
      ],
      "text/plain": [
       "                    name                category  \\\n",
       "30882            NYOQUIS               Congelats   \n",
       "29705    PIZZES TOMÀQUET               Congelats   \n",
       "29883     GELAT AMETLLAT               Congelats   \n",
       "39775     LOT DONA JOVAN  Cura facial i corporal   \n",
       "31322          GRANISSAT               Congelats   \n",
       "31442          CALAMARSÓ               Congelats   \n",
       "31467      PIZZA IBÈRICA               Congelats   \n",
       "11115           FORMATGE  Xarcuteria i formatges   \n",
       "8619            REDUCCIÓ  Oli, espècies i salses   \n",
       "28781           CARCASSA                    Carn   \n",
       "45895      GEL PROTECCIÓ  Cura facial i corporal   \n",
       "82     AMANIDA DE PATATA        Fruita i verdura   \n",
       "2768      ARRÒS AMB LLET       Postres i iogurts   \n",
       "32581     MONGETA TENDRA               Congelats   \n",
       "29525   TUBETS HACENDADO               Congelats   \n",
       "\n",
       "                             subcategory  p_u_sense_iva iva format  \\\n",
       "30882                      Arròs i pasta           2.38  10     ud   \n",
       "29705                             Pizzes           1.80  10     ud   \n",
       "29883                             Gelats           2.10  10     ud   \n",
       "39775                   Perfum i colònia          10.50  21     ud   \n",
       "31322                             Gelats           2.05  10     ud   \n",
       "31442                               Peix           3.75  10     ud   \n",
       "31467                             Pizzes           2.00  10     ud   \n",
       "11115           Formatge d'untar i fresc           1.70   4     ud   \n",
       "8619                  Oli, vinagre i sal           2.00  10     ud   \n",
       "28781                    Aus i pollastre           1.88  10     ud   \n",
       "45895  Protector solar i crema postsolar           6.00  21     ud   \n",
       "82            Enciam i amanida preparada           2.75  10     ud   \n",
       "2768           Gelatina i altres postres           1.20  10     ud   \n",
       "32581                            Verdura           1.05   4     kg   \n",
       "29525                             Gelats           1.53  10     ud   \n",
       "\n",
       "      ingested_day  category_weight    qty  preu_sense_iva preu_amb_iva  \\\n",
       "30882   16-04-2024            0.225  3.000            7.14         7,85   \n",
       "29705   16-04-2024            0.225  1.000            1.80         1,98   \n",
       "29883   16-04-2024            0.225  2.000            4.20         4,62   \n",
       "39775   16-04-2024            0.010  3.000           31.50        38,12   \n",
       "31322   16-04-2024            0.225  1.000            2.05         2,25   \n",
       "31442   16-04-2024            0.225  1.000            3.75         4,12   \n",
       "31467   16-04-2024            0.225  1.000            2.00         2,20   \n",
       "11115   16-04-2024            0.070  1.000            1.70         1,77   \n",
       "8619    16-04-2024            0.060  1.000            2.00         2,20   \n",
       "28781   16-04-2024            0.060  1.000            1.88         2,07   \n",
       "45895   16-04-2024            0.010  5.000           30.00        36,30   \n",
       "82      16-04-2024            0.225  1.000            2.75         3,03   \n",
       "2768    16-04-2024            0.060  1.000            1.20         1,32   \n",
       "32581   16-04-2024            0.225  0.707            0.74         0,77   \n",
       "29525   16-04-2024            0.225  1.000            1.53         1,68   \n",
       "\n",
       "       p_u_amb_iva  \n",
       "30882        2.618  \n",
       "29705        1.980  \n",
       "29883        2.310  \n",
       "39775       12.705  \n",
       "31322        2.255  \n",
       "31442        4.125  \n",
       "31467        2.200  \n",
       "11115        1.768  \n",
       "8619         2.200  \n",
       "28781        2.068  \n",
       "45895        7.260  \n",
       "82           3.025  \n",
       "2768         1.320  \n",
       "32581        1.092  \n",
       "29525        1.683  "
      ]
     },
     "execution_count": 49,
     "metadata": {},
     "output_type": "execute_result"
    }
   ],
   "source": [
    "tiquet['preu_amb_iva'] = tiquet.preu_amb_iva.apply(lambda x: format(x, ',.2f').replace(\".\", \",\"))\n",
    "tiquet"
   ]
  },
  {
   "cell_type": "code",
   "execution_count": 50,
   "id": "6fd2df4e",
   "metadata": {
    "colab": {
     "base_uri": "https://localhost:8080/",
     "height": 520
    },
    "executionInfo": {
     "elapsed": 22,
     "status": "ok",
     "timestamp": 1713517095220,
     "user": {
      "displayName": "Jaume Juan i Pérez",
      "userId": "13047725848368858602"
     },
     "user_tz": -120
    },
    "id": "6fd2df4e",
    "outputId": "8ebff9d8-c3eb-4044-90e6-e6cd030c099d"
   },
   "outputs": [
    {
     "data": {
      "text/html": [
       "<div>\n",
       "<style scoped>\n",
       "    .dataframe tbody tr th:only-of-type {\n",
       "        vertical-align: middle;\n",
       "    }\n",
       "\n",
       "    .dataframe tbody tr th {\n",
       "        vertical-align: top;\n",
       "    }\n",
       "\n",
       "    .dataframe thead th {\n",
       "        text-align: right;\n",
       "    }\n",
       "</style>\n",
       "<table border=\"1\" class=\"dataframe\">\n",
       "  <thead>\n",
       "    <tr style=\"text-align: right;\">\n",
       "      <th></th>\n",
       "      <th>name</th>\n",
       "      <th>category</th>\n",
       "      <th>subcategory</th>\n",
       "      <th>p_u_sense_iva</th>\n",
       "      <th>iva</th>\n",
       "      <th>format</th>\n",
       "      <th>ingested_day</th>\n",
       "      <th>category_weight</th>\n",
       "      <th>qty</th>\n",
       "      <th>preu_sense_iva</th>\n",
       "      <th>preu_amb_iva</th>\n",
       "      <th>p_u_amb_iva</th>\n",
       "    </tr>\n",
       "  </thead>\n",
       "  <tbody>\n",
       "    <tr>\n",
       "      <th>30882</th>\n",
       "      <td>NYOQUIS</td>\n",
       "      <td>Congelats</td>\n",
       "      <td>Arròs i pasta</td>\n",
       "      <td>2.38</td>\n",
       "      <td>10</td>\n",
       "      <td>ud</td>\n",
       "      <td>16-04-2024</td>\n",
       "      <td>0.225</td>\n",
       "      <td>3.000</td>\n",
       "      <td>7.14</td>\n",
       "      <td>7,85</td>\n",
       "      <td>2,62</td>\n",
       "    </tr>\n",
       "    <tr>\n",
       "      <th>29705</th>\n",
       "      <td>PIZZES TOMÀQUET</td>\n",
       "      <td>Congelats</td>\n",
       "      <td>Pizzes</td>\n",
       "      <td>1.80</td>\n",
       "      <td>10</td>\n",
       "      <td>ud</td>\n",
       "      <td>16-04-2024</td>\n",
       "      <td>0.225</td>\n",
       "      <td>1.000</td>\n",
       "      <td>1.80</td>\n",
       "      <td>1,98</td>\n",
       "      <td>1,98</td>\n",
       "    </tr>\n",
       "    <tr>\n",
       "      <th>29883</th>\n",
       "      <td>GELAT AMETLLAT</td>\n",
       "      <td>Congelats</td>\n",
       "      <td>Gelats</td>\n",
       "      <td>2.10</td>\n",
       "      <td>10</td>\n",
       "      <td>ud</td>\n",
       "      <td>16-04-2024</td>\n",
       "      <td>0.225</td>\n",
       "      <td>2.000</td>\n",
       "      <td>4.20</td>\n",
       "      <td>4,62</td>\n",
       "      <td>2,31</td>\n",
       "    </tr>\n",
       "    <tr>\n",
       "      <th>39775</th>\n",
       "      <td>LOT DONA JOVAN</td>\n",
       "      <td>Cura facial i corporal</td>\n",
       "      <td>Perfum i colònia</td>\n",
       "      <td>10.50</td>\n",
       "      <td>21</td>\n",
       "      <td>ud</td>\n",
       "      <td>16-04-2024</td>\n",
       "      <td>0.010</td>\n",
       "      <td>3.000</td>\n",
       "      <td>31.50</td>\n",
       "      <td>38,12</td>\n",
       "      <td>12,71</td>\n",
       "    </tr>\n",
       "    <tr>\n",
       "      <th>31322</th>\n",
       "      <td>GRANISSAT</td>\n",
       "      <td>Congelats</td>\n",
       "      <td>Gelats</td>\n",
       "      <td>2.05</td>\n",
       "      <td>10</td>\n",
       "      <td>ud</td>\n",
       "      <td>16-04-2024</td>\n",
       "      <td>0.225</td>\n",
       "      <td>1.000</td>\n",
       "      <td>2.05</td>\n",
       "      <td>2,25</td>\n",
       "      <td>2,25</td>\n",
       "    </tr>\n",
       "    <tr>\n",
       "      <th>31442</th>\n",
       "      <td>CALAMARSÓ</td>\n",
       "      <td>Congelats</td>\n",
       "      <td>Peix</td>\n",
       "      <td>3.75</td>\n",
       "      <td>10</td>\n",
       "      <td>ud</td>\n",
       "      <td>16-04-2024</td>\n",
       "      <td>0.225</td>\n",
       "      <td>1.000</td>\n",
       "      <td>3.75</td>\n",
       "      <td>4,12</td>\n",
       "      <td>4,12</td>\n",
       "    </tr>\n",
       "    <tr>\n",
       "      <th>31467</th>\n",
       "      <td>PIZZA IBÈRICA</td>\n",
       "      <td>Congelats</td>\n",
       "      <td>Pizzes</td>\n",
       "      <td>2.00</td>\n",
       "      <td>10</td>\n",
       "      <td>ud</td>\n",
       "      <td>16-04-2024</td>\n",
       "      <td>0.225</td>\n",
       "      <td>1.000</td>\n",
       "      <td>2.00</td>\n",
       "      <td>2,20</td>\n",
       "      <td>2,20</td>\n",
       "    </tr>\n",
       "    <tr>\n",
       "      <th>11115</th>\n",
       "      <td>FORMATGE</td>\n",
       "      <td>Xarcuteria i formatges</td>\n",
       "      <td>Formatge d'untar i fresc</td>\n",
       "      <td>1.70</td>\n",
       "      <td>4</td>\n",
       "      <td>ud</td>\n",
       "      <td>16-04-2024</td>\n",
       "      <td>0.070</td>\n",
       "      <td>1.000</td>\n",
       "      <td>1.70</td>\n",
       "      <td>1,77</td>\n",
       "      <td>1,77</td>\n",
       "    </tr>\n",
       "    <tr>\n",
       "      <th>8619</th>\n",
       "      <td>REDUCCIÓ</td>\n",
       "      <td>Oli, espècies i salses</td>\n",
       "      <td>Oli, vinagre i sal</td>\n",
       "      <td>2.00</td>\n",
       "      <td>10</td>\n",
       "      <td>ud</td>\n",
       "      <td>16-04-2024</td>\n",
       "      <td>0.060</td>\n",
       "      <td>1.000</td>\n",
       "      <td>2.00</td>\n",
       "      <td>2,20</td>\n",
       "      <td>2,20</td>\n",
       "    </tr>\n",
       "    <tr>\n",
       "      <th>28781</th>\n",
       "      <td>CARCASSA</td>\n",
       "      <td>Carn</td>\n",
       "      <td>Aus i pollastre</td>\n",
       "      <td>1.88</td>\n",
       "      <td>10</td>\n",
       "      <td>ud</td>\n",
       "      <td>16-04-2024</td>\n",
       "      <td>0.060</td>\n",
       "      <td>1.000</td>\n",
       "      <td>1.88</td>\n",
       "      <td>2,07</td>\n",
       "      <td>2,07</td>\n",
       "    </tr>\n",
       "    <tr>\n",
       "      <th>45895</th>\n",
       "      <td>GEL PROTECCIÓ</td>\n",
       "      <td>Cura facial i corporal</td>\n",
       "      <td>Protector solar i crema postsolar</td>\n",
       "      <td>6.00</td>\n",
       "      <td>21</td>\n",
       "      <td>ud</td>\n",
       "      <td>16-04-2024</td>\n",
       "      <td>0.010</td>\n",
       "      <td>5.000</td>\n",
       "      <td>30.00</td>\n",
       "      <td>36,30</td>\n",
       "      <td>7,26</td>\n",
       "    </tr>\n",
       "    <tr>\n",
       "      <th>82</th>\n",
       "      <td>AMANIDA DE PATATA</td>\n",
       "      <td>Fruita i verdura</td>\n",
       "      <td>Enciam i amanida preparada</td>\n",
       "      <td>2.75</td>\n",
       "      <td>10</td>\n",
       "      <td>ud</td>\n",
       "      <td>16-04-2024</td>\n",
       "      <td>0.225</td>\n",
       "      <td>1.000</td>\n",
       "      <td>2.75</td>\n",
       "      <td>3,03</td>\n",
       "      <td>3,03</td>\n",
       "    </tr>\n",
       "    <tr>\n",
       "      <th>2768</th>\n",
       "      <td>ARRÒS AMB LLET</td>\n",
       "      <td>Postres i iogurts</td>\n",
       "      <td>Gelatina i altres postres</td>\n",
       "      <td>1.20</td>\n",
       "      <td>10</td>\n",
       "      <td>ud</td>\n",
       "      <td>16-04-2024</td>\n",
       "      <td>0.060</td>\n",
       "      <td>1.000</td>\n",
       "      <td>1.20</td>\n",
       "      <td>1,32</td>\n",
       "      <td>1,32</td>\n",
       "    </tr>\n",
       "    <tr>\n",
       "      <th>32581</th>\n",
       "      <td>MONGETA TENDRA</td>\n",
       "      <td>Congelats</td>\n",
       "      <td>Verdura</td>\n",
       "      <td>1.05</td>\n",
       "      <td>4</td>\n",
       "      <td>kg</td>\n",
       "      <td>16-04-2024</td>\n",
       "      <td>0.225</td>\n",
       "      <td>0.707</td>\n",
       "      <td>0.74</td>\n",
       "      <td>0,77</td>\n",
       "      <td>1,09</td>\n",
       "    </tr>\n",
       "    <tr>\n",
       "      <th>29525</th>\n",
       "      <td>TUBETS HACENDADO</td>\n",
       "      <td>Congelats</td>\n",
       "      <td>Gelats</td>\n",
       "      <td>1.53</td>\n",
       "      <td>10</td>\n",
       "      <td>ud</td>\n",
       "      <td>16-04-2024</td>\n",
       "      <td>0.225</td>\n",
       "      <td>1.000</td>\n",
       "      <td>1.53</td>\n",
       "      <td>1,68</td>\n",
       "      <td>1,68</td>\n",
       "    </tr>\n",
       "  </tbody>\n",
       "</table>\n",
       "</div>"
      ],
      "text/plain": [
       "                    name                category  \\\n",
       "30882            NYOQUIS               Congelats   \n",
       "29705    PIZZES TOMÀQUET               Congelats   \n",
       "29883     GELAT AMETLLAT               Congelats   \n",
       "39775     LOT DONA JOVAN  Cura facial i corporal   \n",
       "31322          GRANISSAT               Congelats   \n",
       "31442          CALAMARSÓ               Congelats   \n",
       "31467      PIZZA IBÈRICA               Congelats   \n",
       "11115           FORMATGE  Xarcuteria i formatges   \n",
       "8619            REDUCCIÓ  Oli, espècies i salses   \n",
       "28781           CARCASSA                    Carn   \n",
       "45895      GEL PROTECCIÓ  Cura facial i corporal   \n",
       "82     AMANIDA DE PATATA        Fruita i verdura   \n",
       "2768      ARRÒS AMB LLET       Postres i iogurts   \n",
       "32581     MONGETA TENDRA               Congelats   \n",
       "29525   TUBETS HACENDADO               Congelats   \n",
       "\n",
       "                             subcategory  p_u_sense_iva iva format  \\\n",
       "30882                      Arròs i pasta           2.38  10     ud   \n",
       "29705                             Pizzes           1.80  10     ud   \n",
       "29883                             Gelats           2.10  10     ud   \n",
       "39775                   Perfum i colònia          10.50  21     ud   \n",
       "31322                             Gelats           2.05  10     ud   \n",
       "31442                               Peix           3.75  10     ud   \n",
       "31467                             Pizzes           2.00  10     ud   \n",
       "11115           Formatge d'untar i fresc           1.70   4     ud   \n",
       "8619                  Oli, vinagre i sal           2.00  10     ud   \n",
       "28781                    Aus i pollastre           1.88  10     ud   \n",
       "45895  Protector solar i crema postsolar           6.00  21     ud   \n",
       "82            Enciam i amanida preparada           2.75  10     ud   \n",
       "2768           Gelatina i altres postres           1.20  10     ud   \n",
       "32581                            Verdura           1.05   4     kg   \n",
       "29525                             Gelats           1.53  10     ud   \n",
       "\n",
       "      ingested_day  category_weight    qty  preu_sense_iva preu_amb_iva  \\\n",
       "30882   16-04-2024            0.225  3.000            7.14         7,85   \n",
       "29705   16-04-2024            0.225  1.000            1.80         1,98   \n",
       "29883   16-04-2024            0.225  2.000            4.20         4,62   \n",
       "39775   16-04-2024            0.010  3.000           31.50        38,12   \n",
       "31322   16-04-2024            0.225  1.000            2.05         2,25   \n",
       "31442   16-04-2024            0.225  1.000            3.75         4,12   \n",
       "31467   16-04-2024            0.225  1.000            2.00         2,20   \n",
       "11115   16-04-2024            0.070  1.000            1.70         1,77   \n",
       "8619    16-04-2024            0.060  1.000            2.00         2,20   \n",
       "28781   16-04-2024            0.060  1.000            1.88         2,07   \n",
       "45895   16-04-2024            0.010  5.000           30.00        36,30   \n",
       "82      16-04-2024            0.225  1.000            2.75         3,03   \n",
       "2768    16-04-2024            0.060  1.000            1.20         1,32   \n",
       "32581   16-04-2024            0.225  0.707            0.74         0,77   \n",
       "29525   16-04-2024            0.225  1.000            1.53         1,68   \n",
       "\n",
       "      p_u_amb_iva  \n",
       "30882        2,62  \n",
       "29705        1,98  \n",
       "29883        2,31  \n",
       "39775       12,71  \n",
       "31322        2,25  \n",
       "31442        4,12  \n",
       "31467        2,20  \n",
       "11115        1,77  \n",
       "8619         2,20  \n",
       "28781        2,07  \n",
       "45895        7,26  \n",
       "82           3,03  \n",
       "2768         1,32  \n",
       "32581        1,09  \n",
       "29525        1,68  "
      ]
     },
     "execution_count": 50,
     "metadata": {},
     "output_type": "execute_result"
    }
   ],
   "source": [
    "tiquet['p_u_amb_iva'] = tiquet.apply(lambda x: format(x.p_u_sense_iva *ivas[x.iva]['i'], ',.2f').replace(\".\", \",\"), axis=1)\n",
    "tiquet"
   ]
  },
  {
   "cell_type": "code",
   "execution_count": 51,
   "id": "d62ef790",
   "metadata": {
    "colab": {
     "base_uri": "https://localhost:8080/",
     "height": 520
    },
    "executionInfo": {
     "elapsed": 21,
     "status": "ok",
     "timestamp": 1713517095220,
     "user": {
      "displayName": "Jaume Juan i Pérez",
      "userId": "13047725848368858602"
     },
     "user_tz": -120
    },
    "id": "d62ef790",
    "outputId": "3ff498ef-db00-4891-b999-10ff354578ef"
   },
   "outputs": [
    {
     "data": {
      "text/html": [
       "<div>\n",
       "<style scoped>\n",
       "    .dataframe tbody tr th:only-of-type {\n",
       "        vertical-align: middle;\n",
       "    }\n",
       "\n",
       "    .dataframe tbody tr th {\n",
       "        vertical-align: top;\n",
       "    }\n",
       "\n",
       "    .dataframe thead th {\n",
       "        text-align: right;\n",
       "    }\n",
       "</style>\n",
       "<table border=\"1\" class=\"dataframe\">\n",
       "  <thead>\n",
       "    <tr style=\"text-align: right;\">\n",
       "      <th></th>\n",
       "      <th>name</th>\n",
       "      <th>category</th>\n",
       "      <th>subcategory</th>\n",
       "      <th>p_u_sense_iva</th>\n",
       "      <th>iva</th>\n",
       "      <th>format</th>\n",
       "      <th>ingested_day</th>\n",
       "      <th>category_weight</th>\n",
       "      <th>qty</th>\n",
       "      <th>preu_sense_iva</th>\n",
       "      <th>preu_amb_iva</th>\n",
       "      <th>p_u_amb_iva</th>\n",
       "    </tr>\n",
       "  </thead>\n",
       "  <tbody>\n",
       "    <tr>\n",
       "      <th>30882</th>\n",
       "      <td>NYOQUIS</td>\n",
       "      <td>Congelats</td>\n",
       "      <td>Arròs i pasta</td>\n",
       "      <td>2.38</td>\n",
       "      <td>10</td>\n",
       "      <td>ud</td>\n",
       "      <td>16-04-2024</td>\n",
       "      <td>0.225</td>\n",
       "      <td>3</td>\n",
       "      <td>7.14</td>\n",
       "      <td>7,85</td>\n",
       "      <td>2,62</td>\n",
       "    </tr>\n",
       "    <tr>\n",
       "      <th>29705</th>\n",
       "      <td>PIZZES TOMÀQUET</td>\n",
       "      <td>Congelats</td>\n",
       "      <td>Pizzes</td>\n",
       "      <td>1.80</td>\n",
       "      <td>10</td>\n",
       "      <td>ud</td>\n",
       "      <td>16-04-2024</td>\n",
       "      <td>0.225</td>\n",
       "      <td>1</td>\n",
       "      <td>1.80</td>\n",
       "      <td>1,98</td>\n",
       "      <td>1,98</td>\n",
       "    </tr>\n",
       "    <tr>\n",
       "      <th>29883</th>\n",
       "      <td>GELAT AMETLLAT</td>\n",
       "      <td>Congelats</td>\n",
       "      <td>Gelats</td>\n",
       "      <td>2.10</td>\n",
       "      <td>10</td>\n",
       "      <td>ud</td>\n",
       "      <td>16-04-2024</td>\n",
       "      <td>0.225</td>\n",
       "      <td>2</td>\n",
       "      <td>4.20</td>\n",
       "      <td>4,62</td>\n",
       "      <td>2,31</td>\n",
       "    </tr>\n",
       "    <tr>\n",
       "      <th>39775</th>\n",
       "      <td>LOT DONA JOVAN</td>\n",
       "      <td>Cura facial i corporal</td>\n",
       "      <td>Perfum i colònia</td>\n",
       "      <td>10.50</td>\n",
       "      <td>21</td>\n",
       "      <td>ud</td>\n",
       "      <td>16-04-2024</td>\n",
       "      <td>0.010</td>\n",
       "      <td>3</td>\n",
       "      <td>31.50</td>\n",
       "      <td>38,12</td>\n",
       "      <td>12,71</td>\n",
       "    </tr>\n",
       "    <tr>\n",
       "      <th>31322</th>\n",
       "      <td>GRANISSAT</td>\n",
       "      <td>Congelats</td>\n",
       "      <td>Gelats</td>\n",
       "      <td>2.05</td>\n",
       "      <td>10</td>\n",
       "      <td>ud</td>\n",
       "      <td>16-04-2024</td>\n",
       "      <td>0.225</td>\n",
       "      <td>1</td>\n",
       "      <td>2.05</td>\n",
       "      <td>2,25</td>\n",
       "      <td>2,25</td>\n",
       "    </tr>\n",
       "    <tr>\n",
       "      <th>31442</th>\n",
       "      <td>CALAMARSÓ</td>\n",
       "      <td>Congelats</td>\n",
       "      <td>Peix</td>\n",
       "      <td>3.75</td>\n",
       "      <td>10</td>\n",
       "      <td>ud</td>\n",
       "      <td>16-04-2024</td>\n",
       "      <td>0.225</td>\n",
       "      <td>1</td>\n",
       "      <td>3.75</td>\n",
       "      <td>4,12</td>\n",
       "      <td>4,12</td>\n",
       "    </tr>\n",
       "    <tr>\n",
       "      <th>31467</th>\n",
       "      <td>PIZZA IBÈRICA</td>\n",
       "      <td>Congelats</td>\n",
       "      <td>Pizzes</td>\n",
       "      <td>2.00</td>\n",
       "      <td>10</td>\n",
       "      <td>ud</td>\n",
       "      <td>16-04-2024</td>\n",
       "      <td>0.225</td>\n",
       "      <td>1</td>\n",
       "      <td>2.00</td>\n",
       "      <td>2,20</td>\n",
       "      <td>2,20</td>\n",
       "    </tr>\n",
       "    <tr>\n",
       "      <th>11115</th>\n",
       "      <td>FORMATGE</td>\n",
       "      <td>Xarcuteria i formatges</td>\n",
       "      <td>Formatge d'untar i fresc</td>\n",
       "      <td>1.70</td>\n",
       "      <td>4</td>\n",
       "      <td>ud</td>\n",
       "      <td>16-04-2024</td>\n",
       "      <td>0.070</td>\n",
       "      <td>1</td>\n",
       "      <td>1.70</td>\n",
       "      <td>1,77</td>\n",
       "      <td>1,77</td>\n",
       "    </tr>\n",
       "    <tr>\n",
       "      <th>8619</th>\n",
       "      <td>REDUCCIÓ</td>\n",
       "      <td>Oli, espècies i salses</td>\n",
       "      <td>Oli, vinagre i sal</td>\n",
       "      <td>2.00</td>\n",
       "      <td>10</td>\n",
       "      <td>ud</td>\n",
       "      <td>16-04-2024</td>\n",
       "      <td>0.060</td>\n",
       "      <td>1</td>\n",
       "      <td>2.00</td>\n",
       "      <td>2,20</td>\n",
       "      <td>2,20</td>\n",
       "    </tr>\n",
       "    <tr>\n",
       "      <th>28781</th>\n",
       "      <td>CARCASSA</td>\n",
       "      <td>Carn</td>\n",
       "      <td>Aus i pollastre</td>\n",
       "      <td>1.88</td>\n",
       "      <td>10</td>\n",
       "      <td>ud</td>\n",
       "      <td>16-04-2024</td>\n",
       "      <td>0.060</td>\n",
       "      <td>1</td>\n",
       "      <td>1.88</td>\n",
       "      <td>2,07</td>\n",
       "      <td>2,07</td>\n",
       "    </tr>\n",
       "    <tr>\n",
       "      <th>45895</th>\n",
       "      <td>GEL PROTECCIÓ</td>\n",
       "      <td>Cura facial i corporal</td>\n",
       "      <td>Protector solar i crema postsolar</td>\n",
       "      <td>6.00</td>\n",
       "      <td>21</td>\n",
       "      <td>ud</td>\n",
       "      <td>16-04-2024</td>\n",
       "      <td>0.010</td>\n",
       "      <td>5</td>\n",
       "      <td>30.00</td>\n",
       "      <td>36,30</td>\n",
       "      <td>7,26</td>\n",
       "    </tr>\n",
       "    <tr>\n",
       "      <th>82</th>\n",
       "      <td>AMANIDA DE PATATA</td>\n",
       "      <td>Fruita i verdura</td>\n",
       "      <td>Enciam i amanida preparada</td>\n",
       "      <td>2.75</td>\n",
       "      <td>10</td>\n",
       "      <td>ud</td>\n",
       "      <td>16-04-2024</td>\n",
       "      <td>0.225</td>\n",
       "      <td>1</td>\n",
       "      <td>2.75</td>\n",
       "      <td>3,03</td>\n",
       "      <td>3,03</td>\n",
       "    </tr>\n",
       "    <tr>\n",
       "      <th>2768</th>\n",
       "      <td>ARRÒS AMB LLET</td>\n",
       "      <td>Postres i iogurts</td>\n",
       "      <td>Gelatina i altres postres</td>\n",
       "      <td>1.20</td>\n",
       "      <td>10</td>\n",
       "      <td>ud</td>\n",
       "      <td>16-04-2024</td>\n",
       "      <td>0.060</td>\n",
       "      <td>1</td>\n",
       "      <td>1.20</td>\n",
       "      <td>1,32</td>\n",
       "      <td>1,32</td>\n",
       "    </tr>\n",
       "    <tr>\n",
       "      <th>32581</th>\n",
       "      <td>MONGETA TENDRA</td>\n",
       "      <td>Congelats</td>\n",
       "      <td>Verdura</td>\n",
       "      <td>1.05</td>\n",
       "      <td>4</td>\n",
       "      <td>kg</td>\n",
       "      <td>16-04-2024</td>\n",
       "      <td>0.225</td>\n",
       "      <td>0.707</td>\n",
       "      <td>0.74</td>\n",
       "      <td>0,77</td>\n",
       "      <td>1,09</td>\n",
       "    </tr>\n",
       "    <tr>\n",
       "      <th>29525</th>\n",
       "      <td>TUBETS HACENDADO</td>\n",
       "      <td>Congelats</td>\n",
       "      <td>Gelats</td>\n",
       "      <td>1.53</td>\n",
       "      <td>10</td>\n",
       "      <td>ud</td>\n",
       "      <td>16-04-2024</td>\n",
       "      <td>0.225</td>\n",
       "      <td>1</td>\n",
       "      <td>1.53</td>\n",
       "      <td>1,68</td>\n",
       "      <td>1,68</td>\n",
       "    </tr>\n",
       "  </tbody>\n",
       "</table>\n",
       "</div>"
      ],
      "text/plain": [
       "                    name                category  \\\n",
       "30882            NYOQUIS               Congelats   \n",
       "29705    PIZZES TOMÀQUET               Congelats   \n",
       "29883     GELAT AMETLLAT               Congelats   \n",
       "39775     LOT DONA JOVAN  Cura facial i corporal   \n",
       "31322          GRANISSAT               Congelats   \n",
       "31442          CALAMARSÓ               Congelats   \n",
       "31467      PIZZA IBÈRICA               Congelats   \n",
       "11115           FORMATGE  Xarcuteria i formatges   \n",
       "8619            REDUCCIÓ  Oli, espècies i salses   \n",
       "28781           CARCASSA                    Carn   \n",
       "45895      GEL PROTECCIÓ  Cura facial i corporal   \n",
       "82     AMANIDA DE PATATA        Fruita i verdura   \n",
       "2768      ARRÒS AMB LLET       Postres i iogurts   \n",
       "32581     MONGETA TENDRA               Congelats   \n",
       "29525   TUBETS HACENDADO               Congelats   \n",
       "\n",
       "                             subcategory  p_u_sense_iva iva format  \\\n",
       "30882                      Arròs i pasta           2.38  10     ud   \n",
       "29705                             Pizzes           1.80  10     ud   \n",
       "29883                             Gelats           2.10  10     ud   \n",
       "39775                   Perfum i colònia          10.50  21     ud   \n",
       "31322                             Gelats           2.05  10     ud   \n",
       "31442                               Peix           3.75  10     ud   \n",
       "31467                             Pizzes           2.00  10     ud   \n",
       "11115           Formatge d'untar i fresc           1.70   4     ud   \n",
       "8619                  Oli, vinagre i sal           2.00  10     ud   \n",
       "28781                    Aus i pollastre           1.88  10     ud   \n",
       "45895  Protector solar i crema postsolar           6.00  21     ud   \n",
       "82            Enciam i amanida preparada           2.75  10     ud   \n",
       "2768           Gelatina i altres postres           1.20  10     ud   \n",
       "32581                            Verdura           1.05   4     kg   \n",
       "29525                             Gelats           1.53  10     ud   \n",
       "\n",
       "      ingested_day  category_weight    qty  preu_sense_iva preu_amb_iva  \\\n",
       "30882   16-04-2024            0.225      3            7.14         7,85   \n",
       "29705   16-04-2024            0.225      1            1.80         1,98   \n",
       "29883   16-04-2024            0.225      2            4.20         4,62   \n",
       "39775   16-04-2024            0.010      3           31.50        38,12   \n",
       "31322   16-04-2024            0.225      1            2.05         2,25   \n",
       "31442   16-04-2024            0.225      1            3.75         4,12   \n",
       "31467   16-04-2024            0.225      1            2.00         2,20   \n",
       "11115   16-04-2024            0.070      1            1.70         1,77   \n",
       "8619    16-04-2024            0.060      1            2.00         2,20   \n",
       "28781   16-04-2024            0.060      1            1.88         2,07   \n",
       "45895   16-04-2024            0.010      5           30.00        36,30   \n",
       "82      16-04-2024            0.225      1            2.75         3,03   \n",
       "2768    16-04-2024            0.060      1            1.20         1,32   \n",
       "32581   16-04-2024            0.225  0.707            0.74         0,77   \n",
       "29525   16-04-2024            0.225      1            1.53         1,68   \n",
       "\n",
       "      p_u_amb_iva  \n",
       "30882        2,62  \n",
       "29705        1,98  \n",
       "29883        2,31  \n",
       "39775       12,71  \n",
       "31322        2,25  \n",
       "31442        4,12  \n",
       "31467        2,20  \n",
       "11115        1,77  \n",
       "8619         2,20  \n",
       "28781        2,07  \n",
       "45895        7,26  \n",
       "82           3,03  \n",
       "2768         1,32  \n",
       "32581        1,09  \n",
       "29525        1,68  "
      ]
     },
     "execution_count": 51,
     "metadata": {},
     "output_type": "execute_result"
    }
   ],
   "source": [
    "tiquet['qty'] = tiquet.apply(lambda x: format(x.qty, ',.0f') if x.format == 'ud' else x.qty, axis=1)\n",
    "tiquet"
   ]
  },
  {
   "cell_type": "code",
   "execution_count": 52,
   "id": "43811a50",
   "metadata": {
    "colab": {
     "base_uri": "https://localhost:8080/"
    },
    "executionInfo": {
     "elapsed": 21,
     "status": "ok",
     "timestamp": 1713517095220,
     "user": {
      "displayName": "Jaume Juan i Pérez",
      "userId": "13047725848368858602"
     },
     "user_tz": -120
    },
    "id": "43811a50",
    "outputId": "bc35dbcb-3178-4407-c9d8-1065ea6e098f"
   },
   "outputs": [
    {
     "data": {
      "text/plain": [
       "[{'descripcio': 'NYOQUIS',\n",
       "  'quantitat': '3',\n",
       "  'preu_unitari': '2,62',\n",
       "  'import': '7,85',\n",
       "  'format': 'ud'},\n",
       " {'descripcio': 'PIZZES TOMÀQUET',\n",
       "  'quantitat': '1',\n",
       "  'preu_unitari': '1,98',\n",
       "  'import': '1,98',\n",
       "  'format': 'ud'},\n",
       " {'descripcio': 'GELAT AMETLLAT',\n",
       "  'quantitat': '2',\n",
       "  'preu_unitari': '2,31',\n",
       "  'import': '4,62',\n",
       "  'format': 'ud'},\n",
       " {'descripcio': 'LOT DONA JOVAN',\n",
       "  'quantitat': '3',\n",
       "  'preu_unitari': '12,71',\n",
       "  'import': '38,12',\n",
       "  'format': 'ud'},\n",
       " {'descripcio': 'GRANISSAT',\n",
       "  'quantitat': '1',\n",
       "  'preu_unitari': '2,25',\n",
       "  'import': '2,25',\n",
       "  'format': 'ud'},\n",
       " {'descripcio': 'CALAMARSÓ',\n",
       "  'quantitat': '1',\n",
       "  'preu_unitari': '4,12',\n",
       "  'import': '4,12',\n",
       "  'format': 'ud'},\n",
       " {'descripcio': 'PIZZA IBÈRICA',\n",
       "  'quantitat': '1',\n",
       "  'preu_unitari': '2,20',\n",
       "  'import': '2,20',\n",
       "  'format': 'ud'},\n",
       " {'descripcio': 'FORMATGE',\n",
       "  'quantitat': '1',\n",
       "  'preu_unitari': '1,77',\n",
       "  'import': '1,77',\n",
       "  'format': 'ud'},\n",
       " {'descripcio': 'REDUCCIÓ',\n",
       "  'quantitat': '1',\n",
       "  'preu_unitari': '2,20',\n",
       "  'import': '2,20',\n",
       "  'format': 'ud'},\n",
       " {'descripcio': 'CARCASSA',\n",
       "  'quantitat': '1',\n",
       "  'preu_unitari': '2,07',\n",
       "  'import': '2,07',\n",
       "  'format': 'ud'},\n",
       " {'descripcio': 'GEL PROTECCIÓ',\n",
       "  'quantitat': '5',\n",
       "  'preu_unitari': '7,26',\n",
       "  'import': '36,30',\n",
       "  'format': 'ud'},\n",
       " {'descripcio': 'AMANIDA DE PATATA',\n",
       "  'quantitat': '1',\n",
       "  'preu_unitari': '3,03',\n",
       "  'import': '3,03',\n",
       "  'format': 'ud'},\n",
       " {'descripcio': 'ARRÒS AMB LLET',\n",
       "  'quantitat': '1',\n",
       "  'preu_unitari': '1,32',\n",
       "  'import': '1,32',\n",
       "  'format': 'ud'},\n",
       " {'descripcio': 'MONGETA TENDRA',\n",
       "  'quantitat': 0.707,\n",
       "  'preu_unitari': '1,09',\n",
       "  'import': '0,77',\n",
       "  'format': 'kg'},\n",
       " {'descripcio': 'TUBETS HACENDADO',\n",
       "  'quantitat': '1',\n",
       "  'preu_unitari': '1,68',\n",
       "  'import': '1,68',\n",
       "  'format': 'ud'}]"
      ]
     },
     "execution_count": 52,
     "metadata": {},
     "output_type": "execute_result"
    }
   ],
   "source": [
    "products = tiquet[['name', 'qty', 'p_u_amb_iva', 'preu_amb_iva', 'format']].rename(columns={\n",
    "    'name': 'descripcio',\n",
    "    'qty': 'quantitat',\n",
    "    'p_u_amb_iva': 'preu_unitari',\n",
    "    'preu_amb_iva': 'import',\n",
    "})\n",
    "\n",
    "products = products.to_dict(orient='records')\n",
    "\n",
    "products"
   ]
  },
  {
   "cell_type": "markdown",
   "id": "7b409771",
   "metadata": {},
   "source": [
    "#### Hem de separar amb dos classes la quantitat_ud i quantitat_kg\n",
    "- el {**p} &rarr; crea un diccionari igual\n",
    "- després crem un nou atribut `quantitat_ud` o `quantitat_kg` en funció de si el format és kg o ud amb el mateix valor del previ atribut `quantitat`.\n",
    "- finalment ens quedem amb tots els atributs menys el de `quantitat` perquè es el que volem substituir per `_ud` o `_kg`"
   ]
  },
  {
   "cell_type": "code",
   "execution_count": 53,
   "id": "c992cdc5",
   "metadata": {},
   "outputs": [
    {
     "data": {
      "text/plain": [
       "[{'descripcio': 'NYOQUIS',\n",
       "  'preu_unitari': '2,62',\n",
       "  'import': '7,85',\n",
       "  'format': 'ud',\n",
       "  'quantitat_ud': '3'},\n",
       " {'descripcio': 'PIZZES TOMÀQUET',\n",
       "  'preu_unitari': '1,98',\n",
       "  'import': '1,98',\n",
       "  'format': 'ud',\n",
       "  'quantitat_ud': '1'},\n",
       " {'descripcio': 'GELAT AMETLLAT',\n",
       "  'preu_unitari': '2,31',\n",
       "  'import': '4,62',\n",
       "  'format': 'ud',\n",
       "  'quantitat_ud': '2'},\n",
       " {'descripcio': 'LOT DONA JOVAN',\n",
       "  'preu_unitari': '12,71',\n",
       "  'import': '38,12',\n",
       "  'format': 'ud',\n",
       "  'quantitat_ud': '3'},\n",
       " {'descripcio': 'GRANISSAT',\n",
       "  'preu_unitari': '2,25',\n",
       "  'import': '2,25',\n",
       "  'format': 'ud',\n",
       "  'quantitat_ud': '1'},\n",
       " {'descripcio': 'CALAMARSÓ',\n",
       "  'preu_unitari': '4,12',\n",
       "  'import': '4,12',\n",
       "  'format': 'ud',\n",
       "  'quantitat_ud': '1'},\n",
       " {'descripcio': 'PIZZA IBÈRICA',\n",
       "  'preu_unitari': '2,20',\n",
       "  'import': '2,20',\n",
       "  'format': 'ud',\n",
       "  'quantitat_ud': '1'},\n",
       " {'descripcio': 'FORMATGE',\n",
       "  'preu_unitari': '1,77',\n",
       "  'import': '1,77',\n",
       "  'format': 'ud',\n",
       "  'quantitat_ud': '1'},\n",
       " {'descripcio': 'REDUCCIÓ',\n",
       "  'preu_unitari': '2,20',\n",
       "  'import': '2,20',\n",
       "  'format': 'ud',\n",
       "  'quantitat_ud': '1'},\n",
       " {'descripcio': 'CARCASSA',\n",
       "  'preu_unitari': '2,07',\n",
       "  'import': '2,07',\n",
       "  'format': 'ud',\n",
       "  'quantitat_ud': '1'},\n",
       " {'descripcio': 'GEL PROTECCIÓ',\n",
       "  'preu_unitari': '7,26',\n",
       "  'import': '36,30',\n",
       "  'format': 'ud',\n",
       "  'quantitat_ud': '5'},\n",
       " {'descripcio': 'AMANIDA DE PATATA',\n",
       "  'preu_unitari': '3,03',\n",
       "  'import': '3,03',\n",
       "  'format': 'ud',\n",
       "  'quantitat_ud': '1'},\n",
       " {'descripcio': 'ARRÒS AMB LLET',\n",
       "  'preu_unitari': '1,32',\n",
       "  'import': '1,32',\n",
       "  'format': 'ud',\n",
       "  'quantitat_ud': '1'},\n",
       " {'descripcio': 'MONGETA TENDRA',\n",
       "  'preu_unitari': '1,09',\n",
       "  'import': '0,77',\n",
       "  'format': 'kg',\n",
       "  'quantitat_kg': 0.707},\n",
       " {'descripcio': 'TUBETS HACENDADO',\n",
       "  'preu_unitari': '1,68',\n",
       "  'import': '1,68',\n",
       "  'format': 'ud',\n",
       "  'quantitat_ud': '1'}]"
      ]
     },
     "execution_count": 53,
     "metadata": {},
     "output_type": "execute_result"
    }
   ],
   "source": [
    "products = [{**p, 'quantitat_ud' if p['format'] == 'ud' else 'quantitat_kg': p['quantitat']} for p in products]\n",
    "\n",
    "products = [{k: v for k, v in p.items() if k != 'quantitat'} for p in products]\n",
    "\n",
    "products"
   ]
  },
  {
   "cell_type": "markdown",
   "id": "92656d42",
   "metadata": {
    "id": "92656d42"
   },
   "source": [
    "#### Creem un dataframe amb la informació dels productes"
   ]
  },
  {
   "cell_type": "markdown",
   "id": "2a8daaf1",
   "metadata": {
    "id": "2a8daaf1"
   },
   "source": [
    "#### Height i blobs del tiquet\n",
    "- El (0, 0): Està a dalt a la esquerre del tiquet.\n",
    "- Afegim cada blob al dataframe."
   ]
  },
  {
   "cell_type": "markdown",
   "id": "22b805e2",
   "metadata": {
    "executionInfo": {
     "elapsed": 19,
     "status": "ok",
     "timestamp": 1713517095220,
     "user": {
      "displayName": "Jaume Juan i Pérez",
      "userId": "13047725848368858602"
     },
     "user_tz": -120
    },
    "id": "X7Beg9QjuQ23"
   },
   "source": [
    "```python\n",
    "ud = {\n",
    "    'quantitat_ud': {'left': 25, 'width': 40},\n",
    "    'descripcio': {'left': 65, 'width': 200},\n",
    "    'preu_unitari': {'left': 307.5, 'width': 70},\n",
    "    'import': {'left': 430,  'width': 45},\n",
    "}\n",
    "\n",
    "kg = {\n",
    "    'quantitat_kg': {'left': 99, 'width': 60},\n",
    "    'descripcio': {'left': 65, 'width': 200},\n",
    "    'preu_unitari': {'left': 307.5, 'width': 70},\n",
    "    'import': {'left': 430,  'width': 45},\n",
    "\n",
    "}\n",
    "\n",
    "total = {\n",
    "    'total': {'left': 400,  'width': 75},\n",
    "}\n",
    "\n",
    "def coords(d, count, key):\n",
    "    left = d[key]['left']\n",
    "    height = 20\n",
    "    top = 290 + (count *20)\n",
    "    width = d[key]['width']\n",
    "\n",
    "    return {\n",
    "        '1':(left, top),\n",
    "        '2':(left + width, top),\n",
    "        '3':(left, top + height),\n",
    "        '4':(left + width, top + height),\n",
    "    }\n",
    "\n",
    "# coords(ud, 2, 'import')\n",
    "# coords(ud, 1, 'import')\n",
    "\n",
    "tiquets = []\n",
    "\n",
    "count = 1\n",
    "\n",
    "for product in products:\n",
    "    if product['format'] == 'ud':\n",
    "        for key in ud.keys():\n",
    "            tiquets.append({\n",
    "                'ticket_id': '000001.png',\n",
    "                'etiqueta': key,\n",
    "                'value': product[key],\n",
    "                'blob': coords(ud, count, key),\n",
    "            })\n",
    "        count = count + 1\n",
    "    else:\n",
    "        for key in kg.keys():\n",
    "            tiquets.append({\n",
    "                'ticket_id': '000001.png',\n",
    "                'etiqueta': key,\n",
    "                'value': product[key],\n",
    "                'blob': coords(kg, count if key == 'descripcio' else count +1, key),\n",
    "            })\n",
    "        count = count + 2\n",
    "\n",
    "# blank row\n",
    "count = count + 1\n",
    "\n",
    "# Total (€)\n",
    "tiquets.append({\n",
    "    'ticket_id': '000001.png',\n",
    "    'etiqueta': 'total',\n",
    "    'value':  total_amb_iva,\n",
    "    'blob': coords(total, count, 'total'),\n",
    "})\n",
    "count = count + 1\n",
    "\n",
    "# Targeta bancària\n",
    "count = count + 1\n",
    "\n",
    "top = 290 + (count * 20) + 20\n",
    "\n",
    "# Height del footer => 328px\n",
    "# Padding top i bottom => 25px\n",
    "\n",
    "container_height = top + 328 + 25\n",
    "\n",
    "container_height\n",
    "```"
   ]
  },
  {
   "cell_type": "markdown",
   "id": "b55359cd",
   "metadata": {},
   "source": [
    "- Al script li passem el `total_amb_iva` al metode generate_blobs perquè no el tenim accesible, això es podría millorar."
   ]
  },
  {
   "cell_type": "markdown",
   "id": "u8xFBHPEvaDF",
   "metadata": {
    "id": "u8xFBHPEvaDF"
   },
   "source": [
    "#### Format del dataset final:\n",
    "|ticket_id|etiqueta|value|b_1|b_2|b_3|b_4|\n",
    "|-|-|-|-|-|-|-|\n",
    "|-|-|-|-|-|-|-|\n",
    "\n",
    "- on:\n",
    "    - ticket_id: nom de la foto en `.png` del tiquet.\n",
    "    - etiqueta: nom del que representem. Ex: descripció, quantitat, preu unitari, import, total\n",
    "    - value: valor que hi ha a la imatge.\n",
    "    - b_1: coordenada de dalt a la esquerre del recuadre que conté la informació.\n",
    "    - b_2: coordenada (vèrtex) superior dret.\n",
    "    - b_3: vèrtex inferior esquerre del rectangle.\n",
    "    - b_4: vèrtex inferior dret del rectangel.\n",
    "\n",
    "- Quan ho passem a l'script que generi `n` tiquets, només calcularem: `b_1` i `b_4`, ja que són els únics que necessitem.\n",
    "\n",
    "#### Iterem per l'objecte products i calculem els blobs"
   ]
  },
  {
   "cell_type": "code",
   "execution_count": 54,
   "id": "377b6d90",
   "metadata": {},
   "outputs": [],
   "source": [
    "ud = {\n",
    "    'quantitat_ud': {'left': 25, 'width': 40},\n",
    "    'descripcio': {'left': 65, 'width': 200},\n",
    "    'preu_unitari': {'left': 307.5, 'width': 70},\n",
    "    'import': {'left': 430,  'width': 45},\n",
    "}\n",
    "\n",
    "kg = {\n",
    "    'quantitat_kg': {'left': 99, 'width': 60},\n",
    "    'descripcio': {'left': 65, 'width': 200},\n",
    "    'preu_unitari': {'left': 307.5, 'width': 70},\n",
    "    'import': {'left': 430,  'width': 45},\n",
    "}\n",
    "\n",
    "total = {\n",
    "    'total': {'left': 400,  'width': 75},\n",
    "}\n",
    "\n",
    "class BlobGenerator:\n",
    "    def __init__(self, initial_count, top_offset, ud, kg, total):\n",
    "        self.count = initial_count\n",
    "        self.top_offset = top_offset\n",
    "        self.ud = ud\n",
    "        self.kg = kg\n",
    "        self.total = total\n",
    "        self.item_height = 20\n",
    "        self.tiquets = None\n",
    "\n",
    "    def coords(self, format_dict,count, key):\n",
    "        left = format_dict[key]['left']\n",
    "        top = self.top_offset + (count *self.item_height)\n",
    "        width = format_dict[key]['width']\n",
    "\n",
    "        return {\n",
    "            '1': (left, top),\n",
    "            '2': (left + width, top),\n",
    "            '3': (left, top + self.item_height),\n",
    "            '4': (left + width, top + self.item_height),\n",
    "        }\n",
    "\n",
    "    def generate_blobs(self, products, ticket_num):\n",
    "        tiquets = []\n",
    "        for product in products:\n",
    "            if product['format'] == 'ud':\n",
    "                for key in self.ud.keys():\n",
    "                    \n",
    "                    # Si només tenim 1 unitat, no posem preu unitari, per tant no necessitem blob d'aquell espai\n",
    "                    if key == 'preu_unitari' and product['quantitat_ud'] == '1': continue\n",
    "                        \n",
    "                    tiquets.append({\n",
    "                        'ticket_id': f'{ticket_num}.png',\n",
    "                        'etiqueta': key,\n",
    "                        'value': product[key],\n",
    "                        'blob': self.coords(self.ud, self.count, key),\n",
    "                    })\n",
    "                self.count = self.count + 1\n",
    "            else:\n",
    "                for key in self.kg.keys():\n",
    "                    tiquets.append({\n",
    "                        'ticket_id': f'{ticket_num}.png',\n",
    "                        'etiqueta': key,\n",
    "                        'value': product[key],\n",
    "                        'blob': self.coords(self.kg, self.count if key == 'descripcio' else self.count +1, key),\n",
    "                    })\n",
    "                self.count = self.count + 2\n",
    "        # Blank row\n",
    "        self.count += 1\n",
    "        tiquets.append({\n",
    "            'ticket_id': f'{ticket_num}.png',\n",
    "            'etiqueta': 'total',\n",
    "            'value':  total_amb_iva,\n",
    "            'blob': self.coords(self.total, self.count, 'total'),\n",
    "        })\n",
    "        \n",
    "        # Tractem l'array de tiquets per passar-lo a dataframe i convertir-lo correctament\n",
    "        self.tiquets = pd.DataFrame(tiquets)\n",
    "        self.tiquets[['b_1', 'b_2', 'b_3', 'b_4']] = self.tiquets.blob.apply(lambda b: pd.Series([b['1'], b['2'], b['3'], b['4']]))\n",
    "        self.tiquets.drop('blob', axis=1, inplace=True)\n",
    "        return self.tiquets\n",
    "\n",
    "    def increment_count(self, n):\n",
    "        self.count += n\n",
    "\n",
    "# Instància per calcular els blobs dels productes:\n",
    "ticket_generator = BlobGenerator(initial_count=1, top_offset=290, ud=ud, kg=kg, total=total)\n",
    "\n",
    "tiquets = ticket_generator.generate_blobs(products, '000001.png')"
   ]
  },
  {
   "cell_type": "markdown",
   "id": "uxUsw8eu36Vs",
   "metadata": {
    "id": "uxUsw8eu36Vs"
   },
   "source": [
    "#### Calculem la height del tiquet\n",
    "- Si examinem la plantilla, veiem que per saber on està el top (principi) del fotter hem de fer: `290 + (count * 20) + 20`\n",
    "- També tenim que la height del footer és de: `328px` això no varia.\n",
    "- i el padding bottom i top de `25px`, només hem de sumar el bottom perquè el top ja està inclòs dins el top que hem calculat anteriorment."
   ]
  },
  {
   "cell_type": "code",
   "execution_count": 55,
   "id": "j57osuQG39QT",
   "metadata": {
    "executionInfo": {
     "elapsed": 294,
     "status": "ok",
     "timestamp": 1713520958379,
     "user": {
      "displayName": "Jaume Juan i Pérez",
      "userId": "13047725848368858602"
     },
     "user_tz": -120
    },
    "id": "j57osuQG39QT"
   },
   "outputs": [
    {
     "data": {
      "text/plain": [
       "1063"
      ]
     },
     "execution_count": 55,
     "metadata": {},
     "output_type": "execute_result"
    }
   ],
   "source": [
    "ticket_generator.increment_count(2)\n",
    "\n",
    "container_height = 290 + (ticket_generator.count * 20) + 20 + 328 + 25\n",
    "\n",
    "container_height"
   ]
  },
  {
   "cell_type": "markdown",
   "id": "kj9sKyMB4t6s",
   "metadata": {
    "id": "kj9sKyMB4t6s"
   },
   "source": [
    "#### Separem els blobs en tots els vèrtex que hi ha\n"
   ]
  },
  {
   "cell_type": "markdown",
   "id": "73677378",
   "metadata": {
    "colab": {
     "base_uri": "https://localhost:8080/",
     "height": 424
    },
    "executionInfo": {
     "elapsed": 35,
     "status": "ok",
     "timestamp": 1713517095578,
     "user": {
      "displayName": "Jaume Juan i Pérez",
      "userId": "13047725848368858602"
     },
     "user_tz": -120
    },
    "id": "5dd52b77",
    "outputId": "095ce930-757a-4395-d6bb-a8cf3db09824"
   },
   "source": [
    "```python\n",
    "tiquets[['b_1', 'b_2', 'b_3', 'b_4']] = tiquets.blob.apply(lambda b: pd.Series([b['1'], b['2'], b['3'], b['4']]))\n",
    "tiquets.drop('blob', axis=1, inplace=True)\n",
    "tiquets\n",
    "```"
   ]
  },
  {
   "cell_type": "code",
   "execution_count": 56,
   "id": "0d63552f",
   "metadata": {},
   "outputs": [
    {
     "data": {
      "text/html": [
       "<div>\n",
       "<style scoped>\n",
       "    .dataframe tbody tr th:only-of-type {\n",
       "        vertical-align: middle;\n",
       "    }\n",
       "\n",
       "    .dataframe tbody tr th {\n",
       "        vertical-align: top;\n",
       "    }\n",
       "\n",
       "    .dataframe thead th {\n",
       "        text-align: right;\n",
       "    }\n",
       "</style>\n",
       "<table border=\"1\" class=\"dataframe\">\n",
       "  <thead>\n",
       "    <tr style=\"text-align: right;\">\n",
       "      <th></th>\n",
       "      <th>ticket_id</th>\n",
       "      <th>etiqueta</th>\n",
       "      <th>value</th>\n",
       "      <th>b_1</th>\n",
       "      <th>b_2</th>\n",
       "      <th>b_3</th>\n",
       "      <th>b_4</th>\n",
       "    </tr>\n",
       "  </thead>\n",
       "  <tbody>\n",
       "    <tr>\n",
       "      <th>0</th>\n",
       "      <td>000001.png.png</td>\n",
       "      <td>quantitat_ud</td>\n",
       "      <td>3</td>\n",
       "      <td>(25, 310)</td>\n",
       "      <td>(65, 310)</td>\n",
       "      <td>(25, 330)</td>\n",
       "      <td>(65, 330)</td>\n",
       "    </tr>\n",
       "    <tr>\n",
       "      <th>1</th>\n",
       "      <td>000001.png.png</td>\n",
       "      <td>descripcio</td>\n",
       "      <td>NYOQUIS</td>\n",
       "      <td>(65, 310)</td>\n",
       "      <td>(265, 310)</td>\n",
       "      <td>(65, 330)</td>\n",
       "      <td>(265, 330)</td>\n",
       "    </tr>\n",
       "    <tr>\n",
       "      <th>2</th>\n",
       "      <td>000001.png.png</td>\n",
       "      <td>preu_unitari</td>\n",
       "      <td>2,62</td>\n",
       "      <td>(307.5, 310)</td>\n",
       "      <td>(377.5, 310)</td>\n",
       "      <td>(307.5, 330)</td>\n",
       "      <td>(377.5, 330)</td>\n",
       "    </tr>\n",
       "    <tr>\n",
       "      <th>3</th>\n",
       "      <td>000001.png.png</td>\n",
       "      <td>import</td>\n",
       "      <td>7,85</td>\n",
       "      <td>(430, 310)</td>\n",
       "      <td>(475, 310)</td>\n",
       "      <td>(430, 330)</td>\n",
       "      <td>(475, 330)</td>\n",
       "    </tr>\n",
       "    <tr>\n",
       "      <th>4</th>\n",
       "      <td>000001.png.png</td>\n",
       "      <td>quantitat_ud</td>\n",
       "      <td>1</td>\n",
       "      <td>(25, 330)</td>\n",
       "      <td>(65, 330)</td>\n",
       "      <td>(25, 350)</td>\n",
       "      <td>(65, 350)</td>\n",
       "    </tr>\n",
       "    <tr>\n",
       "      <th>5</th>\n",
       "      <td>000001.png.png</td>\n",
       "      <td>descripcio</td>\n",
       "      <td>PIZZES TOMÀQUET</td>\n",
       "      <td>(65, 330)</td>\n",
       "      <td>(265, 330)</td>\n",
       "      <td>(65, 350)</td>\n",
       "      <td>(265, 350)</td>\n",
       "    </tr>\n",
       "    <tr>\n",
       "      <th>6</th>\n",
       "      <td>000001.png.png</td>\n",
       "      <td>import</td>\n",
       "      <td>1,98</td>\n",
       "      <td>(430, 330)</td>\n",
       "      <td>(475, 330)</td>\n",
       "      <td>(430, 350)</td>\n",
       "      <td>(475, 350)</td>\n",
       "    </tr>\n",
       "    <tr>\n",
       "      <th>7</th>\n",
       "      <td>000001.png.png</td>\n",
       "      <td>quantitat_ud</td>\n",
       "      <td>2</td>\n",
       "      <td>(25, 350)</td>\n",
       "      <td>(65, 350)</td>\n",
       "      <td>(25, 370)</td>\n",
       "      <td>(65, 370)</td>\n",
       "    </tr>\n",
       "    <tr>\n",
       "      <th>8</th>\n",
       "      <td>000001.png.png</td>\n",
       "      <td>descripcio</td>\n",
       "      <td>GELAT AMETLLAT</td>\n",
       "      <td>(65, 350)</td>\n",
       "      <td>(265, 350)</td>\n",
       "      <td>(65, 370)</td>\n",
       "      <td>(265, 370)</td>\n",
       "    </tr>\n",
       "    <tr>\n",
       "      <th>9</th>\n",
       "      <td>000001.png.png</td>\n",
       "      <td>preu_unitari</td>\n",
       "      <td>2,31</td>\n",
       "      <td>(307.5, 350)</td>\n",
       "      <td>(377.5, 350)</td>\n",
       "      <td>(307.5, 370)</td>\n",
       "      <td>(377.5, 370)</td>\n",
       "    </tr>\n",
       "    <tr>\n",
       "      <th>10</th>\n",
       "      <td>000001.png.png</td>\n",
       "      <td>import</td>\n",
       "      <td>4,62</td>\n",
       "      <td>(430, 350)</td>\n",
       "      <td>(475, 350)</td>\n",
       "      <td>(430, 370)</td>\n",
       "      <td>(475, 370)</td>\n",
       "    </tr>\n",
       "    <tr>\n",
       "      <th>11</th>\n",
       "      <td>000001.png.png</td>\n",
       "      <td>quantitat_ud</td>\n",
       "      <td>3</td>\n",
       "      <td>(25, 370)</td>\n",
       "      <td>(65, 370)</td>\n",
       "      <td>(25, 390)</td>\n",
       "      <td>(65, 390)</td>\n",
       "    </tr>\n",
       "    <tr>\n",
       "      <th>12</th>\n",
       "      <td>000001.png.png</td>\n",
       "      <td>descripcio</td>\n",
       "      <td>LOT DONA JOVAN</td>\n",
       "      <td>(65, 370)</td>\n",
       "      <td>(265, 370)</td>\n",
       "      <td>(65, 390)</td>\n",
       "      <td>(265, 390)</td>\n",
       "    </tr>\n",
       "    <tr>\n",
       "      <th>13</th>\n",
       "      <td>000001.png.png</td>\n",
       "      <td>preu_unitari</td>\n",
       "      <td>12,71</td>\n",
       "      <td>(307.5, 370)</td>\n",
       "      <td>(377.5, 370)</td>\n",
       "      <td>(307.5, 390)</td>\n",
       "      <td>(377.5, 390)</td>\n",
       "    </tr>\n",
       "    <tr>\n",
       "      <th>14</th>\n",
       "      <td>000001.png.png</td>\n",
       "      <td>import</td>\n",
       "      <td>38,12</td>\n",
       "      <td>(430, 370)</td>\n",
       "      <td>(475, 370)</td>\n",
       "      <td>(430, 390)</td>\n",
       "      <td>(475, 390)</td>\n",
       "    </tr>\n",
       "    <tr>\n",
       "      <th>15</th>\n",
       "      <td>000001.png.png</td>\n",
       "      <td>quantitat_ud</td>\n",
       "      <td>1</td>\n",
       "      <td>(25, 390)</td>\n",
       "      <td>(65, 390)</td>\n",
       "      <td>(25, 410)</td>\n",
       "      <td>(65, 410)</td>\n",
       "    </tr>\n",
       "    <tr>\n",
       "      <th>16</th>\n",
       "      <td>000001.png.png</td>\n",
       "      <td>descripcio</td>\n",
       "      <td>GRANISSAT</td>\n",
       "      <td>(65, 390)</td>\n",
       "      <td>(265, 390)</td>\n",
       "      <td>(65, 410)</td>\n",
       "      <td>(265, 410)</td>\n",
       "    </tr>\n",
       "    <tr>\n",
       "      <th>17</th>\n",
       "      <td>000001.png.png</td>\n",
       "      <td>import</td>\n",
       "      <td>2,25</td>\n",
       "      <td>(430, 390)</td>\n",
       "      <td>(475, 390)</td>\n",
       "      <td>(430, 410)</td>\n",
       "      <td>(475, 410)</td>\n",
       "    </tr>\n",
       "    <tr>\n",
       "      <th>18</th>\n",
       "      <td>000001.png.png</td>\n",
       "      <td>quantitat_ud</td>\n",
       "      <td>1</td>\n",
       "      <td>(25, 410)</td>\n",
       "      <td>(65, 410)</td>\n",
       "      <td>(25, 430)</td>\n",
       "      <td>(65, 430)</td>\n",
       "    </tr>\n",
       "    <tr>\n",
       "      <th>19</th>\n",
       "      <td>000001.png.png</td>\n",
       "      <td>descripcio</td>\n",
       "      <td>CALAMARSÓ</td>\n",
       "      <td>(65, 410)</td>\n",
       "      <td>(265, 410)</td>\n",
       "      <td>(65, 430)</td>\n",
       "      <td>(265, 430)</td>\n",
       "    </tr>\n",
       "    <tr>\n",
       "      <th>20</th>\n",
       "      <td>000001.png.png</td>\n",
       "      <td>import</td>\n",
       "      <td>4,12</td>\n",
       "      <td>(430, 410)</td>\n",
       "      <td>(475, 410)</td>\n",
       "      <td>(430, 430)</td>\n",
       "      <td>(475, 430)</td>\n",
       "    </tr>\n",
       "    <tr>\n",
       "      <th>21</th>\n",
       "      <td>000001.png.png</td>\n",
       "      <td>quantitat_ud</td>\n",
       "      <td>1</td>\n",
       "      <td>(25, 430)</td>\n",
       "      <td>(65, 430)</td>\n",
       "      <td>(25, 450)</td>\n",
       "      <td>(65, 450)</td>\n",
       "    </tr>\n",
       "    <tr>\n",
       "      <th>22</th>\n",
       "      <td>000001.png.png</td>\n",
       "      <td>descripcio</td>\n",
       "      <td>PIZZA IBÈRICA</td>\n",
       "      <td>(65, 430)</td>\n",
       "      <td>(265, 430)</td>\n",
       "      <td>(65, 450)</td>\n",
       "      <td>(265, 450)</td>\n",
       "    </tr>\n",
       "    <tr>\n",
       "      <th>23</th>\n",
       "      <td>000001.png.png</td>\n",
       "      <td>import</td>\n",
       "      <td>2,20</td>\n",
       "      <td>(430, 430)</td>\n",
       "      <td>(475, 430)</td>\n",
       "      <td>(430, 450)</td>\n",
       "      <td>(475, 450)</td>\n",
       "    </tr>\n",
       "    <tr>\n",
       "      <th>24</th>\n",
       "      <td>000001.png.png</td>\n",
       "      <td>quantitat_ud</td>\n",
       "      <td>1</td>\n",
       "      <td>(25, 450)</td>\n",
       "      <td>(65, 450)</td>\n",
       "      <td>(25, 470)</td>\n",
       "      <td>(65, 470)</td>\n",
       "    </tr>\n",
       "    <tr>\n",
       "      <th>25</th>\n",
       "      <td>000001.png.png</td>\n",
       "      <td>descripcio</td>\n",
       "      <td>FORMATGE</td>\n",
       "      <td>(65, 450)</td>\n",
       "      <td>(265, 450)</td>\n",
       "      <td>(65, 470)</td>\n",
       "      <td>(265, 470)</td>\n",
       "    </tr>\n",
       "    <tr>\n",
       "      <th>26</th>\n",
       "      <td>000001.png.png</td>\n",
       "      <td>import</td>\n",
       "      <td>1,77</td>\n",
       "      <td>(430, 450)</td>\n",
       "      <td>(475, 450)</td>\n",
       "      <td>(430, 470)</td>\n",
       "      <td>(475, 470)</td>\n",
       "    </tr>\n",
       "    <tr>\n",
       "      <th>27</th>\n",
       "      <td>000001.png.png</td>\n",
       "      <td>quantitat_ud</td>\n",
       "      <td>1</td>\n",
       "      <td>(25, 470)</td>\n",
       "      <td>(65, 470)</td>\n",
       "      <td>(25, 490)</td>\n",
       "      <td>(65, 490)</td>\n",
       "    </tr>\n",
       "    <tr>\n",
       "      <th>28</th>\n",
       "      <td>000001.png.png</td>\n",
       "      <td>descripcio</td>\n",
       "      <td>REDUCCIÓ</td>\n",
       "      <td>(65, 470)</td>\n",
       "      <td>(265, 470)</td>\n",
       "      <td>(65, 490)</td>\n",
       "      <td>(265, 490)</td>\n",
       "    </tr>\n",
       "    <tr>\n",
       "      <th>29</th>\n",
       "      <td>000001.png.png</td>\n",
       "      <td>import</td>\n",
       "      <td>2,20</td>\n",
       "      <td>(430, 470)</td>\n",
       "      <td>(475, 470)</td>\n",
       "      <td>(430, 490)</td>\n",
       "      <td>(475, 490)</td>\n",
       "    </tr>\n",
       "    <tr>\n",
       "      <th>30</th>\n",
       "      <td>000001.png.png</td>\n",
       "      <td>quantitat_ud</td>\n",
       "      <td>1</td>\n",
       "      <td>(25, 490)</td>\n",
       "      <td>(65, 490)</td>\n",
       "      <td>(25, 510)</td>\n",
       "      <td>(65, 510)</td>\n",
       "    </tr>\n",
       "    <tr>\n",
       "      <th>31</th>\n",
       "      <td>000001.png.png</td>\n",
       "      <td>descripcio</td>\n",
       "      <td>CARCASSA</td>\n",
       "      <td>(65, 490)</td>\n",
       "      <td>(265, 490)</td>\n",
       "      <td>(65, 510)</td>\n",
       "      <td>(265, 510)</td>\n",
       "    </tr>\n",
       "    <tr>\n",
       "      <th>32</th>\n",
       "      <td>000001.png.png</td>\n",
       "      <td>import</td>\n",
       "      <td>2,07</td>\n",
       "      <td>(430, 490)</td>\n",
       "      <td>(475, 490)</td>\n",
       "      <td>(430, 510)</td>\n",
       "      <td>(475, 510)</td>\n",
       "    </tr>\n",
       "    <tr>\n",
       "      <th>33</th>\n",
       "      <td>000001.png.png</td>\n",
       "      <td>quantitat_ud</td>\n",
       "      <td>5</td>\n",
       "      <td>(25, 510)</td>\n",
       "      <td>(65, 510)</td>\n",
       "      <td>(25, 530)</td>\n",
       "      <td>(65, 530)</td>\n",
       "    </tr>\n",
       "    <tr>\n",
       "      <th>34</th>\n",
       "      <td>000001.png.png</td>\n",
       "      <td>descripcio</td>\n",
       "      <td>GEL PROTECCIÓ</td>\n",
       "      <td>(65, 510)</td>\n",
       "      <td>(265, 510)</td>\n",
       "      <td>(65, 530)</td>\n",
       "      <td>(265, 530)</td>\n",
       "    </tr>\n",
       "    <tr>\n",
       "      <th>35</th>\n",
       "      <td>000001.png.png</td>\n",
       "      <td>preu_unitari</td>\n",
       "      <td>7,26</td>\n",
       "      <td>(307.5, 510)</td>\n",
       "      <td>(377.5, 510)</td>\n",
       "      <td>(307.5, 530)</td>\n",
       "      <td>(377.5, 530)</td>\n",
       "    </tr>\n",
       "    <tr>\n",
       "      <th>36</th>\n",
       "      <td>000001.png.png</td>\n",
       "      <td>import</td>\n",
       "      <td>36,30</td>\n",
       "      <td>(430, 510)</td>\n",
       "      <td>(475, 510)</td>\n",
       "      <td>(430, 530)</td>\n",
       "      <td>(475, 530)</td>\n",
       "    </tr>\n",
       "    <tr>\n",
       "      <th>37</th>\n",
       "      <td>000001.png.png</td>\n",
       "      <td>quantitat_ud</td>\n",
       "      <td>1</td>\n",
       "      <td>(25, 530)</td>\n",
       "      <td>(65, 530)</td>\n",
       "      <td>(25, 550)</td>\n",
       "      <td>(65, 550)</td>\n",
       "    </tr>\n",
       "    <tr>\n",
       "      <th>38</th>\n",
       "      <td>000001.png.png</td>\n",
       "      <td>descripcio</td>\n",
       "      <td>AMANIDA DE PATATA</td>\n",
       "      <td>(65, 530)</td>\n",
       "      <td>(265, 530)</td>\n",
       "      <td>(65, 550)</td>\n",
       "      <td>(265, 550)</td>\n",
       "    </tr>\n",
       "    <tr>\n",
       "      <th>39</th>\n",
       "      <td>000001.png.png</td>\n",
       "      <td>import</td>\n",
       "      <td>3,03</td>\n",
       "      <td>(430, 530)</td>\n",
       "      <td>(475, 530)</td>\n",
       "      <td>(430, 550)</td>\n",
       "      <td>(475, 550)</td>\n",
       "    </tr>\n",
       "    <tr>\n",
       "      <th>40</th>\n",
       "      <td>000001.png.png</td>\n",
       "      <td>quantitat_ud</td>\n",
       "      <td>1</td>\n",
       "      <td>(25, 550)</td>\n",
       "      <td>(65, 550)</td>\n",
       "      <td>(25, 570)</td>\n",
       "      <td>(65, 570)</td>\n",
       "    </tr>\n",
       "    <tr>\n",
       "      <th>41</th>\n",
       "      <td>000001.png.png</td>\n",
       "      <td>descripcio</td>\n",
       "      <td>ARRÒS AMB LLET</td>\n",
       "      <td>(65, 550)</td>\n",
       "      <td>(265, 550)</td>\n",
       "      <td>(65, 570)</td>\n",
       "      <td>(265, 570)</td>\n",
       "    </tr>\n",
       "    <tr>\n",
       "      <th>42</th>\n",
       "      <td>000001.png.png</td>\n",
       "      <td>import</td>\n",
       "      <td>1,32</td>\n",
       "      <td>(430, 550)</td>\n",
       "      <td>(475, 550)</td>\n",
       "      <td>(430, 570)</td>\n",
       "      <td>(475, 570)</td>\n",
       "    </tr>\n",
       "    <tr>\n",
       "      <th>43</th>\n",
       "      <td>000001.png.png</td>\n",
       "      <td>quantitat_kg</td>\n",
       "      <td>0.707</td>\n",
       "      <td>(99, 590)</td>\n",
       "      <td>(159, 590)</td>\n",
       "      <td>(99, 610)</td>\n",
       "      <td>(159, 610)</td>\n",
       "    </tr>\n",
       "    <tr>\n",
       "      <th>44</th>\n",
       "      <td>000001.png.png</td>\n",
       "      <td>descripcio</td>\n",
       "      <td>MONGETA TENDRA</td>\n",
       "      <td>(65, 570)</td>\n",
       "      <td>(265, 570)</td>\n",
       "      <td>(65, 590)</td>\n",
       "      <td>(265, 590)</td>\n",
       "    </tr>\n",
       "    <tr>\n",
       "      <th>45</th>\n",
       "      <td>000001.png.png</td>\n",
       "      <td>preu_unitari</td>\n",
       "      <td>1,09</td>\n",
       "      <td>(307.5, 590)</td>\n",
       "      <td>(377.5, 590)</td>\n",
       "      <td>(307.5, 610)</td>\n",
       "      <td>(377.5, 610)</td>\n",
       "    </tr>\n",
       "    <tr>\n",
       "      <th>46</th>\n",
       "      <td>000001.png.png</td>\n",
       "      <td>import</td>\n",
       "      <td>0,77</td>\n",
       "      <td>(430, 590)</td>\n",
       "      <td>(475, 590)</td>\n",
       "      <td>(430, 610)</td>\n",
       "      <td>(475, 610)</td>\n",
       "    </tr>\n",
       "    <tr>\n",
       "      <th>47</th>\n",
       "      <td>000001.png.png</td>\n",
       "      <td>quantitat_ud</td>\n",
       "      <td>1</td>\n",
       "      <td>(25, 610)</td>\n",
       "      <td>(65, 610)</td>\n",
       "      <td>(25, 630)</td>\n",
       "      <td>(65, 630)</td>\n",
       "    </tr>\n",
       "    <tr>\n",
       "      <th>48</th>\n",
       "      <td>000001.png.png</td>\n",
       "      <td>descripcio</td>\n",
       "      <td>TUBETS HACENDADO</td>\n",
       "      <td>(65, 610)</td>\n",
       "      <td>(265, 610)</td>\n",
       "      <td>(65, 630)</td>\n",
       "      <td>(265, 630)</td>\n",
       "    </tr>\n",
       "    <tr>\n",
       "      <th>49</th>\n",
       "      <td>000001.png.png</td>\n",
       "      <td>import</td>\n",
       "      <td>1,68</td>\n",
       "      <td>(430, 610)</td>\n",
       "      <td>(475, 610)</td>\n",
       "      <td>(430, 630)</td>\n",
       "      <td>(475, 630)</td>\n",
       "    </tr>\n",
       "    <tr>\n",
       "      <th>50</th>\n",
       "      <td>000001.png.png</td>\n",
       "      <td>total</td>\n",
       "      <td>110,28</td>\n",
       "      <td>(400, 650)</td>\n",
       "      <td>(475, 650)</td>\n",
       "      <td>(400, 670)</td>\n",
       "      <td>(475, 670)</td>\n",
       "    </tr>\n",
       "  </tbody>\n",
       "</table>\n",
       "</div>"
      ],
      "text/plain": [
       "         ticket_id      etiqueta              value           b_1  \\\n",
       "0   000001.png.png  quantitat_ud                  3     (25, 310)   \n",
       "1   000001.png.png    descripcio            NYOQUIS     (65, 310)   \n",
       "2   000001.png.png  preu_unitari               2,62  (307.5, 310)   \n",
       "3   000001.png.png        import               7,85    (430, 310)   \n",
       "4   000001.png.png  quantitat_ud                  1     (25, 330)   \n",
       "5   000001.png.png    descripcio    PIZZES TOMÀQUET     (65, 330)   \n",
       "6   000001.png.png        import               1,98    (430, 330)   \n",
       "7   000001.png.png  quantitat_ud                  2     (25, 350)   \n",
       "8   000001.png.png    descripcio     GELAT AMETLLAT     (65, 350)   \n",
       "9   000001.png.png  preu_unitari               2,31  (307.5, 350)   \n",
       "10  000001.png.png        import               4,62    (430, 350)   \n",
       "11  000001.png.png  quantitat_ud                  3     (25, 370)   \n",
       "12  000001.png.png    descripcio     LOT DONA JOVAN     (65, 370)   \n",
       "13  000001.png.png  preu_unitari              12,71  (307.5, 370)   \n",
       "14  000001.png.png        import              38,12    (430, 370)   \n",
       "15  000001.png.png  quantitat_ud                  1     (25, 390)   \n",
       "16  000001.png.png    descripcio          GRANISSAT     (65, 390)   \n",
       "17  000001.png.png        import               2,25    (430, 390)   \n",
       "18  000001.png.png  quantitat_ud                  1     (25, 410)   \n",
       "19  000001.png.png    descripcio          CALAMARSÓ     (65, 410)   \n",
       "20  000001.png.png        import               4,12    (430, 410)   \n",
       "21  000001.png.png  quantitat_ud                  1     (25, 430)   \n",
       "22  000001.png.png    descripcio      PIZZA IBÈRICA     (65, 430)   \n",
       "23  000001.png.png        import               2,20    (430, 430)   \n",
       "24  000001.png.png  quantitat_ud                  1     (25, 450)   \n",
       "25  000001.png.png    descripcio           FORMATGE     (65, 450)   \n",
       "26  000001.png.png        import               1,77    (430, 450)   \n",
       "27  000001.png.png  quantitat_ud                  1     (25, 470)   \n",
       "28  000001.png.png    descripcio           REDUCCIÓ     (65, 470)   \n",
       "29  000001.png.png        import               2,20    (430, 470)   \n",
       "30  000001.png.png  quantitat_ud                  1     (25, 490)   \n",
       "31  000001.png.png    descripcio           CARCASSA     (65, 490)   \n",
       "32  000001.png.png        import               2,07    (430, 490)   \n",
       "33  000001.png.png  quantitat_ud                  5     (25, 510)   \n",
       "34  000001.png.png    descripcio      GEL PROTECCIÓ     (65, 510)   \n",
       "35  000001.png.png  preu_unitari               7,26  (307.5, 510)   \n",
       "36  000001.png.png        import              36,30    (430, 510)   \n",
       "37  000001.png.png  quantitat_ud                  1     (25, 530)   \n",
       "38  000001.png.png    descripcio  AMANIDA DE PATATA     (65, 530)   \n",
       "39  000001.png.png        import               3,03    (430, 530)   \n",
       "40  000001.png.png  quantitat_ud                  1     (25, 550)   \n",
       "41  000001.png.png    descripcio     ARRÒS AMB LLET     (65, 550)   \n",
       "42  000001.png.png        import               1,32    (430, 550)   \n",
       "43  000001.png.png  quantitat_kg              0.707     (99, 590)   \n",
       "44  000001.png.png    descripcio     MONGETA TENDRA     (65, 570)   \n",
       "45  000001.png.png  preu_unitari               1,09  (307.5, 590)   \n",
       "46  000001.png.png        import               0,77    (430, 590)   \n",
       "47  000001.png.png  quantitat_ud                  1     (25, 610)   \n",
       "48  000001.png.png    descripcio   TUBETS HACENDADO     (65, 610)   \n",
       "49  000001.png.png        import               1,68    (430, 610)   \n",
       "50  000001.png.png         total             110,28    (400, 650)   \n",
       "\n",
       "             b_2           b_3           b_4  \n",
       "0      (65, 310)     (25, 330)     (65, 330)  \n",
       "1     (265, 310)     (65, 330)    (265, 330)  \n",
       "2   (377.5, 310)  (307.5, 330)  (377.5, 330)  \n",
       "3     (475, 310)    (430, 330)    (475, 330)  \n",
       "4      (65, 330)     (25, 350)     (65, 350)  \n",
       "5     (265, 330)     (65, 350)    (265, 350)  \n",
       "6     (475, 330)    (430, 350)    (475, 350)  \n",
       "7      (65, 350)     (25, 370)     (65, 370)  \n",
       "8     (265, 350)     (65, 370)    (265, 370)  \n",
       "9   (377.5, 350)  (307.5, 370)  (377.5, 370)  \n",
       "10    (475, 350)    (430, 370)    (475, 370)  \n",
       "11     (65, 370)     (25, 390)     (65, 390)  \n",
       "12    (265, 370)     (65, 390)    (265, 390)  \n",
       "13  (377.5, 370)  (307.5, 390)  (377.5, 390)  \n",
       "14    (475, 370)    (430, 390)    (475, 390)  \n",
       "15     (65, 390)     (25, 410)     (65, 410)  \n",
       "16    (265, 390)     (65, 410)    (265, 410)  \n",
       "17    (475, 390)    (430, 410)    (475, 410)  \n",
       "18     (65, 410)     (25, 430)     (65, 430)  \n",
       "19    (265, 410)     (65, 430)    (265, 430)  \n",
       "20    (475, 410)    (430, 430)    (475, 430)  \n",
       "21     (65, 430)     (25, 450)     (65, 450)  \n",
       "22    (265, 430)     (65, 450)    (265, 450)  \n",
       "23    (475, 430)    (430, 450)    (475, 450)  \n",
       "24     (65, 450)     (25, 470)     (65, 470)  \n",
       "25    (265, 450)     (65, 470)    (265, 470)  \n",
       "26    (475, 450)    (430, 470)    (475, 470)  \n",
       "27     (65, 470)     (25, 490)     (65, 490)  \n",
       "28    (265, 470)     (65, 490)    (265, 490)  \n",
       "29    (475, 470)    (430, 490)    (475, 490)  \n",
       "30     (65, 490)     (25, 510)     (65, 510)  \n",
       "31    (265, 490)     (65, 510)    (265, 510)  \n",
       "32    (475, 490)    (430, 510)    (475, 510)  \n",
       "33     (65, 510)     (25, 530)     (65, 530)  \n",
       "34    (265, 510)     (65, 530)    (265, 530)  \n",
       "35  (377.5, 510)  (307.5, 530)  (377.5, 530)  \n",
       "36    (475, 510)    (430, 530)    (475, 530)  \n",
       "37     (65, 530)     (25, 550)     (65, 550)  \n",
       "38    (265, 530)     (65, 550)    (265, 550)  \n",
       "39    (475, 530)    (430, 550)    (475, 550)  \n",
       "40     (65, 550)     (25, 570)     (65, 570)  \n",
       "41    (265, 550)     (65, 570)    (265, 570)  \n",
       "42    (475, 550)    (430, 570)    (475, 570)  \n",
       "43    (159, 590)     (99, 610)    (159, 610)  \n",
       "44    (265, 570)     (65, 590)    (265, 590)  \n",
       "45  (377.5, 590)  (307.5, 610)  (377.5, 610)  \n",
       "46    (475, 590)    (430, 610)    (475, 610)  \n",
       "47     (65, 610)     (25, 630)     (65, 630)  \n",
       "48    (265, 610)     (65, 630)    (265, 630)  \n",
       "49    (475, 610)    (430, 630)    (475, 630)  \n",
       "50    (475, 650)    (400, 670)    (475, 670)  "
      ]
     },
     "execution_count": 56,
     "metadata": {},
     "output_type": "execute_result"
    }
   ],
   "source": [
    "tiquets"
   ]
  },
  {
   "cell_type": "markdown",
   "id": "45138e95",
   "metadata": {
    "id": "45138e95"
   },
   "source": [
    "### Creació de un tiquet amb una plantilla html\n",
    "- ho farem a través del objecte `products` i altre informació que passarem a la plantilla.\n",
    "```python\n",
    "{\n",
    "    'descripcio': \"Oli d'oliva suau\",\n",
    "    'quantitat': '1',\n",
    "    'preu_unitari': '14,25',\n",
    "    'import': '14,25',\n",
    "    'format': 'ud'\n",
    "}\n",
    "```\n",
    "#### Petita descripció del perquè de cada element:\n",
    "- name: nom que surt al tiquet.\n",
    "- price: preu unitari (si tenim nomès un producte, surt blanc)\n",
    "    - Apareix directament el preu total amb iva.\n",
    "- format: per diferenciar ud i kg.\n",
    "    - si es `ud` &rarr; apareix en una línia.\n",
    "    - si es `kg` &rarr; apareix en dues linies indicant el preu €/Kg.\n",
    "- qty: per mostrar les unitats de cada.\n",
    "    - si es `kg` suposem només 1."
   ]
  },
  {
   "cell_type": "markdown",
   "id": "5c052f6f",
   "metadata": {
    "id": "5c052f6f"
   },
   "source": [
    "#### Funcions per crear dades aleatòries"
   ]
  },
  {
   "cell_type": "code",
   "execution_count": 57,
   "id": "c9a9de01",
   "metadata": {
    "executionInfo": {
     "elapsed": 32,
     "status": "ok",
     "timestamp": 1713517095578,
     "user": {
      "displayName": "Jaume Juan i Pérez",
      "userId": "13047725848368858602"
     },
     "user_tz": -120
    },
    "id": "c9a9de01"
   },
   "outputs": [],
   "source": [
    "def random_num(n):\n",
    "    return ''.join([str(np.random.randint(0,n+1)) for _ in range(n)])"
   ]
  },
  {
   "cell_type": "code",
   "execution_count": 58,
   "id": "6d145ad1",
   "metadata": {
    "colab": {
     "base_uri": "https://localhost:8080/"
    },
    "executionInfo": {
     "elapsed": 30,
     "status": "ok",
     "timestamp": 1713517095578,
     "user": {
      "displayName": "Jaume Juan i Pérez",
      "userId": "13047725848368858602"
     },
     "user_tz": -120
    },
    "id": "6d145ad1",
    "outputId": "d98feb4a-5d70-4011-de55-c716be122660"
   },
   "outputs": [
    {
     "data": {
      "text/plain": [
       "('478453491', '34661538')"
      ]
     },
     "execution_count": 58,
     "metadata": {},
     "output_type": "execute_result"
    }
   ],
   "source": [
    "random_num(9), random_num(8)"
   ]
  },
  {
   "cell_type": "code",
   "execution_count": 59,
   "id": "be9e2d4b",
   "metadata": {
    "executionInfo": {
     "elapsed": 26,
     "status": "ok",
     "timestamp": 1713517095579,
     "user": {
      "displayName": "Jaume Juan i Pérez",
      "userId": "13047725848368858602"
     },
     "user_tz": -120
    },
    "id": "be9e2d4b"
   },
   "outputs": [],
   "source": [
    "def random_letter():\n",
    "    letras = 'abcdefghijklmnopqrstuvwxyz'\n",
    "    return np.random.choice(list(letras)).upper()"
   ]
  },
  {
   "cell_type": "code",
   "execution_count": 60,
   "id": "c60954d0",
   "metadata": {
    "colab": {
     "base_uri": "https://localhost:8080/",
     "height": 35
    },
    "executionInfo": {
     "elapsed": 25,
     "status": "ok",
     "timestamp": 1713517095579,
     "user": {
      "displayName": "Jaume Juan i Pérez",
      "userId": "13047725848368858602"
     },
     "user_tz": -120
    },
    "id": "c60954d0",
    "outputId": "f53ba4a7-e6ed-46f4-f07c-ac95accbe922"
   },
   "outputs": [
    {
     "data": {
      "text/plain": [
       "'D'"
      ]
     },
     "execution_count": 60,
     "metadata": {},
     "output_type": "execute_result"
    }
   ],
   "source": [
    "random_letter()"
   ]
  },
  {
   "cell_type": "code",
   "execution_count": 61,
   "id": "4bc4084c",
   "metadata": {
    "executionInfo": {
     "elapsed": 22,
     "status": "ok",
     "timestamp": 1713517095579,
     "user": {
      "displayName": "Jaume Juan i Pérez",
      "userId": "13047725848368858602"
     },
     "user_tz": -120
    },
    "id": "4bc4084c"
   },
   "outputs": [],
   "source": [
    "from datetime import datetime, timedelta\n",
    "import random\n",
    "\n",
    "def get_current_date():\n",
    "    now = datetime.now()\n",
    "    return now.strftime(\"%d/%m/%Y\")\n",
    "\n",
    "def get_random_date(start_date='01/01/2000', end_date=get_current_date()):\n",
    "    start_date = datetime.strptime(start_date, \"%d/%m/%Y\")\n",
    "    end_date = datetime.strptime(end_date, \"%d/%m/%Y\")\n",
    "\n",
    "    # Calculate the range of dates\n",
    "    date_range = end_date - start_date\n",
    "\n",
    "    # Generate a random number of seconds within the range\n",
    "    random_seconds = random.randint(0, date_range.total_seconds())\n",
    "\n",
    "    # Add the random number of seconds to the start_date\n",
    "    random_date = start_date + timedelta(seconds=random_seconds)\n",
    "\n",
    "    return random_date.strftime(\"%d/%m/%Y %H:%M\")"
   ]
  },
  {
   "cell_type": "code",
   "execution_count": 62,
   "id": "da1d66bb",
   "metadata": {
    "colab": {
     "base_uri": "https://localhost:8080/",
     "height": 35
    },
    "executionInfo": {
     "elapsed": 21,
     "status": "ok",
     "timestamp": 1713517095579,
     "user": {
      "displayName": "Jaume Juan i Pérez",
      "userId": "13047725848368858602"
     },
     "user_tz": -120
    },
    "id": "da1d66bb",
    "outputId": "b382a0d0-fba5-4ed0-f9f8-360e33794f1c"
   },
   "outputs": [
    {
     "data": {
      "text/plain": [
       "'22/04/2020 11:36'"
      ]
     },
     "execution_count": 62,
     "metadata": {},
     "output_type": "execute_result"
    }
   ],
   "source": [
    "get_random_date()"
   ]
  },
  {
   "cell_type": "code",
   "execution_count": 63,
   "id": "14dc9517",
   "metadata": {
    "executionInfo": {
     "elapsed": 20,
     "status": "ok",
     "timestamp": 1713517095579,
     "user": {
      "displayName": "Jaume Juan i Pérez",
      "userId": "13047725848368858602"
     },
     "user_tz": -120
    },
    "id": "14dc9517"
   },
   "outputs": [],
   "source": [
    "cards = np.array([\n",
    "    {'targeta_1': 'VISA CREDITO/DEB', 'targeta_2': 'Visa CaixaBank'},\n",
    "    {'targeta_1': 'Mastercard', 'targeta_2': 'Mastercard'},\n",
    "    {'targeta_1': 'American Express', 'targeta_2': 'American Express'},\n",
    "    {'targeta_1': 'Discover', 'targeta_2': 'Discover'},\n",
    "    {'targeta_1': 'Maestro', 'targeta_2': 'Maestro'},\n",
    "    {'targeta_1': 'Diners Club', 'targeta_2': 'Diners Club'},\n",
    "    {'targeta_1': 'JCB', 'targeta_2': 'JCB'},\n",
    "    {'targeta_1': 'UnionPay', 'targeta_2': 'UnionPay'},\n",
    "    {'targeta_1': 'Mir', 'targeta_2': 'Mir'},\n",
    "    {'targeta_1': 'Elo', 'targeta_2': 'Elo'},\n",
    "    {'targeta_1': 'RuPay', 'targeta_2': 'RuPay'},\n",
    "    {'targeta_1': 'Hipercard', 'targeta_2': 'Hipercard'}\n",
    "])\n",
    "weights = np.array([25, 25, 25, 1, 1, 1, 1, 1, 1, 1, 1, 1])\n",
    "\n",
    "def random_card():\n",
    "    rand_card = np.random.choice(cards, p=weights/np.sum(weights))\n",
    "    return rand_card['targeta_1'], rand_card['targeta_2']"
   ]
  },
  {
   "cell_type": "code",
   "execution_count": 64,
   "id": "fc743ac1",
   "metadata": {
    "colab": {
     "base_uri": "https://localhost:8080/"
    },
    "executionInfo": {
     "elapsed": 19,
     "status": "ok",
     "timestamp": 1713517095579,
     "user": {
      "displayName": "Jaume Juan i Pérez",
      "userId": "13047725848368858602"
     },
     "user_tz": -120
    },
    "id": "fc743ac1",
    "outputId": "56709d08-abe5-47d0-cdd3-cd09a772ea03"
   },
   "outputs": [
    {
     "data": {
      "text/plain": [
       "('Mastercard', 'Mastercard')"
      ]
     },
     "execution_count": 64,
     "metadata": {},
     "output_type": "execute_result"
    }
   ],
   "source": [
    "random_card()"
   ]
  },
  {
   "cell_type": "markdown",
   "id": "068a36bd",
   "metadata": {
    "id": "068a36bd"
   },
   "source": [
    "#### Del script que fa la ingesta de les dades dels supermercats, en treiem:"
   ]
  },
  {
   "cell_type": "code",
   "execution_count": 65,
   "id": "0686830a",
   "metadata": {
    "colab": {
     "base_uri": "https://localhost:8080/",
     "height": 521
    },
    "executionInfo": {
     "elapsed": 335,
     "status": "ok",
     "timestamp": 1713517095898,
     "user": {
      "displayName": "Jaume Juan i Pérez",
      "userId": "13047725848368858602"
     },
     "user_tz": -120
    },
    "id": "0686830a",
    "outputId": "185574bf-0649-4f42-e547-8bef1efb7845"
   },
   "outputs": [
    {
     "data": {
      "text/html": [
       "<div>\n",
       "<style scoped>\n",
       "    .dataframe tbody tr th:only-of-type {\n",
       "        vertical-align: middle;\n",
       "    }\n",
       "\n",
       "    .dataframe tbody tr th {\n",
       "        vertical-align: top;\n",
       "    }\n",
       "\n",
       "    .dataframe thead th {\n",
       "        text-align: right;\n",
       "    }\n",
       "</style>\n",
       "<table border=\"1\" class=\"dataframe\">\n",
       "  <thead>\n",
       "    <tr style=\"text-align: right;\">\n",
       "      <th></th>\n",
       "      <th>id</th>\n",
       "      <th>pais</th>\n",
       "      <th>provincia</th>\n",
       "      <th>localidad</th>\n",
       "      <th>direccion</th>\n",
       "      <th>codigo_postal</th>\n",
       "      <th>telefono</th>\n",
       "      <th>horas_aperturas</th>\n",
       "      <th>horas_cierres</th>\n",
       "      <th>proximos_festivos</th>\n",
       "      <th>parking disponible</th>\n",
       "      <th>latitud</th>\n",
       "      <th>longitud</th>\n",
       "      <th>fecha_inauguracion</th>\n",
       "      <th>fecha creacion registro</th>\n",
       "    </tr>\n",
       "  </thead>\n",
       "  <tbody>\n",
       "    <tr>\n",
       "      <th>0</th>\n",
       "      <td>883185314342</td>\n",
       "      <td>ES</td>\n",
       "      <td>A CORUÑA</td>\n",
       "      <td>A CORUÑA</td>\n",
       "      <td>AVDA. DE OZA, 132</td>\n",
       "      <td>15006</td>\n",
       "      <td>981303071</td>\n",
       "      <td>['09:00', 'Cerrado', '09:00', '09:00', '09:00'...</td>\n",
       "      <td>['22:00', 'Cerrado', '22:00', '22:00', '22:00'...</td>\n",
       "      <td>['14/04/24-C', '21/04/24-C', '28/04/24-C', '01...</td>\n",
       "      <td>S</td>\n",
       "      <td>43.353426</td>\n",
       "      <td>-8.393176</td>\n",
       "      <td>24/11/2011</td>\n",
       "      <td>13-04-2024</td>\n",
       "    </tr>\n",
       "    <tr>\n",
       "      <th>1</th>\n",
       "      <td>883185313520</td>\n",
       "      <td>ES</td>\n",
       "      <td>A CORUÑA</td>\n",
       "      <td>A CORUÑA</td>\n",
       "      <td>C/ RONDA OUTEIRO, 217</td>\n",
       "      <td>15007</td>\n",
       "      <td>981277366</td>\n",
       "      <td>['09:00', 'Cerrado', '09:00', '09:00', '09:00'...</td>\n",
       "      <td>['22:00', 'Cerrado', '22:00', '22:00', '22:00'...</td>\n",
       "      <td>['14/04/24-C', '21/04/24-C', '28/04/24-C', '01...</td>\n",
       "      <td>S</td>\n",
       "      <td>43.358273</td>\n",
       "      <td>-8.419615</td>\n",
       "      <td>09/11/2006</td>\n",
       "      <td>13-04-2024</td>\n",
       "    </tr>\n",
       "    <tr>\n",
       "      <th>2</th>\n",
       "      <td>883185315232</td>\n",
       "      <td>ES</td>\n",
       "      <td>A CORUÑA</td>\n",
       "      <td>A CORUÑA</td>\n",
       "      <td>LUGAR DE MONTEPATELO, 63</td>\n",
       "      <td>15008</td>\n",
       "      <td>981303072</td>\n",
       "      <td>['10:00', 'Cerrado', '10:00', '10:00', '10:00'...</td>\n",
       "      <td>['22:00', 'Cerrado', '22:00', '22:00', '22:00'...</td>\n",
       "      <td>['14/04/24-C', '21/04/24-C', '28/04/24-C', '01...</td>\n",
       "      <td>S</td>\n",
       "      <td>43.343187</td>\n",
       "      <td>-8.430894</td>\n",
       "      <td>09/02/2012</td>\n",
       "      <td>13-04-2024</td>\n",
       "    </tr>\n",
       "    <tr>\n",
       "      <th>3</th>\n",
       "      <td>883185314430</td>\n",
       "      <td>ES</td>\n",
       "      <td>A CORUÑA</td>\n",
       "      <td>A CORUÑA</td>\n",
       "      <td>RÚA JOSÉ PASCUAL LÓPEZ CORTÓN, 10</td>\n",
       "      <td>15008</td>\n",
       "      <td>981172014</td>\n",
       "      <td>['09:00', 'Cerrado', '09:00', '09:00', '09:00'...</td>\n",
       "      <td>['22:00', 'Cerrado', '22:00', '22:00', '22:00'...</td>\n",
       "      <td>['14/04/24-C', '21/04/24-C', '28/04/24-C', '01...</td>\n",
       "      <td>S</td>\n",
       "      <td>43.336367</td>\n",
       "      <td>-8.410341</td>\n",
       "      <td>20/10/2009</td>\n",
       "      <td>13-04-2024</td>\n",
       "    </tr>\n",
       "    <tr>\n",
       "      <th>4</th>\n",
       "      <td>883185315002</td>\n",
       "      <td>ES</td>\n",
       "      <td>A CORUÑA</td>\n",
       "      <td>A CORUÑA</td>\n",
       "      <td>RÚA PANADEIRAS, 28</td>\n",
       "      <td>15001</td>\n",
       "      <td>981213681</td>\n",
       "      <td>['09:00', 'Cerrado', '09:00', '09:00', '09:00'...</td>\n",
       "      <td>['22:00', 'Cerrado', '22:00', '22:00', '22:00'...</td>\n",
       "      <td>['14/04/24-C', '21/04/24-C', '28/04/24-C', '01...</td>\n",
       "      <td>S</td>\n",
       "      <td>43.372883</td>\n",
       "      <td>-8.398581</td>\n",
       "      <td>13/05/2010</td>\n",
       "      <td>13-04-2024</td>\n",
       "    </tr>\n",
       "  </tbody>\n",
       "</table>\n",
       "</div>"
      ],
      "text/plain": [
       "             id pais provincia localidad                          direccion  \\\n",
       "0  883185314342   ES  A CORUÑA  A CORUÑA                  AVDA. DE OZA, 132   \n",
       "1  883185313520   ES  A CORUÑA  A CORUÑA              C/ RONDA OUTEIRO, 217   \n",
       "2  883185315232   ES  A CORUÑA  A CORUÑA           LUGAR DE MONTEPATELO, 63   \n",
       "3  883185314430   ES  A CORUÑA  A CORUÑA  RÚA JOSÉ PASCUAL LÓPEZ CORTÓN, 10   \n",
       "4  883185315002   ES  A CORUÑA  A CORUÑA                 RÚA PANADEIRAS, 28   \n",
       "\n",
       "  codigo_postal   telefono                                    horas_aperturas  \\\n",
       "0         15006  981303071  ['09:00', 'Cerrado', '09:00', '09:00', '09:00'...   \n",
       "1         15007  981277366  ['09:00', 'Cerrado', '09:00', '09:00', '09:00'...   \n",
       "2         15008  981303072  ['10:00', 'Cerrado', '10:00', '10:00', '10:00'...   \n",
       "3         15008  981172014  ['09:00', 'Cerrado', '09:00', '09:00', '09:00'...   \n",
       "4         15001  981213681  ['09:00', 'Cerrado', '09:00', '09:00', '09:00'...   \n",
       "\n",
       "                                       horas_cierres  \\\n",
       "0  ['22:00', 'Cerrado', '22:00', '22:00', '22:00'...   \n",
       "1  ['22:00', 'Cerrado', '22:00', '22:00', '22:00'...   \n",
       "2  ['22:00', 'Cerrado', '22:00', '22:00', '22:00'...   \n",
       "3  ['22:00', 'Cerrado', '22:00', '22:00', '22:00'...   \n",
       "4  ['22:00', 'Cerrado', '22:00', '22:00', '22:00'...   \n",
       "\n",
       "                                   proximos_festivos parking disponible  \\\n",
       "0  ['14/04/24-C', '21/04/24-C', '28/04/24-C', '01...                  S   \n",
       "1  ['14/04/24-C', '21/04/24-C', '28/04/24-C', '01...                  S   \n",
       "2  ['14/04/24-C', '21/04/24-C', '28/04/24-C', '01...                  S   \n",
       "3  ['14/04/24-C', '21/04/24-C', '28/04/24-C', '01...                  S   \n",
       "4  ['14/04/24-C', '21/04/24-C', '28/04/24-C', '01...                  S   \n",
       "\n",
       "     latitud  longitud fecha_inauguracion fecha creacion registro  \n",
       "0  43.353426 -8.393176         24/11/2011              13-04-2024  \n",
       "1  43.358273 -8.419615         09/11/2006              13-04-2024  \n",
       "2  43.343187 -8.430894         09/02/2012              13-04-2024  \n",
       "3  43.336367 -8.410341         20/10/2009              13-04-2024  \n",
       "4  43.372883 -8.398581         13/05/2010              13-04-2024  "
      ]
     },
     "execution_count": 65,
     "metadata": {},
     "output_type": "execute_result"
    }
   ],
   "source": [
    "establishments = pd.read_csv(\"./dades/establiments/establishments.csv\")\n",
    "establishments.head()"
   ]
  },
  {
   "cell_type": "code",
   "execution_count": 66,
   "id": "18f8d090",
   "metadata": {
    "colab": {
     "base_uri": "https://localhost:8080/"
    },
    "executionInfo": {
     "elapsed": 20,
     "status": "ok",
     "timestamp": 1713517095899,
     "user": {
      "displayName": "Jaume Juan i Pérez",
      "userId": "13047725848368858602"
     },
     "user_tz": -120
    },
    "id": "18f8d090",
    "outputId": "b915c423-be9a-4a76-ad4d-46ab8e7d40f7"
   },
   "outputs": [
    {
     "data": {
      "text/plain": [
       "array(['A CORUÑA', 'ALACANT', 'ALBACETE', 'ALMERIA', 'ARABA/ALAVA',\n",
       "       'ASTURIAS', 'AVEIRO', 'AVILA', 'BADAJOZ', 'BARCELONA', 'BIZKAIA',\n",
       "       'BRAGA', 'BURGOS', 'CACERES', 'CADIZ', 'CANTABRIA', 'CASTELLON',\n",
       "       'CEUTA', 'CIUDAD REAL', 'COIMBRA', 'CORDOBA', 'CUENCA', 'GIPUZKOA',\n",
       "       'GIRONA', 'GRANADA', 'GUADALAJARA', 'HUELVA', 'HUESCA',\n",
       "       'ILLES BALEARS', 'JAEN', 'LA RIOJA', 'LAS PALMAS', 'LEIRIA',\n",
       "       'LEON', 'LISBOA', 'LLEIDA', 'LUGO', 'MADRID', 'MALAGA', 'MELILLA',\n",
       "       'MURCIA', 'NAVARRA', 'OURENSE', 'PALENCIA', 'PONTEVEDRA', 'PORTO',\n",
       "       'SALAMANCA', 'SANTA CRUZ DE TENERIFE', 'SANTARÉM', 'SEGOVIA',\n",
       "       'SETÚBAL', 'SEVILLA', 'SORIA', 'TARRAGONA', 'TERUEL', 'TOLEDO',\n",
       "       'VALENCIA', 'VALLADOLID', 'VIANA DO CASTELO', 'VISEU', 'ZAMORA',\n",
       "       'ZARAGOZA'], dtype=object)"
      ]
     },
     "execution_count": 66,
     "metadata": {},
     "output_type": "execute_result"
    }
   ],
   "source": [
    "establishments.provincia.unique()"
   ]
  },
  {
   "cell_type": "code",
   "execution_count": 67,
   "id": "7e335403",
   "metadata": {
    "colab": {
     "base_uri": "https://localhost:8080/"
    },
    "executionInfo": {
     "elapsed": 18,
     "status": "ok",
     "timestamp": 1713517095899,
     "user": {
      "displayName": "Jaume Juan i Pérez",
      "userId": "13047725848368858602"
     },
     "user_tz": -120
    },
    "id": "7e335403",
    "outputId": "9892fa9e-3f59-4d2d-e446-e3c6a8590522"
   },
   "outputs": [
    {
     "data": {
      "text/plain": [
       "array(['BARCELONA', 'GIRONA', 'LLEIDA', 'TARRAGONA'], dtype=object)"
      ]
     },
     "execution_count": 67,
     "metadata": {},
     "output_type": "execute_result"
    }
   ],
   "source": [
    "# Perquè tingui coherència, s'ha de filtrar només pels establiments de catalunya ja que fem els tiquets amb català\n",
    "cat = ['GIRONA', 'BARCELONA', 'LLEIDA', 'TARRAGONA']\n",
    "establishments = establishments[establishments['provincia'].isin(cat)]\n",
    "establishments.provincia.unique()"
   ]
  },
  {
   "cell_type": "code",
   "execution_count": 68,
   "id": "ae609d47",
   "metadata": {
    "executionInfo": {
     "elapsed": 17,
     "status": "ok",
     "timestamp": 1713517095899,
     "user": {
      "displayName": "Jaume Juan i Pérez",
      "userId": "13047725848368858602"
     },
     "user_tz": -120
    },
    "id": "ae609d47"
   },
   "outputs": [],
   "source": [
    "def random_establishment():\n",
    "    return establishments.sample()"
   ]
  },
  {
   "cell_type": "code",
   "execution_count": 69,
   "id": "d51657da",
   "metadata": {
    "colab": {
     "base_uri": "https://localhost:8080/",
     "height": 205
    },
    "executionInfo": {
     "elapsed": 17,
     "status": "ok",
     "timestamp": 1713517095899,
     "user": {
      "displayName": "Jaume Juan i Pérez",
      "userId": "13047725848368858602"
     },
     "user_tz": -120
    },
    "id": "d51657da",
    "outputId": "9cd47a04-0165-4759-9d2f-fa83a2bc25c7"
   },
   "outputs": [
    {
     "data": {
      "text/html": [
       "<div>\n",
       "<style scoped>\n",
       "    .dataframe tbody tr th:only-of-type {\n",
       "        vertical-align: middle;\n",
       "    }\n",
       "\n",
       "    .dataframe tbody tr th {\n",
       "        vertical-align: top;\n",
       "    }\n",
       "\n",
       "    .dataframe thead th {\n",
       "        text-align: right;\n",
       "    }\n",
       "</style>\n",
       "<table border=\"1\" class=\"dataframe\">\n",
       "  <thead>\n",
       "    <tr style=\"text-align: right;\">\n",
       "      <th></th>\n",
       "      <th>id</th>\n",
       "      <th>pais</th>\n",
       "      <th>provincia</th>\n",
       "      <th>localidad</th>\n",
       "      <th>direccion</th>\n",
       "      <th>codigo_postal</th>\n",
       "      <th>telefono</th>\n",
       "      <th>horas_aperturas</th>\n",
       "      <th>horas_cierres</th>\n",
       "      <th>proximos_festivos</th>\n",
       "      <th>parking disponible</th>\n",
       "      <th>latitud</th>\n",
       "      <th>longitud</th>\n",
       "      <th>fecha_inauguracion</th>\n",
       "      <th>fecha creacion registro</th>\n",
       "    </tr>\n",
       "  </thead>\n",
       "  <tbody>\n",
       "    <tr>\n",
       "      <th>1432</th>\n",
       "      <td>883185315670</td>\n",
       "      <td>ES</td>\n",
       "      <td>TARRAGONA</td>\n",
       "      <td>TARRAGONA</td>\n",
       "      <td>C/ JOSEP MARÍA FOLCH I TORRES, 5</td>\n",
       "      <td>43006</td>\n",
       "      <td>977598991</td>\n",
       "      <td>['09:00', 'Cerrado', '09:00', '09:00', '09:00'...</td>\n",
       "      <td>['21:00', 'Cerrado', '21:00', '21:00', '21:00'...</td>\n",
       "      <td>['14/04/24-C', '21/04/24-C', '28/04/24-C', '01...</td>\n",
       "      <td>S</td>\n",
       "      <td>41.132043</td>\n",
       "      <td>1.20387</td>\n",
       "      <td>25/03/2015</td>\n",
       "      <td>13-04-2024</td>\n",
       "    </tr>\n",
       "  </tbody>\n",
       "</table>\n",
       "</div>"
      ],
      "text/plain": [
       "                id pais  provincia  localidad  \\\n",
       "1432  883185315670   ES  TARRAGONA  TARRAGONA   \n",
       "\n",
       "                             direccion codigo_postal   telefono  \\\n",
       "1432  C/ JOSEP MARÍA FOLCH I TORRES, 5         43006  977598991   \n",
       "\n",
       "                                        horas_aperturas  \\\n",
       "1432  ['09:00', 'Cerrado', '09:00', '09:00', '09:00'...   \n",
       "\n",
       "                                          horas_cierres  \\\n",
       "1432  ['21:00', 'Cerrado', '21:00', '21:00', '21:00'...   \n",
       "\n",
       "                                      proximos_festivos parking disponible  \\\n",
       "1432  ['14/04/24-C', '21/04/24-C', '28/04/24-C', '01...                  S   \n",
       "\n",
       "        latitud  longitud fecha_inauguracion fecha creacion registro  \n",
       "1432  41.132043   1.20387         25/03/2015              13-04-2024  "
      ]
     },
     "execution_count": 69,
     "metadata": {},
     "output_type": "execute_result"
    }
   ],
   "source": [
    "random_establishment()"
   ]
  },
  {
   "cell_type": "markdown",
   "id": "daf98b79",
   "metadata": {
    "id": "daf98b79"
   },
   "source": [
    "#### Creació de la plantilla\n",
    "- Hem fet una plantilla amb html, la qual pot rebre parametres i es genera dinamicament amb la informació que li passem.\n",
    "- Aquí seguim el següent procediment:\n",
    "1. Llegir la plantilla de html.\n",
    "2. Llegir les imatges i convertir-les a base64 (per poder-les renderitzar correctament).\n",
    "3. Generar les dades aleatories.\n",
    "    - Ja tenim dades aleatòries dels productes del tiquet.\n",
    "    - Falten dades aleatòries del establiment (encara que no les farem servir per la xarxa neuronal).\n",
    "        - Creiem que queda millor fer-ho tot aleatòri, encara que tinguem la limitació de la xarxa neuronal.\n",
    "4. Carregar la informació aleatoria a la plantilla per generar un html nou amb la informació carregada.\n",
    "5. Guardar aquest html nou.\n",
    "6. Crear una imatge a partir d'aquest html amb el nom que li pertoqui\n",
    "    - representa el `ticket_id` &rarr; 000001.png que és el nom de la imatge.\n",
    "7. Guardar la imatge al directori corresponent.\n"
   ]
  },
  {
   "cell_type": "markdown",
   "id": "8mSFO3M1z1X-",
   "metadata": {
    "id": "8mSFO3M1z1X-"
   },
   "source": [
    "#### Consideracions\n",
    "- Quan fem l'script de python que generi `n` tiquets; no guardarem la template amb html, sino que la farem servir directament per generar la imatge. Així evitem generar informació irrelevant.\n",
    "- Per motius d'aprenentatge i claredat del codi, ho mantindrem en aquest Notebook de documentació."
   ]
  },
  {
   "cell_type": "code",
   "execution_count": 70,
   "id": "ac6d2389",
   "metadata": {
    "executionInfo": {
     "elapsed": 16,
     "status": "ok",
     "timestamp": 1713517095899,
     "user": {
      "displayName": "Jaume Juan i Pérez",
      "userId": "13047725848368858602"
     },
     "user_tz": -120
    },
    "id": "ac6d2389"
   },
   "outputs": [],
   "source": [
    "import jinja2"
   ]
  },
  {
   "cell_type": "code",
   "execution_count": 71,
   "id": "50791883",
   "metadata": {
    "colab": {
     "base_uri": "https://localhost:8080/",
     "height": 321
    },
    "executionInfo": {
     "elapsed": 17,
     "status": "error",
     "timestamp": 1713517095900,
     "user": {
      "displayName": "Jaume Juan i Pérez",
      "userId": "13047725848368858602"
     },
     "user_tz": -120
    },
    "id": "50791883",
    "outputId": "21ab7eec-8996-48bf-f97d-dedf979b1a69"
   },
   "outputs": [],
   "source": [
    "# Importar la template amb el format de jinja2\n",
    "template_directory = \"./templates/mercadona\"\n",
    "template_name = \"template.html\"\n",
    "\n",
    "template = jinja2.Environment(loader=jinja2.FileSystemLoader(template_directory), autoescape=jinja2.select_autoescape).get_template(template_name)"
   ]
  },
  {
   "cell_type": "code",
   "execution_count": 72,
   "id": "3be3e712",
   "metadata": {
    "executionInfo": {
     "elapsed": 15,
     "status": "aborted",
     "timestamp": 1713517095900,
     "user": {
      "displayName": "Jaume Juan i Pérez",
      "userId": "13047725848368858602"
     },
     "user_tz": -120
    },
    "id": "3be3e712"
   },
   "outputs": [],
   "source": [
    "# Llegim les imatges per poder-les posar a la plantilla:\n",
    "import base64\n",
    "\n",
    "with open (\"./templates/mercadona/img/logo-bottom.png\", \"rb\") as f:\n",
    "    logo_bottom = base64.b64encode(f.read()).decode()\n",
    "\n",
    "with open (\"./templates/mercadona/img/logo-contact-less.png\", \"rb\") as f:\n",
    "    logo_contact_less = base64.b64encode(f.read()).decode()\n",
    "\n",
    "with open (\"./templates/mercadona/img/logo-top.png\", \"rb\") as f:\n",
    "    logo_top = base64.b64encode(f.read()).decode()"
   ]
  },
  {
   "cell_type": "code",
   "execution_count": 73,
   "id": "a98a642c",
   "metadata": {
    "executionInfo": {
     "elapsed": 14,
     "status": "aborted",
     "timestamp": 1713517095900,
     "user": {
      "displayName": "Jaume Juan i Pérez",
      "userId": "13047725848368858602"
     },
     "user_tz": -120
    },
    "id": "a98a642c"
   },
   "outputs": [
    {
     "data": {
      "text/html": [
       "<div>\n",
       "<style scoped>\n",
       "    .dataframe tbody tr th:only-of-type {\n",
       "        vertical-align: middle;\n",
       "    }\n",
       "\n",
       "    .dataframe tbody tr th {\n",
       "        vertical-align: top;\n",
       "    }\n",
       "\n",
       "    .dataframe thead th {\n",
       "        text-align: right;\n",
       "    }\n",
       "</style>\n",
       "<table border=\"1\" class=\"dataframe\">\n",
       "  <thead>\n",
       "    <tr style=\"text-align: right;\">\n",
       "      <th></th>\n",
       "      <th>id</th>\n",
       "      <th>pais</th>\n",
       "      <th>provincia</th>\n",
       "      <th>localidad</th>\n",
       "      <th>direccion</th>\n",
       "      <th>codigo_postal</th>\n",
       "      <th>telefono</th>\n",
       "      <th>horas_aperturas</th>\n",
       "      <th>horas_cierres</th>\n",
       "      <th>proximos_festivos</th>\n",
       "      <th>parking disponible</th>\n",
       "      <th>latitud</th>\n",
       "      <th>longitud</th>\n",
       "      <th>fecha_inauguracion</th>\n",
       "      <th>fecha creacion registro</th>\n",
       "    </tr>\n",
       "  </thead>\n",
       "  <tbody>\n",
       "    <tr>\n",
       "      <th>272</th>\n",
       "      <td>883185315340</td>\n",
       "      <td>ES</td>\n",
       "      <td>BARCELONA</td>\n",
       "      <td>BARCELONA</td>\n",
       "      <td>PASSEIG D'ANDREU NIN, 37</td>\n",
       "      <td>08016</td>\n",
       "      <td>936247960</td>\n",
       "      <td>['09:00', 'Cerrado', '09:00', '09:00', '09:00'...</td>\n",
       "      <td>['21:00', 'Cerrado', '21:00', '21:00', '21:00'...</td>\n",
       "      <td>['14/04/24-C', '21/04/24-C', '28/04/24-C', '01...</td>\n",
       "      <td>S</td>\n",
       "      <td>41.435234</td>\n",
       "      <td>2.18155</td>\n",
       "      <td>27/06/2014</td>\n",
       "      <td>13-04-2024</td>\n",
       "    </tr>\n",
       "  </tbody>\n",
       "</table>\n",
       "</div>"
      ],
      "text/plain": [
       "               id pais  provincia  localidad                 direccion  \\\n",
       "272  883185315340   ES  BARCELONA  BARCELONA  PASSEIG D'ANDREU NIN, 37   \n",
       "\n",
       "    codigo_postal   telefono  \\\n",
       "272         08016  936247960   \n",
       "\n",
       "                                       horas_aperturas  \\\n",
       "272  ['09:00', 'Cerrado', '09:00', '09:00', '09:00'...   \n",
       "\n",
       "                                         horas_cierres  \\\n",
       "272  ['21:00', 'Cerrado', '21:00', '21:00', '21:00'...   \n",
       "\n",
       "                                     proximos_festivos parking disponible  \\\n",
       "272  ['14/04/24-C', '21/04/24-C', '28/04/24-C', '01...                  S   \n",
       "\n",
       "       latitud  longitud fecha_inauguracion fecha creacion registro  \n",
       "272  41.435234   2.18155         27/06/2014              13-04-2024  "
      ]
     },
     "execution_count": 73,
     "metadata": {},
     "output_type": "execute_result"
    }
   ],
   "source": [
    "rand_establishment = random_establishment()\n",
    "rand_establishment"
   ]
  },
  {
   "cell_type": "code",
   "execution_count": 74,
   "id": "e03883a0",
   "metadata": {
    "executionInfo": {
     "elapsed": 14,
     "status": "aborted",
     "timestamp": 1713517095900,
     "user": {
      "displayName": "Jaume Juan i Pérez",
      "userId": "13047725848368858602"
     },
     "user_tz": -120
    },
    "id": "e03883a0"
   },
   "outputs": [],
   "source": [
    "targeta_1, targeta_2 = random_card()\n",
    "\n",
    "# Create context per les dades que escriurem\n",
    "context = {\n",
    "    'nom': f\"MERCADONA, S.A. {random_letter()}-{random_num(8)}\",\n",
    "    'adressa': rand_establishment.direccion.values[0],\n",
    "    'ciutat': f\"{rand_establishment.localidad.values[0]} {rand_establishment.codigo_postal.values[0]}\",\n",
    "    'telf': f\"{rand_establishment.telefono.values[0]}\",\n",
    "    'data': f\"{get_random_date()}\",\n",
    "    'op': f\"{random_num(5)}\",\n",
    "    'factura_simplificada': f\"{random_num(4)}-{random_num(3)}-{random_num(5)}\",\n",
    "    'rand_one_to_four': [np.random.randint(1, 5) for _ in range(60)],\n",
    "    'products': products,\n",
    "    'total_amb_IVA': total_amb_iva,\n",
    "    'pagat_targeta_bancaria': total_amb_iva,\n",
    "    'ivas': ivas_list,\n",
    "    'total_sense_IVA': format(no_iva, ',.2f').replace(\".\", \",\"),\n",
    "    'iva_total': format(iva_total, ',.2f').replace(\".\", \",\"),\n",
    "    'targeta_bancaria': f\"**** **** **** **** {random_num(4)}\",\n",
    "    'NC': random_num(9),\n",
    "    'AUT': random_num(6),\n",
    "    'AID': f\"{random_letter()}00000000{random_num(5)}\",\n",
    "    'ARC': random_num(4),\n",
    "    'targeta_1': targeta_1,\n",
    "    'targeta_2': targeta_2,\n",
    "    'total_amb_IVA': total_amb_iva,\n",
    "    'logo_bottom': logo_bottom,\n",
    "    'logo_top': logo_top,\n",
    "    'logo_contact_less': logo_contact_less,\n",
    "    'height': container_height,\n",
    "}"
   ]
  },
  {
   "cell_type": "code",
   "execution_count": 75,
   "id": "faafe616",
   "metadata": {
    "executionInfo": {
     "elapsed": 13,
     "status": "aborted",
     "timestamp": 1713517095900,
     "user": {
      "displayName": "Jaume Juan i Pérez",
      "userId": "13047725848368858602"
     },
     "user_tz": -120
    },
    "id": "faafe616"
   },
   "outputs": [
    {
     "data": {
      "text/plain": [
       "'110,28'"
      ]
     },
     "execution_count": 75,
     "metadata": {},
     "output_type": "execute_result"
    }
   ],
   "source": [
    "total_amb_iva"
   ]
  },
  {
   "cell_type": "code",
   "execution_count": 76,
   "id": "dcefd5fe",
   "metadata": {
    "executionInfo": {
     "elapsed": 14,
     "status": "aborted",
     "timestamp": 1713517095901,
     "user": {
      "displayName": "Jaume Juan i Pérez",
      "userId": "13047725848368858602"
     },
     "user_tz": -120
    },
    "id": "dcefd5fe"
   },
   "outputs": [
    {
     "data": {
      "text/plain": [
       "'<!DOCTYPE html>\\n<html lang=\"en\">\\n<head>\\n    <meta charset=\"UTF-8\">\\n    <meta name=\"viewport\" content'"
      ]
     },
     "execution_count": 76,
     "metadata": {},
     "output_type": "execute_result"
    }
   ],
   "source": [
    "# Renderitzar la template\n",
    "reportText = template.render(context)\n",
    "reportText[0:100]"
   ]
  },
  {
   "cell_type": "code",
   "execution_count": 77,
   "id": "edf04d97",
   "metadata": {
    "executionInfo": {
     "elapsed": 14,
     "status": "aborted",
     "timestamp": 1713517095901,
     "user": {
      "displayName": "Jaume Juan i Pérez",
      "userId": "13047725848368858602"
     },
     "user_tz": -120
    },
    "id": "edf04d97"
   },
   "outputs": [
    {
     "name": "stdout",
     "output_type": "stream",
     "text": [
      "OK - tiquet 'export_1.html' generat correctament.\n"
     ]
    }
   ],
   "source": [
    "# Guardar HTML generat\n",
    "for i in range(1,2):\n",
    "    file_name = f\"export_{i}.html\"\n",
    "    ruta = f\"./exports/mercadona/{file_name}\"\n",
    "\n",
    "    try:\n",
    "        with open(ruta, 'w', encoding='utf-8') as archivo:\n",
    "            archivo.write(reportText)\n",
    "            print(f\"OK - tiquet '{file_name}' generat correctament.\")\n",
    "    except Exception as e:\n",
    "        print(f\"NOK - No s'ha pogut generar el tiquet: '{file_name}'\")"
   ]
  },
  {
   "cell_type": "code",
   "execution_count": 78,
   "id": "3c1e5b17",
   "metadata": {
    "executionInfo": {
     "elapsed": 13,
     "status": "aborted",
     "timestamp": 1713517095901,
     "user": {
      "displayName": "Jaume Juan i Pérez",
      "userId": "13047725848368858602"
     },
     "user_tz": -120
    },
    "id": "3c1e5b17"
   },
   "outputs": [],
   "source": [
    "with open('./exports/mercadona/export_1.html', 'r', encoding='utf-8') as file:\n",
    "    html_content = file.read()"
   ]
  },
  {
   "cell_type": "code",
   "execution_count": 79,
   "id": "b542f1a7",
   "metadata": {
    "executionInfo": {
     "elapsed": 13,
     "status": "aborted",
     "timestamp": 1713517095901,
     "user": {
      "displayName": "Jaume Juan i Pérez",
      "userId": "13047725848368858602"
     },
     "user_tz": -120
    },
    "id": "b542f1a7"
   },
   "outputs": [
    {
     "name": "stderr",
     "output_type": "stream",
     "text": [
      "[0511/174323.177746:INFO:config_dir_policy_loader.cc(118)] Skipping mandatory platform policies because no policy file was found at: /etc/opt/chrome/policies/managed\n",
      "[0511/174323.177778:INFO:config_dir_policy_loader.cc(118)] Skipping recommended platform policies because no policy file was found at: /etc/opt/chrome/policies/recommended\n",
      "[0511/174323.182932:WARNING:bluez_dbus_manager.cc(248)] Floss manager not present, cannot set Floss enable/disable.\n",
      "[0511/174323.184069:WARNING:runtime_features.cc(730)] AttributionReportingCrossAppWeb cannot be enabled in this configuration. Use --enable-features=ConversionMeasurement,AttributionReportingCrossAppWeb in addition.\n",
      "[0511/174323.208830:WARNING:sandbox_linux.cc(420)] InitializeSandbox() called with multiple threads in process gpu-process.\n",
      "[0511/174323.217307:WARNING:runtime_features.cc(730)] AttributionReportingCrossAppWeb cannot be enabled in this configuration. Use --enable-features=ConversionMeasurement,AttributionReportingCrossAppWeb in addition.\n",
      "122229 bytes written to file /home/jaume/tiquets/generador-tiquets/exports/mercadona/export_1.png\n"
     ]
    },
    {
     "data": {
      "text/plain": [
       "['/home/jaume/tiquets/generador-tiquets/exports/mercadona/export_1.png']"
      ]
     },
     "execution_count": 79,
     "metadata": {},
     "output_type": "execute_result"
    }
   ],
   "source": [
    "# Ho convertim a imatge (fer-ho directament després)\n",
    "from html2image import Html2Image\n",
    "\n",
    "htmlimg = Html2Image()\n",
    "\n",
    "htmlimg.output_path = \"./exports/mercadona/\"\n",
    "\n",
    "filesize = (500, container_height)\n",
    "\n",
    "htmlimg.screenshot(\n",
    "    html_str=html_content,\n",
    "    save_as=\"export_1.png\",\n",
    "    size=filesize\n",
    ")"
   ]
  },
  {
   "cell_type": "markdown",
   "id": "091ac8e1",
   "metadata": {
    "id": "091ac8e1"
   },
   "source": [
    "#### Revisem el que hem generat"
   ]
  },
  {
   "cell_type": "code",
   "execution_count": 80,
   "id": "07f10ac0",
   "metadata": {
    "executionInfo": {
     "elapsed": 13,
     "status": "aborted",
     "timestamp": 1713517095901,
     "user": {
      "displayName": "Jaume Juan i Pérez",
      "userId": "13047725848368858602"
     },
     "user_tz": -120
    },
    "id": "07f10ac0"
   },
   "outputs": [],
   "source": [
    "from PIL import Image, ExifTags, ImageOps, ImageDraw"
   ]
  },
  {
   "cell_type": "code",
   "execution_count": 81,
   "id": "9bfcab76",
   "metadata": {
    "executionInfo": {
     "elapsed": 12,
     "status": "aborted",
     "timestamp": 1713517095901,
     "user": {
      "displayName": "Jaume Juan i Pérez",
      "userId": "13047725848368858602"
     },
     "user_tz": -120
    },
    "id": "9bfcab76"
   },
   "outputs": [
    {
     "data": {
      "image/png": "[encoded data removed]",
      "text/plain": [
       "<PIL.PngImagePlugin.PngImageFile image mode=RGBA size=500x1063>"
      ]
     },
     "execution_count": 81,
     "metadata": {},
     "output_type": "execute_result"
    }
   ],
   "source": [
    "pilImg = Image.open('./exports/mercadona/export_1.png')\n",
    "pilImg"
   ]
  },
  {
   "cell_type": "markdown",
   "id": "9b63b89c",
   "metadata": {
    "id": "9b63b89c"
   },
   "source": [
    "#### comprovem si els blobs etàn bé\n",
    "- marquem amb blau les coordenades per veure si coincideix"
   ]
  },
  {
   "cell_type": "code",
   "execution_count": 82,
   "id": "3515b9e0",
   "metadata": {
    "executionInfo": {
     "elapsed": 12,
     "status": "aborted",
     "timestamp": 1713517095901,
     "user": {
      "displayName": "Jaume Juan i Pérez",
      "userId": "13047725848368858602"
     },
     "user_tz": -120
    },
    "id": "3515b9e0"
   },
   "outputs": [
    {
     "data": {
      "text/html": [
       "<div>\n",
       "<style scoped>\n",
       "    .dataframe tbody tr th:only-of-type {\n",
       "        vertical-align: middle;\n",
       "    }\n",
       "\n",
       "    .dataframe tbody tr th {\n",
       "        vertical-align: top;\n",
       "    }\n",
       "\n",
       "    .dataframe thead th {\n",
       "        text-align: right;\n",
       "    }\n",
       "</style>\n",
       "<table border=\"1\" class=\"dataframe\">\n",
       "  <thead>\n",
       "    <tr style=\"text-align: right;\">\n",
       "      <th></th>\n",
       "      <th>ticket_id</th>\n",
       "      <th>etiqueta</th>\n",
       "      <th>value</th>\n",
       "      <th>b_1</th>\n",
       "      <th>b_2</th>\n",
       "      <th>b_3</th>\n",
       "      <th>b_4</th>\n",
       "    </tr>\n",
       "  </thead>\n",
       "  <tbody>\n",
       "    <tr>\n",
       "      <th>0</th>\n",
       "      <td>000001.png.png</td>\n",
       "      <td>quantitat_ud</td>\n",
       "      <td>3</td>\n",
       "      <td>(25, 310)</td>\n",
       "      <td>(65, 310)</td>\n",
       "      <td>(25, 330)</td>\n",
       "      <td>(65, 330)</td>\n",
       "    </tr>\n",
       "    <tr>\n",
       "      <th>1</th>\n",
       "      <td>000001.png.png</td>\n",
       "      <td>descripcio</td>\n",
       "      <td>NYOQUIS</td>\n",
       "      <td>(65, 310)</td>\n",
       "      <td>(265, 310)</td>\n",
       "      <td>(65, 330)</td>\n",
       "      <td>(265, 330)</td>\n",
       "    </tr>\n",
       "    <tr>\n",
       "      <th>2</th>\n",
       "      <td>000001.png.png</td>\n",
       "      <td>preu_unitari</td>\n",
       "      <td>2,62</td>\n",
       "      <td>(307.5, 310)</td>\n",
       "      <td>(377.5, 310)</td>\n",
       "      <td>(307.5, 330)</td>\n",
       "      <td>(377.5, 330)</td>\n",
       "    </tr>\n",
       "    <tr>\n",
       "      <th>3</th>\n",
       "      <td>000001.png.png</td>\n",
       "      <td>import</td>\n",
       "      <td>7,85</td>\n",
       "      <td>(430, 310)</td>\n",
       "      <td>(475, 310)</td>\n",
       "      <td>(430, 330)</td>\n",
       "      <td>(475, 330)</td>\n",
       "    </tr>\n",
       "    <tr>\n",
       "      <th>4</th>\n",
       "      <td>000001.png.png</td>\n",
       "      <td>quantitat_ud</td>\n",
       "      <td>1</td>\n",
       "      <td>(25, 330)</td>\n",
       "      <td>(65, 330)</td>\n",
       "      <td>(25, 350)</td>\n",
       "      <td>(65, 350)</td>\n",
       "    </tr>\n",
       "    <tr>\n",
       "      <th>5</th>\n",
       "      <td>000001.png.png</td>\n",
       "      <td>descripcio</td>\n",
       "      <td>PIZZES TOMÀQUET</td>\n",
       "      <td>(65, 330)</td>\n",
       "      <td>(265, 330)</td>\n",
       "      <td>(65, 350)</td>\n",
       "      <td>(265, 350)</td>\n",
       "    </tr>\n",
       "    <tr>\n",
       "      <th>6</th>\n",
       "      <td>000001.png.png</td>\n",
       "      <td>import</td>\n",
       "      <td>1,98</td>\n",
       "      <td>(430, 330)</td>\n",
       "      <td>(475, 330)</td>\n",
       "      <td>(430, 350)</td>\n",
       "      <td>(475, 350)</td>\n",
       "    </tr>\n",
       "    <tr>\n",
       "      <th>7</th>\n",
       "      <td>000001.png.png</td>\n",
       "      <td>quantitat_ud</td>\n",
       "      <td>2</td>\n",
       "      <td>(25, 350)</td>\n",
       "      <td>(65, 350)</td>\n",
       "      <td>(25, 370)</td>\n",
       "      <td>(65, 370)</td>\n",
       "    </tr>\n",
       "    <tr>\n",
       "      <th>8</th>\n",
       "      <td>000001.png.png</td>\n",
       "      <td>descripcio</td>\n",
       "      <td>GELAT AMETLLAT</td>\n",
       "      <td>(65, 350)</td>\n",
       "      <td>(265, 350)</td>\n",
       "      <td>(65, 370)</td>\n",
       "      <td>(265, 370)</td>\n",
       "    </tr>\n",
       "    <tr>\n",
       "      <th>9</th>\n",
       "      <td>000001.png.png</td>\n",
       "      <td>preu_unitari</td>\n",
       "      <td>2,31</td>\n",
       "      <td>(307.5, 350)</td>\n",
       "      <td>(377.5, 350)</td>\n",
       "      <td>(307.5, 370)</td>\n",
       "      <td>(377.5, 370)</td>\n",
       "    </tr>\n",
       "  </tbody>\n",
       "</table>\n",
       "</div>"
      ],
      "text/plain": [
       "        ticket_id      etiqueta            value           b_1           b_2  \\\n",
       "0  000001.png.png  quantitat_ud                3     (25, 310)     (65, 310)   \n",
       "1  000001.png.png    descripcio          NYOQUIS     (65, 310)    (265, 310)   \n",
       "2  000001.png.png  preu_unitari             2,62  (307.5, 310)  (377.5, 310)   \n",
       "3  000001.png.png        import             7,85    (430, 310)    (475, 310)   \n",
       "4  000001.png.png  quantitat_ud                1     (25, 330)     (65, 330)   \n",
       "5  000001.png.png    descripcio  PIZZES TOMÀQUET     (65, 330)    (265, 330)   \n",
       "6  000001.png.png        import             1,98    (430, 330)    (475, 330)   \n",
       "7  000001.png.png  quantitat_ud                2     (25, 350)     (65, 350)   \n",
       "8  000001.png.png    descripcio   GELAT AMETLLAT     (65, 350)    (265, 350)   \n",
       "9  000001.png.png  preu_unitari             2,31  (307.5, 350)  (377.5, 350)   \n",
       "\n",
       "            b_3           b_4  \n",
       "0     (25, 330)     (65, 330)  \n",
       "1     (65, 330)    (265, 330)  \n",
       "2  (307.5, 330)  (377.5, 330)  \n",
       "3    (430, 330)    (475, 330)  \n",
       "4     (25, 350)     (65, 350)  \n",
       "5     (65, 350)    (265, 350)  \n",
       "6    (430, 350)    (475, 350)  \n",
       "7     (25, 370)     (65, 370)  \n",
       "8     (65, 370)    (265, 370)  \n",
       "9  (307.5, 370)  (377.5, 370)  "
      ]
     },
     "execution_count": 82,
     "metadata": {},
     "output_type": "execute_result"
    }
   ],
   "source": [
    "tiquets.head(10)"
   ]
  },
  {
   "cell_type": "code",
   "execution_count": 83,
   "id": "2695dbb8",
   "metadata": {
    "executionInfo": {
     "elapsed": 13,
     "status": "aborted",
     "timestamp": 1713517095902,
     "user": {
      "displayName": "Jaume Juan i Pérez",
      "userId": "13047725848368858602"
     },
     "user_tz": -120
    },
    "id": "2695dbb8"
   },
   "outputs": [
    {
     "data": {
      "text/plain": [
       "('quantitat_ud', '5')"
      ]
     },
     "execution_count": 83,
     "metadata": {},
     "output_type": "execute_result"
    }
   ],
   "source": [
    "idx = 33\n",
    "tiquets.iloc[idx].etiqueta, tiquets.iloc[idx].value"
   ]
  },
  {
   "cell_type": "code",
   "execution_count": 84,
   "id": "6d240108",
   "metadata": {
    "executionInfo": {
     "elapsed": 14,
     "status": "aborted",
     "timestamp": 1713517095903,
     "user": {
      "displayName": "Jaume Juan i Pérez",
      "userId": "13047725848368858602"
     },
     "user_tz": -120
    },
    "id": "6d240108"
   },
   "outputs": [
    {
     "data": {
      "text/plain": [
       "('quantitat_kg', 0.707)"
      ]
     },
     "execution_count": 84,
     "metadata": {},
     "output_type": "execute_result"
    }
   ],
   "source": [
    "idx_2 = 43\n",
    "tiquets.iloc[idx_2].etiqueta, tiquets.iloc[idx_2].value"
   ]
  },
  {
   "cell_type": "code",
   "execution_count": 85,
   "id": "29f3d018",
   "metadata": {
    "executionInfo": {
     "elapsed": 2862,
     "status": "aborted",
     "timestamp": 1713517095904,
     "user": {
      "displayName": "Jaume Juan i Pérez",
      "userId": "13047725848368858602"
     },
     "user_tz": -120
    },
    "id": "29f3d018"
   },
   "outputs": [
    {
     "data": {
      "text/plain": [
       "('import', '1,32')"
      ]
     },
     "execution_count": 85,
     "metadata": {},
     "output_type": "execute_result"
    }
   ],
   "source": [
    "idx_3 = 42\n",
    "tiquets.iloc[idx_3].etiqueta, tiquets.iloc[idx_3].value"
   ]
  },
  {
   "cell_type": "code",
   "execution_count": 86,
   "id": "ca8e8811",
   "metadata": {
    "executionInfo": {
     "elapsed": 2860,
     "status": "aborted",
     "timestamp": 1713517095904,
     "user": {
      "displayName": "Jaume Juan i Pérez",
      "userId": "13047725848368858602"
     },
     "user_tz": -120
    },
    "id": "ca8e8811"
   },
   "outputs": [
    {
     "data": {
      "image/png": "[encoded data removed]",
      "text/plain": [
       "<Figure size 640x480 with 1 Axes>"
      ]
     },
     "metadata": {},
     "output_type": "display_data"
    }
   ],
   "source": [
    "imgdrw = ImageDraw.Draw(pilImg)\n",
    "imgdrw.rectangle([tiquets.iloc[idx].b_1, tiquets.iloc[idx].b_4], outline = 'blue', width = 2)\n",
    "imgdrw.rectangle([tiquets.iloc[idx_2].b_1, tiquets.iloc[idx_2].b_4], outline = 'red', width = 2)\n",
    "imgdrw.rectangle([tiquets.iloc[idx_3].b_1, tiquets.iloc[idx_3].b_4], outline = 'yellow', width = 2)\n",
    "plt.imshow(pilImg)\n",
    "plt.axis('off');"
   ]
  },
  {
   "cell_type": "markdown",
   "id": "vv5XSGOH0ilu",
   "metadata": {
    "id": "vv5XSGOH0ilu"
   },
   "source": [
    "#### Mostrem tots els blobs"
   ]
  },
  {
   "cell_type": "code",
   "execution_count": 87,
   "id": "c21d7394",
   "metadata": {
    "executionInfo": {
     "elapsed": 2860,
     "status": "aborted",
     "timestamp": 1713517095906,
     "user": {
      "displayName": "Jaume Juan i Pérez",
      "userId": "13047725848368858602"
     },
     "user_tz": -120
    },
    "id": "c21d7394"
   },
   "outputs": [
    {
     "data": {
      "image/png": "[encoded data removed]",
      "text/plain": [
       "<Figure size 640x480 with 1 Axes>"
      ]
     },
     "metadata": {},
     "output_type": "display_data"
    }
   ],
   "source": [
    "# Pitem un recuadre a sobre\n",
    "imgdrw = ImageDraw.Draw(pilImg)\n",
    "for i in range (0, tiquets.shape[0]):\n",
    "    imgdrw.rectangle([tiquets.iloc[i].b_1, tiquets.iloc[i].b_4], outline = 'blue', width = 2)\n",
    "    plt.imshow(pilImg)\n",
    "\n",
    "plt.axis('off');\n"
   ]
  },
  {
   "cell_type": "markdown",
   "id": "576248cd",
   "metadata": {
    "id": "576248cd"
   },
   "source": [
    "#### Si volem fer la Xarxa Neuronal més eficient\n",
    "- Que primer només es fixi on hi han els productes\n",
    "- No ha sigut el cas, però podría ser un nou approach per solucionar el problema:\n",
    "    - Primer passar les imatges per una xarxa neuronal que es quedés només amb la secció dels productes perque la xarxa neuronal que s'encarrega de treure els elements, no tingués tanta feina i pogués operar millor."
   ]
  },
  {
   "cell_type": "code",
   "execution_count": 88,
   "id": "05f1ad30",
   "metadata": {
    "executionInfo": {
     "elapsed": 2858,
     "status": "aborted",
     "timestamp": 1713517095907,
     "user": {
      "displayName": "Jaume Juan i Pérez",
      "userId": "13047725848368858602"
     },
     "user_tz": -120
    },
    "id": "05f1ad30"
   },
   "outputs": [
    {
     "data": {
      "text/plain": [
       "(18, 310, 650)"
      ]
     },
     "execution_count": 88,
     "metadata": {},
     "output_type": "execute_result"
    }
   ],
   "source": [
    "count = sum(1 if product['format'] == 'ud' else 2 for product in products) + 2\n",
    "\n",
    "top = 310 # 290 + (count * 20) -> top is when count = 1\n",
    "left = 25\n",
    "width = 450\n",
    "bottom = 290 + (count * 20)\n",
    "\n",
    "count, top, bottom"
   ]
  },
  {
   "cell_type": "code",
   "execution_count": 89,
   "id": "b28414ea",
   "metadata": {
    "executionInfo": {
     "elapsed": 2858,
     "status": "aborted",
     "timestamp": 1713517095907,
     "user": {
      "displayName": "Jaume Juan i Pérez",
      "userId": "13047725848368858602"
     },
     "user_tz": -120
    },
    "id": "b28414ea"
   },
   "outputs": [],
   "source": [
    "b_1 = (left, top)\n",
    "b_4 = (left + width, bottom + 20)"
   ]
  },
  {
   "cell_type": "code",
   "execution_count": 90,
   "id": "816ba0d6",
   "metadata": {
    "executionInfo": {
     "elapsed": 2857,
     "status": "aborted",
     "timestamp": 1713517095908,
     "user": {
      "displayName": "Jaume Juan i Pérez",
      "userId": "13047725848368858602"
     },
     "user_tz": -120
    },
    "id": "816ba0d6"
   },
   "outputs": [
    {
     "data": {
      "image/png": "[encoded data removed]",
      "text/plain": [
       "<Figure size 640x480 with 1 Axes>"
      ]
     },
     "metadata": {},
     "output_type": "display_data"
    }
   ],
   "source": [
    "# Pitem un recuadre a sobre\n",
    "pilImg = Image.open('./exports/mercadona/export_1.png')\n",
    "\n",
    "imgdrw = ImageDraw.Draw(pilImg)\n",
    "\n",
    "imgdrw.rectangle([b_1, b_4], outline = 'red', width = 2)\n",
    "plt.imshow(pilImg)\n",
    "\n",
    "plt.axis('off');"
   ]
  },
  {
   "cell_type": "code",
   "execution_count": 91,
   "id": "2d878828",
   "metadata": {},
   "outputs": [
    {
     "data": {
      "text/plain": [
       "(500, 1063)"
      ]
     },
     "execution_count": 91,
     "metadata": {},
     "output_type": "execute_result"
    }
   ],
   "source": [
    "pilImg.size"
   ]
  },
  {
   "cell_type": "code",
   "execution_count": 92,
   "id": "RAcGex4mlKdd",
   "metadata": {
    "id": "RAcGex4mlKdd"
   },
   "outputs": [
    {
     "data": {
      "image/png": "[encoded data removed]",
      "text/plain": [
       "<PIL.Image.Image image mode=RGBA size=450x360>"
      ]
     },
     "execution_count": 92,
     "metadata": {},
     "output_type": "execute_result"
    }
   ],
   "source": [
    "# Crop image amb aquests blobs\n",
    "\n",
    "# Tornar a llegir la imgatge perque no surti amb el recuadre vermell\n",
    "pilImg = Image.open('./exports/mercadona/export_1.png')\n",
    "\n",
    "cropped_img = pilImg.crop((b_1[0], b_1[1], b_4[0], b_4[1]))\n",
    "cropped_img"
   ]
  },
  {
   "cell_type": "code",
   "execution_count": 93,
   "id": "2b79d085",
   "metadata": {},
   "outputs": [],
   "source": [
    "# Guardar la imatge\n",
    "cropped_img.save('./exports/mercadona/crop_export_1.png')"
   ]
  },
  {
   "cell_type": "code",
   "execution_count": 94,
   "id": "xJ6hhoENlKa5",
   "metadata": {
    "id": "xJ6hhoENlKa5"
   },
   "outputs": [],
   "source": [
    "# Calcular nous blobs de tots els productes (eliminant la part superior i inferior)\n",
    "# el count ha de començar a 0, el top_offset també a 0 i hem de restar 25 a cada left "
   ]
  },
  {
   "cell_type": "code",
   "execution_count": 95,
   "id": "pJEOkqJQqDSS",
   "metadata": {
    "colab": {
     "base_uri": "https://localhost:8080/"
    },
    "executionInfo": {
     "elapsed": 257,
     "status": "ok",
     "timestamp": 1713522780989,
     "user": {
      "displayName": "Jaume Juan i Pérez",
      "userId": "13047725848368858602"
     },
     "user_tz": -120
    },
    "id": "pJEOkqJQqDSS",
    "outputId": "4ceea9a5-6454-4044-e72a-ce5f9f8c28bb"
   },
   "outputs": [],
   "source": [
    "ud_cropped = {\n",
    "  'quantitat_ud': {'left': 25-25, 'width': 40},\n",
    "  'descripcio': {'left': 65-25, 'width': 200},\n",
    "  'preu_unitari': {'left': 307.5-25, 'width': 70},\n",
    "  'import': {'left': 430-25,  'width': 45},\n",
    "}\n",
    "\n",
    "kg_cropped = {\n",
    "    'quantitat_kg': {'left': 99-25, 'width': 60},\n",
    "    'descripcio': {'left': 65-25, 'width': 200},\n",
    "    'preu_unitari': {'left': 307.5-25, 'width': 70},\n",
    "    'import': {'left': 430-25,  'width': 45},\n",
    "}\n",
    "\n",
    "total_cropped = {\n",
    "    'total': {'left': 400-25,  'width': 75},\n",
    "}\n",
    "\n",
    "# Instància\n",
    "ticket_generator = BlobGenerator(initial_count=0, top_offset=0, ud=ud_cropped, kg=kg_cropped, total=total_cropped)\n",
    "\n",
    "tiquets = ticket_generator.generate_blobs(products, '001')"
   ]
  },
  {
   "cell_type": "code",
   "execution_count": 96,
   "id": "429957c9",
   "metadata": {},
   "outputs": [
    {
     "data": {
      "text/html": [
       "<div>\n",
       "<style scoped>\n",
       "    .dataframe tbody tr th:only-of-type {\n",
       "        vertical-align: middle;\n",
       "    }\n",
       "\n",
       "    .dataframe tbody tr th {\n",
       "        vertical-align: top;\n",
       "    }\n",
       "\n",
       "    .dataframe thead th {\n",
       "        text-align: right;\n",
       "    }\n",
       "</style>\n",
       "<table border=\"1\" class=\"dataframe\">\n",
       "  <thead>\n",
       "    <tr style=\"text-align: right;\">\n",
       "      <th></th>\n",
       "      <th>ticket_id</th>\n",
       "      <th>etiqueta</th>\n",
       "      <th>value</th>\n",
       "      <th>b_1</th>\n",
       "      <th>b_2</th>\n",
       "      <th>b_3</th>\n",
       "      <th>b_4</th>\n",
       "    </tr>\n",
       "  </thead>\n",
       "  <tbody>\n",
       "    <tr>\n",
       "      <th>0</th>\n",
       "      <td>001.png</td>\n",
       "      <td>quantitat_ud</td>\n",
       "      <td>3</td>\n",
       "      <td>(0, 0)</td>\n",
       "      <td>(40, 0)</td>\n",
       "      <td>(0, 20)</td>\n",
       "      <td>(40, 20)</td>\n",
       "    </tr>\n",
       "    <tr>\n",
       "      <th>1</th>\n",
       "      <td>001.png</td>\n",
       "      <td>descripcio</td>\n",
       "      <td>NYOQUIS</td>\n",
       "      <td>(40, 0)</td>\n",
       "      <td>(240, 0)</td>\n",
       "      <td>(40, 20)</td>\n",
       "      <td>(240, 20)</td>\n",
       "    </tr>\n",
       "    <tr>\n",
       "      <th>2</th>\n",
       "      <td>001.png</td>\n",
       "      <td>preu_unitari</td>\n",
       "      <td>2,62</td>\n",
       "      <td>(282.5, 0)</td>\n",
       "      <td>(352.5, 0)</td>\n",
       "      <td>(282.5, 20)</td>\n",
       "      <td>(352.5, 20)</td>\n",
       "    </tr>\n",
       "    <tr>\n",
       "      <th>3</th>\n",
       "      <td>001.png</td>\n",
       "      <td>import</td>\n",
       "      <td>7,85</td>\n",
       "      <td>(405, 0)</td>\n",
       "      <td>(450, 0)</td>\n",
       "      <td>(405, 20)</td>\n",
       "      <td>(450, 20)</td>\n",
       "    </tr>\n",
       "    <tr>\n",
       "      <th>4</th>\n",
       "      <td>001.png</td>\n",
       "      <td>quantitat_ud</td>\n",
       "      <td>1</td>\n",
       "      <td>(0, 20)</td>\n",
       "      <td>(40, 20)</td>\n",
       "      <td>(0, 40)</td>\n",
       "      <td>(40, 40)</td>\n",
       "    </tr>\n",
       "    <tr>\n",
       "      <th>5</th>\n",
       "      <td>001.png</td>\n",
       "      <td>descripcio</td>\n",
       "      <td>PIZZES TOMÀQUET</td>\n",
       "      <td>(40, 20)</td>\n",
       "      <td>(240, 20)</td>\n",
       "      <td>(40, 40)</td>\n",
       "      <td>(240, 40)</td>\n",
       "    </tr>\n",
       "    <tr>\n",
       "      <th>6</th>\n",
       "      <td>001.png</td>\n",
       "      <td>import</td>\n",
       "      <td>1,98</td>\n",
       "      <td>(405, 20)</td>\n",
       "      <td>(450, 20)</td>\n",
       "      <td>(405, 40)</td>\n",
       "      <td>(450, 40)</td>\n",
       "    </tr>\n",
       "    <tr>\n",
       "      <th>7</th>\n",
       "      <td>001.png</td>\n",
       "      <td>quantitat_ud</td>\n",
       "      <td>2</td>\n",
       "      <td>(0, 40)</td>\n",
       "      <td>(40, 40)</td>\n",
       "      <td>(0, 60)</td>\n",
       "      <td>(40, 60)</td>\n",
       "    </tr>\n",
       "    <tr>\n",
       "      <th>8</th>\n",
       "      <td>001.png</td>\n",
       "      <td>descripcio</td>\n",
       "      <td>GELAT AMETLLAT</td>\n",
       "      <td>(40, 40)</td>\n",
       "      <td>(240, 40)</td>\n",
       "      <td>(40, 60)</td>\n",
       "      <td>(240, 60)</td>\n",
       "    </tr>\n",
       "    <tr>\n",
       "      <th>9</th>\n",
       "      <td>001.png</td>\n",
       "      <td>preu_unitari</td>\n",
       "      <td>2,31</td>\n",
       "      <td>(282.5, 40)</td>\n",
       "      <td>(352.5, 40)</td>\n",
       "      <td>(282.5, 60)</td>\n",
       "      <td>(352.5, 60)</td>\n",
       "    </tr>\n",
       "  </tbody>\n",
       "</table>\n",
       "</div>"
      ],
      "text/plain": [
       "  ticket_id      etiqueta            value          b_1          b_2  \\\n",
       "0   001.png  quantitat_ud                3       (0, 0)      (40, 0)   \n",
       "1   001.png    descripcio          NYOQUIS      (40, 0)     (240, 0)   \n",
       "2   001.png  preu_unitari             2,62   (282.5, 0)   (352.5, 0)   \n",
       "3   001.png        import             7,85     (405, 0)     (450, 0)   \n",
       "4   001.png  quantitat_ud                1      (0, 20)     (40, 20)   \n",
       "5   001.png    descripcio  PIZZES TOMÀQUET     (40, 20)    (240, 20)   \n",
       "6   001.png        import             1,98    (405, 20)    (450, 20)   \n",
       "7   001.png  quantitat_ud                2      (0, 40)     (40, 40)   \n",
       "8   001.png    descripcio   GELAT AMETLLAT     (40, 40)    (240, 40)   \n",
       "9   001.png  preu_unitari             2,31  (282.5, 40)  (352.5, 40)   \n",
       "\n",
       "           b_3          b_4  \n",
       "0      (0, 20)     (40, 20)  \n",
       "1     (40, 20)    (240, 20)  \n",
       "2  (282.5, 20)  (352.5, 20)  \n",
       "3    (405, 20)    (450, 20)  \n",
       "4      (0, 40)     (40, 40)  \n",
       "5     (40, 40)    (240, 40)  \n",
       "6    (405, 40)    (450, 40)  \n",
       "7      (0, 60)     (40, 60)  \n",
       "8     (40, 60)    (240, 60)  \n",
       "9  (282.5, 60)  (352.5, 60)  "
      ]
     },
     "execution_count": 96,
     "metadata": {},
     "output_type": "execute_result"
    }
   ],
   "source": [
    "tiquets.head(10)"
   ]
  },
  {
   "cell_type": "code",
   "execution_count": 97,
   "id": "4a3bcd35",
   "metadata": {},
   "outputs": [
    {
     "data": {
      "image/png": "[encoded data removed]",
      "text/plain": [
       "<Figure size 640x480 with 1 Axes>"
      ]
     },
     "metadata": {},
     "output_type": "display_data"
    }
   ],
   "source": [
    "# Tornem a mostrar els blobs dins la imatge ratellada per veure si estàn bé:\n",
    "pilImg = Image.open('./exports/mercadona/crop_export_1.png')\n",
    "imgdrw = ImageDraw.Draw(pilImg)\n",
    "for i in range (0, tiquets.shape[0]):\n",
    "    imgdrw.rectangle([tiquets.iloc[i].b_1, tiquets.iloc[i].b_4], outline = 'blue', width = 2)\n",
    "    plt.imshow(pilImg)\n",
    "\n",
    "plt.axis('off');"
   ]
  },
  {
   "cell_type": "markdown",
   "id": "84ed7c23",
   "metadata": {},
   "source": [
    "## Per tant tindrem aquesta informació de tiquets:\n",
    "- a la carpeta: `datasets` hi ha dues seccions:\n",
    "1. Dataset general:\n",
    "    - al fitxer: `datasets/tiquets.csv`: la informació que hi ha a cada imatge (tiquet_id, nom, valor i blob)\n",
    "    - a la carpeta: `datasets/images/full_tiket`: les imatges dels tiquets. El nom de cada imatge és el `tiquet_id` que hi ha representat al dataset de `tiquets.csv`\n",
    "\n",
    "2. Dataset amb les imatges retallades (només la secció amb productes):\n",
    "    - al fitxer: `datasets/cropped_tiket.csv`: la informació d'on està la secció de productes dins de cada tiquet (tiquet_id, cropped_id, etiqueta, value, blobs) on `cropped_id` és el nom de la imatge retallada.\n",
    "    - a la carpeta `datasets/images/cropped_tiket`: les imatges de la secció dels productes retallada (sense la part superior i inferior). \n",
    "    \n",
    "### Possibles approaches a 20/04/2024\n",
    "- 1 i 2, per això hem generat les dades amb el retall.\n",
    "\n",
    "##### 1. Crear una xarxa neuronal que amb el dataset general ja sigui capaç de extreure tota la informació\n",
    "\n",
    "##### 2. Crear una xarxa neuronal primer per treure tot el soroll i quedar-se només amb els productes per després reconèixer que hi ha.\n",
    "- 1a Xarxa Neuronal\n",
    "\n",
    "    - Xarxa neuronal que donat un tiquet original trobi el recuadre on hi han els productes\n",
    "    - input &rarr; tiquet amb png\n",
    "    - output &rarr; crop de on hi han tots els productes\n",
    "\n",
    "-  2a Xarxa Neuronal\n",
    "    - input &rarr; imatge vermella (crop del tiquet original)\n",
    "    - output &rarr; productes i tota la info.\n",
    "    \n",
    "### Ara creen un script amb aquesta informació per generar `n` mostres de cop.\n",
    "- El script és: `/script/main.py`.\n",
    "    - Més informació del script al `README.md`"
   ]
  }
 ],
 "metadata": {
  "colab": {
   "provenance": [],
   "toc_visible": true
  },
  "kernelspec": {
   "display_name": "Python 3 (ipykernel)",
   "language": "python",
   "name": "python3"
  },
  "language_info": {
   "codemirror_mode": {
    "name": "ipython",
    "version": 3
   },
   "file_extension": ".py",
   "mimetype": "text/x-python",
   "name": "python",
   "nbconvert_exporter": "python",
   "pygments_lexer": "ipython3",
   "version": "3.11.5"
  }
 },
 "nbformat": 4,
 "nbformat_minor": 5
}
