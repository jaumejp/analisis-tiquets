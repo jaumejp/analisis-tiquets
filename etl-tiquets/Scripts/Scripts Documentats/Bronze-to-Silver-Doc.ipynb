{
 "cells": [
  {
   "cell_type": "markdown",
   "metadata": {
    "application/vnd.databricks.v1+cell": {
     "cellMetadata": {
      "byteLimit": 2048000,
      "rowLimit": 10000
     },
     "inputWidgets": {},
     "nuid": "32bf186c-dd42-4bf1-ad6b-86ef008be0a0",
     "showTitle": false,
     "title": ""
    }
   },
   "source": [
    "\n",
    "### Explicació script Bronze to Silver\n",
    "\n",
    "**Quin objectiu té la capa Silver en aquest cas?**\n",
    "\n",
    "- L'objectiu d'aquesta capa és transformar les dades brutes en dades netes. Amb \"netes\" ens referim a dades sense columnes innecessàries, en el format adequat, organitzades correctament i amb camps afegits si cal.\n",
    "- Això ens permetrà realitzar moltes accions sobre aquesta capa, ja que tindrem les dades netejades i preparades per a l'anàlisi.\n",
    "\n",
    "**Quins processos i accions realitzem en aquest script? (EXPLICACIÓ PAS A PAS)**\n",
    "\n",
    "- Agafem les dades en format JSON de la capa Bronze i les convertim a dataframes de pandas per poder-les tractar.\n",
    "- Creem diferents funcions per poder extreure les dades que ens interessen de la capa Bronze i per mostrar-ne el funcionament.\n",
    "- Una vegada fetes aquestes funcions, llegim totes les dades de la capa Bronze. Durant aquest pas, afegim dades del tiquet com l'ID, que ens interessen i que extraiem dels directoris en aquest cas.\n",
    "- Quan tenim totes les dades en format pandas, les tractem, és a dir:\n",
    "  - Netegem les dades innecessàries dels camps que tenim.\n",
    "  - Eliminem columnes innecessàries a partir d'una funció creada.\n",
    "  - Convertim les dades al format adequat.\n",
    "  - Afegim camps que falten.\n",
    "- Creem dues funcions per particionar les dades per clients o per dies en format Parquet.\n",
    "- Un cop definides les funcions, emmagatzemem les dades en dos directoris diferents a la capa Silver del Data Lake, particionades de diferents maneres en cada capa."
   ]
  },
  {
   "cell_type": "markdown",
   "metadata": {
    "application/vnd.databricks.v1+cell": {
     "cellMetadata": {
      "byteLimit": 2048000,
      "rowLimit": 10000
     },
     "inputWidgets": {},
     "nuid": "c41ec67e-0dd3-48e9-b702-6fe51f913b8d",
     "showTitle": false,
     "title": ""
    }
   },
   "source": [
    "#### Importem les llibreries necessàries"
   ]
  },
  {
   "cell_type": "code",
   "execution_count": 0,
   "metadata": {
    "application/vnd.databricks.v1+cell": {
     "cellMetadata": {
      "byteLimit": 2048000,
      "rowLimit": 10000
     },
     "inputWidgets": {},
     "nuid": "88889f57-72d7-4317-92c9-11259200721c",
     "showTitle": false,
     "title": ""
    }
   },
   "outputs": [],
   "source": [
    "import numpy as np\n",
    "import pandas as pd"
   ]
  },
  {
   "cell_type": "markdown",
   "metadata": {
    "application/vnd.databricks.v1+cell": {
     "cellMetadata": {
      "byteLimit": 2048000,
      "rowLimit": 10000
     },
     "inputWidgets": {},
     "nuid": "9cf45cd5-2591-40d6-af29-732f6ede2cc2",
     "showTitle": false,
     "title": ""
    }
   },
   "source": [
    "\n",
    "#### Configuració connexió Spark\n",
    "- En aquest codi podem veure les variables necessàries per realitzar la connexió amb Spark i com creem l'objecte Spark amb aquestes variables.\n",
    "- La connexió en aquest cas la fem amb SAS, ja que només ens fa falta un token per poder-la establir. Hi ha més maneres de realitzar la connexió."
   ]
  },
  {
   "cell_type": "code",
   "execution_count": 0,
   "metadata": {
    "application/vnd.databricks.v1+cell": {
     "cellMetadata": {
      "byteLimit": 2048000,
      "rowLimit": 10000
     },
     "inputWidgets": {},
     "nuid": "d3f52aff-5593-44a6-9fbd-35f0e0bf962d",
     "showTitle": false,
     "title": "Connect Spark with Azure Data Lake Gen 2"
    }
   },
   "outputs": [],
   "source": [
    "# Configuració Spark per connexió ADLG2 amb token SAS\n",
    "token = 'sv=2022-11-02&ss=bfqt&srt=sco&sp=rwdlacupyx&se=2025-06-03T02:34:04Z&st=2024-04-09T18:34:04Z&spr=https&sig=dplYYYNSRC%2FjDR89WMxcsA6SMo%2BHFYrQ5BqdhRUKBMs%3D'\n",
    "storage_account = 'projecteiabd'\n",
    "container = 'bronze'\n",
    "\n",
    "spark.conf.set(\"fs.azure.account.auth.type.{0}.dfs.core.windows.net\".format(storage_account), \"SAS\")\n",
    "spark.conf.set(\"fs.azure.sas.token.provider.type.{0}.dfs.core.windows.net\".format(storage_account), \"org.apache.hadoop.fs.azurebfs.sas.FixedSASTokenProvider\")\n",
    "spark.conf.set(\"fs.azure.sas.fixed.token.{0}.dfs.core.windows.net\".format(storage_account), token)"
   ]
  },
  {
   "cell_type": "markdown",
   "metadata": {
    "application/vnd.databricks.v1+cell": {
     "cellMetadata": {
      "byteLimit": 2048000,
      "rowLimit": 10000
     },
     "inputWidgets": {},
     "nuid": "847f1789-2d5c-4af4-9a80-88b7735b2ea4",
     "showTitle": false,
     "title": ""
    }
   },
   "source": [
    "#### Lectura d'un document amb Spark\n",
    "- Ara veurem un exemple de com llegir un document concret amb Spark.\n",
    "- Utilitzem la ruta absoluta del document, que és la del nostre Azure Data Lake.\n",
    "- Indiquem que és multiLine perquè si no, no llegeix bé el JSON, ja que tenim més d'un objecte dins del JSON."
   ]
  },
  {
   "cell_type": "code",
   "execution_count": 0,
   "metadata": {
    "application/vnd.databricks.v1+cell": {
     "cellMetadata": {
      "byteLimit": 2048000,
      "rowLimit": 10000
     },
     "inputWidgets": {},
     "nuid": "ea560612-62ef-4785-991d-696f8b8c464e",
     "showTitle": true,
     "title": "Read one document (JSON)"
    }
   },
   "outputs": [],
   "source": [
    "# Exemple de com llegir un document del datalake amb json.\n",
    "# path = 'abfs://{0}@{1}.dfs.core.windows.net/1/21052024/21052024_20051716314645.json'.format(container, storage_account)\n",
    "\n",
    "# df = spark.read.json(path, multiLine=True)\n",
    "\n",
    "# display(df)"
   ]
  },
  {
   "cell_type": "markdown",
   "metadata": {
    "application/vnd.databricks.v1+cell": {
     "cellMetadata": {
      "byteLimit": 2048000,
      "rowLimit": 10000
     },
     "inputWidgets": {},
     "nuid": "d236165c-79c8-429a-8682-c72ffa3071f9",
     "showTitle": false,
     "title": ""
    }
   },
   "source": [
    "#### Lectura de múltiples documents (JSON)\n",
    "\n",
    "- A continuació, veurem un exemple de com llistar els fitxers i carpetes que es troben dins una carpeta del Data Lake d'Azure.\n",
    "- En aquest exemple, observem que hi ha dues carpetes.\n",
    "- A més, podem veure detalls com la ruta completa, el nom del fitxer/camí i la data de modificació."
   ]
  },
  {
   "cell_type": "code",
   "execution_count": 0,
   "metadata": {
    "application/vnd.databricks.v1+cell": {
     "cellMetadata": {
      "byteLimit": 2048000,
      "rowLimit": 10000
     },
     "inputWidgets": {},
     "nuid": "12ed0365-9266-407f-ac26-6029dcf52734",
     "showTitle": false,
     "title": "Read Multiple All Documents (JSON)"
    }
   },
   "outputs": [
    {
     "output_type": "stream",
     "name": "stdout",
     "output_type": "stream",
     "text": [
      "[FileInfo(path='abfs://bronze@projecteiabd.dfs.core.windows.net/1/', name='1/', size=0, modificationTime=1716568861000), FileInfo(path='abfs://bronze@projecteiabd.dfs.core.windows.net/2/', name='2/', size=0, modificationTime=1716568873000), FileInfo(path='abfs://bronze@projecteiabd.dfs.core.windows.net/3/', name='3/', size=0, modificationTime=1716568922000), FileInfo(path='abfs://bronze@projecteiabd.dfs.core.windows.net/4/', name='4/', size=0, modificationTime=1716568890000)]\n"
     ]
    }
   ],
   "source": [
    "# Exemple de com llistar fitxers i carpetas que hi ha dintre de un path.\n",
    "path = 'abfs://{0}@{1}.dfs.core.windows.net/'.format(container, storage_account)\n",
    "\n",
    "files_in_adls = dbutils.fs.ls(path)\n",
    "print(files_in_adls)"
   ]
  },
  {
   "cell_type": "markdown",
   "metadata": {
    "application/vnd.databricks.v1+cell": {
     "cellMetadata": {
      "byteLimit": 2048000,
      "rowLimit": 10000
     },
     "inputWidgets": {},
     "nuid": "b7263e0e-cc26-40f4-9372-8f0d567b6218",
     "showTitle": false,
     "title": ""
    }
   },
   "source": [
    "\n",
    "#### Declaració de funcions.\n",
    "\n",
    "A continuació, declararem les funcions que utilitzarem per tractar i penjar les dades a la capa Silver.\n",
    "\n",
    "- **Funció per llistar tots els documents que hi ha dins d'una ruta**\n",
    "  - Aquesta funció permet llistar tots els fitxers que hi ha dins una ruta; en aquest cas, s'utilitzarà per revisar tots els fitxers que conté un container.\n",
    "  - La funció és especialment útil perquè pot llegir fitxers dins de subcarpetes de manera recursiva fins a obtenir tots els fitxers.\n",
    "  - Retorna una llista d'objectes que representen els fitxers, incloent-hi dades com el path, name, i modificationTime.\n",
    "\n",
    "- **Funció per eliminar columnes innecessàries**\n",
    "  - Aquesta funció permet eliminar columnes no necessàries d'un DataFrame de manera ràpida i senzilla.\n",
    "  - Només cal passar una llista de les columnes que no es volen i el DataFrame del qual s'han d'eliminar.\n",
    "  - Retorna el DataFrame amb les columnes eliminades.\n",
    "\n",
    "- **Funció per visualitzar els productes d'un DataFrame**\n",
    "  - Aquesta funció serveix per analitzar les dades, mostrant com estan distribuïts els productes.\n",
    "  - Realitza prints que permeten visualitzar les dades\n",
    "\n",
    "- **Funció per emmagatzemar les dades particionades per clients**\n",
    "  - Aquesta funció permet emmagatzemar les dades del DataFrame final en un repositori remot, en aquest cas un container de Azure Data Lake.\n",
    "  - Les dades es particionen per id_client.\n",
    "\n",
    "- **Funció per emmagatzemar les dades particionades per dies**\n",
    "  - Aquesta funció permet emmagatzemar les dades del DataFrame final en un repositori remot, en aquest cas un container de Azure Data Lake, particionant per dies.\n",
    "\n",
    "- **Funció per canviar les \",\" per \".\" a l'import, preu_unitari i total**\n",
    "  - Aquesta funció canvia les \",\" per \".\" a les columnes necessàries (import, preu_unitari, total).\n",
    "\n",
    "- **Funció per eliminar kg de la columne preu_unitat**\n",
    "  - Aquesta funció elimina el text \"kg\" de la columna preu_unitari.\n",
    "\n",
    "- **Funció per crear una nova columna unitats**\n",
    "  - En aquesta funció determinem sí és unitat kg o ud el producte.\n",
    "  - Això ens serveix per extreure el kg de la quanitat. Ja que això pot donar errors.\n"
   ]
  },
  {
   "cell_type": "code",
   "execution_count": 0,
   "metadata": {
    "application/vnd.databricks.v1+cell": {
     "cellMetadata": {
      "byteLimit": 2048000,
      "rowLimit": 10000
     },
     "inputWidgets": {},
     "nuid": "0d8f2c68-1b38-4f2f-b66a-0c601f3f3e25",
     "showTitle": false,
     "title": "Funcions"
    }
   },
   "outputs": [
    {
     "output_type": "stream",
     "name": "stdout",
     "output_type": "stream",
     "text": [
      "abfs://bronze@projecteiabd.dfs.core.windows.net/1/24052024/24052024_184100.json\nabfs://bronze@projecteiabd.dfs.core.windows.net/2/24052024/24052024_184112.json\nabfs://bronze@projecteiabd.dfs.core.windows.net/2/24052024/24052024_184138.json\nabfs://bronze@projecteiabd.dfs.core.windows.net/2/24052024/24052024_184507.json\nabfs://bronze@projecteiabd.dfs.core.windows.net/3/24052024/24052024_184201.json\nabfs://bronze@projecteiabd.dfs.core.windows.net/3/24052024/24052024_184226.json\nabfs://bronze@projecteiabd.dfs.core.windows.net/4/24052024/24052024_184128.json\nabfs://bronze@projecteiabd.dfs.core.windows.net/4/24052024/24052024_184542.json\n"
     ]
    }
   ],
   "source": [
    "# Funció per llistar tots els documents que hi ha dins de una ruta.\n",
    "\n",
    "def deep_ls(path): # Definim una funció que li passem un path.\n",
    "    \"\"\"List all files in base path recursively.\"\"\"\n",
    "    for x in dbutils.fs.ls(path): # Agafem tots els fitxer i carpetas que hi ha dintre el path. I els anem recorrent. \n",
    "        if x.path[-1] != '/': # Agefm l'ultim caracter de la ruta del fitxer, mirem que si no és un '/' vol dir que és un fitxer.\n",
    "            yield x # Retornem el fitxer amb un yield osigui que retorna el fitxer però segueix amb l'execuió fins que no quedin més docs.\n",
    "        else: \n",
    "            for y in deep_ls(x.path): # Si no és un fitxer entrem dintre la carpeta, amb la mateixa funció de aqui bé la recursivitat. Que no parara de executar-se fins que ho hagi recorregut tot.\n",
    "                yield y # Anem retornan els resultats de cada fitxer que va trobant la funció.\n",
    "\n",
    "# FUNCIÓ YIELD\n",
    "# No retorna tots els valors de una tirada, sino que els va retornant a mesura que va executa-nse.\n",
    "# Es com un generador, anirà donant tots els fitxers fins que ja no en tigui més per donar.\n",
    "# Per això fem un list(def) per emmegatzemar totes les sortides del yield en una llista. \n",
    "\n",
    "# Exemple funcionament: \n",
    "files = list(deep_ls(path)) # Emmegatzamem tots els resultats de la funció en una llista. Bàsicament acumulem tots els resultats.\n",
    "for file in files: \n",
    "    print(file.path) # Mostrem tots els documents que hem trobat."
   ]
  },
  {
   "cell_type": "code",
   "execution_count": 0,
   "metadata": {
    "application/vnd.databricks.v1+cell": {
     "cellMetadata": {
      "byteLimit": 2048000,
      "rowLimit": 10000
     },
     "inputWidgets": {},
     "nuid": "d678bab2-a077-4b71-81c2-2f2537d708b9",
     "showTitle": false,
     "title": ""
    }
   },
   "outputs": [],
   "source": [
    "# Funció per eliminar columnes inecessaries.\n",
    "def deleteColumns(df, columns_list):\n",
    "\n",
    "  df_docs.drop(columns_list, inplace=True, axis = 1)\n",
    "\n",
    "  return df_docs"
   ]
  },
  {
   "cell_type": "code",
   "execution_count": 0,
   "metadata": {
    "application/vnd.databricks.v1+cell": {
     "cellMetadata": {
      "byteLimit": 2048000,
      "rowLimit": 10000
     },
     "inputWidgets": {},
     "nuid": "867ae400-62ec-44a9-9819-16fe41a7f59d",
     "showTitle": false,
     "title": ""
    }
   },
   "outputs": [],
   "source": [
    "# Funció per visualitzar els productes de un df.\n",
    "def visualitzarProducts(df_products):\n",
    "    for index, llista_productes in df_products['products'].items():\n",
    "        print(\"Tiquet \", index + 1)\n",
    "        print()\n",
    "        print(\"--Productes--\")\n",
    "        for producte in llista_productes:\n",
    "            print(\"Nom:\", producte['descripcio'])\n",
    "            print(\"Qty:\", producte['quantitat'])\n",
    "            print(\"Import:\", producte['import'], \"€\")\n",
    "            print('preu_unitari:', producte['preu_unitari'], '€')\n",
    "            print('unitat:', producte['unitat'])\n",
    "            print('')"
   ]
  },
  {
   "cell_type": "code",
   "execution_count": 0,
   "metadata": {
    "application/vnd.databricks.v1+cell": {
     "cellMetadata": {
      "byteLimit": 2048000,
      "rowLimit": 10000
     },
     "inputWidgets": {},
     "nuid": "999a7c49-7e66-4706-8bfb-d2caa19c0b62",
     "showTitle": false,
     "title": ""
    }
   },
   "outputs": [],
   "source": [
    "# Funció per emmegatzemar en format parquet les dades a un repositori extern. Particionades per id_client.\n",
    "def particionar_clients(df, path):\n",
    "    # Passem el df de pandas a spark df.\n",
    "    df = spark.createDataFrame(df)\n",
    "\n",
    "    df.write.format(\"parquet\") \\\n",
    "        .option(\"forward_spark_azure_storage_credentials\", \"True\") \\\n",
    "        .partitionBy(\"id_client\") \\\n",
    "        .mode(\"overwrite\") \\\n",
    "        .save(path)"
   ]
  },
  {
   "cell_type": "code",
   "execution_count": 0,
   "metadata": {
    "application/vnd.databricks.v1+cell": {
     "cellMetadata": {
      "byteLimit": 2048000,
      "rowLimit": 10000
     },
     "inputWidgets": {},
     "nuid": "305016e9-663c-4bc1-a107-c8ee6d656c76",
     "showTitle": false,
     "title": ""
    }
   },
   "outputs": [],
   "source": [
    "# Funció per emmegatzemar en format parquet les dades a un repositori extern. Particionades per dies.\n",
    "def particionar_dies(df, path):\n",
    "    # Passem el df de pandas a spark df.\n",
    "    df = spark.createDataFrame(df)\n",
    "\n",
    "    df.write.format(\"parquet\") \\\n",
    "        .option(\"forward_spark_azure_storage_credentials\", \"True\") \\\n",
    "        .partitionBy(\"data\") \\\n",
    "        .mode(\"overwrite\") \\\n",
    "        .save(path)"
   ]
  },
  {
   "cell_type": "code",
   "execution_count": 0,
   "metadata": {
    "application/vnd.databricks.v1+cell": {
     "cellMetadata": {
      "byteLimit": 2048000,
      "rowLimit": 10000
     },
     "inputWidgets": {},
     "nuid": "f363adf4-b6ec-4712-94f0-656276f2c58c",
     "showTitle": false,
     "title": ""
    }
   },
   "outputs": [],
   "source": [
    "# Funció per eliminar el text \"kg\" de la columna preu unitats.\n",
    "def eliminar_txt_kg(df):\n",
    "    for index, llista_productes in df['products'].items():\n",
    "        for producte in llista_productes:\n",
    "            if 'preu_unitari' in producte:\n",
    "                # Elimina el text \" €/kg €\"\n",
    "                producte['preu_unitari'] = re.sub(r' ?€/kg ?', '', producte['preu_unitari'])\n",
    "    return df\n"
   ]
  },
  {
   "cell_type": "code",
   "execution_count": 0,
   "metadata": {
    "application/vnd.databricks.v1+cell": {
     "cellMetadata": {
      "byteLimit": 2048000,
      "rowLimit": 10000
     },
     "inputWidgets": {},
     "nuid": "e871f449-44fc-4f3e-a686-e54040361d37",
     "showTitle": false,
     "title": ""
    }
   },
   "outputs": [],
   "source": [
    "# Funció per canviar les , per . a l'import i el preu_unitari\n",
    "def canviar_punts_per_comes(row):\n",
    "    row['total_amb_IVA'] = str(row['total_amb_IVA']).replace(',', '.')\n",
    "    for producte in row['products']:\n",
    "        producte['import'] = str(producte['import']).replace(',', '.')\n",
    "        if 'preu_unitari' in producte:\n",
    "            producte['preu_unitari'] = str(producte['preu_unitari']).replace(',', '.')\n",
    "    return row"
   ]
  },
  {
   "cell_type": "code",
   "execution_count": 0,
   "metadata": {
    "application/vnd.databricks.v1+cell": {
     "cellMetadata": {
      "byteLimit": 2048000,
      "rowLimit": 10000
     },
     "inputWidgets": {},
     "nuid": "db9765f1-f73e-4922-ab6f-32a8b1a5fd03",
     "showTitle": false,
     "title": ""
    }
   },
   "outputs": [],
   "source": [
    "# Funció per crear una nova columna 'unitat' i treure el text \"kg\" de 'preu_unitari'.\n",
    "def crear_columna_unitats(df):\n",
    "    for index, llista_productes in df['products'].items():\n",
    "        for producte in llista_productes:\n",
    "            if 'kg' in producte['preu_unitari']:\n",
    "                producte['quantitat'] = re.sub(r' ?kg ?', '', producte['quantitat'])\n",
    "                producte['unitat'] = 'kg'\n",
    "            else:\n",
    "                producte['unitat'] = 'ud'\n",
    "    return df"
   ]
  },
  {
   "cell_type": "markdown",
   "metadata": {
    "application/vnd.databricks.v1+cell": {
     "cellMetadata": {
      "byteLimit": 2048000,
      "rowLimit": 10000
     },
     "inputWidgets": {},
     "nuid": "de8e9e1d-91ac-47bc-9f83-e8beb328211c",
     "showTitle": false,
     "title": ""
    }
   },
   "source": [
    "#### Llegim les dades del Data Lake d'Azure\n",
    "- En aquest apartat comencem el procés de llegir les dades. Ho fem amb la funció que hem desenvolupat anteriorment per llistar tots els fitxers dins d'una ruta.\n",
    "- També afegim columnes addicionals a les dades que llegim: id_client, id_tiquet i data_scanner_tiquet.\n",
    "  - Aquestes columnes ens serveixen per poder classificar les dades que obtenim per client i tiquet.\n",
    "  - Tenen un gran valor informatiu, ja que ens permeten desenvolupar i analitzar les dades de manera més útil i eficient.\n",
    "- Finalment, retornem un DataFrame de Pandas amb totes les dades dels fitxers combinades."
   ]
  },
  {
   "cell_type": "code",
   "execution_count": 0,
   "metadata": {
    "application/vnd.databricks.v1+cell": {
     "cellMetadata": {
      "byteLimit": 2048000,
      "rowLimit": 10000
     },
     "inputWidgets": {},
     "nuid": "2369a8b9-ebfa-41ba-aba4-eb5631ab74da",
     "showTitle": true,
     "title": "LLegim les dades del Data Lake i les convertim amb df de pandas per postariorment tractar-les."
    }
   },
   "outputs": [
    {
     "output_type": "display_data",
     "data": {
      "text/html": [
       "<div>\n",
       "<style scoped>\n",
       "    .dataframe tbody tr th:only-of-type {\n",
       "        vertical-align: middle;\n",
       "    }\n",
       "\n",
       "    .dataframe tbody tr th {\n",
       "        vertical-align: top;\n",
       "    }\n",
       "\n",
       "    .dataframe thead th {\n",
       "        text-align: right;\n",
       "    }\n",
       "</style>\n",
       "<table border=\"1\" class=\"dataframe\">\n",
       "  <thead>\n",
       "    <tr style=\"text-align: right;\">\n",
       "      <th></th>\n",
       "      <th>AID</th>\n",
       "      <th>ARC</th>\n",
       "      <th>AUT</th>\n",
       "      <th>NC</th>\n",
       "      <th>adressa</th>\n",
       "      <th>barcode</th>\n",
       "      <th>ciutat</th>\n",
       "      <th>data</th>\n",
       "      <th>factura_simplificada</th>\n",
       "      <th>iva_total</th>\n",
       "      <th>...</th>\n",
       "      <th>products</th>\n",
       "      <th>targeta_1</th>\n",
       "      <th>targeta_2</th>\n",
       "      <th>targeta_bancaria</th>\n",
       "      <th>telf</th>\n",
       "      <th>total_amb_IVA</th>\n",
       "      <th>total_sense_IVA</th>\n",
       "      <th>id_tiquet</th>\n",
       "      <th>id_client</th>\n",
       "      <th>data_scanner_tiquet</th>\n",
       "    </tr>\n",
       "  </thead>\n",
       "  <tbody>\n",
       "    <tr>\n",
       "      <th>0</th>\n",
       "      <td>B0000000012345</td>\n",
       "      <td>1234</td>\n",
       "      <td>123456</td>\n",
       "      <td>123456789</td>\n",
       "      <td>C/ JOSEP MARÍA FOLCH I TORRES, 5</td>\n",
       "      <td>image</td>\n",
       "      <td>VILADECANS 08840</td>\n",
       "      <td>22-04-2024</td>\n",
       "      <td>1234-123-12345</td>\n",
       "      <td>50,33</td>\n",
       "      <td>...</td>\n",
       "      <td>[{'descripcio': 'LASANYA', 'import': '17,60', ...</td>\n",
       "      <td>VISA CREDITO/DEB</td>\n",
       "      <td>Visa CaixaBank</td>\n",
       "      <td>**** **** **** **** 1234</td>\n",
       "      <td>977598991</td>\n",
       "      <td>17,60</td>\n",
       "      <td>AAA,AA</td>\n",
       "      <td>24052024_184100</td>\n",
       "      <td>1</td>\n",
       "      <td>24052024</td>\n",
       "    </tr>\n",
       "    <tr>\n",
       "      <th>1</th>\n",
       "      <td>B0000000012345</td>\n",
       "      <td>1234</td>\n",
       "      <td>123456</td>\n",
       "      <td>123456789</td>\n",
       "      <td>C/ JOSEP MARÍA FOLCH I TORRES, 5</td>\n",
       "      <td>image</td>\n",
       "      <td>REUS 43205</td>\n",
       "      <td>22-04-2024</td>\n",
       "      <td>1234-123-12345</td>\n",
       "      <td>50,33</td>\n",
       "      <td>...</td>\n",
       "      <td>[{'descripcio': 'ARROS NEGRE', 'import': '2.3)...</td>\n",
       "      <td>VISA CREDITO/DEB</td>\n",
       "      <td>Visa CaixaBank</td>\n",
       "      <td>**** **** **** **** 1234</td>\n",
       "      <td>977598991</td>\n",
       "      <td>30,8]</td>\n",
       "      <td>AAA,AA</td>\n",
       "      <td>24052024_184112</td>\n",
       "      <td>2</td>\n",
       "      <td>24052024</td>\n",
       "    </tr>\n",
       "    <tr>\n",
       "      <th>2</th>\n",
       "      <td>B0000000012345</td>\n",
       "      <td>1234</td>\n",
       "      <td>123456</td>\n",
       "      <td>123456789</td>\n",
       "      <td>C/ JOSEP MARÍA FOLCH I TORRES, 5</td>\n",
       "      <td>image</td>\n",
       "      <td>BARCELONA 08025</td>\n",
       "      <td>22-04-2024</td>\n",
       "      <td>1234-123-12345</td>\n",
       "      <td>50,33</td>\n",
       "      <td>...</td>\n",
       "      <td>[{'descripcio': 'ANELLES POTA', 'import': '4.3...</td>\n",
       "      <td>VISA CREDITO/DEB</td>\n",
       "      <td>Visa CaixaBank</td>\n",
       "      <td>**** **** **** **** 1234</td>\n",
       "      <td>977598991</td>\n",
       "      <td>42,00</td>\n",
       "      <td>AAA,AA</td>\n",
       "      <td>24052024_184138</td>\n",
       "      <td>2</td>\n",
       "      <td>24052024</td>\n",
       "    </tr>\n",
       "    <tr>\n",
       "      <th>3</th>\n",
       "      <td>B0000000012345</td>\n",
       "      <td>1234</td>\n",
       "      <td>123456</td>\n",
       "      <td>123456789</td>\n",
       "      <td>C/ JOSEP MARÍA FOLCH I TORRES, 5</td>\n",
       "      <td>image</td>\n",
       "      <td>BARCELONA 08038</td>\n",
       "      <td>22-04-2024</td>\n",
       "      <td>1234-123-12345</td>\n",
       "      <td>50,33</td>\n",
       "      <td>...</td>\n",
       "      <td>[{'descripcio': 'CROQUETES', 'import': '1,05',...</td>\n",
       "      <td>VISA CREDITO/DEB</td>\n",
       "      <td>Visa CaixaBank</td>\n",
       "      <td>**** **** **** **** 1234</td>\n",
       "      <td>977598991</td>\n",
       "      <td>1,38</td>\n",
       "      <td>AAA,AA</td>\n",
       "      <td>24052024_184507</td>\n",
       "      <td>2</td>\n",
       "      <td>24052024</td>\n",
       "    </tr>\n",
       "    <tr>\n",
       "      <th>4</th>\n",
       "      <td>B0000000012345</td>\n",
       "      <td>1234</td>\n",
       "      <td>123456</td>\n",
       "      <td>123456789</td>\n",
       "      <td>C/ JOSEP MARÍA FOLCH I TORRES, 5</td>\n",
       "      <td>image</td>\n",
       "      <td>SANTA COLOMA DE FARNERS 17430</td>\n",
       "      <td>22-04-2024</td>\n",
       "      <td>1234-123-12345</td>\n",
       "      <td>50,33</td>\n",
       "      <td>...</td>\n",
       "      <td>[{'descripcio': 'IOGURT NATURAL', 'import': '3...</td>\n",
       "      <td>VISA CREDITO/DEB</td>\n",
       "      <td>Visa CaixaBank</td>\n",
       "      <td>**** **** **** **** 1234</td>\n",
       "      <td>977598991</td>\n",
       "      <td>58,90</td>\n",
       "      <td>AAA,AA</td>\n",
       "      <td>24052024_184201</td>\n",
       "      <td>3</td>\n",
       "      <td>24052024</td>\n",
       "    </tr>\n",
       "    <tr>\n",
       "      <th>5</th>\n",
       "      <td>B0000000012345</td>\n",
       "      <td>1234</td>\n",
       "      <td>123456</td>\n",
       "      <td>123456789</td>\n",
       "      <td>C/ JOSEP MARÍA FOLCH I TORRES, 5</td>\n",
       "      <td>image</td>\n",
       "      <td>BARCELONA 08019</td>\n",
       "      <td>22-04-2024</td>\n",
       "      <td>1234-123-12345</td>\n",
       "      <td>50,33</td>\n",
       "      <td>...</td>\n",
       "      <td>[{'descripcio': 'CALAMARSO.', 'import': '16,50...</td>\n",
       "      <td>VISA CREDITO/DEB</td>\n",
       "      <td>Visa CaixaBank</td>\n",
       "      <td>**** **** **** **** 1234</td>\n",
       "      <td>977598991</td>\n",
       "      <td>19,83</td>\n",
       "      <td>AAA,AA</td>\n",
       "      <td>24052024_184226</td>\n",
       "      <td>3</td>\n",
       "      <td>24052024</td>\n",
       "    </tr>\n",
       "    <tr>\n",
       "      <th>6</th>\n",
       "      <td>B0000000012345</td>\n",
       "      <td>1234</td>\n",
       "      <td>123456</td>\n",
       "      <td>123456789</td>\n",
       "      <td>C/ JOSEP MARÍA FOLCH I TORRES, 5</td>\n",
       "      <td>image</td>\n",
       "      <td>VILANOVA I LA GELTRÚ 08800</td>\n",
       "      <td>22-04-2024</td>\n",
       "      <td>1234-123-12345</td>\n",
       "      <td>50,33</td>\n",
       "      <td>...</td>\n",
       "      <td>[{'descripcio': 'CANELONS', 'import': '4.62', ...</td>\n",
       "      <td>VISA CREDITO/DEB</td>\n",
       "      <td>Visa CaixaBank</td>\n",
       "      <td>**** **** **** **** 1234</td>\n",
       "      <td>977598991</td>\n",
       "      <td>23,95</td>\n",
       "      <td>AAA,AA</td>\n",
       "      <td>24052024_184128</td>\n",
       "      <td>4</td>\n",
       "      <td>24052024</td>\n",
       "    </tr>\n",
       "    <tr>\n",
       "      <th>7</th>\n",
       "      <td>B0000000012345</td>\n",
       "      <td>1234</td>\n",
       "      <td>123456</td>\n",
       "      <td>123456789</td>\n",
       "      <td>C/ JOSEP MARÍA FOLCH I TORRES, 5</td>\n",
       "      <td>image</td>\n",
       "      <td>MONTORNÉS DEL VALLES 08170</td>\n",
       "      <td>22-04-2024</td>\n",
       "      <td>1234-123-12345</td>\n",
       "      <td>50,33</td>\n",
       "      <td>...</td>\n",
       "      <td>[{'descripcio': 'PATATES GRILL', 'import': '1,...</td>\n",
       "      <td>VISA CREDITO/DEB</td>\n",
       "      <td>Visa CaixaBank</td>\n",
       "      <td>**** **** **** **** 1234</td>\n",
       "      <td>977598991</td>\n",
       "      <td>3,50</td>\n",
       "      <td>AAA,AA</td>\n",
       "      <td>24052024_184542</td>\n",
       "      <td>4</td>\n",
       "      <td>24052024</td>\n",
       "    </tr>\n",
       "  </tbody>\n",
       "</table>\n",
       "<p>8 rows × 27 columns</p>\n",
       "</div>"
      ]
     },
     "metadata": {
      "application/vnd.databricks.v1+output": {
       "addedWidgets": {},
       "arguments": {},
       "data": "<div>\n<style scoped>\n    .dataframe tbody tr th:only-of-type {\n        vertical-align: middle;\n    }\n\n    .dataframe tbody tr th {\n        vertical-align: top;\n    }\n\n    .dataframe thead th {\n        text-align: right;\n    }\n</style>\n<table border=\"1\" class=\"dataframe\">\n  <thead>\n    <tr style=\"text-align: right;\">\n      <th></th>\n      <th>AID</th>\n      <th>ARC</th>\n      <th>AUT</th>\n      <th>NC</th>\n      <th>adressa</th>\n      <th>barcode</th>\n      <th>ciutat</th>\n      <th>data</th>\n      <th>factura_simplificada</th>\n      <th>iva_total</th>\n      <th>...</th>\n      <th>products</th>\n      <th>targeta_1</th>\n      <th>targeta_2</th>\n      <th>targeta_bancaria</th>\n      <th>telf</th>\n      <th>total_amb_IVA</th>\n      <th>total_sense_IVA</th>\n      <th>id_tiquet</th>\n      <th>id_client</th>\n      <th>data_scanner_tiquet</th>\n    </tr>\n  </thead>\n  <tbody>\n    <tr>\n      <th>0</th>\n      <td>B0000000012345</td>\n      <td>1234</td>\n      <td>123456</td>\n      <td>123456789</td>\n      <td>C/ JOSEP MARÍA FOLCH I TORRES, 5</td>\n      <td>image</td>\n      <td>VILADECANS 08840</td>\n      <td>22-04-2024</td>\n      <td>1234-123-12345</td>\n      <td>50,33</td>\n      <td>...</td>\n      <td>[{'descripcio': 'LASANYA', 'import': '17,60', ...</td>\n      <td>VISA CREDITO/DEB</td>\n      <td>Visa CaixaBank</td>\n      <td>**** **** **** **** 1234</td>\n      <td>977598991</td>\n      <td>17,60</td>\n      <td>AAA,AA</td>\n      <td>24052024_184100</td>\n      <td>1</td>\n      <td>24052024</td>\n    </tr>\n    <tr>\n      <th>1</th>\n      <td>B0000000012345</td>\n      <td>1234</td>\n      <td>123456</td>\n      <td>123456789</td>\n      <td>C/ JOSEP MARÍA FOLCH I TORRES, 5</td>\n      <td>image</td>\n      <td>REUS 43205</td>\n      <td>22-04-2024</td>\n      <td>1234-123-12345</td>\n      <td>50,33</td>\n      <td>...</td>\n      <td>[{'descripcio': 'ARROS NEGRE', 'import': '2.3)...</td>\n      <td>VISA CREDITO/DEB</td>\n      <td>Visa CaixaBank</td>\n      <td>**** **** **** **** 1234</td>\n      <td>977598991</td>\n      <td>30,8]</td>\n      <td>AAA,AA</td>\n      <td>24052024_184112</td>\n      <td>2</td>\n      <td>24052024</td>\n    </tr>\n    <tr>\n      <th>2</th>\n      <td>B0000000012345</td>\n      <td>1234</td>\n      <td>123456</td>\n      <td>123456789</td>\n      <td>C/ JOSEP MARÍA FOLCH I TORRES, 5</td>\n      <td>image</td>\n      <td>BARCELONA 08025</td>\n      <td>22-04-2024</td>\n      <td>1234-123-12345</td>\n      <td>50,33</td>\n      <td>...</td>\n      <td>[{'descripcio': 'ANELLES POTA', 'import': '4.3...</td>\n      <td>VISA CREDITO/DEB</td>\n      <td>Visa CaixaBank</td>\n      <td>**** **** **** **** 1234</td>\n      <td>977598991</td>\n      <td>42,00</td>\n      <td>AAA,AA</td>\n      <td>24052024_184138</td>\n      <td>2</td>\n      <td>24052024</td>\n    </tr>\n    <tr>\n      <th>3</th>\n      <td>B0000000012345</td>\n      <td>1234</td>\n      <td>123456</td>\n      <td>123456789</td>\n      <td>C/ JOSEP MARÍA FOLCH I TORRES, 5</td>\n      <td>image</td>\n      <td>BARCELONA 08038</td>\n      <td>22-04-2024</td>\n      <td>1234-123-12345</td>\n      <td>50,33</td>\n      <td>...</td>\n      <td>[{'descripcio': 'CROQUETES', 'import': '1,05',...</td>\n      <td>VISA CREDITO/DEB</td>\n      <td>Visa CaixaBank</td>\n      <td>**** **** **** **** 1234</td>\n      <td>977598991</td>\n      <td>1,38</td>\n      <td>AAA,AA</td>\n      <td>24052024_184507</td>\n      <td>2</td>\n      <td>24052024</td>\n    </tr>\n    <tr>\n      <th>4</th>\n      <td>B0000000012345</td>\n      <td>1234</td>\n      <td>123456</td>\n      <td>123456789</td>\n      <td>C/ JOSEP MARÍA FOLCH I TORRES, 5</td>\n      <td>image</td>\n      <td>SANTA COLOMA DE FARNERS 17430</td>\n      <td>22-04-2024</td>\n      <td>1234-123-12345</td>\n      <td>50,33</td>\n      <td>...</td>\n      <td>[{'descripcio': 'IOGURT NATURAL', 'import': '3...</td>\n      <td>VISA CREDITO/DEB</td>\n      <td>Visa CaixaBank</td>\n      <td>**** **** **** **** 1234</td>\n      <td>977598991</td>\n      <td>58,90</td>\n      <td>AAA,AA</td>\n      <td>24052024_184201</td>\n      <td>3</td>\n      <td>24052024</td>\n    </tr>\n    <tr>\n      <th>5</th>\n      <td>B0000000012345</td>\n      <td>1234</td>\n      <td>123456</td>\n      <td>123456789</td>\n      <td>C/ JOSEP MARÍA FOLCH I TORRES, 5</td>\n      <td>image</td>\n      <td>BARCELONA 08019</td>\n      <td>22-04-2024</td>\n      <td>1234-123-12345</td>\n      <td>50,33</td>\n      <td>...</td>\n      <td>[{'descripcio': 'CALAMARSO.', 'import': '16,50...</td>\n      <td>VISA CREDITO/DEB</td>\n      <td>Visa CaixaBank</td>\n      <td>**** **** **** **** 1234</td>\n      <td>977598991</td>\n      <td>19,83</td>\n      <td>AAA,AA</td>\n      <td>24052024_184226</td>\n      <td>3</td>\n      <td>24052024</td>\n    </tr>\n    <tr>\n      <th>6</th>\n      <td>B0000000012345</td>\n      <td>1234</td>\n      <td>123456</td>\n      <td>123456789</td>\n      <td>C/ JOSEP MARÍA FOLCH I TORRES, 5</td>\n      <td>image</td>\n      <td>VILANOVA I LA GELTRÚ 08800</td>\n      <td>22-04-2024</td>\n      <td>1234-123-12345</td>\n      <td>50,33</td>\n      <td>...</td>\n      <td>[{'descripcio': 'CANELONS', 'import': '4.62', ...</td>\n      <td>VISA CREDITO/DEB</td>\n      <td>Visa CaixaBank</td>\n      <td>**** **** **** **** 1234</td>\n      <td>977598991</td>\n      <td>23,95</td>\n      <td>AAA,AA</td>\n      <td>24052024_184128</td>\n      <td>4</td>\n      <td>24052024</td>\n    </tr>\n    <tr>\n      <th>7</th>\n      <td>B0000000012345</td>\n      <td>1234</td>\n      <td>123456</td>\n      <td>123456789</td>\n      <td>C/ JOSEP MARÍA FOLCH I TORRES, 5</td>\n      <td>image</td>\n      <td>MONTORNÉS DEL VALLES 08170</td>\n      <td>22-04-2024</td>\n      <td>1234-123-12345</td>\n      <td>50,33</td>\n      <td>...</td>\n      <td>[{'descripcio': 'PATATES GRILL', 'import': '1,...</td>\n      <td>VISA CREDITO/DEB</td>\n      <td>Visa CaixaBank</td>\n      <td>**** **** **** **** 1234</td>\n      <td>977598991</td>\n      <td>3,50</td>\n      <td>AAA,AA</td>\n      <td>24052024_184542</td>\n      <td>4</td>\n      <td>24052024</td>\n    </tr>\n  </tbody>\n</table>\n<p>8 rows × 27 columns</p>\n</div>",
       "datasetInfos": [],
       "metadata": {},
       "removedWidgets": [],
       "textData": null,
       "type": "htmlSandbox"
      }
     },
     "output_type": "display_data"
    }
   ],
   "source": [
    "# Utilitzem la funció anterior, per llegir tots els json, i posar-lo a un DF.\n",
    "docs = []\n",
    "\n",
    "files = list(deep_ls(path)) \n",
    "\n",
    "# Recorrem la llista de fitxers.\n",
    "for file in files: \n",
    "    # Llegim els fitxers.\n",
    "    df = spark.read.json(file.path, multiLine=True)\n",
    "    \n",
    "    # Guardem la futa del fitxer\n",
    "    ruta = str(file.path)\n",
    "\n",
    "    # Passem el df a df de pandas\n",
    "    df = df.toPandas()\n",
    "\n",
    "    # Afegim al df, els camps id_client, id_tiquet, data_tiquet. Ja que aquets camps ens serviarn per classificar els tiquets.\n",
    "    df['id_tiquet'] = ruta.split(\"/\")[-1].split(\".\")[0]; # Agragem l'id del tiquet al df que serà el nom del fitxer.\n",
    "    df['id_client'] = ruta.split(\"/\")[-3] # Agafem l'id del client.\n",
    "    df['data_scanner_tiquet'] = ruta.split(\"/\")[-2] # Agafem la data.\n",
    "\n",
    "    # Anem afegint els df a la llista.\n",
    "    docs.append(df)\n",
    "\n",
    "# Fem un bucle dintre un array per posar tots els df dintre. Els df que hi ha a la llista docs.\n",
    "df_docs = pd.concat([df for df in docs], ignore_index=True)\n",
    "\n",
    "df_docs"
   ]
  },
  {
   "cell_type": "markdown",
   "metadata": {
    "application/vnd.databricks.v1+cell": {
     "cellMetadata": {
      "byteLimit": 2048000,
      "rowLimit": 10000
     },
     "inputWidgets": {},
     "nuid": "2e076b03-5bec-4fd7-a84b-de1b5b3ac345",
     "showTitle": false,
     "title": ""
    }
   },
   "source": [
    "#### Analitzem les dades.\n",
    "En aquest apartat, analitzarem les dades per determinar quines transformacions cal realitzar abans de passar-les a la capa Silver. Aquest anàlisi es realitza aquí, però en l'entorn de producció no és necessari, ja que optimitzem el codi i aquests anàlisis ja s'hauran fet anteriorment.\n",
    "\n",
    "- Analitzem els tipus de dades que tenen les columnes:\n",
    "    - Ens assegurem que els tipus de dades són els correctes per a cada columna (ex: numèric, text, data).\n",
    "    - Convertim els tipus de dades quan sigui necessari per facilitar el processament posterior.\n",
    "\n",
    "- Verifiquem que el camp id_tiquet no estigui repetit:\n",
    "    - Ens assegurem que cada tiquet té un identificador únic per evitar duplicats i inconsistències.\n",
    "\n",
    "- Comprovem si hi ha valors nuls o buits:\n",
    "    - Identifiquem i gestionem els valors nuls o buits per evitar errors en els passos de processament futurs.\n",
    "    - Podem optar per eliminar registres incomplets o omplir els valors nuls amb valors per defecte.\n",
    "\n",
    "- Analitzem els productes de cada tiquet i les seves dades:\n",
    "    - Revisem la informació dels productes associats a cada tiquet per assegurar-nos que totes les dades necessàries estan presents i correctes.\n",
    "\n",
    "- Analitzem els valors i que siguin els correctes:\n",
    "    - Validem que els valors dels camps siguin coherents i correctes segons les especificacions del projecte (ex: formats de preus, quantitats, dates)."
   ]
  },
  {
   "cell_type": "code",
   "execution_count": 0,
   "metadata": {
    "application/vnd.databricks.v1+cell": {
     "cellMetadata": {
      "byteLimit": 2048000,
      "rowLimit": 10000
     },
     "inputWidgets": {},
     "nuid": "e41d1552-7738-49d9-9d6b-ccf08cfab72c",
     "showTitle": false,
     "title": ""
    }
   },
   "outputs": [
    {
     "output_type": "stream",
     "name": "stdout",
     "output_type": "stream",
     "text": [
      "Out[217]: AID                       object\nARC                       object\nAUT                       object\nNC                        object\nadressa                   object\nbarcode                   object\nciutat                    object\ndata                      object\nfactura_simplificada      object\niva_total                 object\nivas                      object\nlogo_bottom               object\nlogo_contact_less         object\nlogo_top                  object\nnom                       object\nop                        object\npagat_targeta_bancaria    object\nproducts                  object\ntargeta_1                 object\ntargeta_2                 object\ntargeta_bancaria          object\ntelf                      object\ntotal_amb_IVA             object\ntotal_sense_IVA           object\nid_tiquet                 object\nid_client                 object\ndata_scanner_tiquet       object\ndtype: object"
     ]
    }
   ],
   "source": [
    "# Analitzem els tipus de les columnes.\n",
    "df_docs.dtypes"
   ]
  },
  {
   "cell_type": "code",
   "execution_count": 0,
   "metadata": {
    "application/vnd.databricks.v1+cell": {
     "cellMetadata": {
      "byteLimit": 2048000,
      "rowLimit": 10000
     },
     "inputWidgets": {},
     "nuid": "b1f8ed87-73b4-4e55-b9d8-7887fd88cbba",
     "showTitle": false,
     "title": ""
    }
   },
   "outputs": [
    {
     "output_type": "stream",
     "name": "stdout",
     "output_type": "stream",
     "text": [
      "No hi ha cap id_tiquet duplicat.\n"
     ]
    }
   ],
   "source": [
    "# Ens assegurem que a la columna 'id_tiquet' no es repeteixin.\n",
    "\n",
    "# Amb .ducpliacated de pandas, podem agafar els valors duplicats. En aquest cas indiquem del camp id_tiquet\n",
    "duplicats = df_docs.duplicated(subset=['id_tiquet'])\n",
    "\n",
    "# Sumem el número de resultats.\n",
    "num_duplicats = duplicats.sum()\n",
    "\n",
    "# Si hi ha duplicats ho indiquem, i els mostrem amb un print.\n",
    "# En cas que no ho indiquem.\n",
    "if num_duplicats > 0:\n",
    "    print(f\"Hi ha {num_duplicats} id_tiquet duplicats.\")\n",
    "    print(\"Els ID duplicats són:\")\n",
    "    print(df_docs[duplicats]['id_tiquet'])\n",
    "    # Eliminem els duplicats i només mentenim la primera aparició\n",
    "    df_docs = df_docs.drop_duplicates(subset=['id_tiquet'])\n",
    "else:\n",
    "    print(\"No hi ha cap id_tiquet duplicat.\")\n"
   ]
  },
  {
   "cell_type": "code",
   "execution_count": 0,
   "metadata": {
    "application/vnd.databricks.v1+cell": {
     "cellMetadata": {
      "byteLimit": 2048000,
      "rowLimit": 10000
     },
     "inputWidgets": {},
     "nuid": "e4e8d9ce-0b99-41a8-8896-96ce1c89b5e9",
     "showTitle": false,
     "title": ""
    }
   },
   "outputs": [
    {
     "output_type": "stream",
     "name": "stdout",
     "output_type": "stream",
     "text": [
      "No hi ha valors nuls o buits en cap columna.\n"
     ]
    }
   ],
   "source": [
    "# Comprovem si hi ha valors nuls o buits a les columnes\n",
    "valors_nuls = df_docs.isnull().sum()\n",
    "\n",
    "if valors_nuls.sum() > 0:\n",
    "    print(\"Hi ha valors nuls o buits a les següents columnes:\")\n",
    "    print(valors_nuls[valors_nuls > 0])\n",
    "else:\n",
    "    print(\"No hi ha valors nuls o buits en cap columna.\")"
   ]
  },
  {
   "cell_type": "code",
   "execution_count": 0,
   "metadata": {
    "application/vnd.databricks.v1+cell": {
     "cellMetadata": {
      "byteLimit": 2048000,
      "rowLimit": 10000
     },
     "inputWidgets": {},
     "nuid": "56ce4a69-df8d-4df5-9473-d0124962d3cc",
     "showTitle": false,
     "title": ""
    }
   },
   "outputs": [
    {
     "output_type": "display_data",
     "data": {
      "text/html": [
       "<div>\n",
       "<style scoped>\n",
       "    .dataframe tbody tr th:only-of-type {\n",
       "        vertical-align: middle;\n",
       "    }\n",
       "\n",
       "    .dataframe tbody tr th {\n",
       "        vertical-align: top;\n",
       "    }\n",
       "\n",
       "    .dataframe thead th {\n",
       "        text-align: right;\n",
       "    }\n",
       "</style>\n",
       "<table border=\"1\" class=\"dataframe\">\n",
       "  <thead>\n",
       "    <tr style=\"text-align: right;\">\n",
       "      <th></th>\n",
       "      <th>AID</th>\n",
       "      <th>ARC</th>\n",
       "      <th>AUT</th>\n",
       "      <th>NC</th>\n",
       "      <th>adressa</th>\n",
       "      <th>barcode</th>\n",
       "      <th>ciutat</th>\n",
       "      <th>data</th>\n",
       "      <th>factura_simplificada</th>\n",
       "      <th>iva_total</th>\n",
       "      <th>...</th>\n",
       "      <th>products</th>\n",
       "      <th>targeta_1</th>\n",
       "      <th>targeta_2</th>\n",
       "      <th>targeta_bancaria</th>\n",
       "      <th>telf</th>\n",
       "      <th>total_amb_IVA</th>\n",
       "      <th>total_sense_IVA</th>\n",
       "      <th>id_tiquet</th>\n",
       "      <th>id_client</th>\n",
       "      <th>data_scanner_tiquet</th>\n",
       "    </tr>\n",
       "  </thead>\n",
       "  <tbody>\n",
       "    <tr>\n",
       "      <th>0</th>\n",
       "      <td>B0000000012345</td>\n",
       "      <td>1234</td>\n",
       "      <td>123456</td>\n",
       "      <td>123456789</td>\n",
       "      <td>C/ JOSEP MARÍA FOLCH I TORRES, 5</td>\n",
       "      <td>image</td>\n",
       "      <td>VILADECANS 08840</td>\n",
       "      <td>22-04-2024</td>\n",
       "      <td>1234-123-12345</td>\n",
       "      <td>50,33</td>\n",
       "      <td>...</td>\n",
       "      <td>[{'descripcio': 'LASANYA', 'import': '17,60', ...</td>\n",
       "      <td>VISA CREDITO/DEB</td>\n",
       "      <td>Visa CaixaBank</td>\n",
       "      <td>**** **** **** **** 1234</td>\n",
       "      <td>977598991</td>\n",
       "      <td>17,60</td>\n",
       "      <td>AAA,AA</td>\n",
       "      <td>24052024_184100</td>\n",
       "      <td>1</td>\n",
       "      <td>24052024</td>\n",
       "    </tr>\n",
       "    <tr>\n",
       "      <th>1</th>\n",
       "      <td>B0000000012345</td>\n",
       "      <td>1234</td>\n",
       "      <td>123456</td>\n",
       "      <td>123456789</td>\n",
       "      <td>C/ JOSEP MARÍA FOLCH I TORRES, 5</td>\n",
       "      <td>image</td>\n",
       "      <td>REUS 43205</td>\n",
       "      <td>22-04-2024</td>\n",
       "      <td>1234-123-12345</td>\n",
       "      <td>50,33</td>\n",
       "      <td>...</td>\n",
       "      <td>[{'descripcio': 'ARROS NEGRE', 'import': '2.3)...</td>\n",
       "      <td>VISA CREDITO/DEB</td>\n",
       "      <td>Visa CaixaBank</td>\n",
       "      <td>**** **** **** **** 1234</td>\n",
       "      <td>977598991</td>\n",
       "      <td>30,8]</td>\n",
       "      <td>AAA,AA</td>\n",
       "      <td>24052024_184112</td>\n",
       "      <td>2</td>\n",
       "      <td>24052024</td>\n",
       "    </tr>\n",
       "    <tr>\n",
       "      <th>2</th>\n",
       "      <td>B0000000012345</td>\n",
       "      <td>1234</td>\n",
       "      <td>123456</td>\n",
       "      <td>123456789</td>\n",
       "      <td>C/ JOSEP MARÍA FOLCH I TORRES, 5</td>\n",
       "      <td>image</td>\n",
       "      <td>BARCELONA 08025</td>\n",
       "      <td>22-04-2024</td>\n",
       "      <td>1234-123-12345</td>\n",
       "      <td>50,33</td>\n",
       "      <td>...</td>\n",
       "      <td>[{'descripcio': 'ANELLES POTA', 'import': '4.3...</td>\n",
       "      <td>VISA CREDITO/DEB</td>\n",
       "      <td>Visa CaixaBank</td>\n",
       "      <td>**** **** **** **** 1234</td>\n",
       "      <td>977598991</td>\n",
       "      <td>42,00</td>\n",
       "      <td>AAA,AA</td>\n",
       "      <td>24052024_184138</td>\n",
       "      <td>2</td>\n",
       "      <td>24052024</td>\n",
       "    </tr>\n",
       "    <tr>\n",
       "      <th>3</th>\n",
       "      <td>B0000000012345</td>\n",
       "      <td>1234</td>\n",
       "      <td>123456</td>\n",
       "      <td>123456789</td>\n",
       "      <td>C/ JOSEP MARÍA FOLCH I TORRES, 5</td>\n",
       "      <td>image</td>\n",
       "      <td>BARCELONA 08038</td>\n",
       "      <td>22-04-2024</td>\n",
       "      <td>1234-123-12345</td>\n",
       "      <td>50,33</td>\n",
       "      <td>...</td>\n",
       "      <td>[{'descripcio': 'CROQUETES', 'import': '1,05',...</td>\n",
       "      <td>VISA CREDITO/DEB</td>\n",
       "      <td>Visa CaixaBank</td>\n",
       "      <td>**** **** **** **** 1234</td>\n",
       "      <td>977598991</td>\n",
       "      <td>1,38</td>\n",
       "      <td>AAA,AA</td>\n",
       "      <td>24052024_184507</td>\n",
       "      <td>2</td>\n",
       "      <td>24052024</td>\n",
       "    </tr>\n",
       "    <tr>\n",
       "      <th>4</th>\n",
       "      <td>B0000000012345</td>\n",
       "      <td>1234</td>\n",
       "      <td>123456</td>\n",
       "      <td>123456789</td>\n",
       "      <td>C/ JOSEP MARÍA FOLCH I TORRES, 5</td>\n",
       "      <td>image</td>\n",
       "      <td>SANTA COLOMA DE FARNERS 17430</td>\n",
       "      <td>22-04-2024</td>\n",
       "      <td>1234-123-12345</td>\n",
       "      <td>50,33</td>\n",
       "      <td>...</td>\n",
       "      <td>[{'descripcio': 'IOGURT NATURAL', 'import': '3...</td>\n",
       "      <td>VISA CREDITO/DEB</td>\n",
       "      <td>Visa CaixaBank</td>\n",
       "      <td>**** **** **** **** 1234</td>\n",
       "      <td>977598991</td>\n",
       "      <td>58,90</td>\n",
       "      <td>AAA,AA</td>\n",
       "      <td>24052024_184201</td>\n",
       "      <td>3</td>\n",
       "      <td>24052024</td>\n",
       "    </tr>\n",
       "  </tbody>\n",
       "</table>\n",
       "<p>5 rows × 27 columns</p>\n",
       "</div>"
      ]
     },
     "metadata": {
      "application/vnd.databricks.v1+output": {
       "addedWidgets": {},
       "arguments": {},
       "data": "<div>\n<style scoped>\n    .dataframe tbody tr th:only-of-type {\n        vertical-align: middle;\n    }\n\n    .dataframe tbody tr th {\n        vertical-align: top;\n    }\n\n    .dataframe thead th {\n        text-align: right;\n    }\n</style>\n<table border=\"1\" class=\"dataframe\">\n  <thead>\n    <tr style=\"text-align: right;\">\n      <th></th>\n      <th>AID</th>\n      <th>ARC</th>\n      <th>AUT</th>\n      <th>NC</th>\n      <th>adressa</th>\n      <th>barcode</th>\n      <th>ciutat</th>\n      <th>data</th>\n      <th>factura_simplificada</th>\n      <th>iva_total</th>\n      <th>...</th>\n      <th>products</th>\n      <th>targeta_1</th>\n      <th>targeta_2</th>\n      <th>targeta_bancaria</th>\n      <th>telf</th>\n      <th>total_amb_IVA</th>\n      <th>total_sense_IVA</th>\n      <th>id_tiquet</th>\n      <th>id_client</th>\n      <th>data_scanner_tiquet</th>\n    </tr>\n  </thead>\n  <tbody>\n    <tr>\n      <th>0</th>\n      <td>B0000000012345</td>\n      <td>1234</td>\n      <td>123456</td>\n      <td>123456789</td>\n      <td>C/ JOSEP MARÍA FOLCH I TORRES, 5</td>\n      <td>image</td>\n      <td>VILADECANS 08840</td>\n      <td>22-04-2024</td>\n      <td>1234-123-12345</td>\n      <td>50,33</td>\n      <td>...</td>\n      <td>[{'descripcio': 'LASANYA', 'import': '17,60', ...</td>\n      <td>VISA CREDITO/DEB</td>\n      <td>Visa CaixaBank</td>\n      <td>**** **** **** **** 1234</td>\n      <td>977598991</td>\n      <td>17,60</td>\n      <td>AAA,AA</td>\n      <td>24052024_184100</td>\n      <td>1</td>\n      <td>24052024</td>\n    </tr>\n    <tr>\n      <th>1</th>\n      <td>B0000000012345</td>\n      <td>1234</td>\n      <td>123456</td>\n      <td>123456789</td>\n      <td>C/ JOSEP MARÍA FOLCH I TORRES, 5</td>\n      <td>image</td>\n      <td>REUS 43205</td>\n      <td>22-04-2024</td>\n      <td>1234-123-12345</td>\n      <td>50,33</td>\n      <td>...</td>\n      <td>[{'descripcio': 'ARROS NEGRE', 'import': '2.3)...</td>\n      <td>VISA CREDITO/DEB</td>\n      <td>Visa CaixaBank</td>\n      <td>**** **** **** **** 1234</td>\n      <td>977598991</td>\n      <td>30,8]</td>\n      <td>AAA,AA</td>\n      <td>24052024_184112</td>\n      <td>2</td>\n      <td>24052024</td>\n    </tr>\n    <tr>\n      <th>2</th>\n      <td>B0000000012345</td>\n      <td>1234</td>\n      <td>123456</td>\n      <td>123456789</td>\n      <td>C/ JOSEP MARÍA FOLCH I TORRES, 5</td>\n      <td>image</td>\n      <td>BARCELONA 08025</td>\n      <td>22-04-2024</td>\n      <td>1234-123-12345</td>\n      <td>50,33</td>\n      <td>...</td>\n      <td>[{'descripcio': 'ANELLES POTA', 'import': '4.3...</td>\n      <td>VISA CREDITO/DEB</td>\n      <td>Visa CaixaBank</td>\n      <td>**** **** **** **** 1234</td>\n      <td>977598991</td>\n      <td>42,00</td>\n      <td>AAA,AA</td>\n      <td>24052024_184138</td>\n      <td>2</td>\n      <td>24052024</td>\n    </tr>\n    <tr>\n      <th>3</th>\n      <td>B0000000012345</td>\n      <td>1234</td>\n      <td>123456</td>\n      <td>123456789</td>\n      <td>C/ JOSEP MARÍA FOLCH I TORRES, 5</td>\n      <td>image</td>\n      <td>BARCELONA 08038</td>\n      <td>22-04-2024</td>\n      <td>1234-123-12345</td>\n      <td>50,33</td>\n      <td>...</td>\n      <td>[{'descripcio': 'CROQUETES', 'import': '1,05',...</td>\n      <td>VISA CREDITO/DEB</td>\n      <td>Visa CaixaBank</td>\n      <td>**** **** **** **** 1234</td>\n      <td>977598991</td>\n      <td>1,38</td>\n      <td>AAA,AA</td>\n      <td>24052024_184507</td>\n      <td>2</td>\n      <td>24052024</td>\n    </tr>\n    <tr>\n      <th>4</th>\n      <td>B0000000012345</td>\n      <td>1234</td>\n      <td>123456</td>\n      <td>123456789</td>\n      <td>C/ JOSEP MARÍA FOLCH I TORRES, 5</td>\n      <td>image</td>\n      <td>SANTA COLOMA DE FARNERS 17430</td>\n      <td>22-04-2024</td>\n      <td>1234-123-12345</td>\n      <td>50,33</td>\n      <td>...</td>\n      <td>[{'descripcio': 'IOGURT NATURAL', 'import': '3...</td>\n      <td>VISA CREDITO/DEB</td>\n      <td>Visa CaixaBank</td>\n      <td>**** **** **** **** 1234</td>\n      <td>977598991</td>\n      <td>58,90</td>\n      <td>AAA,AA</td>\n      <td>24052024_184201</td>\n      <td>3</td>\n      <td>24052024</td>\n    </tr>\n  </tbody>\n</table>\n<p>5 rows × 27 columns</p>\n</div>",
       "datasetInfos": [],
       "metadata": {},
       "removedWidgets": [],
       "textData": null,
       "type": "htmlSandbox"
      }
     },
     "output_type": "display_data"
    }
   ],
   "source": [
    "# Analitzem els valors i que siguin els correctes.\n",
    "df_docs.head(5)"
   ]
  },
  {
   "cell_type": "markdown",
   "metadata": {
    "application/vnd.databricks.v1+cell": {
     "cellMetadata": {
      "byteLimit": 2048000,
      "rowLimit": 10000
     },
     "inputWidgets": {},
     "nuid": "73261487-18ff-4f45-8872-51d6f53c8911",
     "showTitle": false,
     "title": ""
    }
   },
   "source": [
    "\n",
    "#### Tractament de dades\n",
    "Un cop hem analitzat les dades, realitzem els tractaments necessaris per assegurar-nos que les dades estan netes i estructurades correctament. Aquests són els passos que seguim:\n",
    "\n",
    "- Eliminació de columnes innecessàries:\n",
    "    - Identifiquem i eliminem les columnes que no aporten valor al nostre anàlisi.\n",
    "\n",
    "- Neteja de camps:\n",
    "    - Per exemple, al camp ciutat, eliminem el codi postal si està present.\n",
    "\n",
    "- Conversió de dates:\n",
    "    - Assegurem que totes les dates estan en el format de dades corresponent per facilitar el seu ús posterior.\n",
    "\n",
    "- Afegim una nova columne \"unitat\" i eliminem el text \"kg\" de la columne \"quanitat\"\n",
    "    - D'aquesta forma desglossem la unitat de la quantitat\n",
    "\n",
    "- Canvi de separadors decimals:\n",
    "    - Canviem els punts (.) per comes (,) en els imports i preus unitaris dels productes i al total del tiquet, ja que el model OCR pot detectar els dos formats i necessitem unificar-los.\n",
    "\n",
    "- Eliminació del text \"kg\" a la columna preu_unitat:\n",
    "    - El text \"kg\" no és necessari per al nostre anàlisi, així que el retirem."
   ]
  },
  {
   "cell_type": "code",
   "execution_count": 0,
   "metadata": {
    "application/vnd.databricks.v1+cell": {
     "cellMetadata": {
      "byteLimit": 2048000,
      "rowLimit": 10000
     },
     "inputWidgets": {},
     "nuid": "cba15855-374e-4c7f-a7a5-252e70957a85",
     "showTitle": false,
     "title": ""
    }
   },
   "outputs": [
    {
     "output_type": "display_data",
     "data": {
      "text/html": [
       "<div>\n",
       "<style scoped>\n",
       "    .dataframe tbody tr th:only-of-type {\n",
       "        vertical-align: middle;\n",
       "    }\n",
       "\n",
       "    .dataframe tbody tr th {\n",
       "        vertical-align: top;\n",
       "    }\n",
       "\n",
       "    .dataframe thead th {\n",
       "        text-align: right;\n",
       "    }\n",
       "</style>\n",
       "<table border=\"1\" class=\"dataframe\">\n",
       "  <thead>\n",
       "    <tr style=\"text-align: right;\">\n",
       "      <th></th>\n",
       "      <th>ciutat</th>\n",
       "      <th>data</th>\n",
       "      <th>factura_simplificada</th>\n",
       "      <th>products</th>\n",
       "      <th>total_amb_IVA</th>\n",
       "      <th>id_tiquet</th>\n",
       "      <th>id_client</th>\n",
       "      <th>data_scanner_tiquet</th>\n",
       "    </tr>\n",
       "  </thead>\n",
       "  <tbody>\n",
       "    <tr>\n",
       "      <th>0</th>\n",
       "      <td>VILADECANS 08840</td>\n",
       "      <td>22-04-2024</td>\n",
       "      <td>1234-123-12345</td>\n",
       "      <td>[{'descripcio': 'LASANYA', 'import': '17,60', ...</td>\n",
       "      <td>17,60</td>\n",
       "      <td>24052024_184100</td>\n",
       "      <td>1</td>\n",
       "      <td>24052024</td>\n",
       "    </tr>\n",
       "    <tr>\n",
       "      <th>1</th>\n",
       "      <td>REUS 43205</td>\n",
       "      <td>22-04-2024</td>\n",
       "      <td>1234-123-12345</td>\n",
       "      <td>[{'descripcio': 'ARROS NEGRE', 'import': '2.3)...</td>\n",
       "      <td>30,8]</td>\n",
       "      <td>24052024_184112</td>\n",
       "      <td>2</td>\n",
       "      <td>24052024</td>\n",
       "    </tr>\n",
       "    <tr>\n",
       "      <th>2</th>\n",
       "      <td>BARCELONA 08025</td>\n",
       "      <td>22-04-2024</td>\n",
       "      <td>1234-123-12345</td>\n",
       "      <td>[{'descripcio': 'ANELLES POTA', 'import': '4.3...</td>\n",
       "      <td>42,00</td>\n",
       "      <td>24052024_184138</td>\n",
       "      <td>2</td>\n",
       "      <td>24052024</td>\n",
       "    </tr>\n",
       "    <tr>\n",
       "      <th>3</th>\n",
       "      <td>BARCELONA 08038</td>\n",
       "      <td>22-04-2024</td>\n",
       "      <td>1234-123-12345</td>\n",
       "      <td>[{'descripcio': 'CROQUETES', 'import': '1,05',...</td>\n",
       "      <td>1,38</td>\n",
       "      <td>24052024_184507</td>\n",
       "      <td>2</td>\n",
       "      <td>24052024</td>\n",
       "    </tr>\n",
       "    <tr>\n",
       "      <th>4</th>\n",
       "      <td>SANTA COLOMA DE FARNERS 17430</td>\n",
       "      <td>22-04-2024</td>\n",
       "      <td>1234-123-12345</td>\n",
       "      <td>[{'descripcio': 'IOGURT NATURAL', 'import': '3...</td>\n",
       "      <td>58,90</td>\n",
       "      <td>24052024_184201</td>\n",
       "      <td>3</td>\n",
       "      <td>24052024</td>\n",
       "    </tr>\n",
       "    <tr>\n",
       "      <th>5</th>\n",
       "      <td>BARCELONA 08019</td>\n",
       "      <td>22-04-2024</td>\n",
       "      <td>1234-123-12345</td>\n",
       "      <td>[{'descripcio': 'CALAMARSO.', 'import': '16,50...</td>\n",
       "      <td>19,83</td>\n",
       "      <td>24052024_184226</td>\n",
       "      <td>3</td>\n",
       "      <td>24052024</td>\n",
       "    </tr>\n",
       "    <tr>\n",
       "      <th>6</th>\n",
       "      <td>VILANOVA I LA GELTRÚ 08800</td>\n",
       "      <td>22-04-2024</td>\n",
       "      <td>1234-123-12345</td>\n",
       "      <td>[{'descripcio': 'CANELONS', 'import': '4.62', ...</td>\n",
       "      <td>23,95</td>\n",
       "      <td>24052024_184128</td>\n",
       "      <td>4</td>\n",
       "      <td>24052024</td>\n",
       "    </tr>\n",
       "    <tr>\n",
       "      <th>7</th>\n",
       "      <td>MONTORNÉS DEL VALLES 08170</td>\n",
       "      <td>22-04-2024</td>\n",
       "      <td>1234-123-12345</td>\n",
       "      <td>[{'descripcio': 'PATATES GRILL', 'import': '1,...</td>\n",
       "      <td>3,50</td>\n",
       "      <td>24052024_184542</td>\n",
       "      <td>4</td>\n",
       "      <td>24052024</td>\n",
       "    </tr>\n",
       "  </tbody>\n",
       "</table>\n",
       "</div>"
      ]
     },
     "metadata": {
      "application/vnd.databricks.v1+output": {
       "addedWidgets": {},
       "arguments": {},
       "data": "<div>\n<style scoped>\n    .dataframe tbody tr th:only-of-type {\n        vertical-align: middle;\n    }\n\n    .dataframe tbody tr th {\n        vertical-align: top;\n    }\n\n    .dataframe thead th {\n        text-align: right;\n    }\n</style>\n<table border=\"1\" class=\"dataframe\">\n  <thead>\n    <tr style=\"text-align: right;\">\n      <th></th>\n      <th>ciutat</th>\n      <th>data</th>\n      <th>factura_simplificada</th>\n      <th>products</th>\n      <th>total_amb_IVA</th>\n      <th>id_tiquet</th>\n      <th>id_client</th>\n      <th>data_scanner_tiquet</th>\n    </tr>\n  </thead>\n  <tbody>\n    <tr>\n      <th>0</th>\n      <td>VILADECANS 08840</td>\n      <td>22-04-2024</td>\n      <td>1234-123-12345</td>\n      <td>[{'descripcio': 'LASANYA', 'import': '17,60', ...</td>\n      <td>17,60</td>\n      <td>24052024_184100</td>\n      <td>1</td>\n      <td>24052024</td>\n    </tr>\n    <tr>\n      <th>1</th>\n      <td>REUS 43205</td>\n      <td>22-04-2024</td>\n      <td>1234-123-12345</td>\n      <td>[{'descripcio': 'ARROS NEGRE', 'import': '2.3)...</td>\n      <td>30,8]</td>\n      <td>24052024_184112</td>\n      <td>2</td>\n      <td>24052024</td>\n    </tr>\n    <tr>\n      <th>2</th>\n      <td>BARCELONA 08025</td>\n      <td>22-04-2024</td>\n      <td>1234-123-12345</td>\n      <td>[{'descripcio': 'ANELLES POTA', 'import': '4.3...</td>\n      <td>42,00</td>\n      <td>24052024_184138</td>\n      <td>2</td>\n      <td>24052024</td>\n    </tr>\n    <tr>\n      <th>3</th>\n      <td>BARCELONA 08038</td>\n      <td>22-04-2024</td>\n      <td>1234-123-12345</td>\n      <td>[{'descripcio': 'CROQUETES', 'import': '1,05',...</td>\n      <td>1,38</td>\n      <td>24052024_184507</td>\n      <td>2</td>\n      <td>24052024</td>\n    </tr>\n    <tr>\n      <th>4</th>\n      <td>SANTA COLOMA DE FARNERS 17430</td>\n      <td>22-04-2024</td>\n      <td>1234-123-12345</td>\n      <td>[{'descripcio': 'IOGURT NATURAL', 'import': '3...</td>\n      <td>58,90</td>\n      <td>24052024_184201</td>\n      <td>3</td>\n      <td>24052024</td>\n    </tr>\n    <tr>\n      <th>5</th>\n      <td>BARCELONA 08019</td>\n      <td>22-04-2024</td>\n      <td>1234-123-12345</td>\n      <td>[{'descripcio': 'CALAMARSO.', 'import': '16,50...</td>\n      <td>19,83</td>\n      <td>24052024_184226</td>\n      <td>3</td>\n      <td>24052024</td>\n    </tr>\n    <tr>\n      <th>6</th>\n      <td>VILANOVA I LA GELTRÚ 08800</td>\n      <td>22-04-2024</td>\n      <td>1234-123-12345</td>\n      <td>[{'descripcio': 'CANELONS', 'import': '4.62', ...</td>\n      <td>23,95</td>\n      <td>24052024_184128</td>\n      <td>4</td>\n      <td>24052024</td>\n    </tr>\n    <tr>\n      <th>7</th>\n      <td>MONTORNÉS DEL VALLES 08170</td>\n      <td>22-04-2024</td>\n      <td>1234-123-12345</td>\n      <td>[{'descripcio': 'PATATES GRILL', 'import': '1,...</td>\n      <td>3,50</td>\n      <td>24052024_184542</td>\n      <td>4</td>\n      <td>24052024</td>\n    </tr>\n  </tbody>\n</table>\n</div>",
       "datasetInfos": [],
       "metadata": {},
       "removedWidgets": [],
       "textData": null,
       "type": "htmlSandbox"
      }
     },
     "output_type": "display_data"
    }
   ],
   "source": [
    "# Fem ús de la funció deleteColumns() per eliminar les columnes inecessaries.\n",
    "columns_to_drop = ['ivas', 'targeta_bancaria', 'NC', 'AUT', 'ARC', 'AID', 'telf', 'nom', 'total_sense_IVA', 'adressa', 'targeta_1', 'targeta_2', 'targeta_bancaria', 'logo_top', 'op', 'logo_contact_less', 'logo_bottom', 'iva_total', 'barcode', 'pagat_targeta_bancaria']\n",
    "\n",
    "df_docs = deleteColumns(df_docs, columns_to_drop)\n",
    "\n",
    "df_docs"
   ]
  },
  {
   "cell_type": "code",
   "execution_count": 0,
   "metadata": {
    "application/vnd.databricks.v1+cell": {
     "cellMetadata": {
      "byteLimit": 2048000,
      "rowLimit": 10000
     },
     "inputWidgets": {},
     "nuid": "65991073-b27a-46cc-9e25-302e7d12bb8f",
     "showTitle": false,
     "title": ""
    }
   },
   "outputs": [
    {
     "output_type": "display_data",
     "data": {
      "text/html": [
       "<div>\n",
       "<style scoped>\n",
       "    .dataframe tbody tr th:only-of-type {\n",
       "        vertical-align: middle;\n",
       "    }\n",
       "\n",
       "    .dataframe tbody tr th {\n",
       "        vertical-align: top;\n",
       "    }\n",
       "\n",
       "    .dataframe thead th {\n",
       "        text-align: right;\n",
       "    }\n",
       "</style>\n",
       "<table border=\"1\" class=\"dataframe\">\n",
       "  <thead>\n",
       "    <tr style=\"text-align: right;\">\n",
       "      <th></th>\n",
       "      <th>ciutat</th>\n",
       "      <th>data</th>\n",
       "      <th>factura_simplificada</th>\n",
       "      <th>products</th>\n",
       "      <th>total_amb_IVA</th>\n",
       "      <th>id_tiquet</th>\n",
       "      <th>id_client</th>\n",
       "      <th>data_scanner_tiquet</th>\n",
       "    </tr>\n",
       "  </thead>\n",
       "  <tbody>\n",
       "    <tr>\n",
       "      <th>0</th>\n",
       "      <td>VILADECANS</td>\n",
       "      <td>22-04-2024</td>\n",
       "      <td>1234-123-12345</td>\n",
       "      <td>[{'descripcio': 'LASANYA', 'import': '17,60', ...</td>\n",
       "      <td>17,60</td>\n",
       "      <td>24052024_184100</td>\n",
       "      <td>1</td>\n",
       "      <td>24052024</td>\n",
       "    </tr>\n",
       "    <tr>\n",
       "      <th>1</th>\n",
       "      <td>REUS</td>\n",
       "      <td>22-04-2024</td>\n",
       "      <td>1234-123-12345</td>\n",
       "      <td>[{'descripcio': 'ARROS NEGRE', 'import': '2.3)...</td>\n",
       "      <td>30,8]</td>\n",
       "      <td>24052024_184112</td>\n",
       "      <td>2</td>\n",
       "      <td>24052024</td>\n",
       "    </tr>\n",
       "    <tr>\n",
       "      <th>2</th>\n",
       "      <td>BARCELONA</td>\n",
       "      <td>22-04-2024</td>\n",
       "      <td>1234-123-12345</td>\n",
       "      <td>[{'descripcio': 'ANELLES POTA', 'import': '4.3...</td>\n",
       "      <td>42,00</td>\n",
       "      <td>24052024_184138</td>\n",
       "      <td>2</td>\n",
       "      <td>24052024</td>\n",
       "    </tr>\n",
       "    <tr>\n",
       "      <th>3</th>\n",
       "      <td>BARCELONA</td>\n",
       "      <td>22-04-2024</td>\n",
       "      <td>1234-123-12345</td>\n",
       "      <td>[{'descripcio': 'CROQUETES', 'import': '1,05',...</td>\n",
       "      <td>1,38</td>\n",
       "      <td>24052024_184507</td>\n",
       "      <td>2</td>\n",
       "      <td>24052024</td>\n",
       "    </tr>\n",
       "    <tr>\n",
       "      <th>4</th>\n",
       "      <td>SANTA</td>\n",
       "      <td>22-04-2024</td>\n",
       "      <td>1234-123-12345</td>\n",
       "      <td>[{'descripcio': 'IOGURT NATURAL', 'import': '3...</td>\n",
       "      <td>58,90</td>\n",
       "      <td>24052024_184201</td>\n",
       "      <td>3</td>\n",
       "      <td>24052024</td>\n",
       "    </tr>\n",
       "    <tr>\n",
       "      <th>5</th>\n",
       "      <td>BARCELONA</td>\n",
       "      <td>22-04-2024</td>\n",
       "      <td>1234-123-12345</td>\n",
       "      <td>[{'descripcio': 'CALAMARSO.', 'import': '16,50...</td>\n",
       "      <td>19,83</td>\n",
       "      <td>24052024_184226</td>\n",
       "      <td>3</td>\n",
       "      <td>24052024</td>\n",
       "    </tr>\n",
       "    <tr>\n",
       "      <th>6</th>\n",
       "      <td>VILANOVA</td>\n",
       "      <td>22-04-2024</td>\n",
       "      <td>1234-123-12345</td>\n",
       "      <td>[{'descripcio': 'CANELONS', 'import': '4.62', ...</td>\n",
       "      <td>23,95</td>\n",
       "      <td>24052024_184128</td>\n",
       "      <td>4</td>\n",
       "      <td>24052024</td>\n",
       "    </tr>\n",
       "    <tr>\n",
       "      <th>7</th>\n",
       "      <td>MONTORNÉS</td>\n",
       "      <td>22-04-2024</td>\n",
       "      <td>1234-123-12345</td>\n",
       "      <td>[{'descripcio': 'PATATES GRILL', 'import': '1,...</td>\n",
       "      <td>3,50</td>\n",
       "      <td>24052024_184542</td>\n",
       "      <td>4</td>\n",
       "      <td>24052024</td>\n",
       "    </tr>\n",
       "  </tbody>\n",
       "</table>\n",
       "</div>"
      ]
     },
     "metadata": {
      "application/vnd.databricks.v1+output": {
       "addedWidgets": {},
       "arguments": {},
       "data": "<div>\n<style scoped>\n    .dataframe tbody tr th:only-of-type {\n        vertical-align: middle;\n    }\n\n    .dataframe tbody tr th {\n        vertical-align: top;\n    }\n\n    .dataframe thead th {\n        text-align: right;\n    }\n</style>\n<table border=\"1\" class=\"dataframe\">\n  <thead>\n    <tr style=\"text-align: right;\">\n      <th></th>\n      <th>ciutat</th>\n      <th>data</th>\n      <th>factura_simplificada</th>\n      <th>products</th>\n      <th>total_amb_IVA</th>\n      <th>id_tiquet</th>\n      <th>id_client</th>\n      <th>data_scanner_tiquet</th>\n    </tr>\n  </thead>\n  <tbody>\n    <tr>\n      <th>0</th>\n      <td>VILADECANS</td>\n      <td>22-04-2024</td>\n      <td>1234-123-12345</td>\n      <td>[{'descripcio': 'LASANYA', 'import': '17,60', ...</td>\n      <td>17,60</td>\n      <td>24052024_184100</td>\n      <td>1</td>\n      <td>24052024</td>\n    </tr>\n    <tr>\n      <th>1</th>\n      <td>REUS</td>\n      <td>22-04-2024</td>\n      <td>1234-123-12345</td>\n      <td>[{'descripcio': 'ARROS NEGRE', 'import': '2.3)...</td>\n      <td>30,8]</td>\n      <td>24052024_184112</td>\n      <td>2</td>\n      <td>24052024</td>\n    </tr>\n    <tr>\n      <th>2</th>\n      <td>BARCELONA</td>\n      <td>22-04-2024</td>\n      <td>1234-123-12345</td>\n      <td>[{'descripcio': 'ANELLES POTA', 'import': '4.3...</td>\n      <td>42,00</td>\n      <td>24052024_184138</td>\n      <td>2</td>\n      <td>24052024</td>\n    </tr>\n    <tr>\n      <th>3</th>\n      <td>BARCELONA</td>\n      <td>22-04-2024</td>\n      <td>1234-123-12345</td>\n      <td>[{'descripcio': 'CROQUETES', 'import': '1,05',...</td>\n      <td>1,38</td>\n      <td>24052024_184507</td>\n      <td>2</td>\n      <td>24052024</td>\n    </tr>\n    <tr>\n      <th>4</th>\n      <td>SANTA</td>\n      <td>22-04-2024</td>\n      <td>1234-123-12345</td>\n      <td>[{'descripcio': 'IOGURT NATURAL', 'import': '3...</td>\n      <td>58,90</td>\n      <td>24052024_184201</td>\n      <td>3</td>\n      <td>24052024</td>\n    </tr>\n    <tr>\n      <th>5</th>\n      <td>BARCELONA</td>\n      <td>22-04-2024</td>\n      <td>1234-123-12345</td>\n      <td>[{'descripcio': 'CALAMARSO.', 'import': '16,50...</td>\n      <td>19,83</td>\n      <td>24052024_184226</td>\n      <td>3</td>\n      <td>24052024</td>\n    </tr>\n    <tr>\n      <th>6</th>\n      <td>VILANOVA</td>\n      <td>22-04-2024</td>\n      <td>1234-123-12345</td>\n      <td>[{'descripcio': 'CANELONS', 'import': '4.62', ...</td>\n      <td>23,95</td>\n      <td>24052024_184128</td>\n      <td>4</td>\n      <td>24052024</td>\n    </tr>\n    <tr>\n      <th>7</th>\n      <td>MONTORNÉS</td>\n      <td>22-04-2024</td>\n      <td>1234-123-12345</td>\n      <td>[{'descripcio': 'PATATES GRILL', 'import': '1,...</td>\n      <td>3,50</td>\n      <td>24052024_184542</td>\n      <td>4</td>\n      <td>24052024</td>\n    </tr>\n  </tbody>\n</table>\n</div>",
       "datasetInfos": [],
       "metadata": {},
       "removedWidgets": [],
       "textData": null,
       "type": "htmlSandbox"
      }
     },
     "output_type": "display_data"
    }
   ],
   "source": [
    "# Natajem el camp ciutat treien el codi postal\n",
    "df_docs['ciutat'] = df_docs['ciutat'].apply(lambda x: x.split(' ')[0])\n",
    "df_docs"
   ]
  },
  {
   "cell_type": "code",
   "execution_count": 0,
   "metadata": {
    "application/vnd.databricks.v1+cell": {
     "cellMetadata": {
      "byteLimit": 2048000,
      "rowLimit": 10000
     },
     "inputWidgets": {},
     "nuid": "11afe5bc-dbf2-4b98-8ac6-8fb2066bd87b",
     "showTitle": false,
     "title": ""
    }
   },
   "outputs": [],
   "source": [
    "#  Convertim la columna 'data_scanner_tiquet' a datetime.\n",
    "df_docs['data_scanner_tiquet'] = pd.to_datetime(df_docs['data_scanner_tiquet'], format='%d%m%Y')\n",
    "\n",
    "# Ara utilitzem dt.strftime per canviar-li el format.\n",
    "df_docs['data_scanner_tiquet'] = df_docs['data_scanner_tiquet'].dt.strftime('%d-%m-%Y')"
   ]
  },
  {
   "cell_type": "code",
   "execution_count": 0,
   "metadata": {
    "application/vnd.databricks.v1+cell": {
     "cellMetadata": {
      "byteLimit": 2048000,
      "rowLimit": 10000
     },
     "inputWidgets": {},
     "nuid": "210690a3-8db0-4fdc-b3e1-573b12024cf1",
     "showTitle": false,
     "title": ""
    }
   },
   "outputs": [
    {
     "output_type": "stream",
     "name": "stdout",
     "output_type": "stream",
     "text": [
      "Tiquet  1\n\n--Productes--\nNom: LASANYA\nQty: 4\nImport: 17,60 €\npreu_unitari: 4.40 €\nunitat: ud\n\nTiquet  2\n\n--Productes--\nNom: ARROS NEGRE\nQty: 1\nImport: 2.3) €\npreu_unitari: 2.3) €\nunitat: ud\n\nNom: GELAT TORRO\nQty: 1\nImport: 2.75 €\npreu_unitari: 2.75 €\nunitat: ud\n\nNom: ARROS PRECUIT\nQty: 1\nImport: 1,72 €\npreu_unitari: 1,72 €\nunitat: ud\n\nNom: LLOM HACENDADO\nQty: 1\nImport: 6.05 €\npreu_unitari: 6.05 €\nunitat: ud\n\nNom: GELAT AMETLLAT\nQty: 3\nImport: 6.93 €\npreu_unitari: 231 €\nunitat: ud\n\nNom: PASTIS INFANTIL\nQty: 1\nImport: 11,06 €\npreu_unitari: 11,06 €\nunitat: ud\n\nTiquet  3\n\n--Productes--\nNom: ANELLES POTA\nQty: 1\nImport: 4.35 €\npreu_unitari: 4.35 €\nunitat: ud\n\nNom: PIZZA CAMPEROLA\nQty: 2\nImport: 440 €\npreu_unitari: 2,20 €\nunitat: ud\n\nNom: PASTIS INFANTIL\nQty: 4\nImport: 30.80 €\npreu_unitari: 7,70 €\nunitat: ud\n\nNom: BLAT MORO DOLG\nQty: 1\nImport: 1,26 €\npreu_unitari: 1,26 €\nunitat: ud\n\nNom: LLEIXIU AMB\nQty: 1\nImport: 1,19 €\npreu_unitari: 1,19 €\nunitat: ud\n\nTiquet  4\n\n--Productes--\nNom: CROQUETES\nQty: 1\nImport: 1,05 €\npreu_unitari: 1,05 €\nunitat: ud\n\nNom: REFRESC COLA\nQty: 1\nImport: 0.25 €\npreu_unitari: 0.25 €\nunitat: ud\n\nTiquet  5\n\n--Productes--\nNom: IOGURT NATURAL\nQty: 4\nImport: 3.48 €\npreu_unitari: 0.87 €\nunitat: ud\n\nNom: BOSSES CONGELACIO\nQty: 1\nImport: 41,14 €\npreu_unitari: 41,14 €\nunitat: ud\n\nNom: TRAMPA ANTIARNES\nQty: 1\nImport: 5.69 €\npreu_unitari: 5.69 €\nunitat: ud\n\nNom: GELAT CORNET\nQty: 3\nImport: 5,12 €\npreu_unitari: 171 €\nunitat: ud\n\nNom: FONDUE SAVOYARDE\nQty: 1\nImport: 3.48 €\npreu_unitari: 3.48 €\nunitat: ud\n\nTiquet  6\n\n--Productes--\nNom: CALAMARSO.\nQty: 4\nImport: 16,50 €\npreu_unitari: 4.12 €\nunitat: ud\n\nNom: GELAT TARONJA\nQty: 1\nImport: 1.65 €\npreu_unitari: 1.65 €\nunitat: ud\n\nNom: PESOL\nQty: 1412\nImport: 1,68 €\npreu_unitari: 1,20 €/kg €\nunitat: kg\n\nTiquet  7\n\n--Productes--\nNom: CANELONS\nQty: 2\nImport: 4.62 €\npreu_unitari: 231 €\nunitat: ud\n\nNom: ACTIVADOR\nQty: 1\nImport: 2.04 €\npreu_unitari: 2.04 €\nunitat: ud\n\nNom: MIG CONILL\nQty: 3\nImport: 12,08 €\npreu_unitari: 4.03 €\nunitat: ud\n\nNom: DESODORANT CURA\nQty: 1\nImport: 1,69 €\npreu_unitari: 1,69 €\nunitat: ud\n\nNom: PAPER D'ALUMINI\nQty: 1\nImport: 3.51 €\npreu_unitari: 3.51 €\nunitat: ud\n\nTiquet  8\n\n--Productes--\nNom: PATATES GRILL\nQty: 1.109\nImport: 1,92 €\npreu_unitari: 1,74 €/kg €\nunitat: kg\n\nNom: PASTANAGA\nQty: 1.276\nImport: 1,58 €\npreu_unitari: 1,24 €/kg €\nunitat: kg\n\n"
     ]
    }
   ],
   "source": [
    "# Creem la nova columna \"unitat\".\n",
    "df_docs = crear_columna_unitats(df_docs)\n",
    "# Comprovem si ha funcionat.\n",
    "visualitzarProducts(df_docs)"
   ]
  },
  {
   "cell_type": "code",
   "execution_count": 0,
   "metadata": {
    "application/vnd.databricks.v1+cell": {
     "cellMetadata": {
      "byteLimit": 2048000,
      "rowLimit": 10000
     },
     "inputWidgets": {},
     "nuid": "aa9e23ab-1fd9-42a1-84dc-98e22823205e",
     "showTitle": false,
     "title": ""
    }
   },
   "outputs": [
    {
     "output_type": "stream",
     "name": "stdout",
     "output_type": "stream",
     "text": [
      "Tiquet  1\n\n--Productes--\nNom: LASANYA\nQty: 4\nImport: 17.60 €\npreu_unitari: 4.40 €\nunitat: ud\n\nTiquet  2\n\n--Productes--\nNom: ARROS NEGRE\nQty: 1\nImport: 2.3) €\npreu_unitari: 2.3) €\nunitat: ud\n\nNom: GELAT TORRO\nQty: 1\nImport: 2.75 €\npreu_unitari: 2.75 €\nunitat: ud\n\nNom: ARROS PRECUIT\nQty: 1\nImport: 1.72 €\npreu_unitari: 1.72 €\nunitat: ud\n\nNom: LLOM HACENDADO\nQty: 1\nImport: 6.05 €\npreu_unitari: 6.05 €\nunitat: ud\n\nNom: GELAT AMETLLAT\nQty: 3\nImport: 6.93 €\npreu_unitari: 231 €\nunitat: ud\n\nNom: PASTIS INFANTIL\nQty: 1\nImport: 11.06 €\npreu_unitari: 11.06 €\nunitat: ud\n\nTiquet  3\n\n--Productes--\nNom: ANELLES POTA\nQty: 1\nImport: 4.35 €\npreu_unitari: 4.35 €\nunitat: ud\n\nNom: PIZZA CAMPEROLA\nQty: 2\nImport: 440 €\npreu_unitari: 2.20 €\nunitat: ud\n\nNom: PASTIS INFANTIL\nQty: 4\nImport: 30.80 €\npreu_unitari: 7.70 €\nunitat: ud\n\nNom: BLAT MORO DOLG\nQty: 1\nImport: 1.26 €\npreu_unitari: 1.26 €\nunitat: ud\n\nNom: LLEIXIU AMB\nQty: 1\nImport: 1.19 €\npreu_unitari: 1.19 €\nunitat: ud\n\nTiquet  4\n\n--Productes--\nNom: CROQUETES\nQty: 1\nImport: 1.05 €\npreu_unitari: 1.05 €\nunitat: ud\n\nNom: REFRESC COLA\nQty: 1\nImport: 0.25 €\npreu_unitari: 0.25 €\nunitat: ud\n\nTiquet  5\n\n--Productes--\nNom: IOGURT NATURAL\nQty: 4\nImport: 3.48 €\npreu_unitari: 0.87 €\nunitat: ud\n\nNom: BOSSES CONGELACIO\nQty: 1\nImport: 41.14 €\npreu_unitari: 41.14 €\nunitat: ud\n\nNom: TRAMPA ANTIARNES\nQty: 1\nImport: 5.69 €\npreu_unitari: 5.69 €\nunitat: ud\n\nNom: GELAT CORNET\nQty: 3\nImport: 5.12 €\npreu_unitari: 171 €\nunitat: ud\n\nNom: FONDUE SAVOYARDE\nQty: 1\nImport: 3.48 €\npreu_unitari: 3.48 €\nunitat: ud\n\nTiquet  6\n\n--Productes--\nNom: CALAMARSO.\nQty: 4\nImport: 16.50 €\npreu_unitari: 4.12 €\nunitat: ud\n\nNom: GELAT TARONJA\nQty: 1\nImport: 1.65 €\npreu_unitari: 1.65 €\nunitat: ud\n\nNom: PESOL\nQty: 1412\nImport: 1.68 €\npreu_unitari: 1.20 €/kg €\nunitat: kg\n\nTiquet  7\n\n--Productes--\nNom: CANELONS\nQty: 2\nImport: 4.62 €\npreu_unitari: 231 €\nunitat: ud\n\nNom: ACTIVADOR\nQty: 1\nImport: 2.04 €\npreu_unitari: 2.04 €\nunitat: ud\n\nNom: MIG CONILL\nQty: 3\nImport: 12.08 €\npreu_unitari: 4.03 €\nunitat: ud\n\nNom: DESODORANT CURA\nQty: 1\nImport: 1.69 €\npreu_unitari: 1.69 €\nunitat: ud\n\nNom: PAPER D'ALUMINI\nQty: 1\nImport: 3.51 €\npreu_unitari: 3.51 €\nunitat: ud\n\nTiquet  8\n\n--Productes--\nNom: PATATES GRILL\nQty: 1.109\nImport: 1.92 €\npreu_unitari: 1.74 €/kg €\nunitat: kg\n\nNom: PASTANAGA\nQty: 1.276\nImport: 1.58 €\npreu_unitari: 1.24 €/kg €\nunitat: kg\n\n"
     ]
    }
   ],
   "source": [
    "# Canviem els \".\" per \",\" a variables de productes.\n",
    "df_docs = df_docs.apply(canviar_punts_per_comes, axis=1)\n",
    "visualitzarProducts(df_docs)"
   ]
  },
  {
   "cell_type": "code",
   "execution_count": 0,
   "metadata": {
    "application/vnd.databricks.v1+cell": {
     "cellMetadata": {
      "byteLimit": 2048000,
      "rowLimit": 10000
     },
     "inputWidgets": {},
     "nuid": "370fe6f0-cdd2-44e2-ac03-eda522699884",
     "showTitle": false,
     "title": ""
    }
   },
   "outputs": [
    {
     "output_type": "stream",
     "name": "stdout",
     "output_type": "stream",
     "text": [
      "Tiquet  1\n\n--Productes--\nNom: LASANYA\nQty: 4\nImport: 17.60 €\npreu_unitari: 4.40 €\nunitat: ud\n\nTiquet  2\n\n--Productes--\nNom: ARROS NEGRE\nQty: 1\nImport: 2.3) €\npreu_unitari: 2.3) €\nunitat: ud\n\nNom: GELAT TORRO\nQty: 1\nImport: 2.75 €\npreu_unitari: 2.75 €\nunitat: ud\n\nNom: ARROS PRECUIT\nQty: 1\nImport: 1.72 €\npreu_unitari: 1.72 €\nunitat: ud\n\nNom: LLOM HACENDADO\nQty: 1\nImport: 6.05 €\npreu_unitari: 6.05 €\nunitat: ud\n\nNom: GELAT AMETLLAT\nQty: 3\nImport: 6.93 €\npreu_unitari: 231 €\nunitat: ud\n\nNom: PASTIS INFANTIL\nQty: 1\nImport: 11.06 €\npreu_unitari: 11.06 €\nunitat: ud\n\nTiquet  3\n\n--Productes--\nNom: ANELLES POTA\nQty: 1\nImport: 4.35 €\npreu_unitari: 4.35 €\nunitat: ud\n\nNom: PIZZA CAMPEROLA\nQty: 2\nImport: 440 €\npreu_unitari: 2.20 €\nunitat: ud\n\nNom: PASTIS INFANTIL\nQty: 4\nImport: 30.80 €\npreu_unitari: 7.70 €\nunitat: ud\n\nNom: BLAT MORO DOLG\nQty: 1\nImport: 1.26 €\npreu_unitari: 1.26 €\nunitat: ud\n\nNom: LLEIXIU AMB\nQty: 1\nImport: 1.19 €\npreu_unitari: 1.19 €\nunitat: ud\n\nTiquet  4\n\n--Productes--\nNom: CROQUETES\nQty: 1\nImport: 1.05 €\npreu_unitari: 1.05 €\nunitat: ud\n\nNom: REFRESC COLA\nQty: 1\nImport: 0.25 €\npreu_unitari: 0.25 €\nunitat: ud\n\nTiquet  5\n\n--Productes--\nNom: IOGURT NATURAL\nQty: 4\nImport: 3.48 €\npreu_unitari: 0.87 €\nunitat: ud\n\nNom: BOSSES CONGELACIO\nQty: 1\nImport: 41.14 €\npreu_unitari: 41.14 €\nunitat: ud\n\nNom: TRAMPA ANTIARNES\nQty: 1\nImport: 5.69 €\npreu_unitari: 5.69 €\nunitat: ud\n\nNom: GELAT CORNET\nQty: 3\nImport: 5.12 €\npreu_unitari: 171 €\nunitat: ud\n\nNom: FONDUE SAVOYARDE\nQty: 1\nImport: 3.48 €\npreu_unitari: 3.48 €\nunitat: ud\n\nTiquet  6\n\n--Productes--\nNom: CALAMARSO.\nQty: 4\nImport: 16.50 €\npreu_unitari: 4.12 €\nunitat: ud\n\nNom: GELAT TARONJA\nQty: 1\nImport: 1.65 €\npreu_unitari: 1.65 €\nunitat: ud\n\nNom: PESOL\nQty: 1412\nImport: 1.68 €\npreu_unitari: 1.20 €\nunitat: kg\n\nTiquet  7\n\n--Productes--\nNom: CANELONS\nQty: 2\nImport: 4.62 €\npreu_unitari: 231 €\nunitat: ud\n\nNom: ACTIVADOR\nQty: 1\nImport: 2.04 €\npreu_unitari: 2.04 €\nunitat: ud\n\nNom: MIG CONILL\nQty: 3\nImport: 12.08 €\npreu_unitari: 4.03 €\nunitat: ud\n\nNom: DESODORANT CURA\nQty: 1\nImport: 1.69 €\npreu_unitari: 1.69 €\nunitat: ud\n\nNom: PAPER D'ALUMINI\nQty: 1\nImport: 3.51 €\npreu_unitari: 3.51 €\nunitat: ud\n\nTiquet  8\n\n--Productes--\nNom: PATATES GRILL\nQty: 1.109\nImport: 1.92 €\npreu_unitari: 1.74 €\nunitat: kg\n\nNom: PASTANAGA\nQty: 1.276\nImport: 1.58 €\npreu_unitari: 1.24 €\nunitat: kg\n\n"
     ]
    }
   ],
   "source": [
    "# Treiem el text kg de la columna preu_unitari\n",
    "df_docs = eliminar_txt_kg(df_docs)\n",
    "visualitzarProducts(df_docs)"
   ]
  },
  {
   "cell_type": "markdown",
   "metadata": {
    "application/vnd.databricks.v1+cell": {
     "cellMetadata": {
      "byteLimit": 2048000,
      "rowLimit": 10000
     },
     "inputWidgets": {},
     "nuid": "75396a26-379c-40f5-836f-5a5f00209995",
     "showTitle": false,
     "title": ""
    }
   },
   "source": [
    "\n",
    "#### Emmagatzemem les dades a la capa Silver.\n",
    "Per emmagatzemar les dades a la capa Silver, utilitzarem el format Parquet. Aquesta decisió té diverses avantatges:\n",
    "\n",
    "- Reducció de tamany de les dades:\n",
    "  - El format Parquet és altament eficient en la compressió de dades, cosa que ens permet reduir el tamany que ocupen les dades emmagatzemades.\n",
    "\n",
    "- Particionament eficient:\n",
    "  - Podem emmagatzemar les dades de manera particionada, la qual cosa fa que sigui molt més fàcil i eficient accedir a subconjunts específics de les dades.\n",
    "  - Particionarem les dades tant per clients com per dies, ja que això ens permetrà organitzar-les i accedir-hi de manera intuïtiva i eficient.\n",
    "\n",
    "Per particionar les dades per clients i dies, crearem dues carpetes dins de la carpeta Silver:\n",
    "\n",
    "1- Particionament per clients:\n",
    "  - Cada subdirectori dins de la carpeta Silver correspon al ID del client.\n",
    "  - Aquesta partició ens permet agrupar totes les dades relacionades amb un mateix client en una única ubicació, facilitant-ne l'accés i l'anàlisi.\n",
    "\n",
    "2- Particionament per dies:\n",
    "  - Cada subdirectori dins de la carpeta Silver té el format de la data del tiquet (dd/mm/YYYY).\n",
    "  - Aquesta partició ens permet agrupar les dades segons la data del tiquet, el que facilita l'anàlisi temporal i l'accés a les dades en funció de la seva data d'origen.\n",
    "\n",
    "Utilitzarem aquest enfocament per emmagatzemar les dades a la capa Silver de manera ordenada i eficient, assegurant-nos que estiguin disponibles i fàcilment accessibles per a futures anàlisis i ús.\n"
   ]
  },
  {
   "cell_type": "code",
   "execution_count": 0,
   "metadata": {
    "application/vnd.databricks.v1+cell": {
     "cellMetadata": {
      "byteLimit": 2048000,
      "rowLimit": 10000
     },
     "inputWidgets": {},
     "nuid": "0c526fd1-9ad9-4949-b60f-6f513f0e1575",
     "showTitle": false,
     "title": ""
    }
   },
   "outputs": [],
   "source": [
    "# Penjem les dades particionades amb dies i clients.\n",
    "\n",
    "# DIES (DATA)\n",
    "path_dies_silver = 'abfs://{0}@{1}.dfs.core.windows.net/dies/'.format('silver', storage_account)\n",
    "\n",
    "# CLIENTS\n",
    "path_clientes_silver = 'abfs://{0}@{1}.dfs.core.windows.net/clients/'.format('silver', storage_account)\n",
    "\n",
    "# Executem la funció per dies\n",
    "particionar_dies(df_docs, path_dies_silver)\n",
    "\n",
    "# Executem la funció per clients\n",
    "particionar_clients(df_docs, path_clientes_silver)"
   ]
  }
 ],
 "metadata": {
  "application/vnd.databricks.v1+notebook": {
   "dashboards": [],
   "environmentMetadata": null,
   "language": "python",
   "notebookMetadata": {
    "pythonIndentUnit": 4
   },
   "notebookName": "Bronze-to-Silver-Doc",
   "widgets": {}
  }
 },
 "nbformat": 4,
 "nbformat_minor": 0
}
