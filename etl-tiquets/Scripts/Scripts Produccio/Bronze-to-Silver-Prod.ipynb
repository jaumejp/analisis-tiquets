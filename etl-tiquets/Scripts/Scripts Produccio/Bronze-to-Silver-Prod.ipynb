{
 "cells": [
  {
   "cell_type": "markdown",
   "metadata": {
    "application/vnd.databricks.v1+cell": {
     "cellMetadata": {
      "byteLimit": 2048000,
      "rowLimit": 10000
     },
     "inputWidgets": {},
     "nuid": "32bf186c-dd42-4bf1-ad6b-86ef008be0a0",
     "showTitle": false,
     "title": ""
    }
   },
   "source": [
    "\n",
    "### Script Bronze to Silver producció\n",
    "- Executa les comandes mínimes però necessaries per realitzar el procès més optim possible.\n",
    "- Per veure com s'ha arribat a desenvolupar aquest df i que fa cada pas mirar el Notebook de documentació."
   ]
  },
  {
   "cell_type": "markdown",
   "metadata": {
    "application/vnd.databricks.v1+cell": {
     "cellMetadata": {
      "byteLimit": 2048000,
      "rowLimit": 10000
     },
     "inputWidgets": {},
     "nuid": "111ed3aa-7095-4e06-8761-b0ffd1cfb357",
     "showTitle": false,
     "title": ""
    }
   },
   "source": [
    "#### Importem les llibreries necessàries"
   ]
  },
  {
   "cell_type": "code",
   "execution_count": 0,
   "metadata": {
    "application/vnd.databricks.v1+cell": {
     "cellMetadata": {
      "byteLimit": 2048000,
      "rowLimit": 10000
     },
     "inputWidgets": {},
     "nuid": "cd2b6498-1ff6-4360-9252-2785fc09079a",
     "showTitle": false,
     "title": ""
    }
   },
   "outputs": [],
   "source": [
    "import re\n",
    "import numpy as np\n",
    "import pandas as pd"
   ]
  },
  {
   "cell_type": "markdown",
   "metadata": {
    "application/vnd.databricks.v1+cell": {
     "cellMetadata": {
      "byteLimit": 2048000,
      "rowLimit": 10000
     },
     "inputWidgets": {},
     "nuid": "60c44fd1-d488-4a4c-81b6-740f8210f7b5",
     "showTitle": false,
     "title": ""
    }
   },
   "source": [
    "\n",
    "#### Configuració connexió Spark"
   ]
  },
  {
   "cell_type": "code",
   "execution_count": 0,
   "metadata": {
    "application/vnd.databricks.v1+cell": {
     "cellMetadata": {
      "byteLimit": 2048000,
      "rowLimit": 10000
     },
     "inputWidgets": {},
     "nuid": "d3f52aff-5593-44a6-9fbd-35f0e0bf962d",
     "showTitle": false,
     "title": "Connect Spark with Azure Data Lake Gen 2"
    }
   },
   "outputs": [],
   "source": [
    "# Configuració Spark per connexió ADLG2 amb token SAS\n",
    "token = 'sv=2022-11-02&ss=bfqt&srt=sco&sp=rwdlacupyx&se=2025-06-03T02:34:04Z&st=2024-04-09T18:34:04Z&spr=https&sig=dplYYYNSRC%2FjDR89WMxcsA6SMo%2BHFYrQ5BqdhRUKBMs%3D'\n",
    "storage_account = 'projecteiabd'\n",
    "container = 'bronze'\n",
    "path = 'abfs://{0}@{1}.dfs.core.windows.net/'.format(container, storage_account)\n",
    "\n",
    "spark.conf.set(\"fs.azure.account.auth.type.{0}.dfs.core.windows.net\".format(storage_account), \"SAS\")\n",
    "spark.conf.set(\"fs.azure.sas.token.provider.type.{0}.dfs.core.windows.net\".format(storage_account), \"org.apache.hadoop.fs.azurebfs.sas.FixedSASTokenProvider\")\n",
    "spark.conf.set(\"fs.azure.sas.fixed.token.{0}.dfs.core.windows.net\".format(storage_account), token)"
   ]
  },
  {
   "cell_type": "markdown",
   "metadata": {
    "application/vnd.databricks.v1+cell": {
     "cellMetadata": {
      "byteLimit": 2048000,
      "rowLimit": 10000
     },
     "inputWidgets": {},
     "nuid": "b7263e0e-cc26-40f4-9372-8f0d567b6218",
     "showTitle": false,
     "title": ""
    }
   },
   "source": [
    "\n",
    "#### Declaració de funcions.\n"
   ]
  },
  {
   "cell_type": "code",
   "execution_count": 0,
   "metadata": {
    "application/vnd.databricks.v1+cell": {
     "cellMetadata": {
      "byteLimit": 2048000,
      "rowLimit": 10000
     },
     "inputWidgets": {},
     "nuid": "0d8f2c68-1b38-4f2f-b66a-0c601f3f3e25",
     "showTitle": false,
     "title": "Funcions"
    }
   },
   "outputs": [],
   "source": [
    "# Funció per llistar tots els documents que hi ha dins de una ruta.\n",
    "\n",
    "def deep_ls(path): # Definim una funció que li passem un path.\n",
    "    \"\"\"List all files in base path recursively.\"\"\"\n",
    "    for x in dbutils.fs.ls(path): # Agafem tots els fitxer i carpetas que hi ha dintre el path. I els anem recorrent. \n",
    "        if x.path[-1] != '/': # Agefm l'ultim caracter de la ruta del fitxer, mirem que si no és un '/' vol dir que és un fitxer.\n",
    "            yield x # Retornem el fitxer amb un yield osigui que retorna el fitxer però segueix amb l'execuió fins que no quedin més docs.\n",
    "        else: \n",
    "            for y in deep_ls(x.path): # Si no és un fitxer entrem dintre la carpeta, amb la mateixa funció de aqui bé la recursivitat. Que no parara de executar-se fins que ho hagi recorregut tot.\n",
    "                yield y # Anem retornan els resultats de cada fitxer que va trobant la funció."
   ]
  },
  {
   "cell_type": "code",
   "execution_count": 0,
   "metadata": {
    "application/vnd.databricks.v1+cell": {
     "cellMetadata": {
      "byteLimit": 2048000,
      "rowLimit": 10000
     },
     "inputWidgets": {},
     "nuid": "d678bab2-a077-4b71-81c2-2f2537d708b9",
     "showTitle": false,
     "title": ""
    }
   },
   "outputs": [],
   "source": [
    "# Funció per eliminar columnes inecessaries.\n",
    "def deleteColumns(df, columns_list):\n",
    "\n",
    "  df_docs.drop(columns_list, inplace=True, axis = 1)\n",
    "\n",
    "  return df_docs"
   ]
  },
  {
   "cell_type": "code",
   "execution_count": 0,
   "metadata": {
    "application/vnd.databricks.v1+cell": {
     "cellMetadata": {
      "byteLimit": 2048000,
      "rowLimit": 10000
     },
     "inputWidgets": {},
     "nuid": "867ae400-62ec-44a9-9819-16fe41a7f59d",
     "showTitle": false,
     "title": ""
    }
   },
   "outputs": [],
   "source": [
    "# Funció per visualitzar els productes de un df.\n",
    "def visualitzarProducts(df_products):\n",
    "    for index, llista_productes in df_products['products'].items():\n",
    "        print(\"Tiquet \", index + 1)\n",
    "        print()\n",
    "        print(\"--Productes--\")\n",
    "        for producte in llista_productes:\n",
    "            print(\"Nom:\", producte['descripcio'])\n",
    "            print(\"Qty:\", producte['quantitat'])\n",
    "            print(\"Import:\", producte['import'], \"€\")\n",
    "            print('preu_unitari:', producte['preu_unitari'], '€')\n",
    "            print('unitat:', producte['unitat'])\n",
    "            print('')"
   ]
  },
  {
   "cell_type": "code",
   "execution_count": 0,
   "metadata": {
    "application/vnd.databricks.v1+cell": {
     "cellMetadata": {
      "byteLimit": 2048000,
      "rowLimit": 10000
     },
     "inputWidgets": {},
     "nuid": "999a7c49-7e66-4706-8bfb-d2caa19c0b62",
     "showTitle": false,
     "title": ""
    }
   },
   "outputs": [],
   "source": [
    "# Funció per emmegatzemar en format parquet les dades a un repositori extern. Particionades per id_client.\n",
    "def particionar_clients(df, path):\n",
    "    # Passem el df de pandas a spark df.\n",
    "    df = spark.createDataFrame(df)\n",
    "\n",
    "    df.write.format(\"parquet\") \\\n",
    "        .option(\"forward_spark_azure_storage_credentials\", \"True\") \\\n",
    "        .partitionBy(\"id_client\") \\\n",
    "        .mode(\"overwrite\") \\\n",
    "        .save(path)"
   ]
  },
  {
   "cell_type": "code",
   "execution_count": 0,
   "metadata": {
    "application/vnd.databricks.v1+cell": {
     "cellMetadata": {
      "byteLimit": 2048000,
      "rowLimit": 10000
     },
     "inputWidgets": {},
     "nuid": "305016e9-663c-4bc1-a107-c8ee6d656c76",
     "showTitle": false,
     "title": ""
    }
   },
   "outputs": [],
   "source": [
    "# Funció per emmegatzemar en format parquet les dades a un repositori extern. Particionades per dies.\n",
    "def particionar_dies(df, path):\n",
    "    # Passem el df de pandas a spark df.\n",
    "    df = spark.createDataFrame(df)\n",
    "\n",
    "    df.write.format(\"parquet\") \\\n",
    "        .option(\"forward_spark_azure_storage_credentials\", \"True\") \\\n",
    "        .partitionBy(\"data\") \\\n",
    "        .mode(\"overwrite\") \\\n",
    "        .save(path)"
   ]
  },
  {
   "cell_type": "code",
   "execution_count": 0,
   "metadata": {
    "application/vnd.databricks.v1+cell": {
     "cellMetadata": {
      "byteLimit": 2048000,
      "rowLimit": 10000
     },
     "inputWidgets": {},
     "nuid": "f363adf4-b6ec-4712-94f0-656276f2c58c",
     "showTitle": false,
     "title": ""
    }
   },
   "outputs": [],
   "source": [
    "# Funció per eliminar el text \"kg\" de la columna preu unitats.\n",
    "def eliminar_txt_kg(df):\n",
    "    for index, llista_productes in df['products'].items():\n",
    "        for producte in llista_productes:\n",
    "            if 'preu_unitari' in producte:\n",
    "                # Elimina el text \" €/kg €\"\n",
    "                producte['preu_unitari'] = re.sub(r' ?€/kg ?', '', producte['preu_unitari'])\n",
    "    return df\n"
   ]
  },
  {
   "cell_type": "code",
   "execution_count": 0,
   "metadata": {
    "application/vnd.databricks.v1+cell": {
     "cellMetadata": {
      "byteLimit": 2048000,
      "rowLimit": 10000
     },
     "inputWidgets": {},
     "nuid": "e871f449-44fc-4f3e-a686-e54040361d37",
     "showTitle": false,
     "title": ""
    }
   },
   "outputs": [],
   "source": [
    "# Funció per canviar les , per . a l'import, preu_unitari i total_amb_IVA\n",
    "def canviar_punts_per_comes(row):\n",
    "    row['total_amb_IVA'] = str(row['total_amb_IVA']).replace(',', '.')\n",
    "    for producte in row['products']:\n",
    "        producte['import'] = str(producte['import']).replace(',', '.')\n",
    "        if 'preu_unitari' in producte:\n",
    "            producte['preu_unitari'] = str(producte['preu_unitari']).replace(',', '.')\n",
    "    return row"
   ]
  },
  {
   "cell_type": "code",
   "execution_count": 0,
   "metadata": {
    "application/vnd.databricks.v1+cell": {
     "cellMetadata": {
      "byteLimit": 2048000,
      "rowLimit": 10000
     },
     "inputWidgets": {},
     "nuid": "db9765f1-f73e-4922-ab6f-32a8b1a5fd03",
     "showTitle": false,
     "title": ""
    }
   },
   "outputs": [],
   "source": [
    "# Funció per crear una nova columna 'unitat' i treure el text \"kg\" de 'preu_unitari'.\n",
    "def crear_columna_unitats(df):\n",
    "    for index, llista_productes in df['products'].items():\n",
    "        for producte in llista_productes:\n",
    "            if 'kg' in producte['preu_unitari']:\n",
    "                producte['quantitat'] = re.sub(r' ?kg ?', '', producte['quantitat'])\n",
    "                producte['unitat'] = 'kg'\n",
    "            else:\n",
    "                producte['unitat'] = 'ud'\n",
    "    return df"
   ]
  },
  {
   "cell_type": "markdown",
   "metadata": {
    "application/vnd.databricks.v1+cell": {
     "cellMetadata": {
      "byteLimit": 2048000,
      "rowLimit": 10000
     },
     "inputWidgets": {},
     "nuid": "de8e9e1d-91ac-47bc-9f83-e8beb328211c",
     "showTitle": false,
     "title": ""
    }
   },
   "source": [
    "#### Llegim les dades del Data Lake d'Azure"
   ]
  },
  {
   "cell_type": "code",
   "execution_count": 0,
   "metadata": {
    "application/vnd.databricks.v1+cell": {
     "cellMetadata": {
      "byteLimit": 2048000,
      "rowLimit": 10000
     },
     "inputWidgets": {},
     "nuid": "2369a8b9-ebfa-41ba-aba4-eb5631ab74da",
     "showTitle": true,
     "title": "LLegim les dades del Data Lake i les convertim amb df de pandas per postariorment tractar-les."
    }
   },
   "outputs": [],
   "source": [
    "# Utilitzem la funció anterior, per llegir tots els json, i posar-lo a un DF.\n",
    "import pandas as pd\n",
    "\n",
    "docs = []\n",
    "\n",
    "files = list(deep_ls(path)) \n",
    "\n",
    "# Recorrem la llista de fitxers.\n",
    "for file in files: \n",
    "    # Llegim els fitxers.\n",
    "    df = spark.read.json(file.path, multiLine=True)\n",
    "    \n",
    "    # Guardem la futa del fitxer\n",
    "    ruta = str(file.path)\n",
    "\n",
    "    # Passem el df a df de pandas\n",
    "    df = df.toPandas()\n",
    "\n",
    "    # Afegim al df, els camps id_client, id_tiquet, data_tiquet. Ja que aquets camps ens serviarn per classificar els tiquets.\n",
    "    df['id_tiquet'] = ruta.split(\"/\")[-1].split(\".\")[0]; # Agragem l'id del tiquet al df que serà el nom del fitxer.\n",
    "    df['id_client'] = ruta.split(\"/\")[-3] # Agafem l'id del client.\n",
    "    df['data_scanner_tiquet'] = ruta.split(\"/\")[-2] # Agafem la data.\n",
    "\n",
    "    # Anem afegint els df a la llista.\n",
    "    docs.append(df)\n",
    "\n",
    "# Fem un bucle dintre un array per posar tots els df dintre. Els df que hi ha a la llista docs.\n",
    "df_docs = pd.concat([df for df in docs], ignore_index=True)"
   ]
  },
  {
   "cell_type": "markdown",
   "metadata": {
    "application/vnd.databricks.v1+cell": {
     "cellMetadata": {
      "byteLimit": 2048000,
      "rowLimit": 10000
     },
     "inputWidgets": {},
     "nuid": "73261487-18ff-4f45-8872-51d6f53c8911",
     "showTitle": false,
     "title": ""
    }
   },
   "source": [
    "\n",
    "#### Tractament de dades"
   ]
  },
  {
   "cell_type": "code",
   "execution_count": 0,
   "metadata": {
    "application/vnd.databricks.v1+cell": {
     "cellMetadata": {
      "byteLimit": 2048000,
      "rowLimit": 10000
     },
     "inputWidgets": {},
     "nuid": "aecf6b60-eb4f-4fc6-9f97-bf51d7ae6875",
     "showTitle": false,
     "title": ""
    }
   },
   "outputs": [],
   "source": [
    "# Ens assegurem que a la columna 'id_tiquet' no es repeteixin.\n",
    "\n",
    "# Amb .ducpliacated de pandas, podem agafar els valors duplicats. En aquest cas indiquem del camp id_tiquet\n",
    "duplicats = df_docs.duplicated(subset=['id_tiquet'])\n",
    "\n",
    "# Sumem el número de resultats.\n",
    "num_duplicats = duplicats.sum()\n",
    "\n",
    "# Eliminem els duplicats i només mentenim la primera aparició\n",
    "if num_duplicats > 0:\n",
    "    df_docs = df_docs.drop_duplicates(subset=['id_tiquet'])\n"
   ]
  },
  {
   "cell_type": "code",
   "execution_count": 0,
   "metadata": {
    "application/vnd.databricks.v1+cell": {
     "cellMetadata": {
      "byteLimit": 2048000,
      "rowLimit": 10000
     },
     "inputWidgets": {},
     "nuid": "cba15855-374e-4c7f-a7a5-252e70957a85",
     "showTitle": false,
     "title": ""
    }
   },
   "outputs": [],
   "source": [
    "# Fem ús de la funció deleteColumns() per eliminar les columnes inecessaries.\n",
    "columns_to_drop = ['ivas', 'targeta_bancaria', 'NC', 'AUT', 'ARC', 'AID', 'telf', 'nom', 'total_sense_IVA', 'adressa', 'targeta_1', 'targeta_2', 'targeta_bancaria', 'logo_top', 'op', 'logo_contact_less', 'logo_bottom', 'iva_total', 'barcode', 'pagat_targeta_bancaria']\n",
    "\n",
    "df_docs = deleteColumns(df_docs, columns_to_drop)"
   ]
  },
  {
   "cell_type": "code",
   "execution_count": 0,
   "metadata": {
    "application/vnd.databricks.v1+cell": {
     "cellMetadata": {
      "byteLimit": 2048000,
      "rowLimit": 10000
     },
     "inputWidgets": {},
     "nuid": "65991073-b27a-46cc-9e25-302e7d12bb8f",
     "showTitle": false,
     "title": ""
    }
   },
   "outputs": [],
   "source": [
    "# Natajem el camp ciutat treien el codi postal\n",
    "df_docs['ciutat'] = df_docs['ciutat'].apply(lambda x: x.split(' ')[0])"
   ]
  },
  {
   "cell_type": "code",
   "execution_count": 0,
   "metadata": {
    "application/vnd.databricks.v1+cell": {
     "cellMetadata": {
      "byteLimit": 2048000,
      "rowLimit": 10000
     },
     "inputWidgets": {},
     "nuid": "11afe5bc-dbf2-4b98-8ac6-8fb2066bd87b",
     "showTitle": false,
     "title": ""
    }
   },
   "outputs": [],
   "source": [
    "#  Convertim la columna 'data_scanner_tiquet' a datetime.\n",
    "df_docs['data_scanner_tiquet'] = pd.to_datetime(df_docs['data_scanner_tiquet'], format='%d%m%Y')\n",
    "\n",
    "# Ara utilitzem dt.strftime per canviar-li el format.\n",
    "df_docs['data_scanner_tiquet'] = df_docs['data_scanner_tiquet'].dt.strftime('%d-%m-%Y')"
   ]
  },
  {
   "cell_type": "code",
   "execution_count": 0,
   "metadata": {
    "application/vnd.databricks.v1+cell": {
     "cellMetadata": {
      "byteLimit": 2048000,
      "rowLimit": 10000
     },
     "inputWidgets": {},
     "nuid": "210690a3-8db0-4fdc-b3e1-573b12024cf1",
     "showTitle": false,
     "title": ""
    }
   },
   "outputs": [],
   "source": [
    "# Creem la nova columna \"unitat\".\n",
    "df_docs = crear_columna_unitats(df_docs)"
   ]
  },
  {
   "cell_type": "code",
   "execution_count": 0,
   "metadata": {
    "application/vnd.databricks.v1+cell": {
     "cellMetadata": {
      "byteLimit": 2048000,
      "rowLimit": 10000
     },
     "inputWidgets": {},
     "nuid": "aa9e23ab-1fd9-42a1-84dc-98e22823205e",
     "showTitle": false,
     "title": ""
    }
   },
   "outputs": [],
   "source": [
    "# Canviem els \".\" per \",\" a variables de productes.\n",
    "df_docs = df_docs.apply(canviar_punts_per_comes, axis=1)"
   ]
  },
  {
   "cell_type": "code",
   "execution_count": 0,
   "metadata": {
    "application/vnd.databricks.v1+cell": {
     "cellMetadata": {
      "byteLimit": 2048000,
      "rowLimit": 10000
     },
     "inputWidgets": {},
     "nuid": "370fe6f0-cdd2-44e2-ac03-eda522699884",
     "showTitle": false,
     "title": ""
    }
   },
   "outputs": [],
   "source": [
    "# Treiem el text kg de la columna preu_unitari\n",
    "df_docs = eliminar_txt_kg(df_docs)"
   ]
  },
  {
   "cell_type": "markdown",
   "metadata": {
    "application/vnd.databricks.v1+cell": {
     "cellMetadata": {
      "byteLimit": 2048000,
      "rowLimit": 10000
     },
     "inputWidgets": {},
     "nuid": "75396a26-379c-40f5-836f-5a5f00209995",
     "showTitle": false,
     "title": ""
    }
   },
   "source": [
    "\n",
    "#### Emmagatzemem les dades a la capa Silver.\n"
   ]
  },
  {
   "cell_type": "code",
   "execution_count": 0,
   "metadata": {
    "application/vnd.databricks.v1+cell": {
     "cellMetadata": {
      "byteLimit": 2048000,
      "rowLimit": 10000
     },
     "inputWidgets": {},
     "nuid": "0c526fd1-9ad9-4949-b60f-6f513f0e1575",
     "showTitle": false,
     "title": ""
    }
   },
   "outputs": [],
   "source": [
    "# Penjem les dades particionades amb dies i clients.\n",
    "\n",
    "# DIES (DATA)\n",
    "path_dies_silver = 'abfs://{0}@{1}.dfs.core.windows.net/dies/'.format('silver', storage_account)\n",
    "\n",
    "# CLIENTS\n",
    "path_clientes_silver = 'abfs://{0}@{1}.dfs.core.windows.net/clients/'.format('silver', storage_account)\n",
    "\n",
    "# Executem la funció per dies\n",
    "particionar_dies(df_docs, path_dies_silver)\n",
    "\n",
    "# Executem la funció per clients\n",
    "particionar_clients(df_docs, path_clientes_silver)"
   ]
  }
 ],
 "metadata": {
  "application/vnd.databricks.v1+notebook": {
   "dashboards": [],
   "environmentMetadata": null,
   "language": "python",
   "notebookMetadata": {
    "pythonIndentUnit": 4
   },
   "notebookName": "Bronze-to-Silver-Prod",
   "widgets": {}
  }
 },
 "nbformat": 4,
 "nbformat_minor": 0
}
